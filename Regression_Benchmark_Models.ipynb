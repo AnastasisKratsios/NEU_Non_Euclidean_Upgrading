{
 "cells": [
  {
   "cell_type": "code",
   "execution_count": 10,
   "metadata": {},
   "outputs": [
    {
     "data": {
      "image/png": "[encoded data removed]",
      "text/plain": [
       "<Figure size 432x288 with 1 Axes>"
      ]
     },
     "metadata": {
      "needs_background": "light"
     },
     "output_type": "display_data"
    }
   ],
   "source": [
    "# import tensorflow as tf\n",
    "# ### TEMP\n",
    "\n",
    "# N_Reconfigurations = 30\n",
    "# d = 1 # Dimension of X\n",
    "# D = 1 # Dimension of Y\n",
    "# Params_per_layer = 10\n",
    "\n",
    "# # Data Meta-Parameters\n",
    "# noise_level = 0.1\n",
    "# uncertainty_level= 0.9\n",
    "\n",
    "# # Training meta-parameters\n",
    "# Pre_Epochs = 10**2\n",
    "# Full_Epochs = 200\n",
    "\n",
    "\n",
    "# # Number of Datapoints\n",
    "# N_data = 10**3\n",
    "# # Unknown Function\n",
    "# def unknown_f(x):\n",
    "#     return np.sin(x) + (x % 2) + np.exp(-x)\n",
    "\n",
    "# # Generate Data\n",
    "# %run Data_Generator.ipynb"
   ]
  },
  {
   "cell_type": "markdown",
   "metadata": {},
   "source": [
    "#### Regression Benchmark Models\n",
    "1. LOWESS\n",
    "2. Smothing Splines"
   ]
  },
  {
   "cell_type": "code",
   "execution_count": 11,
   "metadata": {},
   "outputs": [],
   "source": [
    "import numpy as np\n",
    "import matplotlib.pyplot as plt"
   ]
  },
  {
   "cell_type": "markdown",
   "metadata": {},
   "source": [
    "## LOWESS"
   ]
  },
  {
   "cell_type": "markdown",
   "metadata": {},
   "source": [
    "#### Imports for Lowess"
   ]
  },
  {
   "cell_type": "code",
   "execution_count": 12,
   "metadata": {},
   "outputs": [],
   "source": [
    "import statsmodels.api as sm"
   ]
  },
  {
   "cell_type": "markdown",
   "metadata": {},
   "source": [
    "Perform Lowess Regression"
   ]
  },
  {
   "cell_type": "code",
   "execution_count": 13,
   "metadata": {},
   "outputs": [],
   "source": [
    "LOESS = sm.nonparametric.lowess\n",
    "f_hat_LOESS = LOESS(data_y,data_x.reshape(-1,))\n",
    "f_hat_LOESS = f_hat_LOESS[:,1]"
   ]
  },
  {
   "cell_type": "markdown",
   "metadata": {},
   "source": [
    "## Smoothing Splines"
   ]
  },
  {
   "cell_type": "markdown",
   "metadata": {},
   "source": [
    "#### Imports for Smoothing Splines\n",
    "This next module calls R functions directly, since smoothing splines is well-developed there *(at the moment)* but not so much so in Python."
   ]
  },
  {
   "cell_type": "code",
   "execution_count": 14,
   "metadata": {},
   "outputs": [],
   "source": [
    "import rpy2.robjects as robjects"
   ]
  },
  {
   "cell_type": "markdown",
   "metadata": {},
   "source": [
    "Perform Smoothing Splines Regression"
   ]
  },
  {
   "cell_type": "code",
   "execution_count": 15,
   "metadata": {},
   "outputs": [],
   "source": [
    "import rpy2.robjects as robjects # Work directly from R (since smoothing splines packages is better)\n",
    "r_y = robjects.FloatVector(data_y)\n",
    "r_x = robjects.FloatVector(data_x)\n",
    "\n",
    "r_smooth_spline = robjects.r['smooth.spline'] #extract R function# run smoothing function\n",
    "spline1 = r_smooth_spline(x=r_x, y=r_y, spar=0.7)\n",
    "f_hat_smoothing_splines=np.array(robjects.r['predict'](spline1,robjects.FloatVector(data_x)).rx2('y'))"
   ]
  },
  {
   "cell_type": "markdown",
   "metadata": {},
   "source": [
    "# Kernel Regression"
   ]
  },
  {
   "cell_type": "code",
   "execution_count": null,
   "metadata": {},
   "outputs": [],
   "source": []
  },
  {
   "cell_type": "markdown",
   "metadata": {},
   "source": [
    "# Deep Feed-Forward Network"
   ]
  },
  {
   "cell_type": "code",
   "execution_count": 19,
   "metadata": {},
   "outputs": [],
   "source": [
    "from numpy import loadtxt\n",
    "from keras.models import Sequential\n",
    "from keras.layers import Dense"
   ]
  },
  {
   "cell_type": "code",
   "execution_count": 28,
   "metadata": {},
   "outputs": [],
   "source": [
    "Params_per_layer = 12 # Corresponding to NEU\n",
    "\n",
    "# define the keras model\n",
    "ffNN = Sequential()\n",
    "ffNN.add(Dense(12, input_dim=d, activation='relu'))\n",
    "\n",
    "for i in range(N_Reconfigurations):\n",
    "    ffNN.add(Dense(Params_per_layer, activation='relu'))\n",
    "    \n",
    "ffNN.add(Dense(D, input_dim=d, activation='relu'))"
   ]
  },
  {
   "cell_type": "code",
   "execution_count": 25,
   "metadata": {},
   "outputs": [
    {
     "data": {
      "text/plain": [
       "<keras.callbacks.callbacks.History at 0x7f0c4906bfd0>"
      ]
     },
     "execution_count": 25,
     "metadata": {},
     "output_type": "execute_result"
    }
   ],
   "source": [
    "# Define Optimizer\n",
    "optimizer_on = tf.keras.optimizers.SGD(learning_rate=10**(-2), momentum=0.01, nesterov=True)\n",
    "# Compile\n",
    "ffNN.compile(loss = 'mse',\n",
    "                optimizer = optimizer_on,\n",
    "                metrics = ['mse'])\n",
    "\n",
    "# Fit Model\n",
    "#----------------#\n",
    "ffNN.fit(data_x, data_y, epochs=Full_Epochs, verbose = 0)"
   ]
  },
  {
   "cell_type": "code",
   "execution_count": 26,
   "metadata": {},
   "outputs": [],
   "source": [
    "ffNN_prediction = ffNN.predict(data_x)"
   ]
  }
 ],
 "metadata": {
  "kernelspec": {
   "display_name": "Python 3",
   "language": "python",
   "name": "python3"
  },
  "language_info": {
   "codemirror_mode": {
    "name": "ipython",
    "version": 3
   },
   "file_extension": ".py",
   "mimetype": "text/x-python",
   "name": "python",
   "nbconvert_exporter": "python",
   "pygments_lexer": "ipython3",
   "version": "3.7.6"
  }
 },
 "nbformat": 4,
 "nbformat_minor": 2
}
