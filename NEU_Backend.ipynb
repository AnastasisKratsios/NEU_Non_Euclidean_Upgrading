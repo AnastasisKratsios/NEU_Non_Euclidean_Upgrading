{
 "cells": [
  {
   "cell_type": "code",
   "execution_count": 226,
   "metadata": {},
   "outputs": [],
   "source": [
    "%run Comment_Questions.ipynb # Exectute temporary training Parameters"
   ]
  },
  {
   "cell_type": "markdown",
   "metadata": {},
   "source": [
    "# NEU Unit (Reconfiguration Map)"
   ]
  },
  {
   "cell_type": "markdown",
   "metadata": {},
   "source": [
    "## Initialize Modules"
   ]
  },
  {
   "cell_type": "markdown",
   "metadata": {},
   "source": [
    "###### Imports"
   ]
  },
  {
   "cell_type": "code",
   "execution_count": 227,
   "metadata": {},
   "outputs": [],
   "source": [
    "# Deep Learning & ML\n",
    "import tensorflow as tf\n",
    "import keras as Kr\n",
    "from keras import backend as K\n",
    "from keras.models import Sequential\n",
    "from keras import layers\n",
    "from keras import utils as np_utils\n",
    "\n",
    "# General\n",
    "import numpy as np\n",
    "import time\n",
    "\n",
    "# Message Boxes\n",
    "import tkinter\n",
    "from tkinter import messagebox"
   ]
  },
  {
   "cell_type": "markdown",
   "metadata": {},
   "source": [
    "### Define Reconfiguration Unit"
   ]
  },
  {
   "cell_type": "markdown",
   "metadata": {},
   "source": [
    "1. Shifts $x \\in \\mathbb{R}^d$ to $x- c$; c trainable.\n",
    "2. Rescales componentwise with $a * x$,  $a \\in \\mathbb{R}^d$ trainable.\n",
    "3. Applies the map $\\psi(x)\\triangleq e^{\\frac1{1-|x|}}I_{\\{|x|<1\\}}$ component-wise.  \n",
    "4. Applies transformation $x \\mapsto x +b$, $b \\in \\mathbb{R}^d$ trainable.\n",
    "5. Applies the diagonalization map to that output: $ \\left(x_1,\\dots,x_d\\right)\\mapsto\n",
    "                \\begin{pmatrix}\n",
    "                x_1 & & 0\\\\\n",
    "                &\\ddots &\\\\\n",
    "                0 & & x_d\\\\\n",
    "                \\end{pmatrix}.$\n",
    "6. Applies map $X \\mapsto XA$, $A$ is a trainable $d\\times d$ matrix.\n",
    "7. Applies matrix exponential.\n",
    "8. Multiplies output with result of (1).\n",
    "9. Re-centers output to $x +c$ where $c$ is as in (1)."
   ]
  },
  {
   "cell_type": "code",
   "execution_count": 345,
   "metadata": {},
   "outputs": [
    {
     "name": "stdout",
     "output_type": "stream",
     "text": [
      "TensorFlow: 2.1.0\n"
     ]
    }
   ],
   "source": [
    "import tensorflow as tf\n",
    "print('TensorFlow:', tf.__version__)\n",
    "\n",
    "class Reconfiguration_unit(tf.keras.layers.Layer):\n",
    "    def __init__(self, *args, **kwargs):\n",
    "        super(Reconfiguration_unit, self).__init__(*args, **kwargs)\n",
    "\n",
    "    def build(self, input_shape):\n",
    "        self.weight = self.add_weight(shape=[input_shape[1],input_shape[1]], # CURRENTLY NOT A MATRIX FIX THIS!!!\n",
    "                                    initializer='zeros',\n",
    "                                    trainable=True)\n",
    "        self.bias = self.add_weight(shape=input_shape[1:],\n",
    "                                    initializer='zeros',\n",
    "                                    trainable=True)\n",
    "        self.location = self.add_weight(shape=input_shape[1:],\n",
    "                                    initializer='zeros',\n",
    "                                    trainable=True)\n",
    "        self.scale = self.add_weight(shape=input_shape[1:],\n",
    "                                    initializer='zeros',\n",
    "                                    trainable=True)\n",
    "        \n",
    "        \n",
    "        \n",
    "    def call(self, x):\n",
    "        # 1. Shift and scale data\n",
    "        x_shift = x - self.location\n",
    "        \n",
    "        # 2. Rescale componentwise\n",
    "        x_mod = tf.math.multiply(x_shift,self.scale)\n",
    "        \n",
    "        # 3. Apply bumpy function Component-wise\n",
    "        x_in_abs = tf.math.abs(x_mod)\n",
    "        Logic_x_leq1 = tf.math.sign(tf.keras.activations.relu(1-x_in_abs)) # Takes value 1 iff |x|<=1 else 0: since probability of |x|=1 is 0 we should be ok\n",
    "        x_thresheld = Logic_x_leq1*tf.math.exp(-1/(1-tf.math.pow(x_in_abs,-1))) # Computes bump function at thresholds with previous logic\n",
    "        \n",
    "        # 4+5. Apply Shift (In Tangent Space) and diagonalize\n",
    "        x_out = tf.expand_dims((x_in_abs + self.bias), 1) \n",
    "        \n",
    "        # 6. Multiply by weight matrix (in Tangent Space)\n",
    "        x_out = (x_out * self.weight) \n",
    "        \n",
    "        # 7. Apply Matrix Exponential\n",
    "        x_out = tf.linalg.expm(x_out)\n",
    "        \n",
    "        # 8. Muliply by output of (1)\n",
    "        x_out = tf.linalg.matvec(x_out,x_shift)\n",
    "        \n",
    "        # 9. Recenter Transformed Data\n",
    "        x_out = x_out + self.location\n",
    "        \n",
    "        # Return Ouput\n",
    "        return x_out"
   ]
  },
  {
   "cell_type": "markdown",
   "metadata": {},
   "source": [
    "Reads number of trainable parameters"
   ]
  },
  {
   "cell_type": "code",
   "execution_count": 363,
   "metadata": {},
   "outputs": [
    {
     "ename": "SyntaxError",
     "evalue": "invalid syntax (<ipython-input-363-20eb50c5b3cd>, line 3)",
     "output_type": "error",
     "traceback": [
      "\u001b[0;36m  File \u001b[0;32m\"<ipython-input-363-20eb50c5b3cd>\"\u001b[0;36m, line \u001b[0;32m3\u001b[0m\n\u001b[0;31m    for(i in range(10))\u001b[0m\n\u001b[0m                       ^\u001b[0m\n\u001b[0;31mSyntaxError\u001b[0m\u001b[0;31m:\u001b[0m invalid syntax\n"
     ]
    }
   ],
   "source": [
    "input_layer = tf.keras.Input(shape=[2])\n",
    "x  = Reconfiguration_unit()(input_layer)\n",
    "for(i in range(10)):\n",
    "    x = Reconfiguration_unit()(x)"
   ]
  },
  {
   "cell_type": "markdown",
   "metadata": {},
   "source": [
    "### Build Reconfiguration"
   ]
  },
  {
   "cell_type": "code",
   "execution_count": 340,
   "metadata": {},
   "outputs": [
    {
     "ename": "TypeError",
     "evalue": "The added layer must be an instance of class Layer. Found: <__main__.Reconfiguration_unit object at 0x7f6f0bda3310>",
     "output_type": "error",
     "traceback": [
      "\u001b[0;31m---------------------------------------------------------------------------\u001b[0m",
      "\u001b[0;31mTypeError\u001b[0m                                 Traceback (most recent call last)",
      "\u001b[0;32m<ipython-input-340-4c8a086eddc6>\u001b[0m in \u001b[0;36m<module>\u001b[0;34m\u001b[0m\n\u001b[1;32m      1\u001b[0m \u001b[0mmodel\u001b[0m \u001b[0;34m=\u001b[0m \u001b[0mSequential\u001b[0m\u001b[0;34m(\u001b[0m\u001b[0;34m)\u001b[0m\u001b[0;34m\u001b[0m\u001b[0;34m\u001b[0m\u001b[0m\n\u001b[1;32m      2\u001b[0m \u001b[0mmodel\u001b[0m\u001b[0;34m.\u001b[0m\u001b[0madd\u001b[0m\u001b[0;34m(\u001b[0m\u001b[0mlayers\u001b[0m\u001b[0;34m.\u001b[0m\u001b[0mDense\u001b[0m\u001b[0;34m(\u001b[0m\u001b[0;36m256\u001b[0m\u001b[0;34m,\u001b[0m \u001b[0minput_shape\u001b[0m\u001b[0;34m=\u001b[0m\u001b[0;34m(\u001b[0m\u001b[0;36m784\u001b[0m\u001b[0;34m,\u001b[0m\u001b[0;34m)\u001b[0m\u001b[0;34m)\u001b[0m\u001b[0;34m)\u001b[0m\u001b[0;34m\u001b[0m\u001b[0;34m\u001b[0m\u001b[0m\n\u001b[0;32m----> 3\u001b[0;31m \u001b[0mmodel\u001b[0m\u001b[0;34m.\u001b[0m\u001b[0madd\u001b[0m\u001b[0;34m(\u001b[0m\u001b[0mReconfiguration_unit\u001b[0m\u001b[0;34m(\u001b[0m\u001b[0;34m)\u001b[0m\u001b[0;34m)\u001b[0m\u001b[0;34m\u001b[0m\u001b[0;34m\u001b[0m\u001b[0m\n\u001b[0m",
      "\u001b[0;32m~/.local/lib/python3.7/site-packages/keras/engine/sequential.py\u001b[0m in \u001b[0;36madd\u001b[0;34m(self, layer)\u001b[0m\n\u001b[1;32m    131\u001b[0m             raise TypeError('The added layer must be '\n\u001b[1;32m    132\u001b[0m                             \u001b[0;34m'an instance of class Layer. '\u001b[0m\u001b[0;34m\u001b[0m\u001b[0;34m\u001b[0m\u001b[0m\n\u001b[0;32m--> 133\u001b[0;31m                             'Found: ' + str(layer))\n\u001b[0m\u001b[1;32m    134\u001b[0m         \u001b[0mself\u001b[0m\u001b[0;34m.\u001b[0m\u001b[0mbuilt\u001b[0m \u001b[0;34m=\u001b[0m \u001b[0;32mFalse\u001b[0m\u001b[0;34m\u001b[0m\u001b[0;34m\u001b[0m\u001b[0m\n\u001b[1;32m    135\u001b[0m         \u001b[0;32mif\u001b[0m \u001b[0;32mnot\u001b[0m \u001b[0mself\u001b[0m\u001b[0;34m.\u001b[0m\u001b[0m_layers\u001b[0m\u001b[0;34m:\u001b[0m\u001b[0;34m\u001b[0m\u001b[0;34m\u001b[0m\u001b[0m\n",
      "\u001b[0;31mTypeError\u001b[0m: The added layer must be an instance of class Layer. Found: <__main__.Reconfiguration_unit object at 0x7f6f0bda3310>"
     ]
    }
   ],
   "source": [
    "model = Sequential()\n",
    "model.add(layers.Dense(256, input_shape=(784,)))\n",
    "model.add(Reconfiguration_unit())"
   ]
  },
  {
   "cell_type": "code",
   "execution_count": 342,
   "metadata": {},
   "outputs": [
    {
     "name": "stdout",
     "output_type": "stream",
     "text": [
      "60000 train samples\n",
      "10000 test samples\n"
     ]
    }
   ],
   "source": [
    "from __future__ import print_function\n",
    "import keras\n",
    "from keras.models import Sequential\n",
    "from keras import layers\n",
    "from keras.datasets import mnist\n",
    "from keras import backend as K\n",
    "\n",
    "\n",
    "class Antirectifier(layers.Layer):\n",
    "    '''This is the combination of a sample-wise\n",
    "    L2 normalization with the concatenation of the\n",
    "    positive part of the input with the negative part\n",
    "    of the input. The result is a tensor of samples that are\n",
    "    twice as large as the input samples.\n",
    "\n",
    "    It can be used in place of a ReLU.\n",
    "\n",
    "    # Input shape\n",
    "        2D tensor of shape (samples, n)\n",
    "\n",
    "    # Output shape\n",
    "        2D tensor of shape (samples, 2*n)\n",
    "\n",
    "    # Theoretical justification\n",
    "        When applying ReLU, assuming that the distribution\n",
    "        of the previous output is approximately centered around 0.,\n",
    "        you are discarding half of your input. This is inefficient.\n",
    "\n",
    "        Antirectifier allows to return all-positive outputs like ReLU,\n",
    "        without discarding any data.\n",
    "\n",
    "        Tests on MNIST show that Antirectifier allows to train networks\n",
    "        with twice less parameters yet with comparable\n",
    "        classification accuracy as an equivalent ReLU-based network.\n",
    "    '''\n",
    "\n",
    "    def compute_output_shape(self, input_shape):\n",
    "        shape = list(input_shape)\n",
    "        assert len(shape) == 2  # only valid for 2D tensors\n",
    "        shape[-1] *= 2\n",
    "        return tuple(shape)\n",
    "\n",
    "    def call(self, inputs):\n",
    "        inputs -= K.mean(inputs, axis=1, keepdims=True)\n",
    "        inputs = K.l2_normalize(inputs, axis=1)\n",
    "        pos = K.relu(inputs)\n",
    "        neg = K.relu(-inputs)\n",
    "        return K.concatenate([pos, neg], axis=1)\n",
    "\n",
    "# global parameters\n",
    "batch_size = 128\n",
    "num_classes = 10\n",
    "epochs = 40\n",
    "\n",
    "# the data, split between train and test sets\n",
    "(x_train, y_train), (x_test, y_test) = mnist.load_data()\n",
    "\n",
    "x_train = x_train.reshape(60000, 784)\n",
    "x_test = x_test.reshape(10000, 784)\n",
    "x_train = x_train.astype('float32')\n",
    "x_test = x_test.astype('float32')\n",
    "x_train /= 255\n",
    "x_test /= 255\n",
    "print(x_train.shape[0], 'train samples')\n",
    "print(x_test.shape[0], 'test samples')\n",
    "\n",
    "# convert class vectors to binary class matrices\n",
    "y_train = keras.utils.to_categorical(y_train, num_classes)\n",
    "y_test = keras.utils.to_categorical(y_test, num_classes)\n",
    "\n",
    "# build the model\n",
    "model = Sequential()\n",
    "model.add(layers.Dense(256, input_shape=(784,)))\n",
    "model.add(Antirectifier())\n",
    "model.add(layers.Dropout(0.1))\n",
    "model.add(layers.Dense(256))\n",
    "model.add(Antirectifier())\n",
    "model.add(layers.Dropout(0.1))\n",
    "model.add(layers.Dense(num_classes))\n",
    "model.add(layers.Activation('softmax'))\n",
    "\n",
    "# compile the model\n",
    "model.compile(loss='categorical_crossentropy',\n",
    "              optimizer='rmsprop',\n",
    "              metrics=['accuracy'])\n"
   ]
  },
  {
   "cell_type": "code",
   "execution_count": null,
   "metadata": {},
   "outputs": [],
   "source": []
  }
 ],
 "metadata": {
  "kernelspec": {
   "display_name": "Python 3",
   "language": "python",
   "name": "python3"
  },
  "language_info": {
   "codemirror_mode": {
    "name": "ipython",
    "version": 3
   },
   "file_extension": ".py",
   "mimetype": "text/x-python",
   "name": "python",
   "nbconvert_exporter": "python",
   "pygments_lexer": "ipython3",
   "version": "3.7.6"
  }
 },
 "nbformat": 4,
 "nbformat_minor": 2
}
