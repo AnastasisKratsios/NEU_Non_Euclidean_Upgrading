{
 "cells": [
  {
   "cell_type": "code",
   "execution_count": 105,
   "metadata": {},
   "outputs": [],
   "source": [
    "# TEMPORARY FOR TESTING LALALA\n",
    "# TEMP - Tesing DUMP\n",
    "x_test = np.array([1,-2,.3,-.1])\n",
    "x_test = tf.keras.backend.constant(x_test)\n",
    "A = tf.constant(tf.ones(np.array([4,4])))\n",
    "b = tf.constant(tf.ones(4))\n",
    "c = b\n",
    "d = c"
   ]
  },
  {
   "cell_type": "markdown",
   "metadata": {},
   "source": [
    "# NEU Unit (Reconfiguration Map)"
   ]
  },
  {
   "cell_type": "markdown",
   "metadata": {},
   "source": [
    "## Initialize Modules"
   ]
  },
  {
   "cell_type": "markdown",
   "metadata": {},
   "source": [
    "###### Imports"
   ]
  },
  {
   "cell_type": "code",
   "execution_count": 86,
   "metadata": {},
   "outputs": [],
   "source": [
    "# Deep Learning & ML\n",
    "import tensorflow as tf\n",
    "import keras as Kr\n",
    "from keras import backend as K\n",
    "from keras.models import Sequential\n",
    "from keras.layers import Activation\n",
    "from keras.layers import Layer\n",
    "from keras import utils as np_utils\n",
    "\n",
    "# General\n",
    "import numpy as np\n",
    "import time\n",
    "\n",
    "# Message Boxes\n",
    "import tkinter\n",
    "from tkinter import messagebox"
   ]
  },
  {
   "cell_type": "markdown",
   "metadata": {},
   "source": [
    "### Define Reconfiguration"
   ]
  },
  {
   "cell_type": "markdown",
   "metadata": {},
   "source": [
    "1. First applies the map $\\psi(x)\\triangleq e^{\\frac1{1-|x|}}I_{\\{|x|<1\\}}$ component-wise.\n",
    "\n",
    "2. Applies the diagonalization map to that output: $ \\left(x_1,\\dots,x_d\\right)\\mapsto\n",
    "                \\begin{pmatrix}\n",
    "                x_1 & & 0\\\\\n",
    "                &\\ddots &\\\\\n",
    "                0 & & x_d\\\\\n",
    "                \\end{pmatrix}$\n",
    "3. Adds trainable $d\\times d$ (weight) matrix $A$ and trainable bias (vector) $b \\in \\mathbb{R}^d$ to that output:"
   ]
  },
  {
   "cell_type": "code",
   "execution_count": 93,
   "metadata": {},
   "outputs": [],
   "source": [
    "class reconfiguration(Kr.layers.Layer):\n",
    "\n",
    "    def __init__(self, dim):\n",
    "        super(Custom_layer, self).__init__()\n",
    "        self.dim = dim\n",
    "\n",
    "        # add trainable weight\n",
    "        self.weight = self.add_weight(shape=(dim,dim),trainable=True)\n",
    "        # add trainable bias\n",
    "        self.bias = self.add_weight(shape=(dim))\n",
    "\n",
    "    def call(self, input):\n",
    "        # 1) Bump Function\n",
    "        x_in_abs = tf.math.abs(x)\n",
    "        x_thresheld = tf.where(tf.math.abs(x) >= 1, 0 , tf.math.exp(tf.pow(1-x,-1)))\n",
    "        # 2) Map to Diagonal Matrix\n",
    "        x_out = tf.expand_dims(x_thresheld, 1)\n",
    "        # 3) Apply weights and biases\n",
    "        x_out = (x_out * self.weight) + self.bias\n",
    "        # 4) Apply Matrix Exponential\n",
    "        x_out = tf.linalg.expm(x_out)\n",
    "        # Return Output\n",
    "        return x_out\n",
    "        \n",
    "    def get_config(self):\n",
    "        config = super(reconfiguration, self).get_config()\n",
    "        config['dim'] = self.dim\n",
    "        return config"
   ]
  },
  {
   "cell_type": "code",
   "execution_count": null,
   "metadata": {},
   "outputs": [],
   "source": []
  }
 ],
 "metadata": {
  "kernelspec": {
   "display_name": "Python 3",
   "language": "python",
   "name": "python3"
  },
  "language_info": {
   "codemirror_mode": {
    "name": "ipython",
    "version": 3
   },
   "file_extension": ".py",
   "mimetype": "text/x-python",
   "name": "python",
   "nbconvert_exporter": "python",
   "pygments_lexer": "ipython3",
   "version": "3.7.6"
  }
 },
 "nbformat": 4,
 "nbformat_minor": 2
}
