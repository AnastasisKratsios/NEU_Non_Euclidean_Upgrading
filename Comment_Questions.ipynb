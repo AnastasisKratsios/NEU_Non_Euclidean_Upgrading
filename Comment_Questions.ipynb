{
 "cells": [
  {
   "cell_type": "markdown",
   "metadata": {},
   "source": [
    "# NEU\n",
    "\n",
    "1. Perform Classical Algorithm obtain: obtain input/output pairs\n",
    "2. Feed input/ouput pairs into reconfigurations\n",
    "3. Optimize Objective function (after projecting to output pair's corrdinate)\n",
    "\n",
    "BONUS:\n",
    "Plot Non-Euclidean Geometry on input-output space!"
   ]
  },
  {
   "cell_type": "markdown",
   "metadata": {},
   "source": [
    "# Todo:\n",
    "1. Add initializations & details to trainable parameters in reconfiguration!\n",
    "2. Compute Curvature Tensors!"
   ]
  },
  {
   "cell_type": "markdown",
   "metadata": {},
   "source": [
    "#### Temporary Training Parameters"
   ]
  },
  {
   "cell_type": "code",
   "execution_count": 27,
   "metadata": {},
   "outputs": [],
   "source": [
    "import numpy as np\n",
    "import tensorflow as tf\n",
    "import matplotlib.pyplot as plt\n",
    "from numpy import random"
   ]
  }
 ],
 "metadata": {
  "kernelspec": {
   "display_name": "Python 3",
   "language": "python",
   "name": "python3"
  },
  "language_info": {
   "codemirror_mode": {
    "name": "ipython",
    "version": 3
   },
   "file_extension": ".py",
   "mimetype": "text/x-python",
   "name": "python",
   "nbconvert_exporter": "python",
   "pygments_lexer": "ipython3",
   "version": "3.7.6"
  }
 },
 "nbformat": 4,
 "nbformat_minor": 2
}
