{
 "cells": [
  {
   "cell_type": "markdown",
   "metadata": {},
   "source": [
    "#### Define Meta-Parameters\n",
    "##### Meta-Parameters"
   ]
  },
  {
   "cell_type": "code",
   "execution_count": 113,
   "metadata": {},
   "outputs": [],
   "source": [
    "N_Reconfigurations = 10**1\n",
    "d = 1 # Dimension of X\n",
    "D = 1 # Dimension of Y"
   ]
  },
  {
   "cell_type": "markdown",
   "metadata": {},
   "source": [
    "##### Simulation Meta-Parameters"
   ]
  },
  {
   "cell_type": "code",
   "execution_count": 114,
   "metadata": {},
   "outputs": [],
   "source": [
    "# Number of Datapoints\n",
    "N_data = 10**1\n",
    "# Unknown Function\n",
    "def unknown_f(x):\n",
    "    return np.sin(x)"
   ]
  },
  {
   "cell_type": "markdown",
   "metadata": {},
   "source": [
    "#### Generate Data"
   ]
  },
  {
   "cell_type": "code",
   "execution_count": 115,
   "metadata": {},
   "outputs": [
    {
     "data": {
      "image/png": "[encoded data removed]",
      "text/plain": [
       "<Figure size 432x288 with 1 Axes>"
      ]
     },
     "metadata": {
      "needs_background": "light"
     },
     "output_type": "display_data"
    }
   ],
   "source": [
    "%run Data_Generator.ipynb # Exectute temporary training Parameters"
   ]
  },
  {
   "cell_type": "code",
   "execution_count": 116,
   "metadata": {},
   "outputs": [],
   "source": [
    "#### Generate NEU-OLS Model"
   ]
  },
  {
   "cell_type": "code",
   "execution_count": 117,
   "metadata": {},
   "outputs": [
    {
     "name": "stdout",
     "output_type": "stream",
     "text": [
      "TensorFlow: 2.1.0\n",
      "Model: \"model_4\"\n",
      "_________________________________________________________________\n",
      "Layer (type)                 Output Shape              Param #   \n",
      "=================================================================\n",
      "input_7 (InputLayer)         (None, 2)                 0         \n",
      "_________________________________________________________________\n",
      "reconfiguration_unit_34 (Rec (None, 2)                 10        \n",
      "_________________________________________________________________\n",
      "reconfiguration_unit_35 (Rec (None, 2)                 10        \n",
      "_________________________________________________________________\n",
      "reconfiguration_unit_36 (Rec (None, 2)                 10        \n",
      "_________________________________________________________________\n",
      "reconfiguration_unit_37 (Rec (None, 2)                 10        \n",
      "_________________________________________________________________\n",
      "reconfiguration_unit_38 (Rec (None, 2)                 10        \n",
      "_________________________________________________________________\n",
      "reconfiguration_unit_39 (Rec (None, 2)                 10        \n",
      "_________________________________________________________________\n",
      "reconfiguration_unit_40 (Rec (None, 2)                 10        \n",
      "_________________________________________________________________\n",
      "reconfiguration_unit_41 (Rec (None, 2)                 10        \n",
      "_________________________________________________________________\n",
      "reconfiguration_unit_42 (Rec (None, 2)                 10        \n",
      "_________________________________________________________________\n",
      "reconfiguration_unit_43 (Rec (None, 2)                 10        \n",
      "_________________________________________________________________\n",
      "reconfiguration_unit_44 (Rec (None, 2)                 10        \n",
      "_________________________________________________________________\n",
      "lambda_4 (Lambda)            (None, 1)                 0         \n",
      "=================================================================\n",
      "Total params: 110\n",
      "Trainable params: 110\n",
      "Non-trainable params: 0\n",
      "_________________________________________________________________\n",
      "Model Compiled!!!: NEU-OLS Backend - Complete\n"
     ]
    }
   ],
   "source": [
    "%run NEU_Backend.ipynb # Initialize Reconfigurations"
   ]
  },
  {
   "cell_type": "markdown",
   "metadata": {},
   "source": [
    "#### Plots Regressions"
   ]
  }
 ],
 "metadata": {
  "kernelspec": {
   "display_name": "Python 3",
   "language": "python",
   "name": "python3"
  },
  "language_info": {
   "codemirror_mode": {
    "name": "ipython",
    "version": 3
   },
   "file_extension": ".py",
   "mimetype": "text/x-python",
   "name": "python",
   "nbconvert_exporter": "python",
   "pygments_lexer": "ipython3",
   "version": "3.7.6"
  }
 },
 "nbformat": 4,
 "nbformat_minor": 2
}
