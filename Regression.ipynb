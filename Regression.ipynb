{
 "cells": [
  {
   "cell_type": "markdown",
   "metadata": {},
   "source": [
    "#### Imports"
   ]
  },
  {
   "cell_type": "code",
   "execution_count": 20,
   "metadata": {},
   "outputs": [],
   "source": [
    "import matplotlib.pyplot as plt"
   ]
  },
  {
   "cell_type": "code",
   "execution_count": 21,
   "metadata": {},
   "outputs": [],
   "source": [
    "%run Comment_Questions.ipynb # Exectute temporary training Parameters"
   ]
  },
  {
   "cell_type": "markdown",
   "metadata": {},
   "source": [
    "### Generate Data\n",
    "Using the hidden function:"
   ]
  },
  {
   "cell_type": "code",
   "execution_count": 22,
   "metadata": {},
   "outputs": [],
   "source": [
    "def hidden_function(x):\n",
    "    return np.sin(x)"
   ]
  },
  {
   "cell_type": "code",
   "execution_count": 23,
   "metadata": {},
   "outputs": [],
   "source": [
    "data_x = np.arange(-3,3,.1)\n",
    "noise_y = np.random.normal(scale=.1,size=len(data_x))\n",
    "true_y = hidden_function(data_x)\n",
    "data_y = true_y + noise_y\n",
    "\n",
    "d = len(data_x)"
   ]
  },
  {
   "cell_type": "markdown",
   "metadata": {},
   "source": [
    "#### Plot Data Vs. Hidden Function"
   ]
  },
  {
   "cell_type": "code",
   "execution_count": 26,
   "metadata": {},
   "outputs": [
    {
     "name": "stderr",
     "output_type": "stream",
     "text": [
      "/usr/lib64/python3.7/site-packages/matplotlib/legend.py:798: UserWarning: Legend does not support array([-1.41120008e-01, -2.39249329e-01, -3.34988150e-01, -4.27379880e-01,\n",
      "       -5.15501372e-01, -5.98472144e-01, -6.75463181e-01, -7.45705212e-01,\n",
      "       -8.08496404e-01, -8.63209367e-01, -9.09297427e-01, -9.46300088e-01,\n",
      "       -9.73847631e-01, -9.91664810e-01, -9.99573603e-01, -9.97494987e-01,\n",
      "       -9.85449730e-01, -9.63558185e-01, -9.32039086e-01, -8.91207360e-01,\n",
      "       -8.41470985e-01, -7.83326910e-01, -7.17356091e-01, -6.44217687e-01,\n",
      "       -5.64642473e-01, -4.79425539e-01, -3.89418342e-01, -2.95520207e-01,\n",
      "       -1.98669331e-01, -9.98334166e-02,  2.66453526e-15,  9.98334166e-02,\n",
      "        1.98669331e-01,  2.95520207e-01,  3.89418342e-01,  4.79425539e-01,\n",
      "        5.64642473e-01,  6.44217687e-01,  7.17356091e-01,  7.83326910e-01,\n",
      "        8.41470985e-01,  8.91207360e-01,  9.32039086e-01,  9.63558185e-01,\n",
      "        9.85449730e-01,  9.97494987e-01,  9.99573603e-01,  9.91664810e-01,\n",
      "        9.73847631e-01,  9.46300088e-01,  9.09297427e-01,  8.63209367e-01,\n",
      "        8.08496404e-01,  7.45705212e-01,  6.75463181e-01,  5.98472144e-01,\n",
      "        5.15501372e-01,  4.27379880e-01,  3.34988150e-01,  2.39249329e-01]) instances.\n",
      "A proxy artist may be used instead.\n",
      "See: http://matplotlib.org/users/legend_guide.html#creating-artists-specifically-for-adding-to-the-legend-aka-proxy-artists\n",
      "  \"aka-proxy-artists\".format(orig_handle)\n",
      "/usr/lib64/python3.7/site-packages/matplotlib/legend.py:798: UserWarning: Legend does not support array([-0.07404862, -0.20640149, -0.29503183, -0.46700738, -0.61635513,\n",
      "       -0.75349267, -0.63576041, -0.83877088, -0.94298935, -0.76490859,\n",
      "       -0.95456439, -0.91243901, -0.90414382, -0.9189696 , -1.13793411,\n",
      "       -0.85333573, -0.96377628, -0.93444802, -0.86571131, -0.8130964 ,\n",
      "       -0.67812322, -0.81057726, -0.67613931, -0.52382717, -0.62467241,\n",
      "       -0.59148103, -0.27493445, -0.30055214, -0.11564292, -0.08212105,\n",
      "        0.22119506, -0.00809269,  0.19091384,  0.10220293,  0.36899242,\n",
      "        0.4985748 ,  0.56132576,  0.5947179 ,  0.90433832,  0.90883162,\n",
      "        0.83008673,  0.94421074,  1.07857654,  0.87836194,  1.04659082,\n",
      "        1.06274784,  0.9004985 ,  1.0380038 ,  0.947461  ,  0.8976752 ,\n",
      "        0.93255385,  0.63975784,  0.88054279,  0.78647329,  0.80185339,\n",
      "        0.63463555,  0.5558289 ,  0.48517758,  0.41556525,  0.20299039]) instances.\n",
      "A proxy artist may be used instead.\n",
      "See: http://matplotlib.org/users/legend_guide.html#creating-artists-specifically-for-adding-to-the-legend-aka-proxy-artists\n",
      "  \"aka-proxy-artists\".format(orig_handle)\n"
     ]
    },
    {
     "data": {
      "text/plain": [
       "<matplotlib.legend.Legend at 0x7f220028cbd0>"
      ]
     },
     "execution_count": 26,
     "metadata": {},
     "output_type": "execute_result"
    },
    {
     "data": {
      "image/png": "[encoded data removed]",
      "text/plain": [
       "<Figure size 432x288 with 1 Axes>"
      ]
     },
     "metadata": {
      "needs_background": "light"
     },
     "output_type": "display_data"
    }
   ],
   "source": [
    "plt.plot(data_x,true_y,color='b')\n",
    "plt.scatter(data_x,data_y,color='g')\n",
    "plt.legend((true_y, data_y), ('label1', 'label2'))"
   ]
  },
  {
   "cell_type": "code",
   "execution_count": null,
   "metadata": {},
   "outputs": [],
   "source": []
  }
 ],
 "metadata": {
  "kernelspec": {
   "display_name": "Python 3",
   "language": "python",
   "name": "python3"
  },
  "language_info": {
   "codemirror_mode": {
    "name": "ipython",
    "version": 3
   },
   "file_extension": ".py",
   "mimetype": "text/x-python",
   "name": "python",
   "nbconvert_exporter": "python",
   "pygments_lexer": "ipython3",
   "version": "3.7.6"
  }
 },
 "nbformat": 4,
 "nbformat_minor": 2
}
