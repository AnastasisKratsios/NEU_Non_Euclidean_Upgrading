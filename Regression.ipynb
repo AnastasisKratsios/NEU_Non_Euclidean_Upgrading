{
 "cells": [
  {
   "cell_type": "markdown",
   "metadata": {},
   "source": [
    "#### Define Meta-Parameters\n",
    "##### Meta-Parameters"
   ]
  },
  {
   "cell_type": "code",
   "execution_count": 107,
   "metadata": {},
   "outputs": [],
   "source": [
    "N_Reconfigurations = 10**1\n",
    "d = 1 # Dimension of X\n",
    "D = 1 # Dimension of Y"
   ]
  },
  {
   "cell_type": "markdown",
   "metadata": {},
   "source": [
    "##### Simulation Meta-Parameters"
   ]
  },
  {
   "cell_type": "code",
   "execution_count": 108,
   "metadata": {},
   "outputs": [],
   "source": [
    "# Number of Datapoints\n",
    "N_data = 10**1\n",
    "# Unknown Function\n",
    "def unknown_f(x):\n",
    "    return np.sin(x)"
   ]
  },
  {
   "cell_type": "markdown",
   "metadata": {},
   "source": [
    "#### Generate Data"
   ]
  },
  {
   "cell_type": "code",
   "execution_count": 109,
   "metadata": {},
   "outputs": [
    {
     "data": {
      "image/png": "[encoded data removed]",
      "text/plain": [
       "<Figure size 432x288 with 1 Axes>"
      ]
     },
     "metadata": {
      "needs_background": "light"
     },
     "output_type": "display_data"
    }
   ],
   "source": [
    "%run Data_Generator.ipynb # Exectute temporary training Parameters"
   ]
  },
  {
   "cell_type": "code",
   "execution_count": 111,
   "metadata": {},
   "outputs": [],
   "source": [
    "#### Generate NEU-OLS Model"
   ]
  },
  {
   "cell_type": "code",
   "execution_count": 112,
   "metadata": {},
   "outputs": [
    {
     "name": "stdout",
     "output_type": "stream",
     "text": [
      "TensorFlow: 2.1.0\n",
      "Model: \"model_3\"\n",
      "_________________________________________________________________\n",
      "Layer (type)                 Output Shape              Param #   \n",
      "=================================================================\n",
      "input_6 (InputLayer)         (None, 2)                 0         \n",
      "_________________________________________________________________\n",
      "reconfiguration_unit_23 (Rec (None, 2)                 10        \n",
      "_________________________________________________________________\n",
      "reconfiguration_unit_24 (Rec (None, 2)                 10        \n",
      "_________________________________________________________________\n",
      "reconfiguration_unit_25 (Rec (None, 2)                 10        \n",
      "_________________________________________________________________\n",
      "reconfiguration_unit_26 (Rec (None, 2)                 10        \n",
      "_________________________________________________________________\n",
      "reconfiguration_unit_27 (Rec (None, 2)                 10        \n",
      "_________________________________________________________________\n",
      "reconfiguration_unit_28 (Rec (None, 2)                 10        \n",
      "_________________________________________________________________\n",
      "reconfiguration_unit_29 (Rec (None, 2)                 10        \n",
      "_________________________________________________________________\n",
      "reconfiguration_unit_30 (Rec (None, 2)                 10        \n",
      "_________________________________________________________________\n",
      "reconfiguration_unit_31 (Rec (None, 2)                 10        \n",
      "_________________________________________________________________\n",
      "reconfiguration_unit_32 (Rec (None, 2)                 10        \n",
      "_________________________________________________________________\n",
      "reconfiguration_unit_33 (Rec (None, 2)                 10        \n",
      "_________________________________________________________________\n",
      "lambda_3 (Lambda)            (None, 1)                 0         \n",
      "=================================================================\n",
      "Total params: 110\n",
      "Trainable params: 110\n",
      "Non-trainable params: 0\n",
      "_________________________________________________________________\n",
      "Model Compiled!!!\n"
     ]
    },
    {
     "ename": "NameError",
     "evalue": "name 'os' is not defined",
     "output_type": "error",
     "traceback": [
      "\u001b[0;31m---------------------------------------------------------------------------\u001b[0m",
      "\u001b[0;31mNameError\u001b[0m                                 Traceback (most recent call last)",
      "\u001b[0;32m~/Polybox/NEU_Round_2/NEU_merics/TENSORFLOW_IMPLEMENTATION/NEU_Backend.ipynb\u001b[0m in \u001b[0;36m<module>\u001b[0;34m\u001b[0m\n\u001b[1;32m      2\u001b[0m \u001b[0mNEU_OLS\u001b[0m\u001b[0;34m.\u001b[0m\u001b[0msummary\u001b[0m\u001b[0;34m(\u001b[0m\u001b[0;34m)\u001b[0m\u001b[0;34m\u001b[0m\u001b[0;34m\u001b[0m\u001b[0m\n\u001b[1;32m      3\u001b[0m \u001b[0mprint\u001b[0m\u001b[0;34m(\u001b[0m\u001b[0;34m\"Model Compiled!!!\"\u001b[0m\u001b[0;34m)\u001b[0m\u001b[0;34m\u001b[0m\u001b[0;34m\u001b[0m\u001b[0m\n\u001b[0;32m----> 4\u001b[0;31m \u001b[0mos\u001b[0m\u001b[0;34m.\u001b[0m\u001b[0msystem\u001b[0m\u001b[0;34m(\u001b[0m\u001b[0;34m'spd-say \"your program has finished\"'\u001b[0m\u001b[0;34m)\u001b[0m\u001b[0;34m\u001b[0m\u001b[0;34m\u001b[0m\u001b[0m\n\u001b[0m",
      "\u001b[0;31mNameError\u001b[0m: name 'os' is not defined"
     ]
    }
   ],
   "source": [
    "%run NEU_Backend.ipynb # Initialize Reconfigurations"
   ]
  },
  {
   "cell_type": "markdown",
   "metadata": {},
   "source": [
    "#### Plots Regressions"
   ]
  },
  {
   "cell_type": "markdown",
   "metadata": {},
   "source": [
    "plt.plot(data_x,true_y,color='b',label='true')\n",
    "plt.plot(data_x,f_x,color='r',label='true')\n",
    "plt.scatter(data_x,data_y,color='g',label='observed')\n",
    "plt.legend(loc=\"upper left\")\n",
    "plt.title(\"TEST\")\n",
    "plt.show()"
   ]
  }
 ],
 "metadata": {
  "kernelspec": {
   "display_name": "Python 3",
   "language": "python",
   "name": "python3"
  },
  "language_info": {
   "codemirror_mode": {
    "name": "ipython",
    "version": 3
   },
   "file_extension": ".py",
   "mimetype": "text/x-python",
   "name": "python",
   "nbconvert_exporter": "python",
   "pygments_lexer": "ipython3",
   "version": "3.7.6"
  }
 },
 "nbformat": 4,
 "nbformat_minor": 2
}
