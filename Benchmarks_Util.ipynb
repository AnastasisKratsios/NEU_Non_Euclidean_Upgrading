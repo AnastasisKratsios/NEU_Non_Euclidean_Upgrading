{
 "cells": [
  {
   "cell_type": "markdown",
   "metadata": {},
   "source": [
    "# Benchmark Utility\n",
    "\n",
    "This notebook contains the benchmark models to compare NEU against:\n",
    "\n",
    " - Deep $\\operatorname{GL}_d$-Nets are the largest sub-class of deep feed-forward networks with invertible weights. \n",
    " - Deep $\\operatorname{E}_d$-Nets are the largest sub-class of deep feed-forward networks with isometric weights. "
   ]
  },
  {
   "cell_type": "code",
   "execution_count": null,
   "metadata": {},
   "outputs": [],
   "source": [
    "# Import Custom Layer(s)\n",
    "%run Special_Layers_Homeomorphic.ipynb"
   ]
  },
  {
   "cell_type": "markdown",
   "metadata": {},
   "source": [
    "## Deep General Linear Network"
   ]
  },
  {
   "cell_type": "code",
   "execution_count": null,
   "metadata": {},
   "outputs": [],
   "source": [
    "# define and fit the base model\n",
    "def get_base_model_deep_GLd(trainx, trainy, Full_Epochs_in, depth):\n",
    "    # Define Model\n",
    "    #----------------#\n",
    "    # Initialize\n",
    "    input_layer = tf.keras.Input(shape=[d])\n",
    "    \n",
    "    # Apply Shallow NN Layer #\n",
    "    #------------------------#\n",
    "    output_layer = fullyConnected_Dense(D)(input_layer)\n",
    "    output_layer = tf.concat([input_layer, output_layer], axis=1)\n",
    "    \n",
    "    if depth > 0:\n",
    "        output_layer = tf.nn.leaky_relu(output_layer)\n",
    "        output_layer = Deep_GLd_Layer(d+D)(output_layer)\n",
    "    \n",
    "    # Output\n",
    "#     output_layer = projection_layer(output_layer)\n",
    "    reconfiguration_basic = tf.keras.Model(inputs=[input_layer], outputs=[output_layer])\n",
    "    \n",
    "    # Compile Model\n",
    "    #----------------#\n",
    "    # Define Optimizer\n",
    "    optimizer_on = tf.keras.optimizers.SGD(learning_rate=10**(-2), momentum=0.01, nesterov=True)\n",
    "    # Compile\n",
    "    reconfiguration_basic.compile(loss = 'mae',\n",
    "                    optimizer = optimizer_on,\n",
    "                    metrics = ['mse'])\n",
    "    \n",
    "    # Fit Model\n",
    "    #----------------#\n",
    "    reconfiguration_basic.fit(trainx, trainy, epochs=Full_Epochs_in, verbose=10)\n",
    "        \n",
    "    # Return Output\n",
    "    return reconfiguration_basic"
   ]
  },
  {
   "cell_type": "markdown",
   "metadata": {},
   "source": [
    "## Deep Euclidean Network"
   ]
  },
  {
   "cell_type": "code",
   "execution_count": null,
   "metadata": {},
   "outputs": [],
   "source": [
    "# define and fit the base model\n",
    "def get_base_model_deep_Euclidean_Networks(trainx, trainy, Full_Epochs_in, depth):\n",
    "    # Define Model\n",
    "    #----------------#\n",
    "    # Initialize\n",
    "    input_layer = tf.keras.Input(shape=[d])\n",
    "    \n",
    "    # Apply Shallow NN Layer #\n",
    "    #------------------------#\n",
    "    output_layer = fullyConnected_Dense(D)(input_layer)\n",
    "    output_layer = tf.concat([input_layer, output_layer], axis=1)\n",
    "    \n",
    "    if depth > 0:\n",
    "        output_layer = tf.nn.leaky_relu(output_layer)\n",
    "        output_layer = Euclidean_Layer(d+D)(output_layer)\n",
    "    \n",
    "    # Output\n",
    "#     output_layer = projection_layer(output_layer)\n",
    "    reconfiguration_basic = tf.keras.Model(inputs=[input_layer], outputs=[output_layer])\n",
    "    \n",
    "    # Compile Model\n",
    "    #----------------#\n",
    "    # Define Optimizer\n",
    "    optimizer_on = tf.keras.optimizers.SGD(learning_rate=10**(-2), momentum=0.01, nesterov=True)\n",
    "    # Compile\n",
    "    reconfiguration_basic.compile(loss = 'mae',\n",
    "                    optimizer = optimizer_on,\n",
    "                    metrics = ['mse'])\n",
    "    \n",
    "    # Fit Model\n",
    "    #----------------#\n",
    "    reconfiguration_basic.fit(trainx, trainy, epochs=Full_Epochs_in, verbose=10)\n",
    "        \n",
    "    # Return Output\n",
    "    return reconfiguration_basic"
   ]
  },
  {
   "cell_type": "markdown",
   "metadata": {},
   "source": [
    "# Linear Regression"
   ]
  },
  {
   "cell_type": "code",
   "execution_count": null,
   "metadata": {},
   "outputs": [],
   "source": [
    "tf.random.set_seed(2020)\n",
    "\n",
    "# define and fit the base model\n",
    "def get_OLS(trainx, trainy, Full_Epochs_in, height):\n",
    "    # Define Model\n",
    "    #----------------#\n",
    "    # Initialize\n",
    "    input_layer = tf.keras.Input(shape=[d])\n",
    "    \n",
    "    # Apply Shallow NN Layer #\n",
    "    #------------------------#\n",
    "    output_layer = fullyConnected_Dense(height)(input_layer)\n",
    "    output_layer = tf.nn.relu(output_layer)\n",
    "    output_layer = fullyConnected_Dense(D)(output_layer)\n",
    "    \n",
    "#     output_layer = projection_layer(output_layer)\n",
    "    reconfiguration_basic = tf.keras.Model(inputs=[input_layer], outputs=[output_layer])\n",
    "    \n",
    "    # Compile Model\n",
    "    #----------------#\n",
    "    # Define Optimizer\n",
    "    optimizer_on = tf.keras.optimizers.SGD(learning_rate=10**(-2))\n",
    "    # Compile\n",
    "    reconfiguration_basic.compile(loss = 'mae',#Robust_MSE,\n",
    "                    optimizer = optimizer_on,\n",
    "                    metrics = ['mse'])\n",
    "    \n",
    "    # Fit Model\n",
    "    #----------------#\n",
    "    reconfiguration_basic.fit(trainx, trainy, epochs=Full_Epochs_in, verbose=0)\n",
    "        \n",
    "    # Return Output\n",
    "    return reconfiguration_basic"
   ]
  }
 ],
 "metadata": {
  "kernelspec": {
   "display_name": "Python 3",
   "language": "python",
   "name": "python3"
  },
  "language_info": {
   "codemirror_mode": {
    "name": "ipython",
    "version": 3
   },
   "file_extension": ".py",
   "mimetype": "text/x-python",
   "name": "python",
   "nbconvert_exporter": "python",
   "pygments_lexer": "ipython3",
   "version": "3.7.7"
  }
 },
 "nbformat": 4,
 "nbformat_minor": 2
}
