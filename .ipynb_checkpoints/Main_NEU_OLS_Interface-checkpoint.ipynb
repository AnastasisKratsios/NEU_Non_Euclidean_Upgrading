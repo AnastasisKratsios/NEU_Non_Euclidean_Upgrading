{
 "cells": [
  {
   "cell_type": "markdown",
   "metadata": {},
   "source": [
    "# Main: NEU-OLS\n",
    "\n",
    "This is the interface for running NEU OLS and comparing to other networks and non-parameteric regression methods.\n",
    "\n",
    "## Parameters"
   ]
  },
  {
   "cell_type": "code",
   "execution_count": 1,
   "metadata": {},
   "outputs": [],
   "source": [
    "N_Reconfigurations = 30\n",
    "d = 1 # Dimension of X\n",
    "D = 1 # Dimension of Y\n",
    "\n",
    "\n",
    "# Data Meta-Parameters\n",
    "noise_level = 0.1\n",
    "uncertainty_level= 0.5\n",
    "\n",
    "# Training meta-parameters\n",
    "Pre_Epochs = 50\n",
    "Full_Epochs = 200\n",
    "\n",
    "\n",
    "# Number of Datapoints\n",
    "N_data = 10**3\n",
    "\n",
    "# Unknown Function\n",
    "def unknown_f(x):\n",
    "    return (x % 10)"
   ]
  },
  {
   "cell_type": "markdown",
   "metadata": {},
   "source": [
    "#### Run Backend"
   ]
  },
  {
   "cell_type": "code",
   "execution_count": null,
   "metadata": {},
   "outputs": [
    {
     "data": {
      "text/plain": [
       "<Figure size 640x480 with 1 Axes>"
      ]
     },
     "metadata": {},
     "output_type": "display_data"
    },
    {
     "name": "stderr",
     "output_type": "stream",
     "text": [
      "Using TensorFlow backend.\n"
     ]
    },
    {
     "name": "stdout",
     "output_type": "stream",
     "text": [
      "TensorFlow: 2.1.0\n",
      "5.7015164990372975\n",
      "0.03333333333333333\n",
      "6.81883601063733\n",
      "0.06666666666666667\n",
      "5.944443518048109\n",
      "0.1\n",
      "21.770682389147918\n",
      "0.13333333333333333\n",
      "5.736948518714266\n",
      "0.16666666666666666\n",
      "5.8953707773750486\n",
      "0.2\n",
      "6.06656014950033\n",
      "0.23333333333333334\n",
      "5.676652326944374\n",
      "0.26666666666666666\n",
      "5.660517057310181\n",
      "0.3\n",
      "5.881129930925457\n",
      "0.3333333333333333\n",
      "5.856405623002083\n",
      "0.36666666666666664\n",
      "5.7509233779367825\n",
      "0.4\n",
      "5.697489818915317\n",
      "0.43333333333333335\n",
      "7.795543735969876\n",
      "0.4666666666666667\n",
      "5.6568658572974755\n",
      "0.5\n",
      "5.664165473703592\n",
      "0.5333333333333333\n",
      "4.186689184405948\n",
      "0.5666666666666667\n",
      "4.32614593122346\n",
      "0.6\n",
      "4.698473194396936\n",
      "0.6333333333333333\n",
      "3.7368858995811447\n",
      "0.6666666666666666\n",
      "3.397162229249169\n",
      "0.7\n",
      "3.235053954286392\n",
      "0.7333333333333333\n",
      "2.8729672828397317\n",
      "0.7666666666666667\n",
      "3.152594868647516\n",
      "0.8\n",
      "2.8971200235507775\n",
      "0.8333333333333334\n",
      "2.368546282326937\n",
      "0.8666666666666667\n",
      "2.1246017456612942\n",
      "0.9\n",
      "1.8407545354735466\n",
      "0.9333333333333333\n"
     ]
    }
   ],
   "source": [
    "# Generate Data\n",
    "%run Data_Generator.ipynb\n",
    "# Run NEU-OLS\n",
    "%run NEU_Surgery_open.ipynb\n",
    "# Run Benchmark Regression Models\n",
    "%run Regression_Benchmark_Models.ipynb"
   ]
  },
  {
   "cell_type": "code",
   "execution_count": null,
   "metadata": {},
   "outputs": [],
   "source": [
    "# Adjust Figure Details\n",
    "plt.figure(num=None,figsize=(12, 10), dpi=80, facecolor='w', edgecolor='k')\n",
    "\n",
    "# Plot Data\n",
    "fx = plt.plot(data_x,true_y,color='k',label='f(x)',linestyle='--')\n",
    "\n",
    "# # Models\n",
    "OLS = plt.plot(data_x,model_pred_y,color='r',label=\"OLS\")\n",
    "NEUOLS = plt.plot(data_x,NEU_OLS_prediction,color='Darkturquoise',label='NEU-OLS')\n",
    "NEUOLS_Greedy = plt.plot(data_x,NEU_OLS_greedy_initializations,color='Aqua',label='NEU_Greedy_Init')\n",
    "Splines = plt.plot(data_x,f_hat_smoothing_splines,color='b',label='Smoothin_Splines')\n",
    "LOESS = plt.plot(data_x,f_hat_LOESS,color='g',label='LOESS')\n",
    "ffNN = plt.plot(data_x,ffNN_prediction,color='y',label='ffNN')\n",
    "\n",
    "# Legend\n",
    "plt.legend()"
   ]
  },
  {
   "cell_type": "markdown",
   "metadata": {},
   "source": [
    "## Evaluate Performance (Test Set)"
   ]
  },
  {
   "cell_type": "markdown",
   "metadata": {},
   "source": [
    "#### Visualizations"
   ]
  },
  {
   "cell_type": "code",
   "execution_count": null,
   "metadata": {},
   "outputs": [],
   "source": [
    "# Adjust Figure Details\n",
    "plt.figure(num=None,figsize=(12, 10), dpi=80, facecolor='w', edgecolor='k')\n",
    "\n",
    "# Plot Data\n",
    "fx = plt.plot(data_x,true_y,color='k',label='f(x)',linestyle='--')\n",
    "\n",
    "# # Models\n",
    "OLS = plt.plot(data_x,model_pred_y_testt,color='r',label=\"OLS\")\n",
    "NEUOLS = plt.plot(data_x,NEU_OLS_prediction_test,color='Darkturquoise',label='NEU-OLS')\n",
    "Splines = plt.plot(data_x,f_hat_smoothing_splines_test,color='b',label='Smoothin_Splines')\n",
    "LOESS = plt.plot(data_x,LOESS_prediction_test,color='g',label='LOESS')\n",
    "ffNN = plt.plot(data_x,ffNN_prediction_test,color='y',label='ffNN')\n",
    "\n",
    "# Legend\n",
    "plt.legend()"
   ]
  },
  {
   "cell_type": "markdown",
   "metadata": {},
   "source": [
    "#### Test-Set Predictions"
   ]
  },
  {
   "cell_type": "code",
   "execution_count": null,
   "metadata": {},
   "outputs": [],
   "source": [
    "np.mean((f_hat_smoothing_splines_test - data_y_test)**2)\n",
    "np.mean((ffNN_prediction_test - data_y_test)**2)\n",
    "np.mean((LOESS_prediction_test - data_y_test)**2)\n",
    "np.mean((NEU_OLS_prediction_test - data_y_test)**2)"
   ]
  }
 ],
 "metadata": {
  "kernelspec": {
   "display_name": "Python 3",
   "language": "python",
   "name": "python3"
  },
  "language_info": {
   "codemirror_mode": {
    "name": "ipython",
    "version": 3
   },
   "file_extension": ".py",
   "mimetype": "text/x-python",
   "name": "python",
   "nbconvert_exporter": "python",
   "pygments_lexer": "ipython3",
   "version": "3.7.6"
  }
 },
 "nbformat": 4,
 "nbformat_minor": 2
}
