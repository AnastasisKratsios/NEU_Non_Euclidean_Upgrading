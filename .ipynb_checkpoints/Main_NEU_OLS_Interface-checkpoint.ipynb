{
 "cells": [
  {
   "cell_type": "markdown",
   "metadata": {},
   "source": [
    "# Main Interface\n",
    "\n",
    "## Parameters"
   ]
  },
  {
   "cell_type": "code",
   "execution_count": 1,
   "metadata": {},
   "outputs": [],
   "source": [
    "N_Reconfigurations = 10\n",
    "d = 1 # Dimension of X\n",
    "D = 1 # Dimension of Y\n",
    "\n",
    "# Data Meta-Parameters\n",
    "noise_level = 0.1\n",
    "uncertainty_level= 0.9\n",
    "\n",
    "# Training meta-parameters\n",
    "Pre_Epochs = 50\n",
    "Full_Epochs = 50\n",
    "\n",
    "\n",
    "# Number of Datapoints\n",
    "N_data = 10**3\n",
    "# Unknown Function\n",
    "def unknown_f(x):\n",
    "    return np.sin(x) + (x % 2) + np.exp(-x)"
   ]
  },
  {
   "cell_type": "markdown",
   "metadata": {},
   "source": [
    "#### Run Backend"
   ]
  },
  {
   "cell_type": "code",
   "execution_count": 2,
   "metadata": {},
   "outputs": [
    {
     "data": {
      "text/plain": [
       "<Figure size 640x480 with 1 Axes>"
      ]
     },
     "metadata": {},
     "output_type": "display_data"
    },
    {
     "name": "stderr",
     "output_type": "stream",
     "text": [
      "Using TensorFlow backend.\n"
     ]
    },
    {
     "name": "stdout",
     "output_type": "stream",
     "text": [
      "TensorFlow: 2.1.0\n",
      "0.0\n",
      "0.03333333333333333\n",
      "0.06666666666666667\n",
      "0.1\n",
      "0.13333333333333333\n",
      "0.16666666666666666\n",
      "0.2\n",
      "0.23333333333333334\n",
      "0.26666666666666666\n",
      "0.3\n",
      "0.3333333333333333\n",
      "0.36666666666666664\n",
      "0.4\n",
      "0.43333333333333335\n",
      "0.4666666666666667\n",
      "0.5\n",
      "0.5333333333333333\n",
      "0.5666666666666667\n",
      "0.6\n",
      "0.6333333333333333\n",
      "0.6666666666666666\n",
      "0.7\n",
      "0.7333333333333333\n",
      "0.7666666666666667\n",
      "0.8\n",
      "0.8333333333333334\n",
      "0.8666666666666667\n",
      "0.9\n",
      "0.9333333333333333\n",
      "0.9666666666666667\n",
      "Train on 1000 samples\n",
      "Epoch 1/50\n",
      "1000/1000 [==============================] - 19s 19ms/sample - loss: nan - mse: nan\n",
      "Epoch 2/50\n",
      "1000/1000 [==============================] - 0s 462us/sample - loss: nan - mse: nan\n",
      "Epoch 3/50\n",
      "1000/1000 [==============================] - 0s 469us/sample - loss: nan - mse: nan\n",
      "Epoch 4/50\n",
      "1000/1000 [==============================] - 0s 406us/sample - loss: nan - mse: nan\n",
      "Epoch 5/50\n",
      "1000/1000 [==============================] - 0s 467us/sample - loss: nan - mse: nan\n",
      "Epoch 6/50\n",
      "1000/1000 [==============================] - 0s 463us/sample - loss: nan - mse: nan\n",
      "Epoch 7/50\n",
      "1000/1000 [==============================] - 0s 463us/sample - loss: nan - mse: nan\n",
      "Epoch 8/50\n",
      "1000/1000 [==============================] - 0s 428us/sample - loss: nan - mse: nan\n",
      "Epoch 9/50\n",
      "1000/1000 [==============================] - 0s 425us/sample - loss: nan - mse: nan\n",
      "Epoch 10/50\n",
      "1000/1000 [==============================] - 0s 416us/sample - loss: nan - mse: nan\n",
      "Epoch 11/50\n",
      "1000/1000 [==============================] - 0s 412us/sample - loss: nan - mse: nan\n",
      "Epoch 12/50\n",
      "1000/1000 [==============================] - 0s 443us/sample - loss: nan - mse: nan\n",
      "Epoch 13/50\n",
      "1000/1000 [==============================] - 0s 421us/sample - loss: nan - mse: nan\n",
      "Epoch 14/50\n",
      "1000/1000 [==============================] - 0s 421us/sample - loss: nan - mse: nan\n",
      "Epoch 15/50\n",
      "1000/1000 [==============================] - 0s 445us/sample - loss: nan - mse: nan\n",
      "Epoch 16/50\n",
      "1000/1000 [==============================] - 0s 428us/sample - loss: nan - mse: nan\n",
      "Epoch 17/50\n",
      "1000/1000 [==============================] - 0s 430us/sample - loss: nan - mse: nan\n",
      "Epoch 18/50\n",
      "1000/1000 [==============================] - 0s 418us/sample - loss: nan - mse: nan\n",
      "Epoch 19/50\n",
      "1000/1000 [==============================] - 0s 420us/sample - loss: nan - mse: nan\n",
      "Epoch 20/50\n",
      "1000/1000 [==============================] - 0s 440us/sample - loss: nan - mse: nan\n",
      "Epoch 21/50\n",
      "1000/1000 [==============================] - 0s 433us/sample - loss: nan - mse: nan\n",
      "Epoch 22/50\n",
      "1000/1000 [==============================] - 0s 444us/sample - loss: nan - mse: nan\n",
      "Epoch 23/50\n",
      "1000/1000 [==============================] - 0s 465us/sample - loss: nan - mse: nan\n",
      "Epoch 24/50\n",
      "1000/1000 [==============================] - 0s 473us/sample - loss: nan - mse: nan\n",
      "Epoch 25/50\n",
      "1000/1000 [==============================] - 1s 500us/sample - loss: nan - mse: nan\n",
      "Epoch 26/50\n",
      "1000/1000 [==============================] - 0s 436us/sample - loss: nan - mse: nan\n",
      "Epoch 27/50\n",
      "1000/1000 [==============================] - 0s 435us/sample - loss: nan - mse: nan\n",
      "Epoch 28/50\n",
      "1000/1000 [==============================] - 0s 492us/sample - loss: nan - mse: nan\n",
      "Epoch 29/50\n",
      "1000/1000 [==============================] - 0s 464us/sample - loss: nan - mse: nan\n",
      "Epoch 30/50\n",
      "1000/1000 [==============================] - 0s 497us/sample - loss: nan - mse: nan\n",
      "Epoch 31/50\n",
      "1000/1000 [==============================] - 0s 451us/sample - loss: nan - mse: nan\n",
      "Epoch 32/50\n",
      "1000/1000 [==============================] - 0s 440us/sample - loss: nan - mse: nan\n",
      "Epoch 33/50\n",
      "1000/1000 [==============================] - 0s 427us/sample - loss: nan - mse: nan\n",
      "Epoch 34/50\n",
      "1000/1000 [==============================] - 0s 469us/sample - loss: nan - mse: nan\n",
      "Epoch 35/50\n",
      "1000/1000 [==============================] - 0s 430us/sample - loss: nan - mse: nan\n",
      "Epoch 36/50\n",
      "1000/1000 [==============================] - 0s 434us/sample - loss: nan - mse: nan\n",
      "Epoch 37/50\n",
      "1000/1000 [==============================] - 0s 449us/sample - loss: nan - mse: nan\n",
      "Epoch 38/50\n",
      "1000/1000 [==============================] - 0s 431us/sample - loss: nan - mse: nan\n",
      "Epoch 39/50\n",
      "1000/1000 [==============================] - 0s 428us/sample - loss: nan - mse: nan\n",
      "Epoch 40/50\n",
      "1000/1000 [==============================] - 0s 431us/sample - loss: nan - mse: nan\n",
      "Epoch 41/50\n",
      "1000/1000 [==============================] - 0s 424us/sample - loss: nan - mse: nan\n",
      "Epoch 42/50\n",
      "1000/1000 [==============================] - 0s 424us/sample - loss: nan - mse: nan\n",
      "Epoch 43/50\n",
      "1000/1000 [==============================] - 0s 437us/sample - loss: nan - mse: nan\n",
      "Epoch 44/50\n",
      "1000/1000 [==============================] - 0s 445us/sample - loss: nan - mse: nan\n",
      "Epoch 45/50\n",
      "1000/1000 [==============================] - 0s 435us/sample - loss: nan - mse: nan\n",
      "Epoch 46/50\n",
      "1000/1000 [==============================] - 0s 430us/sample - loss: nan - mse: nan\n",
      "Epoch 47/50\n",
      "1000/1000 [==============================] - 0s 429us/sample - loss: nan - mse: nan\n",
      "Epoch 48/50\n",
      "1000/1000 [==============================] - 0s 413us/sample - loss: nan - mse: nan\n",
      "Epoch 49/50\n",
      "1000/1000 [==============================] - 0s 463us/sample - loss: nan - mse: nan\n",
      "Epoch 50/50\n",
      "1000/1000 [==============================] - 0s 442us/sample - loss: nan - mse: nan\n",
      "WARNING:tensorflow:Layer reconfiguration_unit_steps_1 is casting an input tensor from dtype float64 to the layer's dtype of float32, which is new behavior in TensorFlow 2.  The layer has dtype float32 because it's dtype defaults to floatx.\n",
      "\n",
      "If you intended to run this layer in float32, you can safely ignore this warning. If in doubt, this warning is likely only an issue if you are porting a TensorFlow 1.X model to TensorFlow 2.\n",
      "\n",
      "To change all layers to have dtype float64 by default, call `tf.keras.backend.set_floatx('float64')`. To change just this layer, pass dtype='float64' to the layer constructor. If you are the author of this layer, you can disable autocasting by passing autocast=False to the base Layer constructor.\n",
      "\n"
     ]
    },
    {
     "data": {
      "text/plain": [
       "<Figure size 960x800 with 1 Axes>"
      ]
     },
     "metadata": {},
     "output_type": "display_data"
    }
   ],
   "source": [
    "# Generate Data\n",
    "%run Data_Generator.ipynb\n",
    "# Run NEU-OLS\n",
    "%run NEU_Surgery_open.ipynb\n",
    "# Run Benchmark Regression Models\n",
    "%run Regression_Benchmark_Models.ipynb"
   ]
  },
  {
   "cell_type": "code",
   "execution_count": null,
   "metadata": {},
   "outputs": [],
   "source": [
    "# Train Full Model Using Initializatoins\n",
    "NEU_OLS = build_reconfiguration(NEU_OLS_Greedy_init,data_NEU,NEU_targets,Full_Epochs)\n",
    "# Prediction\n",
    "NEU_OLS_prediction = NEU_OLS(data_NEU)"
   ]
  },
  {
   "cell_type": "code",
   "execution_count": null,
   "metadata": {},
   "outputs": [],
   "source": [
    "%run Regression_Benchmark_Models.ipynb"
   ]
  },
  {
   "cell_type": "code",
   "execution_count": null,
   "metadata": {},
   "outputs": [],
   "source": [
    "# Adjust Figure Details\n",
    "plt.figure(num=None, figsize=(12, 10), dpi=80, facecolor='w', edgecolor='k')\n",
    "\n",
    "# Plot Models\n",
    "plt.plot(data_x,true_y,color='k',label='true',linestyle='--')\n",
    "plt.plot(data_x,NEU_OLS_prediction,color='Aqua',label='NEU-OLS')\n",
    "plt.plot(data_x,ffNN_prediction,color='y',label='ffNN')\n",
    "plt.plot(data_x,f_hat_smoothing_splines,color='b',label='Smoothin_Splines')\n",
    "plt.plot(data_x,f_hat_lowess,color='g',label='LOESS')\n",
    "plt.plot(data_x,model_pred_y,color='r',label='NEU-OLS')"
   ]
  },
  {
   "cell_type": "code",
   "execution_count": null,
   "metadata": {},
   "outputs": [],
   "source": []
  }
 ],
 "metadata": {
  "kernelspec": {
   "display_name": "Python 3",
   "language": "python",
   "name": "python3"
  },
  "language_info": {
   "codemirror_mode": {
    "name": "ipython",
    "version": 3
   },
   "file_extension": ".py",
   "mimetype": "text/x-python",
   "name": "python",
   "nbconvert_exporter": "python",
   "pygments_lexer": "ipython3",
   "version": "3.7.6"
  }
 },
 "nbformat": 4,
 "nbformat_minor": 2
}
