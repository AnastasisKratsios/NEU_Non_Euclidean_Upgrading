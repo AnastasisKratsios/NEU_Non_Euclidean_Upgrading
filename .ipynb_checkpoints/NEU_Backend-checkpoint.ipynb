{
 "cells": [
  {
   "cell_type": "markdown",
   "metadata": {},
   "source": [
    "## Initialize Modules"
   ]
  },
  {
   "cell_type": "code",
   "execution_count": 1,
   "metadata": {},
   "outputs": [
    {
     "name": "stderr",
     "output_type": "stream",
     "text": [
      "Using TensorFlow backend.\n"
     ]
    }
   ],
   "source": [
    "import tensorflow as tf\n",
    "import numpy as np\n",
    "import random\n",
    "import pandas as pd\n",
    "from scipy.stats import levy_stable\n",
    "from sklearn.model_selection import train_test_split\n",
    "from sklearn.preprocessing import StandardScaler\n",
    "from keras.models import Sequential\n",
    "from keras.layers import Activation\n",
    "from keras.optimizers import SGD\n",
    "from keras.layers import Dense\n",
    "from keras.layers import Dropout\n",
    "from keras.utils import np_utils\n",
    "from keras.optimizers import Adam\n",
    "from keras.losses import mean_squared_error\n",
    "from keras.metrics import mse\n",
    "from sklearn.linear_model import LinearRegression\n",
    "import time"
   ]
  },
  {
   "cell_type": "markdown",
   "metadata": {},
   "source": [
    "## Build Custom Layers.  "
   ]
  },
  {
   "cell_type": "markdown",
   "metadata": {},
   "source": [
    "These will be combined to form the NEU unit.  "
   ]
  },
  {
   "cell_type": "markdown",
   "metadata": {},
   "source": [
    "Shift Layer: x -> x+c ; c in R"
   ]
  },
  {
   "cell_type": "code",
   "execution_count": 2,
   "metadata": {},
   "outputs": [],
   "source": [
    "class BiasLayer(tf.keras.layers.Layer):\n",
    "    def __init__(self, *args, **kwargs):\n",
    "        super(BiasLayer, self).__init__(*args, **kwargs)\n",
    "\n",
    "    def build(self, input_shape):\n",
    "        self.bias = self.add_weight('bias',\n",
    "                                    shape=input_shape[1:],\n",
    "                                    initializer='zeros',\n",
    "                                    trainable=True)\n",
    "    def call(self, x):\n",
    "        return x + self.bias"
   ]
  },
  {
   "cell_type": "markdown",
   "metadata": {},
   "source": [
    "Diagonal/Scaling Layer: x -> Diag(k_1,...,k_n)* x ; k_i in R"
   ]
  },
  {
   "cell_type": "code",
   "execution_count": 16,
   "metadata": {},
   "outputs": [],
   "source": [
    "# TEMP\n",
    "x = np.array([1,-2,.3])\n",
    "x = tf.keras.backend.constant(x)"
   ]
  },
  {
   "cell_type": "code",
   "execution_count": 11,
   "metadata": {},
   "outputs": [],
   "source": [
    "# Initializations\n",
    "# Computes Absolute Values of Inputs\n",
    "x_abs = tf.math.abs(x)\n",
    "\n",
    "# Determines is Thresholding should be applied (or not)\n",
    "x_test = tf.ones(tf.shape(x))-x_abs # <- >= 0 iff x_abs <1\n",
    "x_thresholded = tf.keras.activations.relu(x_test) \n",
    "x_thresholded = tf.math.sign(x_thresholded) # Trick to make all non-zeros into 1s and keep all 0s as they are\n",
    "threshold_TF = tf.math.multiply(x,x_thresholded)\n",
    "\n",
    "# Exponentiates Inputs\n",
    "LOGIC_thresh = tf.math.greater(threshold_TF,tf.ones(tf.shape(threshold_TF)))\n",
    "\n",
    "# def If_TRUE_Function(x_in): return tf.pow(tf.ones(tf.shape(x_in))-tf.math.exp(x_in),-1)\n",
    "# def If_FALSE_Function(x_in): return tf.zeros(tf.shape(x_in))\n",
    "#tf.cond(LOGIC_thresh, tf.constant(1),tf.constant(0))"
   ]
  },
  {
   "cell_type": "code",
   "execution_count": 12,
   "metadata": {},
   "outputs": [],
   "source": [
    "x = tf.constant(3)\n",
    "y = tf.constant(5)\n",
    "def f1(): return tf.multiply(x, 17)\n",
    "def f2(): return tf.add(y, 23)\n",
    "r = tf.cond(tf.less(x, y), f1, f2)"
   ]
  },
  {
   "cell_type": "code",
   "execution_count": 19,
   "metadata": {},
   "outputs": [
    {
     "data": {
      "text/plain": [
       "<tf.Tensor: shape=(3,), dtype=float32, numpy=array([       inf, 0.33333334, 1.4285715 ], dtype=float32)>"
      ]
     },
     "execution_count": 19,
     "metadata": {},
     "output_type": "execute_result"
    }
   ],
   "source": []
  },
  {
   "cell_type": "code",
   "execution_count": null,
   "metadata": {},
   "outputs": [],
   "source": [
    "def bump_activation(x_in):\n",
    "    x_in_abs = tf.math.abs(x)\n",
    "    z = tf.where(tf.math.abs(x) >= 1, 0 , tf.pow(1-x,-1))\n",
    "    return y"
   ]
  }
 ],
 "metadata": {
  "kernelspec": {
   "display_name": "Python 3",
   "language": "python",
   "name": "python3"
  },
  "language_info": {
   "codemirror_mode": {
    "name": "ipython",
    "version": 3
   },
   "file_extension": ".py",
   "mimetype": "text/x-python",
   "name": "python",
   "nbconvert_exporter": "python",
   "pygments_lexer": "ipython3",
   "version": "3.7.6"
  }
 },
 "nbformat": 4,
 "nbformat_minor": 2
}
