{
 "cells": [
  {
   "cell_type": "markdown",
   "metadata": {},
   "source": [
    "# NEU\n",
    "\n",
    "1. Perform Classical Algorithm obtain: obtain input/output pairs\n",
    "2. Feed input/ouput pairs into reconfigurations\n",
    "3. Optimize Objective function (after projecting to output pair's corrdinate)\n",
    "\n",
    "BONUS:\n",
    "Plot Non-Euclidean Geometry on input-output space!"
   ]
  },
  {
   "cell_type": "markdown",
   "metadata": {},
   "source": [
    "#### Using NEU-OLS and NEU-PCA\n",
    "Run either of the Regression of PCA .ipynb files"
   ]
  },
  {
   "cell_type": "markdown",
   "metadata": {},
   "source": [
    "# Todo:\n",
    "1. Add initializations & details to trainable parameters in reconfiguration!\n",
    "2. Compute Curvature Tensors!"
   ]
  }
 ],
 "metadata": {
  "kernelspec": {
   "display_name": "Python 3",
   "language": "python",
   "name": "python3"
  },
  "language_info": {
   "codemirror_mode": {
    "name": "ipython",
    "version": 3
   },
   "file_extension": ".py",
   "mimetype": "text/x-python",
   "name": "python",
   "nbconvert_exporter": "python",
   "pygments_lexer": "ipython3",
   "version": "3.7.6"
  }
 },
 "nbformat": 4,
 "nbformat_minor": 2
}
