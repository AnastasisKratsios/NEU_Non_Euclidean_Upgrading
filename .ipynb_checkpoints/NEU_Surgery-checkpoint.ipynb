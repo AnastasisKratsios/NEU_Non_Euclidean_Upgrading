{
 "cells": [
  {
   "cell_type": "code",
   "execution_count": 371,
   "metadata": {},
   "outputs": [
    {
     "name": "stdout",
     "output_type": "stream",
     "text": [
      "TensorFlow: 2.1.0\n"
     ]
    }
   ],
   "source": [
    "# Deep Learning & ML\n",
    "import tensorflow as tf\n",
    "import tensorflow_probability as tfp\n",
    "import keras as K\n",
    "from keras import backend as Kback\n",
    "from keras.models import Sequential\n",
    "from keras import layers\n",
    "from keras import utils as np_utils\n",
    "from scipy import linalg as scila\n",
    "\n",
    "# Linear Regression\n",
    "from sklearn.linear_model import LinearRegression\n",
    "\n",
    "# General\n",
    "import numpy as np\n",
    "import time\n",
    "\n",
    "# Alerts\n",
    "# import tkinter\n",
    "# from tkinter import messagebox\n",
    "import os as beepsnd\n",
    "\n",
    "# General Outputs\n",
    "print('TensorFlow:', tf.__version__)"
   ]
  },
  {
   "cell_type": "code",
   "execution_count": 524,
   "metadata": {},
   "outputs": [
    {
     "data": {
      "image/png": "[encoded data removed]",
      "text/plain": [
       "<Figure size 432x288 with 1 Axes>"
      ]
     },
     "metadata": {
      "needs_background": "light"
     },
     "output_type": "display_data"
    }
   ],
   "source": [
    "N_Reconfigurations = 10**1\n",
    "d = 1 # Dimension of X\n",
    "D = 1 # Dimension of Y\n",
    "\n",
    "# Data Meta-Parameters\n",
    "noise_level = 0.1\n",
    "uncertainty_level= 0.9\n",
    "\n",
    "# Training meta-parameters\n",
    "Epochs = 10**2\n",
    "\n",
    "\n",
    "# Number of Datapoints\n",
    "N_data = 10**2\n",
    "# Unknown Function\n",
    "def unknown_f(x):\n",
    "    return np.sin(x)\n",
    "%run Data_Generator.ipynb"
   ]
  },
  {
   "cell_type": "code",
   "execution_count": 525,
   "metadata": {},
   "outputs": [],
   "source": [
    "# Reshape Data Into Compatible Shape\n",
    "data_x = np.array(data_x).reshape(-1,d)\n",
    "data_y = np.array(data_y)\n",
    "# Perform OLS Regression\n",
    "linear_model = LinearRegression()\n",
    "reg = linear_model.fit(data_x, data_y)\n",
    "model_pred_y = linear_model.predict(data_x)\n",
    "# Map to Graph\n",
    "data_NEU = np.concatenate((data_x,model_pred_y.reshape(-1,D)),1)\n",
    "NEU_targets  = data_y.reshape(-1,D)"
   ]
  },
  {
   "cell_type": "markdown",
   "metadata": {},
   "source": [
    "# Reconfiguration Full"
   ]
  },
  {
   "cell_type": "code",
   "execution_count": 564,
   "metadata": {},
   "outputs": [
    {
     "data": {
      "text/plain": [
       "2.6645352591003757e-15"
      ]
     },
     "execution_count": 564,
     "metadata": {},
     "output_type": "execute_result"
    }
   ],
   "source": [
    "#----------------------------#\n",
    "# Define T/F Functions\n",
    "#----------------------------#\n",
    "def bump_True(x):\n",
    "    x_out = 1- tf.math.pow(tf.math.abs(x),2)\n",
    "    x_out = tf.math.exp(-tf.math.divide(1,x_out))\n",
    "    return x_out\n",
    "\n",
    "def bump_False(x):\n",
    "    x_out = 0\n",
    "    return x_out"
   ]
  },
  {
   "cell_type": "code",
   "execution_count": 553,
   "metadata": {},
   "outputs": [],
   "source": [
    "class Reconfiguration_unit_steps(tf.keras.layers.Layer):\n",
    "\n",
    "    def __init__(self, *args, **kwargs):\n",
    "        super(Reconfiguration_unit_steps, self).__init__(*args, **kwargs)\n",
    "\n",
    "    def build(self, input_shape):\n",
    "        self.location = self.add_weight(name='location',\n",
    "                                    shape=input_shape[1:],\n",
    "                                    initializer='GlorotUniform',\n",
    "                                    trainable=True)\n",
    "        self.scale = self.add_weight(name='scale',\n",
    "                                    shape=input_shape[1:],\n",
    "                                    initializer='GlorotUniform',\n",
    "                                    trainable=True)\n",
    "        # Step 3\n",
    "        self.scale_b = self.add_weight(name='scale_b',\n",
    "                            shape=input_shape[1:],\n",
    "                            initializer='GlorotUniform',\n",
    "                            trainable=True)\n",
    "        \n",
    "        ## Steps 4-9\n",
    "        self.tangentbiases = self.add_weight(name='tangentbiases',\n",
    "                                    shape=input_shape[1:],\n",
    "                                    initializer='GlorotNormal',\n",
    "                                    trainable=True)\n",
    "        self.tangentweights = self.add_weight(name='tangentweights',\n",
    "                                    shape=input_shape[1:],\n",
    "                                    initializer='GlorotNormal',\n",
    "                                    trainable=True)\n",
    "        self.location_b = self.add_weight(name='location_b',\n",
    "                                    shape=input_shape[1:],\n",
    "                                    initializer='GlorotUniform',\n",
    "                                    trainable=True)\n",
    " \n",
    "\n",
    "    def call(self, input):\n",
    "        ### Steps 1-2\n",
    "        # Relocated\n",
    "        input_relocated = input + self.location\n",
    "        # Rescaled\n",
    "        output_steps_1_2 = tf.math.multiply(self.scale,input_relocated)\n",
    "        \n",
    "        ### Step 3\n",
    "        x_in_abs = tf.math.abs(output_steps_1_2) < 10**-2#np.abs(np.random.normal(1,1,1))\n",
    "        output_steps_1_2 = tf.math.multiply(self.scale_b,output_steps_1_2)\n",
    "        output_step_3 = tf.where(x_in_abs,bump_True(output_steps_1_2),bump_False(output_steps_1_2))\n",
    "        \n",
    "        ### Step 4-9\n",
    "        x_out = tf.math.multiply(tf.math.abs(self.tangentweights),output_step_3) + self.tangentbiases\n",
    "        \n",
    "        # 7. Apply Matrix Exponential\n",
    "        x_out = tf.linalg.diag(x_out)\n",
    "        #x_out = tf.linalg.expm(x_out)\n",
    "        #x_out = x_out + tf.linalg.matmul(x_out,x_out)/2 + tf.linalg.matmul(x_out,tf.linalg.matmul(x_out,x_out))/6 +tf.linalg.matmul(x_out,tf.linalg.matmul(x_out,tf.linalg.matmul(x_out,x_out)))/24 #+tf.linalg.matmul(x_out,tf.linalg.matmul(x_out,tf.linalg.matmul(x_out,tf.linalg.matmul(x_out,x_out))))/120\n",
    "        \n",
    "        # TEMP: # If things are crashing use this\n",
    "        #x_out = tf.math.exp(x_out)\n",
    "        \n",
    "        # 8. Muliply by output of (1)\n",
    "        x_out = tf.linalg.matvec(x_out,input)\n",
    "        \n",
    "        # 9. Recenter Transformed Data\n",
    "        output_steps_4_9 = x_out + self.location_b\n",
    "        \n",
    "        # Return Output\n",
    "        return output_steps_4_9"
   ]
  },
  {
   "cell_type": "code",
   "execution_count": 554,
   "metadata": {},
   "outputs": [],
   "source": [
    "projection_layer = tf.keras.layers.Lambda(lambda x: x[:, -D:])"
   ]
  },
  {
   "cell_type": "code",
   "execution_count": 555,
   "metadata": {},
   "outputs": [
    {
     "name": "stdout",
     "output_type": "stream",
     "text": [
      "Model: \"model_82\"\n",
      "_________________________________________________________________\n",
      "Layer (type)                 Output Shape              Param #   \n",
      "=================================================================\n",
      "input_96 (InputLayer)        [(None, 2)]               0         \n",
      "_________________________________________________________________\n",
      "reconfiguration_unit_steps_3 (None, 2)                 12        \n",
      "_________________________________________________________________\n",
      "reconfiguration_unit_steps_3 (None, 2)                 12        \n",
      "_________________________________________________________________\n",
      "reconfiguration_unit_steps_3 (None, 2)                 12        \n",
      "_________________________________________________________________\n",
      "reconfiguration_unit_steps_3 (None, 2)                 12        \n",
      "_________________________________________________________________\n",
      "reconfiguration_unit_steps_3 (None, 2)                 12        \n",
      "_________________________________________________________________\n",
      "reconfiguration_unit_steps_3 (None, 2)                 12        \n",
      "_________________________________________________________________\n",
      "reconfiguration_unit_steps_3 (None, 2)                 12        \n",
      "_________________________________________________________________\n",
      "reconfiguration_unit_steps_3 (None, 2)                 12        \n",
      "_________________________________________________________________\n",
      "reconfiguration_unit_steps_3 (None, 2)                 12        \n",
      "_________________________________________________________________\n",
      "reconfiguration_unit_steps_3 (None, 2)                 12        \n",
      "_________________________________________________________________\n",
      "reconfiguration_unit_steps_3 (None, 2)                 12        \n",
      "_________________________________________________________________\n",
      "lambda_74 (Lambda)           (None, 1)                 0         \n",
      "=================================================================\n",
      "Total params: 132\n",
      "Trainable params: 132\n",
      "Non-trainable params: 0\n",
      "_________________________________________________________________\n"
     ]
    }
   ],
   "source": [
    "# Initialize\n",
    "input_layer = tf.keras.Input(shape=[d+D])\n",
    "# Steps 1 and 2\n",
    "reconfigure  = Reconfiguration_unit_steps()\n",
    "current_layer = reconfigure(input_layer)\n",
    "# Apply Reconfigurations\n",
    "for i in range(N_Reconfigurations):\n",
    "    reconfigure  = Reconfiguration_unit_steps()\n",
    "    current_layer = reconfigure(current_layer)\n",
    "# Map back to R^D\n",
    "output_layer = projection_layer(current_layer)\n",
    "NEU_OLS = tf.keras.Model(inputs=[input_layer], outputs=[output_layer])\n",
    "# Summarize Model\n",
    "NEU_OLS.summary()"
   ]
  },
  {
   "cell_type": "code",
   "execution_count": 556,
   "metadata": {},
   "outputs": [],
   "source": [
    "NEU_OLS.compile(loss='mse',\n",
    "                optimizer=\"SGD\",\n",
    "                metrics=['mse'])"
   ]
  },
  {
   "cell_type": "code",
   "execution_count": 557,
   "metadata": {},
   "outputs": [
    {
     "name": "stdout",
     "output_type": "stream",
     "text": [
      "Train on 100 samples\n",
      "Epoch 1/100\n",
      "100/100 [==============================] - 3s 25ms/sample - loss: 1.7774 - mse: 1.7774\n",
      "Epoch 2/100\n",
      "100/100 [==============================] - 0s 205us/sample - loss: 1.0944 - mse: 1.0944\n",
      "Epoch 3/100\n",
      "100/100 [==============================] - 0s 222us/sample - loss: 0.8142 - mse: 0.8142\n",
      "Epoch 4/100\n",
      "100/100 [==============================] - 0s 239us/sample - loss: 0.6594 - mse: 0.6594\n",
      "Epoch 5/100\n",
      "100/100 [==============================] - 0s 253us/sample - loss: 0.6097 - mse: 0.6097\n",
      "Epoch 6/100\n",
      "100/100 [==============================] - 0s 238us/sample - loss: 0.5709 - mse: 0.5709\n",
      "Epoch 7/100\n",
      "100/100 [==============================] - 0s 254us/sample - loss: 0.5538 - mse: 0.5538\n",
      "Epoch 8/100\n",
      "100/100 [==============================] - 0s 234us/sample - loss: 0.5525 - mse: 0.5525\n",
      "Epoch 9/100\n",
      "100/100 [==============================] - 0s 261us/sample - loss: 0.5434 - mse: 0.5434\n",
      "Epoch 10/100\n",
      "100/100 [==============================] - 0s 224us/sample - loss: 0.5420 - mse: 0.5420\n",
      "Epoch 11/100\n",
      "100/100 [==============================] - 0s 178us/sample - loss: 0.5409 - mse: 0.5409\n",
      "Epoch 12/100\n",
      "100/100 [==============================] - 0s 226us/sample - loss: 0.5414 - mse: 0.5414\n",
      "Epoch 13/100\n",
      "100/100 [==============================] - 0s 172us/sample - loss: 0.5404 - mse: 0.5404\n",
      "Epoch 14/100\n",
      "100/100 [==============================] - 0s 249us/sample - loss: 0.5406 - mse: 0.5406\n",
      "Epoch 15/100\n",
      "100/100 [==============================] - 0s 199us/sample - loss: 0.5405 - mse: 0.5405\n",
      "Epoch 16/100\n",
      "100/100 [==============================] - 0s 279us/sample - loss: 0.5408 - mse: 0.5408\n",
      "Epoch 17/100\n",
      "100/100 [==============================] - 0s 214us/sample - loss: 0.5438 - mse: 0.5438\n",
      "Epoch 18/100\n",
      "100/100 [==============================] - 0s 249us/sample - loss: 0.5404 - mse: 0.5404\n",
      "Epoch 19/100\n",
      "100/100 [==============================] - 0s 248us/sample - loss: 0.5404 - mse: 0.5404\n",
      "Epoch 20/100\n",
      "100/100 [==============================] - 0s 282us/sample - loss: 0.5410 - mse: 0.5410\n",
      "Epoch 21/100\n",
      "100/100 [==============================] - 0s 321us/sample - loss: 0.5395 - mse: 0.5395\n",
      "Epoch 22/100\n",
      "100/100 [==============================] - 0s 222us/sample - loss: 0.5435 - mse: 0.5435\n",
      "Epoch 23/100\n",
      "100/100 [==============================] - 0s 268us/sample - loss: 0.5419 - mse: 0.5419\n",
      "Epoch 24/100\n",
      "100/100 [==============================] - 0s 243us/sample - loss: 0.5413 - mse: 0.5413\n",
      "Epoch 25/100\n",
      "100/100 [==============================] - 0s 262us/sample - loss: 0.5404 - mse: 0.5404\n",
      "Epoch 26/100\n",
      "100/100 [==============================] - 0s 264us/sample - loss: 0.5403 - mse: 0.5403\n",
      "Epoch 27/100\n",
      "100/100 [==============================] - 0s 285us/sample - loss: 0.5409 - mse: 0.5409\n",
      "Epoch 28/100\n",
      "100/100 [==============================] - 0s 265us/sample - loss: 0.5396 - mse: 0.5396\n",
      "Epoch 29/100\n",
      "100/100 [==============================] - 0s 239us/sample - loss: 0.5398 - mse: 0.5398\n",
      "Epoch 30/100\n",
      "100/100 [==============================] - 0s 218us/sample - loss: 0.5402 - mse: 0.5402\n",
      "Epoch 31/100\n",
      "100/100 [==============================] - 0s 227us/sample - loss: 0.5402 - mse: 0.5402\n",
      "Epoch 32/100\n",
      "100/100 [==============================] - 0s 250us/sample - loss: 0.5409 - mse: 0.5409\n",
      "Epoch 33/100\n",
      "100/100 [==============================] - 0s 254us/sample - loss: 0.5400 - mse: 0.5400\n",
      "Epoch 34/100\n",
      "100/100 [==============================] - 0s 291us/sample - loss: 0.5401 - mse: 0.5401\n",
      "Epoch 35/100\n",
      "100/100 [==============================] - 0s 269us/sample - loss: 0.5453 - mse: 0.5453\n",
      "Epoch 36/100\n",
      "100/100 [==============================] - 0s 261us/sample - loss: 0.5415 - mse: 0.5415\n",
      "Epoch 37/100\n",
      "100/100 [==============================] - 0s 218us/sample - loss: 0.5403 - mse: 0.5403\n",
      "Epoch 38/100\n",
      "100/100 [==============================] - 0s 259us/sample - loss: 0.5408 - mse: 0.5408\n",
      "Epoch 39/100\n",
      "100/100 [==============================] - 0s 220us/sample - loss: 0.5417 - mse: 0.5417\n",
      "Epoch 40/100\n",
      "100/100 [==============================] - 0s 216us/sample - loss: 0.5428 - mse: 0.5428\n",
      "Epoch 41/100\n",
      "100/100 [==============================] - 0s 242us/sample - loss: 0.5424 - mse: 0.5424\n",
      "Epoch 42/100\n",
      "100/100 [==============================] - 0s 289us/sample - loss: 0.5419 - mse: 0.5419\n",
      "Epoch 43/100\n",
      "100/100 [==============================] - 0s 209us/sample - loss: 0.5398 - mse: 0.5398\n",
      "Epoch 44/100\n",
      "100/100 [==============================] - 0s 257us/sample - loss: 0.5427 - mse: 0.5427\n",
      "Epoch 45/100\n",
      "100/100 [==============================] - 0s 234us/sample - loss: 0.5435 - mse: 0.5435\n",
      "Epoch 46/100\n",
      "100/100 [==============================] - 0s 251us/sample - loss: 0.5426 - mse: 0.5426\n",
      "Epoch 47/100\n",
      "100/100 [==============================] - 0s 297us/sample - loss: 0.5393 - mse: 0.5393\n",
      "Epoch 48/100\n",
      "100/100 [==============================] - 0s 261us/sample - loss: 0.5399 - mse: 0.5399\n",
      "Epoch 49/100\n",
      "100/100 [==============================] - 0s 282us/sample - loss: 0.5417 - mse: 0.5417\n",
      "Epoch 50/100\n",
      "100/100 [==============================] - 0s 266us/sample - loss: 0.5421 - mse: 0.5421\n",
      "Epoch 51/100\n",
      "100/100 [==============================] - 0s 237us/sample - loss: 0.5396 - mse: 0.5396\n",
      "Epoch 52/100\n",
      "100/100 [==============================] - 0s 262us/sample - loss: 0.5436 - mse: 0.5436\n",
      "Epoch 53/100\n",
      "100/100 [==============================] - 0s 250us/sample - loss: 0.5415 - mse: 0.5415\n",
      "Epoch 54/100\n",
      "100/100 [==============================] - 0s 306us/sample - loss: 0.5411 - mse: 0.5411\n",
      "Epoch 55/100\n",
      "100/100 [==============================] - 0s 343us/sample - loss: 0.5400 - mse: 0.5400\n",
      "Epoch 56/100\n",
      "100/100 [==============================] - 0s 283us/sample - loss: 0.5408 - mse: 0.5408\n",
      "Epoch 57/100\n",
      "100/100 [==============================] - 0s 219us/sample - loss: 0.5421 - mse: 0.5421\n",
      "Epoch 58/100\n",
      "100/100 [==============================] - 0s 299us/sample - loss: 0.5397 - mse: 0.5397\n",
      "Epoch 59/100\n",
      "100/100 [==============================] - 0s 247us/sample - loss: 0.5409 - mse: 0.5409\n",
      "Epoch 60/100\n",
      "100/100 [==============================] - 0s 288us/sample - loss: 0.5410 - mse: 0.5410\n",
      "Epoch 61/100\n",
      "100/100 [==============================] - 0s 233us/sample - loss: 0.5400 - mse: 0.5400\n",
      "Epoch 62/100\n",
      "100/100 [==============================] - 0s 272us/sample - loss: 0.5401 - mse: 0.5401\n",
      "Epoch 63/100\n",
      "100/100 [==============================] - 0s 274us/sample - loss: 0.5416 - mse: 0.5416\n",
      "Epoch 64/100\n",
      "100/100 [==============================] - 0s 230us/sample - loss: 0.5395 - mse: 0.5395\n",
      "Epoch 65/100\n",
      "100/100 [==============================] - 0s 248us/sample - loss: 0.5415 - mse: 0.5415\n",
      "Epoch 66/100\n",
      "100/100 [==============================] - 0s 312us/sample - loss: 0.5414 - mse: 0.5414\n",
      "Epoch 67/100\n",
      "100/100 [==============================] - 0s 249us/sample - loss: 0.5424 - mse: 0.5424\n",
      "Epoch 68/100\n",
      "100/100 [==============================] - 0s 345us/sample - loss: 0.5487 - mse: 0.5487\n",
      "Epoch 69/100\n",
      "100/100 [==============================] - 0s 306us/sample - loss: 0.5447 - mse: 0.5447\n",
      "Epoch 70/100\n",
      "100/100 [==============================] - 0s 281us/sample - loss: 0.5435 - mse: 0.5435\n",
      "Epoch 71/100\n",
      "100/100 [==============================] - 0s 301us/sample - loss: 0.5432 - mse: 0.5432\n",
      "Epoch 72/100\n",
      "100/100 [==============================] - 0s 265us/sample - loss: 0.5412 - mse: 0.5412\n",
      "Epoch 73/100\n",
      "100/100 [==============================] - 0s 252us/sample - loss: 0.5426 - mse: 0.5426\n",
      "Epoch 74/100\n",
      "100/100 [==============================] - 0s 237us/sample - loss: 0.5408 - mse: 0.5408\n",
      "Epoch 75/100\n",
      "100/100 [==============================] - 0s 198us/sample - loss: 0.5394 - mse: 0.5394\n",
      "Epoch 76/100\n",
      "100/100 [==============================] - 0s 294us/sample - loss: 0.5411 - mse: 0.5411\n",
      "Epoch 77/100\n",
      "100/100 [==============================] - 0s 267us/sample - loss: 0.5416 - mse: 0.5416\n",
      "Epoch 78/100\n",
      "100/100 [==============================] - 0s 299us/sample - loss: 0.5413 - mse: 0.5413\n",
      "Epoch 79/100\n",
      "100/100 [==============================] - 0s 271us/sample - loss: 0.5403 - mse: 0.5403\n",
      "Epoch 80/100\n",
      "100/100 [==============================] - 0s 224us/sample - loss: 0.5406 - mse: 0.5406\n",
      "Epoch 81/100\n",
      "100/100 [==============================] - 0s 293us/sample - loss: 0.5402 - mse: 0.5402\n",
      "Epoch 82/100\n"
     ]
    },
    {
     "name": "stdout",
     "output_type": "stream",
     "text": [
      "100/100 [==============================] - 0s 248us/sample - loss: 0.5395 - mse: 0.5395\n",
      "Epoch 83/100\n",
      "100/100 [==============================] - 0s 264us/sample - loss: 0.5402 - mse: 0.5402\n",
      "Epoch 84/100\n",
      "100/100 [==============================] - 0s 292us/sample - loss: 0.5421 - mse: 0.5421\n",
      "Epoch 85/100\n",
      "100/100 [==============================] - 0s 258us/sample - loss: 0.5459 - mse: 0.5459\n",
      "Epoch 86/100\n",
      "100/100 [==============================] - 0s 231us/sample - loss: 0.5410 - mse: 0.5410\n",
      "Epoch 87/100\n",
      "100/100 [==============================] - 0s 221us/sample - loss: 0.5410 - mse: 0.5410\n",
      "Epoch 88/100\n",
      "100/100 [==============================] - 0s 233us/sample - loss: 0.5447 - mse: 0.5447\n",
      "Epoch 89/100\n",
      "100/100 [==============================] - 0s 223us/sample - loss: 0.5446 - mse: 0.5446\n",
      "Epoch 90/100\n",
      "100/100 [==============================] - 0s 273us/sample - loss: 0.5491 - mse: 0.5491\n",
      "Epoch 91/100\n",
      "100/100 [==============================] - 0s 231us/sample - loss: 0.5415 - mse: 0.5415\n",
      "Epoch 92/100\n",
      "100/100 [==============================] - 0s 302us/sample - loss: 0.5429 - mse: 0.5429\n",
      "Epoch 93/100\n",
      "100/100 [==============================] - 0s 207us/sample - loss: 0.5406 - mse: 0.5406\n",
      "Epoch 94/100\n",
      "100/100 [==============================] - 0s 268us/sample - loss: 0.5419 - mse: 0.5419\n",
      "Epoch 95/100\n",
      "100/100 [==============================] - 0s 204us/sample - loss: 0.5416 - mse: 0.5416\n",
      "Epoch 96/100\n",
      "100/100 [==============================] - 0s 257us/sample - loss: 0.5395 - mse: 0.5395\n",
      "Epoch 97/100\n",
      "100/100 [==============================] - 0s 223us/sample - loss: 0.5408 - mse: 0.5408\n",
      "Epoch 98/100\n",
      "100/100 [==============================] - 0s 252us/sample - loss: 0.5426 - mse: 0.5426\n",
      "Epoch 99/100\n",
      "100/100 [==============================] - 0s 264us/sample - loss: 0.5406 - mse: 0.5406\n",
      "Epoch 100/100\n",
      "100/100 [==============================] - 0s 242us/sample - loss: 0.5405 - mse: 0.5405\n"
     ]
    }
   ],
   "source": [
    "history = NEU_OLS.fit(\n",
    "          data_NEU, NEU_targets,\n",
    "          epochs=Epochs)"
   ]
  },
  {
   "cell_type": "code",
   "execution_count": 558,
   "metadata": {},
   "outputs": [
    {
     "data": {
      "text/plain": [
       "(100, 1)"
      ]
     },
     "execution_count": 558,
     "metadata": {},
     "output_type": "execute_result"
    }
   ],
   "source": [
    "# Projection\n",
    "NEU_prediction = NEU_OLS.predict(data_NEU)\n",
    "np.shape(NEU_prediction)"
   ]
  },
  {
   "cell_type": "code",
   "execution_count": 559,
   "metadata": {},
   "outputs": [
    {
     "data": {
      "text/plain": [
       "[<matplotlib.lines.Line2D at 0x7fb25c357cd0>]"
      ]
     },
     "execution_count": 559,
     "metadata": {},
     "output_type": "execute_result"
    },
    {
     "data": {
      "image/png": "[encoded data removed]",
      "text/plain": [
       "<Figure size 960x800 with 1 Axes>"
      ]
     },
     "metadata": {},
     "output_type": "display_data"
    }
   ],
   "source": [
    "# import matplotlib.pyplot as plt\n",
    "# Adjust Figure Details\n",
    "plt.figure(num=None, figsize=(12, 10), dpi=80, facecolor='w', edgecolor='k')\n",
    "\n",
    "# Plot Models\n",
    "plt.plot(data_x,true_y,color='k',label='true',linestyle='--')\n",
    "plt.plot(data_x,NEU_prediction,color='b',label='NEU-OLS')\n",
    "plt.plot(data_x,model_pred_y,color='r',label='NEU-OLS')"
   ]
  },
  {
   "cell_type": "markdown",
   "metadata": {},
   "source": []
  },
  {
   "cell_type": "code",
   "execution_count": null,
   "metadata": {},
   "outputs": [],
   "source": []
  }
 ],
 "metadata": {
  "kernelspec": {
   "display_name": "Python 3",
   "language": "python",
   "name": "python3"
  },
  "language_info": {
   "codemirror_mode": {
    "name": "ipython",
    "version": 3
   },
   "file_extension": ".py",
   "mimetype": "text/x-python",
   "name": "python",
   "nbconvert_exporter": "python",
   "pygments_lexer": "ipython3",
   "version": "3.7.6"
  }
 },
 "nbformat": 4,
 "nbformat_minor": 2
}
