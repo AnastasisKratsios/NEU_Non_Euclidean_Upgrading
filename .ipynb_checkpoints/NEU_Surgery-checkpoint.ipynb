{
 "cells": [
  {
   "cell_type": "code",
   "execution_count": 1,
   "metadata": {},
   "outputs": [
    {
     "name": "stderr",
     "output_type": "stream",
     "text": [
      "Using TensorFlow backend.\n"
     ]
    },
    {
     "name": "stdout",
     "output_type": "stream",
     "text": [
      "TensorFlow: 2.1.0\n"
     ]
    }
   ],
   "source": [
    "# Deep Learning & ML\n",
    "import tensorflow as tf\n",
    "import tensorflow_probability as tfp\n",
    "import keras as K\n",
    "from keras import backend as Kback\n",
    "from keras.models import Sequential\n",
    "from keras import layers\n",
    "from keras import utils as np_utils\n",
    "from scipy import linalg as scila\n",
    "\n",
    "# Linear Regression\n",
    "from sklearn.linear_model import LinearRegression\n",
    "\n",
    "# General\n",
    "import numpy as np\n",
    "import time\n",
    "\n",
    "# Alerts\n",
    "# import tkinter\n",
    "# from tkinter import messagebox\n",
    "import os as beepsnd\n",
    "\n",
    "# General Outputs\n",
    "print('TensorFlow:', tf.__version__)"
   ]
  },
  {
   "cell_type": "code",
   "execution_count": 2,
   "metadata": {},
   "outputs": [
    {
     "data": {
      "text/plain": [
       "<Figure size 640x480 with 1 Axes>"
      ]
     },
     "metadata": {},
     "output_type": "display_data"
    }
   ],
   "source": [
    "N_Reconfigurations = 10**1\n",
    "d = 1 # Dimension of X\n",
    "D = 1 # Dimension of Y\n",
    "\n",
    "# Data Meta-Parameters\n",
    "noise_level = 0.1\n",
    "uncertainty_level= 0.9\n",
    "\n",
    "# Training meta-parameters\n",
    "Epochs = 10**2\n",
    "\n",
    "\n",
    "# Number of Datapoints\n",
    "N_data = 10**2\n",
    "# Unknown Function\n",
    "def unknown_f(x):\n",
    "    return np.sin(x)\n",
    "%run Data_Generator.ipynb"
   ]
  },
  {
   "cell_type": "code",
   "execution_count": 3,
   "metadata": {},
   "outputs": [],
   "source": [
    "# Reshape Data Into Compatible Shape\n",
    "data_x = np.array(data_x).reshape(-1,d)\n",
    "data_y = np.array(data_y)\n",
    "# Perform OLS Regression\n",
    "linear_model = LinearRegression()\n",
    "reg = linear_model.fit(data_x, data_y)\n",
    "model_pred_y = linear_model.predict(data_x)\n",
    "# Map to Graph\n",
    "data_NEU = np.concatenate((data_x,model_pred_y.reshape(-1,D)),1)\n",
    "NEU_targets  = data_y.reshape(-1,D)"
   ]
  },
  {
   "cell_type": "markdown",
   "metadata": {},
   "source": [
    "# Reconfiguration Full"
   ]
  },
  {
   "cell_type": "code",
   "execution_count": 4,
   "metadata": {},
   "outputs": [],
   "source": [
    "#----------------------------#\n",
    "# Define T/F Functions\n",
    "#----------------------------#\n",
    "def bump_True(x):\n",
    "    x_out = 1- tf.math.pow(tf.math.abs(x),2)\n",
    "    x_out = tf.math.exp(-tf.math.divide(1,x_out))\n",
    "    return x_out\n",
    "\n",
    "def bump_False(x):\n",
    "    x_out = 0\n",
    "    return x_out"
   ]
  },
  {
   "cell_type": "code",
   "execution_count": 18,
   "metadata": {},
   "outputs": [],
   "source": [
    "class Reconfiguration_unit_steps(tf.keras.layers.Layer):\n",
    "\n",
    "    def __init__(self, *args, **kwargs):\n",
    "        super(Reconfiguration_unit_steps, self).__init__(*args, **kwargs)\n",
    "\n",
    "    def build(self, input_shape):\n",
    "        self.location = self.add_weight(name='location',\n",
    "                                    shape=input_shape[1:],\n",
    "                                    initializer='GlorotUniform',\n",
    "                                    trainable=True)\n",
    "        self.scale = self.add_weight(name='scale',\n",
    "                                    shape=input_shape[1:],\n",
    "                                    initializer='GlorotUniform',\n",
    "                                    trainable=True)\n",
    "        # Step 3\n",
    "        self.scale_b = self.add_weight(name='scale_b',\n",
    "                            shape=input_shape[1:],\n",
    "                            initializer='GlorotUniform',\n",
    "                            trainable=True)\n",
    "        self.level = self.add_weight(name='level',\n",
    "                            shape=[1],\n",
    "                            initializer='ones',\n",
    "                            trainable=True)\n",
    "        \n",
    "        ## Steps 4-9\n",
    "        self.tangentbiases = self.add_weight(name='tangentbiases',\n",
    "                                    shape=input_shape[1:],\n",
    "                                    initializer='GlorotNormal',\n",
    "                                    trainable=True)\n",
    "        self.tangentweights = self.add_weight(name='tangentweights',\n",
    "                                    shape=input_shape[1:],\n",
    "                                    initializer='GlorotNormal',\n",
    "                                    trainable=True)\n",
    "        self.location_b = self.add_weight(name='location_b',\n",
    "                                    shape=input_shape[1:],\n",
    "                                    initializer='GlorotUniform',\n",
    "                                    trainable=True)\n",
    "\n",
    "\n",
    "\n",
    "    def call(self, input):\n",
    "        ### Steps 1-2\n",
    "        # Relocated\n",
    "        input_relocated = input + self.location\n",
    "        # Rescaled\n",
    "        output_steps_1_2 = tf.math.multiply(tf.math.abs(self.scale),input_relocated)\n",
    "        \n",
    "        ### Step 3\n",
    "        x_in_abs = tf.math.abs(output_steps_1_2) < np.abs(np.random.normal(0,.1,1))\n",
    "        output_steps_1_2 = tf.math.multiply(self.scale_b,output_steps_1_2)\n",
    "        output_step_3 = x_in_abs#tf.where(x_in_abs,bump_True(output_steps_1_2),bump_False(output_steps_1_2))\n",
    "        \n",
    "        ### Step 4-9\n",
    "        x_out = tf.math.multiply(tf.math.abs(self.tangentweights),output_step_3) + self.tangentbiases\n",
    "        \n",
    "        \n",
    "        # 7. Apply Matrix Exponential\n",
    "        x_out = tf.linalg.diag(x_out)\n",
    "        #x_out = tf.linalg.expm(x_out)\n",
    "        x_out = x_out + tf.linalg.matmul(x_out,x_out)/2 + tf.linalg.matmul(x_out,tf.linalg.matmul(x_out,x_out))/6 +tf.linalg.matmul(x_out,tf.linalg.matmul(x_out,tf.linalg.matmul(x_out,x_out)))/24 #+tf.linalg.matmul(x_out,tf.linalg.matmul(x_out,tf.linalg.matmul(x_out,tf.linalg.matmul(x_out,x_out))))/120\n",
    "        \n",
    "        # TEMP: # If things are crashing use this\n",
    "        #x_out = tf.math.exp(x_out)\n",
    "        \n",
    "        # 8. Muliply by output of (1)\n",
    "        x_out = tf.linalg.matvec(x_out,input)\n",
    "        \n",
    "        # 9. Recenter Transformed Data\n",
    "        output_steps_4_9 = x_out + self.location_b\n",
    "        \n",
    "        # Return Output\n",
    "        return output_steps_4_9"
   ]
  },
  {
   "cell_type": "code",
   "execution_count": 19,
   "metadata": {},
   "outputs": [],
   "source": [
    "projection_layer = tf.keras.layers.Lambda(lambda x: x[:, -D:])"
   ]
  },
  {
   "cell_type": "code",
   "execution_count": 20,
   "metadata": {},
   "outputs": [
    {
     "ename": "TypeError",
     "evalue": "in converted code:\n\n    <ipython-input-18-e9644e712a3a>:54 call  *\n        x_out = tf.math.multiply(tf.math.abs(self.tangentweights),output_step_3) + self.tangentbiases\n    /scratch/users/kratsioa/.local/lib/python3.7/site-packages/tensorflow_core/python/util/dispatch.py:180 wrapper\n        return target(*args, **kwargs)\n    /scratch/users/kratsioa/.local/lib/python3.7/site-packages/tensorflow_core/python/ops/math_ops.py:334 multiply\n        return gen_math_ops.mul(x, y, name)\n    /scratch/users/kratsioa/.local/lib/python3.7/site-packages/tensorflow_core/python/ops/gen_math_ops.py:6125 mul\n        \"Mul\", x=x, y=y, name=name)\n    /scratch/users/kratsioa/.local/lib/python3.7/site-packages/tensorflow_core/python/framework/op_def_library.py:504 _apply_op_helper\n        inferred_from[input_arg.type_attr]))\n\n    TypeError: Input 'y' of 'Mul' Op has type bool that does not match type float32 of argument 'x'.\n",
     "output_type": "error",
     "traceback": [
      "\u001b[0;31m---------------------------------------------------------------------------\u001b[0m",
      "\u001b[0;31mTypeError\u001b[0m                                 Traceback (most recent call last)",
      "\u001b[0;32m<ipython-input-20-1c30b57de0db>\u001b[0m in \u001b[0;36m<module>\u001b[0;34m\u001b[0m\n\u001b[1;32m      3\u001b[0m \u001b[0;31m# Steps 1 and 2\u001b[0m\u001b[0;34m\u001b[0m\u001b[0;34m\u001b[0m\u001b[0;34m\u001b[0m\u001b[0m\n\u001b[1;32m      4\u001b[0m \u001b[0mreconfigure\u001b[0m  \u001b[0;34m=\u001b[0m \u001b[0mReconfiguration_unit_steps\u001b[0m\u001b[0;34m(\u001b[0m\u001b[0;34m)\u001b[0m\u001b[0;34m\u001b[0m\u001b[0;34m\u001b[0m\u001b[0m\n\u001b[0;32m----> 5\u001b[0;31m \u001b[0mcurrent_layer\u001b[0m \u001b[0;34m=\u001b[0m \u001b[0mreconfigure\u001b[0m\u001b[0;34m(\u001b[0m\u001b[0minput_layer\u001b[0m\u001b[0;34m)\u001b[0m\u001b[0;34m\u001b[0m\u001b[0;34m\u001b[0m\u001b[0m\n\u001b[0m\u001b[1;32m      6\u001b[0m \u001b[0;31m# Apply Reconfigurations\u001b[0m\u001b[0;34m\u001b[0m\u001b[0;34m\u001b[0m\u001b[0;34m\u001b[0m\u001b[0m\n\u001b[1;32m      7\u001b[0m \u001b[0;32mfor\u001b[0m \u001b[0mi\u001b[0m \u001b[0;32min\u001b[0m \u001b[0mrange\u001b[0m\u001b[0;34m(\u001b[0m\u001b[0;36m10\u001b[0m\u001b[0;34m)\u001b[0m\u001b[0;34m:\u001b[0m\u001b[0;34m\u001b[0m\u001b[0;34m\u001b[0m\u001b[0m\n",
      "\u001b[0;32m~/.local/lib/python3.7/site-packages/tensorflow_core/python/keras/engine/base_layer.py\u001b[0m in \u001b[0;36m__call__\u001b[0;34m(self, inputs, *args, **kwargs)\u001b[0m\n\u001b[1;32m    771\u001b[0m                     not base_layer_utils.is_in_eager_or_tf_function()):\n\u001b[1;32m    772\u001b[0m                   \u001b[0;32mwith\u001b[0m \u001b[0mauto_control_deps\u001b[0m\u001b[0;34m.\u001b[0m\u001b[0mAutomaticControlDependencies\u001b[0m\u001b[0;34m(\u001b[0m\u001b[0;34m)\u001b[0m \u001b[0;32mas\u001b[0m \u001b[0macd\u001b[0m\u001b[0;34m:\u001b[0m\u001b[0;34m\u001b[0m\u001b[0;34m\u001b[0m\u001b[0m\n\u001b[0;32m--> 773\u001b[0;31m                     \u001b[0moutputs\u001b[0m \u001b[0;34m=\u001b[0m \u001b[0mcall_fn\u001b[0m\u001b[0;34m(\u001b[0m\u001b[0mcast_inputs\u001b[0m\u001b[0;34m,\u001b[0m \u001b[0;34m*\u001b[0m\u001b[0margs\u001b[0m\u001b[0;34m,\u001b[0m \u001b[0;34m**\u001b[0m\u001b[0mkwargs\u001b[0m\u001b[0;34m)\u001b[0m\u001b[0;34m\u001b[0m\u001b[0;34m\u001b[0m\u001b[0m\n\u001b[0m\u001b[1;32m    774\u001b[0m                     \u001b[0;31m# Wrap Tensors in `outputs` in `tf.identity` to avoid\u001b[0m\u001b[0;34m\u001b[0m\u001b[0;34m\u001b[0m\u001b[0;34m\u001b[0m\u001b[0m\n\u001b[1;32m    775\u001b[0m                     \u001b[0;31m# circular dependencies.\u001b[0m\u001b[0;34m\u001b[0m\u001b[0;34m\u001b[0m\u001b[0;34m\u001b[0m\u001b[0m\n",
      "\u001b[0;32m~/.local/lib/python3.7/site-packages/tensorflow_core/python/autograph/impl/api.py\u001b[0m in \u001b[0;36mwrapper\u001b[0;34m(*args, **kwargs)\u001b[0m\n\u001b[1;32m    235\u001b[0m       \u001b[0;32mexcept\u001b[0m \u001b[0mException\u001b[0m \u001b[0;32mas\u001b[0m \u001b[0me\u001b[0m\u001b[0;34m:\u001b[0m  \u001b[0;31m# pylint:disable=broad-except\u001b[0m\u001b[0;34m\u001b[0m\u001b[0;34m\u001b[0m\u001b[0m\n\u001b[1;32m    236\u001b[0m         \u001b[0;32mif\u001b[0m \u001b[0mhasattr\u001b[0m\u001b[0;34m(\u001b[0m\u001b[0me\u001b[0m\u001b[0;34m,\u001b[0m \u001b[0;34m'ag_error_metadata'\u001b[0m\u001b[0;34m)\u001b[0m\u001b[0;34m:\u001b[0m\u001b[0;34m\u001b[0m\u001b[0;34m\u001b[0m\u001b[0m\n\u001b[0;32m--> 237\u001b[0;31m           \u001b[0;32mraise\u001b[0m \u001b[0me\u001b[0m\u001b[0;34m.\u001b[0m\u001b[0mag_error_metadata\u001b[0m\u001b[0;34m.\u001b[0m\u001b[0mto_exception\u001b[0m\u001b[0;34m(\u001b[0m\u001b[0me\u001b[0m\u001b[0;34m)\u001b[0m\u001b[0;34m\u001b[0m\u001b[0;34m\u001b[0m\u001b[0m\n\u001b[0m\u001b[1;32m    238\u001b[0m         \u001b[0;32melse\u001b[0m\u001b[0;34m:\u001b[0m\u001b[0;34m\u001b[0m\u001b[0;34m\u001b[0m\u001b[0m\n\u001b[1;32m    239\u001b[0m           \u001b[0;32mraise\u001b[0m\u001b[0;34m\u001b[0m\u001b[0;34m\u001b[0m\u001b[0m\n",
      "\u001b[0;31mTypeError\u001b[0m: in converted code:\n\n    <ipython-input-18-e9644e712a3a>:54 call  *\n        x_out = tf.math.multiply(tf.math.abs(self.tangentweights),output_step_3) + self.tangentbiases\n    /scratch/users/kratsioa/.local/lib/python3.7/site-packages/tensorflow_core/python/util/dispatch.py:180 wrapper\n        return target(*args, **kwargs)\n    /scratch/users/kratsioa/.local/lib/python3.7/site-packages/tensorflow_core/python/ops/math_ops.py:334 multiply\n        return gen_math_ops.mul(x, y, name)\n    /scratch/users/kratsioa/.local/lib/python3.7/site-packages/tensorflow_core/python/ops/gen_math_ops.py:6125 mul\n        \"Mul\", x=x, y=y, name=name)\n    /scratch/users/kratsioa/.local/lib/python3.7/site-packages/tensorflow_core/python/framework/op_def_library.py:504 _apply_op_helper\n        inferred_from[input_arg.type_attr]))\n\n    TypeError: Input 'y' of 'Mul' Op has type bool that does not match type float32 of argument 'x'.\n"
     ]
    }
   ],
   "source": [
    "# Initialize\n",
    "input_layer = tf.keras.Input(shape=[d+D])\n",
    "# Steps 1 and 2\n",
    "reconfigure  = Reconfiguration_unit_steps()\n",
    "current_layer = reconfigure(input_layer)\n",
    "# Apply Reconfigurations\n",
    "for i in range(10):\n",
    "    reconfigure  = Reconfiguration_unit_steps()\n",
    "    current_layer = reconfigure(current_layer)\n",
    "# Map back to R^D\n",
    "output_layer = projection_layer(current_layer)\n",
    "NEU_OLS = tf.keras.Model(inputs=[input_layer], outputs=[output_layer])\n",
    "# Summarize Model\n",
    "NEU_OLS.summary()"
   ]
  },
  {
   "cell_type": "code",
   "execution_count": 8,
   "metadata": {},
   "outputs": [],
   "source": [
    "optimizer_on = tf.keras.optimizers.SGD(learning_rate=10**(-2), momentum=0.01, nesterov=True)\n",
    "\n",
    "\n",
    "NEU_OLS.compile(loss='mse',\n",
    "                optimizer=optimizer_on,\n",
    "                metrics=['mse'])"
   ]
  },
  {
   "cell_type": "code",
   "execution_count": 9,
   "metadata": {},
   "outputs": [
    {
     "name": "stdout",
     "output_type": "stream",
     "text": [
      "Train on 100 samples\n",
      "Epoch 1/100\n",
      "WARNING:tensorflow:Gradients do not exist for variables ['reconfiguration_unit_steps/level:0', 'reconfiguration_unit_steps_1/level:0', 'reconfiguration_unit_steps_2/level:0', 'reconfiguration_unit_steps_3/level:0', 'reconfiguration_unit_steps_4/level:0', 'reconfiguration_unit_steps_5/level:0', 'reconfiguration_unit_steps_6/level:0', 'reconfiguration_unit_steps_7/level:0', 'reconfiguration_unit_steps_8/level:0', 'reconfiguration_unit_steps_9/level:0', 'reconfiguration_unit_steps_10/level:0'] when minimizing the loss.\n",
      "WARNING:tensorflow:Gradients do not exist for variables ['reconfiguration_unit_steps/level:0', 'reconfiguration_unit_steps_1/level:0', 'reconfiguration_unit_steps_2/level:0', 'reconfiguration_unit_steps_3/level:0', 'reconfiguration_unit_steps_4/level:0', 'reconfiguration_unit_steps_5/level:0', 'reconfiguration_unit_steps_6/level:0', 'reconfiguration_unit_steps_7/level:0', 'reconfiguration_unit_steps_8/level:0', 'reconfiguration_unit_steps_9/level:0', 'reconfiguration_unit_steps_10/level:0'] when minimizing the loss.\n",
      "100/100 [==============================] - 6s 55ms/sample - loss: nan - mse: nan\n",
      "Epoch 2/100\n",
      "100/100 [==============================] - 0s 328us/sample - loss: nan - mse: nan\n",
      "Epoch 3/100\n",
      "100/100 [==============================] - 0s 289us/sample - loss: nan - mse: nan\n",
      "Epoch 4/100\n",
      "100/100 [==============================] - 0s 287us/sample - loss: nan - mse: nan\n",
      "Epoch 5/100\n",
      "100/100 [==============================] - 0s 282us/sample - loss: nan - mse: nan\n",
      "Epoch 6/100\n",
      "100/100 [==============================] - 0s 292us/sample - loss: nan - mse: nan\n",
      "Epoch 7/100\n",
      "100/100 [==============================] - 0s 266us/sample - loss: nan - mse: nan\n",
      "Epoch 8/100\n",
      "100/100 [==============================] - 0s 400us/sample - loss: nan - mse: nan\n",
      "Epoch 9/100\n",
      "100/100 [==============================] - 0s 323us/sample - loss: nan - mse: nan\n",
      "Epoch 10/100\n",
      "100/100 [==============================] - 0s 327us/sample - loss: nan - mse: nan\n",
      "Epoch 11/100\n",
      "100/100 [==============================] - 0s 291us/sample - loss: nan - mse: nan\n",
      "Epoch 12/100\n",
      "100/100 [==============================] - 0s 284us/sample - loss: nan - mse: nan\n",
      "Epoch 13/100\n",
      "100/100 [==============================] - 0s 294us/sample - loss: nan - mse: nan\n",
      "Epoch 14/100\n",
      "100/100 [==============================] - 0s 350us/sample - loss: nan - mse: nan\n",
      "Epoch 15/100\n",
      "100/100 [==============================] - 0s 315us/sample - loss: nan - mse: nan\n",
      "Epoch 16/100\n",
      "100/100 [==============================] - 0s 290us/sample - loss: nan - mse: nan\n",
      "Epoch 17/100\n",
      "100/100 [==============================] - 0s 276us/sample - loss: nan - mse: nan\n",
      "Epoch 18/100\n",
      "100/100 [==============================] - 0s 263us/sample - loss: nan - mse: nan\n",
      "Epoch 19/100\n",
      "100/100 [==============================] - 0s 255us/sample - loss: nan - mse: nan\n",
      "Epoch 20/100\n",
      "100/100 [==============================] - 0s 299us/sample - loss: nan - mse: nan\n",
      "Epoch 21/100\n",
      "100/100 [==============================] - 0s 481us/sample - loss: nan - mse: nan\n",
      "Epoch 22/100\n",
      "100/100 [==============================] - 0s 377us/sample - loss: nan - mse: nan\n",
      "Epoch 23/100\n",
      "100/100 [==============================] - 0s 391us/sample - loss: nan - mse: nan\n",
      "Epoch 24/100\n",
      "100/100 [==============================] - 0s 360us/sample - loss: nan - mse: nan\n",
      "Epoch 25/100\n",
      "100/100 [==============================] - 0s 400us/sample - loss: nan - mse: nan\n",
      "Epoch 26/100\n",
      "100/100 [==============================] - 0s 232us/sample - loss: nan - mse: nan\n",
      "Epoch 27/100\n",
      "100/100 [==============================] - 0s 286us/sample - loss: nan - mse: nan\n",
      "Epoch 28/100\n",
      "100/100 [==============================] - 0s 273us/sample - loss: nan - mse: nan\n",
      "Epoch 29/100\n",
      "100/100 [==============================] - 0s 304us/sample - loss: nan - mse: nan\n",
      "Epoch 30/100\n",
      "100/100 [==============================] - 0s 222us/sample - loss: nan - mse: nan\n",
      "Epoch 31/100\n",
      "100/100 [==============================] - 0s 233us/sample - loss: nan - mse: nan\n",
      "Epoch 32/100\n",
      "100/100 [==============================] - 0s 232us/sample - loss: nan - mse: nan\n",
      "Epoch 33/100\n",
      "100/100 [==============================] - 0s 234us/sample - loss: nan - mse: nan\n",
      "Epoch 34/100\n",
      "100/100 [==============================] - 0s 220us/sample - loss: nan - mse: nan\n",
      "Epoch 35/100\n",
      "100/100 [==============================] - 0s 227us/sample - loss: nan - mse: nan\n",
      "Epoch 36/100\n",
      "100/100 [==============================] - 0s 268us/sample - loss: nan - mse: nan\n",
      "Epoch 37/100\n",
      "100/100 [==============================] - 0s 271us/sample - loss: nan - mse: nan\n",
      "Epoch 38/100\n",
      "100/100 [==============================] - 0s 286us/sample - loss: nan - mse: nan\n",
      "Epoch 39/100\n",
      "100/100 [==============================] - 0s 276us/sample - loss: nan - mse: nan\n",
      "Epoch 40/100\n",
      "100/100 [==============================] - 0s 333us/sample - loss: nan - mse: nan\n",
      "Epoch 41/100\n",
      "100/100 [==============================] - 0s 267us/sample - loss: nan - mse: nan\n",
      "Epoch 42/100\n",
      "100/100 [==============================] - 0s 352us/sample - loss: nan - mse: nan\n",
      "Epoch 43/100\n",
      "100/100 [==============================] - 0s 279us/sample - loss: nan - mse: nan\n",
      "Epoch 44/100\n",
      "100/100 [==============================] - 0s 222us/sample - loss: nan - mse: nan\n",
      "Epoch 45/100\n",
      "100/100 [==============================] - 0s 250us/sample - loss: nan - mse: nan\n",
      "Epoch 46/100\n",
      "100/100 [==============================] - 0s 253us/sample - loss: nan - mse: nan\n",
      "Epoch 47/100\n",
      "100/100 [==============================] - 0s 251us/sample - loss: nan - mse: nan\n",
      "Epoch 48/100\n",
      "100/100 [==============================] - 0s 243us/sample - loss: nan - mse: nan\n",
      "Epoch 49/100\n",
      "100/100 [==============================] - 0s 218us/sample - loss: nan - mse: nan\n",
      "Epoch 50/100\n",
      "100/100 [==============================] - 0s 214us/sample - loss: nan - mse: nan\n",
      "Epoch 51/100\n",
      "100/100 [==============================] - 0s 225us/sample - loss: nan - mse: nan\n",
      "Epoch 52/100\n",
      "100/100 [==============================] - 0s 252us/sample - loss: nan - mse: nan\n",
      "Epoch 53/100\n",
      "100/100 [==============================] - 0s 242us/sample - loss: nan - mse: nan\n",
      "Epoch 54/100\n",
      "100/100 [==============================] - 0s 249us/sample - loss: nan - mse: nan\n",
      "Epoch 55/100\n",
      "100/100 [==============================] - 0s 270us/sample - loss: nan - mse: nan\n",
      "Epoch 56/100\n",
      "100/100 [==============================] - 0s 244us/sample - loss: nan - mse: nan\n",
      "Epoch 57/100\n",
      "100/100 [==============================] - 0s 224us/sample - loss: nan - mse: nan\n",
      "Epoch 58/100\n",
      "100/100 [==============================] - 0s 441us/sample - loss: nan - mse: nan\n",
      "Epoch 59/100\n",
      "100/100 [==============================] - 0s 259us/sample - loss: nan - mse: nan\n",
      "Epoch 60/100\n",
      "100/100 [==============================] - 0s 297us/sample - loss: nan - mse: nan\n",
      "Epoch 61/100\n",
      "100/100 [==============================] - 0s 346us/sample - loss: nan - mse: nan\n",
      "Epoch 62/100\n",
      "100/100 [==============================] - 0s 299us/sample - loss: nan - mse: nan\n",
      "Epoch 63/100\n",
      "100/100 [==============================] - 0s 308us/sample - loss: nan - mse: nan\n",
      "Epoch 64/100\n",
      "100/100 [==============================] - 0s 303us/sample - loss: nan - mse: nan\n",
      "Epoch 65/100\n",
      "100/100 [==============================] - 0s 245us/sample - loss: nan - mse: nan\n",
      "Epoch 66/100\n",
      "100/100 [==============================] - 0s 316us/sample - loss: nan - mse: nan\n",
      "Epoch 67/100\n",
      "100/100 [==============================] - 0s 306us/sample - loss: nan - mse: nan\n",
      "Epoch 68/100\n",
      "100/100 [==============================] - 0s 244us/sample - loss: nan - mse: nan\n",
      "Epoch 69/100\n",
      "100/100 [==============================] - 0s 264us/sample - loss: nan - mse: nan\n",
      "Epoch 70/100\n",
      "100/100 [==============================] - 0s 307us/sample - loss: nan - mse: nan\n",
      "Epoch 71/100\n",
      "100/100 [==============================] - 0s 297us/sample - loss: nan - mse: nan\n",
      "Epoch 72/100\n",
      "100/100 [==============================] - 0s 279us/sample - loss: nan - mse: nan\n",
      "Epoch 73/100\n",
      "100/100 [==============================] - 0s 306us/sample - loss: nan - mse: nan\n",
      "Epoch 74/100\n",
      "100/100 [==============================] - 0s 300us/sample - loss: nan - mse: nan\n",
      "Epoch 75/100\n",
      "100/100 [==============================] - 0s 254us/sample - loss: nan - mse: nan\n",
      "Epoch 76/100\n"
     ]
    },
    {
     "name": "stdout",
     "output_type": "stream",
     "text": [
      "100/100 [==============================] - 0s 419us/sample - loss: nan - mse: nan\n",
      "Epoch 77/100\n",
      "100/100 [==============================] - 0s 457us/sample - loss: nan - mse: nan\n",
      "Epoch 78/100\n",
      "100/100 [==============================] - 0s 474us/sample - loss: nan - mse: nan\n",
      "Epoch 79/100\n",
      "100/100 [==============================] - 0s 378us/sample - loss: nan - mse: nan\n",
      "Epoch 80/100\n",
      "100/100 [==============================] - 0s 319us/sample - loss: nan - mse: nan\n",
      "Epoch 81/100\n",
      "100/100 [==============================] - 0s 277us/sample - loss: nan - mse: nan\n",
      "Epoch 82/100\n",
      "100/100 [==============================] - 0s 422us/sample - loss: nan - mse: nan\n",
      "Epoch 83/100\n",
      "100/100 [==============================] - 0s 424us/sample - loss: nan - mse: nan\n",
      "Epoch 84/100\n",
      "100/100 [==============================] - 0s 398us/sample - loss: nan - mse: nan\n",
      "Epoch 85/100\n",
      "100/100 [==============================] - 0s 422us/sample - loss: nan - mse: nan\n",
      "Epoch 86/100\n",
      "100/100 [==============================] - 0s 432us/sample - loss: nan - mse: nan\n",
      "Epoch 87/100\n",
      "100/100 [==============================] - 0s 372us/sample - loss: nan - mse: nan\n",
      "Epoch 88/100\n",
      "100/100 [==============================] - 0s 309us/sample - loss: nan - mse: nan\n",
      "Epoch 89/100\n",
      "100/100 [==============================] - 0s 403us/sample - loss: nan - mse: nan\n",
      "Epoch 90/100\n",
      "100/100 [==============================] - 0s 470us/sample - loss: nan - mse: nan\n",
      "Epoch 91/100\n",
      "100/100 [==============================] - 0s 475us/sample - loss: nan - mse: nan\n",
      "Epoch 92/100\n",
      "100/100 [==============================] - 0s 411us/sample - loss: nan - mse: nan\n",
      "Epoch 93/100\n",
      "100/100 [==============================] - 0s 470us/sample - loss: nan - mse: nan\n",
      "Epoch 94/100\n",
      "100/100 [==============================] - 0s 473us/sample - loss: nan - mse: nan\n",
      "Epoch 95/100\n",
      "100/100 [==============================] - 0s 348us/sample - loss: nan - mse: nan\n",
      "Epoch 96/100\n",
      "100/100 [==============================] - 0s 534us/sample - loss: nan - mse: nan\n",
      "Epoch 97/100\n",
      "100/100 [==============================] - 0s 485us/sample - loss: nan - mse: nan\n",
      "Epoch 98/100\n",
      "100/100 [==============================] - 0s 377us/sample - loss: nan - mse: nan\n",
      "Epoch 99/100\n",
      "100/100 [==============================] - 0s 472us/sample - loss: nan - mse: nan\n",
      "Epoch 100/100\n",
      "100/100 [==============================] - 0s 422us/sample - loss: nan - mse: nan\n"
     ]
    }
   ],
   "source": [
    "history = NEU_OLS.fit(\n",
    "          data_NEU, NEU_targets,\n",
    "          epochs=Epochs)"
   ]
  },
  {
   "cell_type": "code",
   "execution_count": 679,
   "metadata": {},
   "outputs": [
    {
     "data": {
      "text/plain": [
       "(100, 1)"
      ]
     },
     "execution_count": 679,
     "metadata": {},
     "output_type": "execute_result"
    }
   ],
   "source": [
    "# Projection\n",
    "NEU_prediction = NEU_OLS.predict(data_NEU)\n",
    "np.shape(NEU_prediction)"
   ]
  },
  {
   "cell_type": "code",
   "execution_count": 680,
   "metadata": {},
   "outputs": [
    {
     "data": {
      "text/plain": [
       "[<matplotlib.lines.Line2D at 0x7fb264b22910>]"
      ]
     },
     "execution_count": 680,
     "metadata": {},
     "output_type": "execute_result"
    },
    {
     "data": {
      "image/png": "[encoded data removed]",
      "text/plain": [
       "<Figure size 960x800 with 1 Axes>"
      ]
     },
     "metadata": {},
     "output_type": "display_data"
    }
   ],
   "source": [
    "# import matplotlib.pyplot as plt\n",
    "# Adjust Figure Details\n",
    "plt.figure(num=None, figsize=(12, 10), dpi=80, facecolor='w', edgecolor='k')\n",
    "\n",
    "# Plot Models\n",
    "plt.plot(data_x,true_y,color='k',label='true',linestyle='--')\n",
    "plt.plot(data_x,NEU_prediction,color='b',label='NEU-OLS')\n",
    "plt.plot(data_x,model_pred_y,color='r',label='NEU-OLS')"
   ]
  },
  {
   "cell_type": "markdown",
   "metadata": {},
   "source": []
  },
  {
   "cell_type": "code",
   "execution_count": null,
   "metadata": {},
   "outputs": [],
   "source": []
  }
 ],
 "metadata": {
  "kernelspec": {
   "display_name": "Python 3",
   "language": "python",
   "name": "python3"
  },
  "language_info": {
   "codemirror_mode": {
    "name": "ipython",
    "version": 3
   },
   "file_extension": ".py",
   "mimetype": "text/x-python",
   "name": "python",
   "nbconvert_exporter": "python",
   "pygments_lexer": "ipython3",
   "version": "3.7.6"
  }
 },
 "nbformat": 4,
 "nbformat_minor": 2
}
