{
 "cells": [
  {
   "cell_type": "markdown",
   "metadata": {},
   "source": [
    "# Data Generator (Backend)"
   ]
  },
  {
   "cell_type": "markdown",
   "metadata": {},
   "source": [
    "#### Imports"
   ]
  },
  {
   "cell_type": "code",
   "execution_count": 4,
   "metadata": {},
   "outputs": [],
   "source": [
    "import numpy as np\n",
    "import pandas as pd\n",
    "# For Plotting\n",
    "import matplotlib.pyplot as plt\n",
    "# For quick standardization\n",
    "from sklearn.preprocessing import StandardScaler"
   ]
  },
  {
   "cell_type": "code",
   "execution_count": null,
   "metadata": {},
   "outputs": [],
   "source": [
    "# # IndeV\n",
    "# N_data = 10\n",
    "# noise_level = .5\n",
    "# def unknown_f(x):\n",
    "#     return .1*x + .1*(x**2) + np.exp(-np.abs(x)) + np.sin(4*x + x% 2) + x % 1"
   ]
  },
  {
   "cell_type": "markdown",
   "metadata": {},
   "source": [
    "## Generate Data\n",
    "\n",
    "#### Training Data"
   ]
  },
  {
   "cell_type": "code",
   "execution_count": 20,
   "metadata": {},
   "outputs": [],
   "source": [
    "step_size = (1- (-1))/N_data\n",
    "data_x = np.arange(-1,1,step_size)\n",
    "true_y = unknown_f(data_x)\n",
    "data_y = true_y + np.random.normal(0,noise_level,len(true_y))"
   ]
  },
  {
   "cell_type": "markdown",
   "metadata": {},
   "source": [
    "#### Test Data"
   ]
  },
  {
   "cell_type": "code",
   "execution_count": 21,
   "metadata": {},
   "outputs": [],
   "source": [
    "data_x_test = np.arange(-3,3,step_size)\n",
    "data_y_test = unknown_f(data_x_test)"
   ]
  },
  {
   "cell_type": "markdown",
   "metadata": {},
   "source": [
    "### Preprocess\n",
    "\n",
    "Coerce Data into proper shape."
   ]
  },
  {
   "cell_type": "code",
   "execution_count": 22,
   "metadata": {},
   "outputs": [],
   "source": [
    "data_x = pd.DataFrame(data_x)\n",
    "data_x_test = pd.DataFrame(data_x_test)"
   ]
  },
  {
   "cell_type": "markdown",
   "metadata": {},
   "source": [
    "Rescale Data"
   ]
  },
  {
   "cell_type": "code",
   "execution_count": 23,
   "metadata": {},
   "outputs": [],
   "source": [
    "# # Initialize Scaler\n",
    "# sc = StandardScaler()\n",
    "\n",
    "# # # Preprocess Training Data\n",
    "# data_x = sc.fit_transform(data_x)\n",
    "\n",
    "# # Preprocess Test Data\n",
    "# data_x_test = sc.transform(data_x_test)"
   ]
  },
  {
   "cell_type": "markdown",
   "metadata": {},
   "source": [
    "*NEU Format - InDeV*"
   ]
  },
  {
   "cell_type": "code",
   "execution_count": null,
   "metadata": {},
   "outputs": [],
   "source": [
    "data_NEU = np.concatenate((data_x,data_y.reshape(-1,D)),axis = 1)\n",
    "data_NEU_test = np.concatenate((data_x_test,data_y_test.reshape(-1,D)),1)"
   ]
  },
  {
   "cell_type": "markdown",
   "metadata": {},
   "source": [
    "## Plot Data vs. True Function"
   ]
  },
  {
   "cell_type": "code",
   "execution_count": 32,
   "metadata": {},
   "outputs": [
    {
     "data": {
      "image/png": "[encoded data removed]",
      "text/plain": [
       "<Figure size 432x288 with 1 Axes>"
      ]
     },
     "metadata": {
      "needs_background": "light"
     },
     "output_type": "display_data"
    }
   ],
   "source": [
    "# Initialize Plot #\n",
    "#-----------------#\n",
    "plt.figure(num=None, figsize=(12, 10), dpi=80, facecolor='w', edgecolor='k')\n",
    "\n",
    "# Generate Plots #\n",
    "#----------------#\n",
    "plt.plot(np.array(data_x).reshape(-1,),true_y,color='gray',label='true',linestyle='--')\n",
    "plt.scatter(np.array(data_x).reshape(-1,),data_y,color='black',label='observed', marker = '.')\n",
    "\n",
    "# Format Plot #\n",
    "#-------------#\n",
    "plt.legend(loc=\"upper left\")\n",
    "plt.title(\"Data\")\n",
    "plt.show()"
   ]
  },
  {
   "cell_type": "markdown",
   "metadata": {},
   "source": [
    "---"
   ]
  }
 ],
 "metadata": {
  "kernelspec": {
   "display_name": "Python 3",
   "language": "python",
   "name": "python3"
  },
  "language_info": {
   "codemirror_mode": {
    "name": "ipython",
    "version": 3
   },
   "file_extension": ".py",
   "mimetype": "text/x-python",
   "name": "python",
   "nbconvert_exporter": "python",
   "pygments_lexer": "ipython3",
   "version": "3.7.7"
  }
 },
 "nbformat": 4,
 "nbformat_minor": 2
}
