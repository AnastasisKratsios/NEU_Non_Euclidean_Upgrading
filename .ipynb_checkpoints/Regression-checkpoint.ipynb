{
 "cells": [
  {
   "cell_type": "markdown",
   "metadata": {},
   "source": [
    "#### Define Meta-Parameters\n",
    "##### Meta-Parameters"
   ]
  },
  {
   "cell_type": "code",
   "execution_count": 177,
   "metadata": {},
   "outputs": [],
   "source": [
    "N_Reconfigurations = 10**2\n",
    "d = 1 # Dimension of X\n",
    "D = 1 # Dimension of Y\n",
    "\n",
    "# Training meta-parameters\n",
    "Epochs = 10**2"
   ]
  },
  {
   "cell_type": "markdown",
   "metadata": {},
   "source": [
    "##### Simulation Meta-Parameters"
   ]
  },
  {
   "cell_type": "code",
   "execution_count": 178,
   "metadata": {},
   "outputs": [],
   "source": [
    "# Number of Datapoints\n",
    "N_data = 10**3\n",
    "# Unknown Function\n",
    "def unknown_f(x):\n",
    "    return np.sin(x)"
   ]
  },
  {
   "cell_type": "markdown",
   "metadata": {},
   "source": [
    "#### Generate Data"
   ]
  },
  {
   "cell_type": "code",
   "execution_count": 179,
   "metadata": {},
   "outputs": [
    {
     "data": {
      "image/png": "[encoded data removed]",
      "text/plain": [
       "<Figure size 432x288 with 1 Axes>"
      ]
     },
     "metadata": {
      "needs_background": "light"
     },
     "output_type": "display_data"
    }
   ],
   "source": [
    "%run Data_Generator.ipynb # Exectute temporary training Parameters"
   ]
  },
  {
   "cell_type": "code",
   "execution_count": 180,
   "metadata": {},
   "outputs": [],
   "source": [
    "#### Generate NEU-OLS Model"
   ]
  },
  {
   "cell_type": "code",
   "execution_count": 181,
   "metadata": {},
   "outputs": [
    {
     "name": "stdout",
     "output_type": "stream",
     "text": [
      "TensorFlow: 2.1.0\n",
      "Model: \"model_11\"\n",
      "_________________________________________________________________\n",
      "Layer (type)                 Output Shape              Param #   \n",
      "=================================================================\n",
      "input_14 (InputLayer)        (None, 2)                 0         \n",
      "_________________________________________________________________\n",
      "reconfiguration_unit_201 (Re (None, 2)                 10        \n",
      "_________________________________________________________________\n",
      "reconfiguration_unit_202 (Re (None, 2)                 10        \n",
      "_________________________________________________________________\n",
      "reconfiguration_unit_203 (Re (None, 2)                 10        \n",
      "_________________________________________________________________\n",
      "reconfiguration_unit_204 (Re (None, 2)                 10        \n",
      "_________________________________________________________________\n",
      "reconfiguration_unit_205 (Re (None, 2)                 10        \n",
      "_________________________________________________________________\n",
      "reconfiguration_unit_206 (Re (None, 2)                 10        \n",
      "_________________________________________________________________\n",
      "reconfiguration_unit_207 (Re (None, 2)                 10        \n",
      "_________________________________________________________________\n",
      "reconfiguration_unit_208 (Re (None, 2)                 10        \n",
      "_________________________________________________________________\n",
      "reconfiguration_unit_209 (Re (None, 2)                 10        \n",
      "_________________________________________________________________\n",
      "reconfiguration_unit_210 (Re (None, 2)                 10        \n",
      "_________________________________________________________________\n",
      "reconfiguration_unit_211 (Re (None, 2)                 10        \n",
      "_________________________________________________________________\n",
      "reconfiguration_unit_212 (Re (None, 2)                 10        \n",
      "_________________________________________________________________\n",
      "reconfiguration_unit_213 (Re (None, 2)                 10        \n",
      "_________________________________________________________________\n",
      "reconfiguration_unit_214 (Re (None, 2)                 10        \n",
      "_________________________________________________________________\n",
      "reconfiguration_unit_215 (Re (None, 2)                 10        \n",
      "_________________________________________________________________\n",
      "reconfiguration_unit_216 (Re (None, 2)                 10        \n",
      "_________________________________________________________________\n",
      "reconfiguration_unit_217 (Re (None, 2)                 10        \n",
      "_________________________________________________________________\n",
      "reconfiguration_unit_218 (Re (None, 2)                 10        \n",
      "_________________________________________________________________\n",
      "reconfiguration_unit_219 (Re (None, 2)                 10        \n",
      "_________________________________________________________________\n",
      "reconfiguration_unit_220 (Re (None, 2)                 10        \n",
      "_________________________________________________________________\n",
      "reconfiguration_unit_221 (Re (None, 2)                 10        \n",
      "_________________________________________________________________\n",
      "reconfiguration_unit_222 (Re (None, 2)                 10        \n",
      "_________________________________________________________________\n",
      "reconfiguration_unit_223 (Re (None, 2)                 10        \n",
      "_________________________________________________________________\n",
      "reconfiguration_unit_224 (Re (None, 2)                 10        \n",
      "_________________________________________________________________\n",
      "reconfiguration_unit_225 (Re (None, 2)                 10        \n",
      "_________________________________________________________________\n",
      "reconfiguration_unit_226 (Re (None, 2)                 10        \n",
      "_________________________________________________________________\n",
      "reconfiguration_unit_227 (Re (None, 2)                 10        \n",
      "_________________________________________________________________\n",
      "reconfiguration_unit_228 (Re (None, 2)                 10        \n",
      "_________________________________________________________________\n",
      "reconfiguration_unit_229 (Re (None, 2)                 10        \n",
      "_________________________________________________________________\n",
      "reconfiguration_unit_230 (Re (None, 2)                 10        \n",
      "_________________________________________________________________\n",
      "reconfiguration_unit_231 (Re (None, 2)                 10        \n",
      "_________________________________________________________________\n",
      "reconfiguration_unit_232 (Re (None, 2)                 10        \n",
      "_________________________________________________________________\n",
      "reconfiguration_unit_233 (Re (None, 2)                 10        \n",
      "_________________________________________________________________\n",
      "reconfiguration_unit_234 (Re (None, 2)                 10        \n",
      "_________________________________________________________________\n",
      "reconfiguration_unit_235 (Re (None, 2)                 10        \n",
      "_________________________________________________________________\n",
      "reconfiguration_unit_236 (Re (None, 2)                 10        \n",
      "_________________________________________________________________\n",
      "reconfiguration_unit_237 (Re (None, 2)                 10        \n",
      "_________________________________________________________________\n",
      "reconfiguration_unit_238 (Re (None, 2)                 10        \n",
      "_________________________________________________________________\n",
      "reconfiguration_unit_239 (Re (None, 2)                 10        \n",
      "_________________________________________________________________\n",
      "reconfiguration_unit_240 (Re (None, 2)                 10        \n",
      "_________________________________________________________________\n",
      "reconfiguration_unit_241 (Re (None, 2)                 10        \n",
      "_________________________________________________________________\n",
      "reconfiguration_unit_242 (Re (None, 2)                 10        \n",
      "_________________________________________________________________\n",
      "reconfiguration_unit_243 (Re (None, 2)                 10        \n",
      "_________________________________________________________________\n",
      "reconfiguration_unit_244 (Re (None, 2)                 10        \n",
      "_________________________________________________________________\n",
      "reconfiguration_unit_245 (Re (None, 2)                 10        \n",
      "_________________________________________________________________\n",
      "reconfiguration_unit_246 (Re (None, 2)                 10        \n",
      "_________________________________________________________________\n",
      "reconfiguration_unit_247 (Re (None, 2)                 10        \n",
      "_________________________________________________________________\n",
      "reconfiguration_unit_248 (Re (None, 2)                 10        \n",
      "_________________________________________________________________\n",
      "reconfiguration_unit_249 (Re (None, 2)                 10        \n",
      "_________________________________________________________________\n",
      "reconfiguration_unit_250 (Re (None, 2)                 10        \n",
      "_________________________________________________________________\n",
      "reconfiguration_unit_251 (Re (None, 2)                 10        \n",
      "_________________________________________________________________\n",
      "reconfiguration_unit_252 (Re (None, 2)                 10        \n",
      "_________________________________________________________________\n",
      "reconfiguration_unit_253 (Re (None, 2)                 10        \n",
      "_________________________________________________________________\n",
      "reconfiguration_unit_254 (Re (None, 2)                 10        \n",
      "_________________________________________________________________\n",
      "reconfiguration_unit_255 (Re (None, 2)                 10        \n",
      "_________________________________________________________________\n",
      "reconfiguration_unit_256 (Re (None, 2)                 10        \n",
      "_________________________________________________________________\n",
      "reconfiguration_unit_257 (Re (None, 2)                 10        \n",
      "_________________________________________________________________\n",
      "reconfiguration_unit_258 (Re (None, 2)                 10        \n",
      "_________________________________________________________________\n",
      "reconfiguration_unit_259 (Re (None, 2)                 10        \n",
      "_________________________________________________________________\n",
      "reconfiguration_unit_260 (Re (None, 2)                 10        \n",
      "_________________________________________________________________\n",
      "reconfiguration_unit_261 (Re (None, 2)                 10        \n",
      "_________________________________________________________________\n",
      "reconfiguration_unit_262 (Re (None, 2)                 10        \n",
      "_________________________________________________________________\n",
      "reconfiguration_unit_263 (Re (None, 2)                 10        \n",
      "_________________________________________________________________\n",
      "reconfiguration_unit_264 (Re (None, 2)                 10        \n",
      "_________________________________________________________________\n",
      "reconfiguration_unit_265 (Re (None, 2)                 10        \n",
      "_________________________________________________________________\n",
      "reconfiguration_unit_266 (Re (None, 2)                 10        \n",
      "_________________________________________________________________\n",
      "reconfiguration_unit_267 (Re (None, 2)                 10        \n",
      "_________________________________________________________________\n",
      "reconfiguration_unit_268 (Re (None, 2)                 10        \n",
      "_________________________________________________________________\n",
      "reconfiguration_unit_269 (Re (None, 2)                 10        \n",
      "_________________________________________________________________\n",
      "reconfiguration_unit_270 (Re (None, 2)                 10        \n",
      "_________________________________________________________________\n",
      "reconfiguration_unit_271 (Re (None, 2)                 10        \n",
      "_________________________________________________________________\n",
      "reconfiguration_unit_272 (Re (None, 2)                 10        \n",
      "_________________________________________________________________\n",
      "reconfiguration_unit_273 (Re (None, 2)                 10        \n",
      "_________________________________________________________________\n",
      "reconfiguration_unit_274 (Re (None, 2)                 10        \n",
      "_________________________________________________________________\n",
      "reconfiguration_unit_275 (Re (None, 2)                 10        \n",
      "_________________________________________________________________\n",
      "reconfiguration_unit_276 (Re (None, 2)                 10        \n",
      "_________________________________________________________________\n",
      "reconfiguration_unit_277 (Re (None, 2)                 10        \n",
      "_________________________________________________________________\n",
      "reconfiguration_unit_278 (Re (None, 2)                 10        \n",
      "_________________________________________________________________\n",
      "reconfiguration_unit_279 (Re (None, 2)                 10        \n",
      "_________________________________________________________________\n",
      "reconfiguration_unit_280 (Re (None, 2)                 10        \n",
      "_________________________________________________________________\n",
      "reconfiguration_unit_281 (Re (None, 2)                 10        \n",
      "_________________________________________________________________\n",
      "reconfiguration_unit_282 (Re (None, 2)                 10        \n",
      "_________________________________________________________________\n",
      "reconfiguration_unit_283 (Re (None, 2)                 10        \n",
      "_________________________________________________________________\n",
      "reconfiguration_unit_284 (Re (None, 2)                 10        \n",
      "_________________________________________________________________\n",
      "reconfiguration_unit_285 (Re (None, 2)                 10        \n",
      "_________________________________________________________________\n",
      "reconfiguration_unit_286 (Re (None, 2)                 10        \n",
      "_________________________________________________________________\n",
      "reconfiguration_unit_287 (Re (None, 2)                 10        \n",
      "_________________________________________________________________\n",
      "reconfiguration_unit_288 (Re (None, 2)                 10        \n",
      "_________________________________________________________________\n",
      "reconfiguration_unit_289 (Re (None, 2)                 10        \n",
      "_________________________________________________________________\n",
      "reconfiguration_unit_290 (Re (None, 2)                 10        \n",
      "_________________________________________________________________\n",
      "reconfiguration_unit_291 (Re (None, 2)                 10        \n",
      "_________________________________________________________________\n",
      "reconfiguration_unit_292 (Re (None, 2)                 10        \n",
      "_________________________________________________________________\n",
      "reconfiguration_unit_293 (Re (None, 2)                 10        \n",
      "_________________________________________________________________\n",
      "reconfiguration_unit_294 (Re (None, 2)                 10        \n",
      "_________________________________________________________________\n",
      "reconfiguration_unit_295 (Re (None, 2)                 10        \n",
      "_________________________________________________________________\n",
      "reconfiguration_unit_296 (Re (None, 2)                 10        \n",
      "_________________________________________________________________\n",
      "reconfiguration_unit_297 (Re (None, 2)                 10        \n",
      "_________________________________________________________________\n",
      "reconfiguration_unit_298 (Re (None, 2)                 10        \n",
      "_________________________________________________________________\n",
      "reconfiguration_unit_299 (Re (None, 2)                 10        \n",
      "_________________________________________________________________\n",
      "reconfiguration_unit_300 (Re (None, 2)                 10        \n",
      "_________________________________________________________________\n",
      "reconfiguration_unit_301 (Re (None, 2)                 10        \n",
      "_________________________________________________________________\n",
      "lambda_11 (Lambda)           (None, 1)                 0         \n",
      "=================================================================\n",
      "Total params: 1,010\n",
      "Trainable params: 1,010\n",
      "Non-trainable params: 0\n",
      "_________________________________________________________________\n",
      "Model: NEU_OLS Compiled!!!: NEU-OLS Backend - Complete\n"
     ]
    }
   ],
   "source": [
    "# Initialize and Compile NEU\n",
    "%run NEU_Backend.ipynb"
   ]
  },
  {
   "cell_type": "markdown",
   "metadata": {},
   "source": [
    "### Compile NEU_OLS"
   ]
  },
  {
   "cell_type": "code",
   "execution_count": 182,
   "metadata": {},
   "outputs": [],
   "source": [
    "NEU_OLS.compile(loss='mse',\n",
    "                optimizer=\"SGD\",\n",
    "                metrics=['mae', 'mse'])"
   ]
  },
  {
   "cell_type": "markdown",
   "metadata": {},
   "source": [
    "### Fit NEU OLS"
   ]
  },
  {
   "cell_type": "code",
   "execution_count": null,
   "metadata": {},
   "outputs": [],
   "source": [
    "# Fit \n",
    "history = NEU_OLS.fit(\n",
    "  data_NEU, data_y,\n",
    "  epochs=Epochs)"
   ]
  },
  {
   "cell_type": "code",
   "execution_count": null,
   "metadata": {},
   "outputs": [],
   "source": [
    "NEU_prediction = NEU_OLS.predict(data_NEU)"
   ]
  },
  {
   "cell_type": "code",
   "execution_count": null,
   "metadata": {},
   "outputs": [],
   "source": [
    "# Plot Models\n",
    "plt.plot(data_x,true_y,color='k',label='true',linestyle='--')\n",
    "plt.plot(data_x,NEU_prediction,color='g',label='NEU-OLS')\n",
    "plt.plot(data_x,model_pred_y,color='r',label='OLS')\n",
    "\n",
    "# Add Legends\n",
    "plt.scatter(data_x,data_y,color='g',label='observed')\n",
    "plt.legend(loc=\"upper left\")\n",
    "plt.title(\"TEST\")\n",
    "plt.show()"
   ]
  },
  {
   "cell_type": "code",
   "execution_count": null,
   "metadata": {},
   "outputs": [],
   "source": []
  }
 ],
 "metadata": {
  "kernelspec": {
   "display_name": "Python 3",
   "language": "python",
   "name": "python3"
  },
  "language_info": {
   "codemirror_mode": {
    "name": "ipython",
    "version": 3
   },
   "file_extension": ".py",
   "mimetype": "text/x-python",
   "name": "python",
   "nbconvert_exporter": "python",
   "pygments_lexer": "ipython3",
   "version": "3.7.6"
  }
 },
 "nbformat": 4,
 "nbformat_minor": 2
}
