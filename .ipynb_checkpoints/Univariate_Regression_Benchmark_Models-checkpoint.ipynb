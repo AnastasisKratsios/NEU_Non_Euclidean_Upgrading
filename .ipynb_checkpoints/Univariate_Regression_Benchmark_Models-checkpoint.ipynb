{
 "cells": [
  {
   "cell_type": "code",
   "execution_count": 4,
   "metadata": {},
   "outputs": [],
   "source": [
    "# ## ONLY FOR Testing purpouses... run from MAIN_NEU_OLS_Interface otherwise...\n",
    "\n",
    "\n",
    "# import tensorflow as tf\n",
    "# ### TEMP\n",
    "\n",
    "# N_Reconfigurations = 30\n",
    "# d = 1 # Dimension of X\n",
    "# D = 1 # Dimension of Y\n",
    "# Params_per_layer = 10\n",
    "\n",
    "# # Data Meta-Parameters\n",
    "# noise_level = 0.1\n",
    "# uncertainty_level= 0.9\n",
    "\n",
    "# # Training meta-parameters\n",
    "# Pre_Epochs = 10**2\n",
    "# Full_Epochs = 200\n",
    "\n",
    "\n",
    "# # Number of Datapoints\n",
    "# N_data = 10**2\n",
    "# Train_step_proportion = .3\n",
    "\n",
    "# # Unknown Function\n",
    "# def unknown_f(x):\n",
    "#     return np.sin(x) + (x % 2) + np.exp(-x)\n",
    "\n",
    "# # Generate Data\n",
    "# %run Data_Generator.ipynb"
   ]
  },
  {
   "cell_type": "markdown",
   "metadata": {},
   "source": [
    "Formal data for R-esque style."
   ]
  },
  {
   "cell_type": "code",
   "execution_count": 28,
   "metadata": {},
   "outputs": [],
   "source": [
    "# Training Data\n",
    "data_y_vec = np.array(data_y)\n",
    "data_x_vec = np.array(data_x).reshape(-1,)\n",
    "\n",
    "# Testing Data\n",
    "data_y_test_vec = np.array(data_y_test)\n",
    "data_x_test_vec = np.array(data_x_test).reshape(-1,)"
   ]
  },
  {
   "cell_type": "markdown",
   "metadata": {},
   "source": [
    "#### Regression Benchmark Models\n",
    "1. LOWESS\n",
    "2. Smothing Splines\n",
    "3. Deep feed-forward Neural Networks\n",
    "\n",
    "### Imports"
   ]
  },
  {
   "cell_type": "code",
   "execution_count": 18,
   "metadata": {},
   "outputs": [],
   "source": [
    "import numpy as np\n",
    "import matplotlib.pyplot as plt"
   ]
  },
  {
   "cell_type": "markdown",
   "metadata": {},
   "source": [
    "## LOWESS"
   ]
  },
  {
   "cell_type": "markdown",
   "metadata": {},
   "source": [
    "#### Imports for Lowess"
   ]
  },
  {
   "cell_type": "code",
   "execution_count": 19,
   "metadata": {},
   "outputs": [],
   "source": [
    "import statsmodels.api as sm"
   ]
  },
  {
   "cell_type": "markdown",
   "metadata": {},
   "source": [
    "Perform Lowess Regression"
   ]
  },
  {
   "cell_type": "code",
   "execution_count": 20,
   "metadata": {},
   "outputs": [],
   "source": [
    "LOESS = sm.nonparametric.lowess\n",
    "f_hat_LOESS = LOESS(data_y_vec,data_x_vec.reshape(-1,))\n",
    "LOESS_x = list(zip(*f_hat_LOESS))[0]\n",
    "f_hat_LOESS = list(zip(*f_hat_LOESS))[1]"
   ]
  },
  {
   "cell_type": "markdown",
   "metadata": {},
   "source": [
    "## Smoothing Splines"
   ]
  },
  {
   "cell_type": "markdown",
   "metadata": {},
   "source": [
    "#### Imports for Smoothing Splines\n",
    "This next module calls R functions directly, since smoothing splines is well-developed there *(at the moment)* but not so much so in Python."
   ]
  },
  {
   "cell_type": "code",
   "execution_count": 21,
   "metadata": {},
   "outputs": [],
   "source": [
    "import rpy2.robjects as robjects"
   ]
  },
  {
   "cell_type": "markdown",
   "metadata": {},
   "source": [
    "Perform Smoothing Splines Regression"
   ]
  },
  {
   "cell_type": "code",
   "execution_count": 22,
   "metadata": {},
   "outputs": [],
   "source": [
    "import rpy2.robjects as robjects # Work directly from R (since smoothing splines packages is better)\n",
    "r_y = robjects.FloatVector(data_y_vec)\n",
    "r_x = robjects.FloatVector(data_x_vec)\n",
    "\n",
    "r_smooth_spline = robjects.r['smooth.spline'] #extract R function# run smoothing function\n",
    "spline1 = r_smooth_spline(x=r_x, y=r_y, spar=0.7)\n",
    "f_hat_smoothing_splines=np.array(robjects.r['predict'](spline1,robjects.FloatVector(data_x_vec)).rx2('y'))"
   ]
  },
  {
   "cell_type": "markdown",
   "metadata": {},
   "source": [
    "# Kernel Regression"
   ]
  },
  {
   "cell_type": "code",
   "execution_count": null,
   "metadata": {},
   "outputs": [],
   "source": []
  },
  {
   "cell_type": "markdown",
   "metadata": {},
   "source": [
    "### Generate: Train-Set Predictions"
   ]
  },
  {
   "cell_type": "code",
   "execution_count": 29,
   "metadata": {},
   "outputs": [],
   "source": [
    "# Splines\n",
    "f_hat_smoothing_splines_train=np.array(robjects.r['predict'](spline1,robjects.FloatVector(data_x_vec)).rx2('y'))\n",
    "\n",
    "# Feed-forward Neural Network\n",
    "# ffNN_prediction_test = ffNN.predict(data_x_test)\n",
    "\n",
    "# LOESS\n",
    "from scipy.interpolate import interp1d\n",
    "f = interp1d(LOESS_x, f_hat_LOESS, bounds_error=False)\n",
    "LOESS_prediction_train = f(data_x_vec)\n",
    "LOESS_prediction_train = np.nan_to_num(LOESS_prediction_train)"
   ]
  },
  {
   "cell_type": "markdown",
   "metadata": {},
   "source": [
    "### Generate: Test-Set Predictions"
   ]
  },
  {
   "cell_type": "code",
   "execution_count": 29,
   "metadata": {},
   "outputs": [],
   "source": [
    "# Splines\n",
    "f_hat_smoothing_splines_test=np.array(robjects.r['predict'](spline1,robjects.FloatVector(data_x_test_vec)).rx2('y'))\n",
    "\n",
    "# Feed-forward Neural Network\n",
    "# ffNN_prediction_test = ffNN.predict(data_x_test)\n",
    "\n",
    "# LOESS\n",
    "from scipy.interpolate import interp1d\n",
    "f = interp1d(LOESS_x, f_hat_LOESS, bounds_error=False)\n",
    "LOESS_prediction_test = f(data_x_test_vec)\n",
    "LOESS_prediction_test = np.nan_to_num(LOESS_prediction_test)"
   ]
  }
 ],
 "metadata": {
  "kernelspec": {
   "display_name": "Python 3",
   "language": "python",
   "name": "python3"
  },
  "language_info": {
   "codemirror_mode": {
    "name": "ipython",
    "version": 3
   },
   "file_extension": ".py",
   "mimetype": "text/x-python",
   "name": "python",
   "nbconvert_exporter": "python",
   "pygments_lexer": "ipython3",
   "version": "3.7.7"
  }
 },
 "nbformat": 4,
 "nbformat_minor": 2
}
