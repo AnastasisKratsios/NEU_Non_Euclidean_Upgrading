{
 "cells": [
  {
   "cell_type": "code",
   "execution_count": null,
   "metadata": {},
   "outputs": [],
   "source": [
    "# Apply Reconfiguration Unit\n",
    "input_layer_temp = tf.keras.Input(shape=[d+D])\n",
    "reconfigure = Reconfiguration_unit_steps()\n",
    "current_layer_temp = reconfigure(input_layer_temp)\n",
    "# Output\n",
    "output_layer_temp = projection_layer(current_layer_temp)\n",
    "# Build Model\n",
    "model_new_temp = tf.keras.Model(inputs = [input_layer_temp],outputs = [output_layer_temp])\n",
    "# Compile Model\n",
    "model_new_temp.compile(loss = 'mse',\n",
    "                optimizer = optimizer_on,\n",
    "                metrics = ['mse'])\n",
    "\n",
    "\n",
    "\n",
    "# ## Combine Models\n",
    "## Apply Reconfiguration Unit\n",
    "input_layer = tf.keras.Input(shape=[d+D])\n",
    "# Apply Reconfiguration Unit\n",
    "# current_layer = model._layers.pop()(input_layer)\n",
    "# # Output\n",
    "# current_layer = model_new_temp(current_layer)\n",
    "# output_layer = projection_layer(current_layer)\n",
    "\n",
    "# model_new = tf.keras.Model(inputs = [input_layer],outputs = output_layer)\n",
    "\n",
    "model.summary()\n",
    "#model_new_temp.summary()\n",
    "#current_layer"
   ]
  }
 ],
 "metadata": {
  "kernelspec": {
   "display_name": "Python 3",
   "language": "python",
   "name": "python3"
  },
  "language_info": {
   "codemirror_mode": {
    "name": "ipython",
    "version": 3
   },
   "file_extension": ".py",
   "mimetype": "text/x-python",
   "name": "python",
   "nbconvert_exporter": "python",
   "pygments_lexer": "ipython3",
   "version": "3.7.6"
  }
 },
 "nbformat": 4,
 "nbformat_minor": 2
}
