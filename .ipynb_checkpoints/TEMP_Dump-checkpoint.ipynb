{
 "cells": [
  {
   "cell_type": "code",
   "execution_count": 6,
   "metadata": {},
   "outputs": [
    {
     "name": "stdout",
     "output_type": "stream",
     "text": [
      "TensorFlow: 2.1.0\n"
     ]
    }
   ],
   "source": [
    "# Deep Learning & ML\n",
    "import tensorflow as tf\n",
    "import tensorflow_probability as tfp\n",
    "import keras as K\n",
    "from keras import backend as Kback\n",
    "from keras.models import Sequential\n",
    "from keras import layers\n",
    "from keras import utils as np_utils\n",
    "\n",
    "# Linear Regression\n",
    "from sklearn.linear_model import LinearRegression\n",
    "\n",
    "# General\n",
    "import numpy as np\n",
    "import time\n",
    "\n",
    "# Alerts\n",
    "# import tkinter\n",
    "# from tkinter import messagebox\n",
    "import os as beepsnd\n",
    "\n",
    "# General Outputs\n",
    "print('TensorFlow:', tf.__version__)"
   ]
  },
  {
   "cell_type": "code",
   "execution_count": 7,
   "metadata": {},
   "outputs": [
    {
     "data": {
      "text/plain": [
       "<Figure size 640x480 with 1 Axes>"
      ]
     },
     "metadata": {},
     "output_type": "display_data"
    }
   ],
   "source": []
  },
  {
   "cell_type": "code",
   "execution_count": null,
   "metadata": {},
   "outputs": [],
   "source": [
    "class Reconfiguration_unit(tf.keras.layers.Layer):\n",
    "    def __init__(self, *args, **kwargs):\n",
    "        super(Reconfiguration_unit, self).__init__(*args, **kwargs)\n",
    "\n",
    "    def build(self, input_shape):\n",
    "        self.weight = self.add_weight(shape=[input_shape[1],input_shape[1]], # CURRENTLY NOT A MATRIX FIX THIS!!!\n",
    "                                    initializer='ones',\n",
    "                                    trainable=True)\n",
    "        self.bias = self.add_weight(shape=input_shape[1:],\n",
    "                                    initializer='ones',\n",
    "                                    trainable=True)\n",
    "        self.location = self.add_weight(shape=input_shape[1:],\n",
    "                                    initializer='ones',\n",
    "                                    trainable=True)\n",
    "        self.location_b = self.add_weight(shape=input_shape[1:],\n",
    "                                    initializer='ones',\n",
    "                                    trainable=True)\n",
    "        self.scale = self.add_weight(shape=input_shape[1:],\n",
    "                                    initializer='ones',\n",
    "                                    trainable=True)\n",
    "        \n",
    "        \n",
    "        \n",
    "    def call(self, x):\n",
    "        # 1. Shift and scale data\n",
    "        x_shift = x - self.location\n",
    "        \n",
    "        # 2. Rescale componentwise\n",
    "        x_mod = tf.math.multiply(x_shift,self.scale)\n",
    "        \n",
    "        # 3. Apply bumpy function Component-wise\n",
    "        x_in_abs = tf.math.abs(x_mod)\n",
    "        Logic_x_leq1 = tf.math.sign(tf.keras.activations.relu(1-x_in_abs)) # Takes value 1 iff |x|<=1 else 0: since probability of |x|=1 is 0 we should be ok\n",
    "        x_thresheld = Logic_x_leq1*tf.math.exp(-1/(1-tf.math.pow(x_in_abs,-1))) # Computes bump function at thresholds with previous logic\n",
    "        \n",
    "        # 4+5. Apply Shift (In Tangent Space) and diagonalize\n",
    "        x_out = tf.expand_dims((x_in_abs + self.bias), 1) \n",
    "        \n",
    "        # 6. Multiply by weight matrix (in Tangent Space)\n",
    "        x_out = (x_out * self.weight) \n",
    "        \n",
    "        # 7. Apply Matrix Exponential\n",
    "        x_out = tf.linalg.expm(x_out)\n",
    "        \n",
    "        # 8. Muliply by output of (1)\n",
    "        x_out = tf.linalg.matvec(x_out,x_shift)\n",
    "        \n",
    "        # 9. Recenter Transformed Data\n",
    "        x_out = x_out + self.location_b\n",
    "        \n",
    "        # Return Ouput\n",
    "        return x_out"
   ]
  },
  {
   "cell_type": "code",
   "execution_count": null,
   "metadata": {},
   "outputs": [],
   "source": [
    "weight = tf.random.normal(shape = [d+D,d+D], mean = 0, stddev = 0.1)\n",
    "bias = tf.random.normal(shape = [d+D,d+D], mean = 0, stddev = 0.1)\n",
    "location = tf.ones(d+D)\n",
    "location_b = -location\n",
    "scale = tf.random.uniform(shape = [d+D], minval = (10**-5), maxval = (10**-1))\n",
    "x = data_NEU[:1]"
   ]
  },
  {
   "cell_type": "code",
   "execution_count": null,
   "metadata": {},
   "outputs": [],
   "source": [
    "# 1. Shift and scale data\n",
    "x_shift = x - location\n",
    "\n",
    "# 2. Rescale componentwise\n",
    "x_mod = tf.math.multiply(x_shift,scale)\n",
    "\n",
    "# 3. Apply bumpy function Component-wise\n",
    "x_in_abs = tf.math.abs(x_mod)\n",
    "Logic_x_leq1 = tf.math.sign(tf.keras.activations.relu(1-x_in_abs)) # Takes value 1 iff |x|<=1 else 0: since probability of |x|=1 is 0 we should be ok\n",
    "x_thresheld = Logic_x_leq1*tf.math.exp(-1/(1-tf.math.pow(x_in_abs,-1))) # Computes bump function at thresholds with previous logic\n",
    "\n",
    "# 4+5. Apply Shift (In Tangent Space) and diagonalize\n",
    "x_out = tf.linalg.diag(x_thresheld) + bias\n",
    "\n",
    "# 6. Multiply by weight matrix (in Tangent Space)\n",
    "x_out = tf.matmul(x_out,weight)\n",
    "\n",
    "# 7. Apply Matrix Exponential\n",
    "x_out = tf.linalg.expm(x_out)\n",
    "  \n",
    "# 8. Muliply by output of (1)\n",
    "x_out = tf.linalg.matvec(x_out,x_shift)\n",
    "\n",
    "# 9. Recenter Transformed Data\n",
    "x_out = x_out + location_b\n",
    "\n",
    "x_out"
   ]
  },
  {
   "cell_type": "code",
   "execution_count": 3,
   "metadata": {},
   "outputs": [],
   "source": []
  },
  {
   "cell_type": "code",
   "execution_count": null,
   "metadata": {},
   "outputs": [],
   "source": []
  }
 ],
 "metadata": {
  "kernelspec": {
   "display_name": "Python 3",
   "language": "python",
   "name": "python3"
  },
  "language_info": {
   "codemirror_mode": {
    "name": "ipython",
    "version": 3
   },
   "file_extension": ".py",
   "mimetype": "text/x-python",
   "name": "python",
   "nbconvert_exporter": "python",
   "pygments_lexer": "ipython3",
   "version": "3.7.6"
  }
 },
 "nbformat": 4,
 "nbformat_minor": 2
}
