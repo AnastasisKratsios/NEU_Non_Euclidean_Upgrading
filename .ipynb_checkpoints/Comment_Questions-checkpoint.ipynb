{
 "cells": [
  {
   "cell_type": "markdown",
   "metadata": {},
   "source": [
    "# Todo:\n",
    "1. Add initializations & details to trainable parameters in reconfiguration!"
   ]
  },
  {
   "cell_type": "markdown",
   "metadata": {},
   "source": [
    "#### Temporary Training Parameters"
   ]
  },
  {
   "cell_type": "code",
   "execution_count": 20,
   "metadata": {},
   "outputs": [],
   "source": [
    "import numpy as np\n",
    "import tensorflow as tf\n",
    "import matplotlib.pyplot as plt\n",
    "from numpy import random\n",
    "\n",
    "# TEMPORARY FOR TESTING LALALA\n",
    "# TEMP - Tesing DUMP\n",
    "x_test = np.array([1,-2,.3,-.1])\n",
    "x_test = tf.keras.backend.constant(x_test)\n",
    "A = tf.constant(tf.ones(np.array([4,4])))\n",
    "b = tf.constant(tf.ones(4))\n",
    "c = b\n",
    "e = c\n",
    "\n",
    "# For TESTS\n",
    "\n",
    "data_x = np.arange(-3,3,.1)\n",
    "noise_y = np.random.normal(scale=.1,size=len(data_x))\n",
    "hidden_function = np.sin(data_x)\n",
    "data_y = hidden_function + noise_y\n",
    "\n",
    "d = len(data_x)"
   ]
  },
  {
   "cell_type": "code",
   "execution_count": 21,
   "metadata": {},
   "outputs": [
    {
     "data": {
      "text/plain": [
       "<matplotlib.collections.PathCollection at 0x7fa2b03bb7d0>"
      ]
     },
     "execution_count": 21,
     "metadata": {},
     "output_type": "execute_result"
    },
    {
     "data": {
      "image/png": "[encoded data removed]",
      "text/plain": [
       "<Figure size 432x288 with 1 Axes>"
      ]
     },
     "metadata": {
      "needs_background": "light"
     },
     "output_type": "display_data"
    }
   ],
   "source": [
    "plt.plot(data_x,hidden_function,color='b')\n",
    "plt.scatter(data_x,data_y,color='g')"
   ]
  },
  {
   "cell_type": "code",
   "execution_count": null,
   "metadata": {},
   "outputs": [],
   "source": []
  }
 ],
 "metadata": {
  "kernelspec": {
   "display_name": "Python 3",
   "language": "python",
   "name": "python3"
  },
  "language_info": {
   "codemirror_mode": {
    "name": "ipython",
    "version": 3
   },
   "file_extension": ".py",
   "mimetype": "text/x-python",
   "name": "python",
   "nbconvert_exporter": "python",
   "pygments_lexer": "ipython3",
   "version": "3.7.6"
  }
 },
 "nbformat": 4,
 "nbformat_minor": 2
}
