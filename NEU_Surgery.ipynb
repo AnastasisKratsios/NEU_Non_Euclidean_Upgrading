{
 "cells": [
  {
   "cell_type": "markdown",
   "metadata": {},
   "source": [
    "# NEU (Reconfigurations Map and Related Functions)"
   ]
  },
  {
   "cell_type": "markdown",
   "metadata": {},
   "source": [
    "### Basic Algorithm (NEU-OLS)\n",
    "\n",
    "1. Perform Basic Algorithm (in this case OLS)\n",
    "2. Map predictions to their graph; ie $x\\mapsto (x,\\hat{f}_{OLS}(x))$ where $\\hat{f}_{OLS}$ is the least-squares regression function."
   ]
  },
  {
   "cell_type": "markdown",
   "metadata": {},
   "source": [
    "## Initializations:"
   ]
  },
  {
   "cell_type": "code",
   "execution_count": 1,
   "metadata": {},
   "outputs": [
    {
     "name": "stderr",
     "output_type": "stream",
     "text": [
      "Using TensorFlow backend.\n"
     ]
    },
    {
     "name": "stdout",
     "output_type": "stream",
     "text": [
      "TensorFlow: 2.1.0\n"
     ]
    }
   ],
   "source": [
    "# Deep Learning & ML\n",
    "import tensorflow as tf\n",
    "import tensorflow_probability as tfp\n",
    "import keras as K\n",
    "import keras.backend as Kb\n",
    "from keras.layers import *\n",
    "\n",
    "from keras.models import Model\n",
    "from keras.models import Sequential\n",
    "from keras import layers\n",
    "from keras import utils as np_utils\n",
    "from scipy import linalg as scila\n",
    "\n",
    "\n",
    "\n",
    "# Linear Regression\n",
    "from sklearn.linear_model import LinearRegression\n",
    "\n",
    "# General\n",
    "import numpy as np\n",
    "import time\n",
    "\n",
    "# Alerts\n",
    "import os as beepsnd\n",
    "\n",
    "# Others\n",
    "import math\n",
    "\n",
    "# General Outputs\n",
    "print('TensorFlow:', tf.__version__)"
   ]
  },
  {
   "cell_type": "code",
   "execution_count": 2,
   "metadata": {},
   "outputs": [
    {
     "data": {
      "text/plain": [
       "<Figure size 640x480 with 1 Axes>"
      ]
     },
     "metadata": {},
     "output_type": "display_data"
    }
   ],
   "source": [
    "N_Reconfigurations = 10\n",
    "d = 1 # Dimension of X\n",
    "D = 1 # Dimension of Y\n",
    "\n",
    "\n",
    "# Data Meta-Parameters\n",
    "noise_level = 0.1\n",
    "uncertainty_level= 0.9\n",
    "\n",
    "# Training meta-parameters\n",
    "Pre_Epochs = 50\n",
    "Full_Epochs = 50\n",
    "\n",
    "\n",
    "# Number of Datapoints\n",
    "N_data = 10**3\n",
    "# Unknown Function\n",
    "def unknown_f(x):\n",
    "    return np.sin(x) #+ (x % 2)\n",
    "\n",
    "# Generate Data\n",
    "%run Data_Generator.ipynb"
   ]
  },
  {
   "cell_type": "markdown",
   "metadata": {},
   "source": [
    "#### Prepare data for NEU"
   ]
  },
  {
   "cell_type": "code",
   "execution_count": 3,
   "metadata": {},
   "outputs": [],
   "source": [
    "# Reshape Data Into Compatible Shape\n",
    "data_x = np.array(data_x).reshape(-1,d)\n",
    "data_y = np.array(data_y)\n",
    "# Perform OLS Regression\n",
    "linear_model = LinearRegression()\n",
    "reg = linear_model.fit(data_x, data_y)\n",
    "model_pred_y = linear_model.predict(data_x)\n",
    "# Map to Graph\n",
    "data_NEU = np.concatenate((data_x,model_pred_y.reshape(-1,D)),1)\n",
    "NEU_targets  = data_y.reshape(-1,D)"
   ]
  },
  {
   "cell_type": "markdown",
   "metadata": {},
   "source": [
    "## Helper Functions:"
   ]
  },
  {
   "cell_type": "code",
   "execution_count": 4,
   "metadata": {},
   "outputs": [],
   "source": [
    "#----------------------------#\n",
    "# Helper Functions T/F Functions\n",
    "#----------------------------#\n",
    "def bump_True(x):\n",
    "    x_out = 1- tf.math.pow(tf.math.abs(x),2)\n",
    "    x_out = tf.math.exp(-tf.math.divide(1,x_out))\n",
    "    return x_out\n",
    "\n",
    "def bump_False(x):\n",
    "    x_out = 0\n",
    "    return x_out\n",
    "\n",
    "# Approximation to max(0,x) function by smooth function\n",
    "# https://math.stackexchange.com/questions/517482/approximating-a-maximum-function-by-a-differentiable-function\n",
    "def abs_helper(x):\n",
    "    return tf.math.sqrt(tf.math.pow(x,2)+(10**(-5)))\n",
    "\n",
    "def max_helper(x):\n",
    "    return tf.math.multiply(abs_helper(x) + x,.5)\n",
    "\n",
    "def soft_indicator(x):\n",
    "    return max_helper(tf.math.sign(x))\n",
    "\n",
    "def bump_function(x):\n",
    "    # Gaussian rescaled to [-1,1]^d\n",
    "    bump_out = 1-tf.math.pow(x,2)        \n",
    "    bump_out = tf.math.divide(-1,bump_out)\n",
    "    bump_out = tf.math.exp(bump_out)\n",
    "    # Indicator\n",
    "    indicator = soft_indicator(1-x)\n",
    "    # 0 outside of [-1,1]^d\n",
    "    bump_out = tf.math.multiply(bump_out,indicator)\n",
    "    return bump_out"
   ]
  },
  {
   "cell_type": "markdown",
   "metadata": {},
   "source": [
    "### Build Reconfiguration Unit\n",
    "$$\n",
    "x \\mapsto \\exp\\left(\n",
    "\\psi(x-c;\\sigma) X\n",
    "\\right) (x-c) + c\n",
    "$$\n",
    "where:\n",
    "#### Workflow\n",
    "1. Shifts $x \\in \\mathbb{R}^d$ to $x- c$; c trainable.\n",
    "2. Applies the map $\\psi(x;\\sigma)\\triangleq e^{\\frac{\\sigma}{\\sigma-|x|}}I_{\\{|x|<\\sigma\\}}$ component-wise.  \n",
    "3. Applies transformation $x \\mapsto x +b$, $b \\in \\mathbb{R}^d$ trainable.\n",
    "4. Applies the diagonalization map to that output: $ \\left(x_1,\\dots,x_d\\right)\\mapsto\n",
    "                \\begin{pmatrix}\n",
    "                x_1 & & 0\\\\\n",
    "                &\\ddots &\\\\\n",
    "                0 & & x_d\\\\\n",
    "                \\end{pmatrix}.$\n",
    "5. Applies map $X \\mapsto XA$, $A$ is a trainable $d\\times d$ matrix.\n",
    "6. Applies matrix exponential.\n",
    "7. Multiplies output with result of (1).\n",
    "8. Re-centers output to $x +c$ where $c$ is as in (1)."
   ]
  },
  {
   "cell_type": "markdown",
   "metadata": {},
   "source": [
    "### Helper Function: Build and Training NEU Units (Core)"
   ]
  },
  {
   "cell_type": "code",
   "execution_count": 5,
   "metadata": {},
   "outputs": [],
   "source": [
    "class Reconfiguration_unit_steps(tf.keras.layers.Layer):\n",
    "\n",
    "    def __init__(self, *args, **kwargs):\n",
    "        super(Reconfiguration_unit_steps, self).__init__(*args, **kwargs)\n",
    "\n",
    "    def build(self, input_shape):\n",
    "        self.location = self.add_weight(name='location',\n",
    "                                     shape=input_shape[1:],\n",
    "                                     initializer='GlorotUniform',\n",
    "                                     trainable=True)\n",
    "        \n",
    "        \n",
    "# #     Step 3\n",
    "#         self.scale = self.add_weight(name='location',\n",
    "#                                     shape=input_shape[1:],\n",
    "#                                     initializer='GlorotNormal',\n",
    "#                                     trainable=True)\n",
    "    \n",
    "#         self.threshold = self.add_weight(name='threshold',\n",
    "#                             shape=input_shape[1:],\n",
    "#                             initializer='GlorotUniform',\n",
    "#                             trainable=True)\n",
    "        \n",
    "\n",
    "        # STEP 3 - NEW\n",
    "        # INITIALIZE KERNELS\n",
    "        self.kernel_a = self.add_weight(name='kernel_a ',\n",
    "                                    shape=input_shape[1:],\n",
    "                                    initializer='GlorotUniform',\n",
    "                                    trainable=True)\n",
    "\n",
    "        #inverse width\n",
    "        self.kernel_b = self.add_weight(name='kernel_b',\n",
    "                                    shape=input_shape[1:],\n",
    "                                    initializer='ones',#Previously 'ones'\n",
    "                                    trainable=True)\n",
    "\n",
    "        #center\n",
    "        self.kernel_c = self.add_weight(name='kernel_c',\n",
    "                                    shape=input_shape[1:],\n",
    "                                    initializer='zeros',#Previously 'zeros'\n",
    "                                    trainable=True)\n",
    " \n",
    "\n",
    "    \n",
    "        ## Steps 4-9\n",
    "        self.tangentbiases = self.add_weight(name='tangentbiases',\n",
    "                                    shape=input_shape[1:],\n",
    "                                    initializer='GlorotUniform',\n",
    "                                    trainable=True)\n",
    "        self.tangentweights = self.add_weight(name='tangentweights',\n",
    "                                    shape=input_shape[1:],\n",
    "                                    initializer='GlorotUniform',\n",
    "                                    trainable=True)\n",
    "        self.location_b = self.add_weight(name='location_b',\n",
    "                                    shape=input_shape[1:],\n",
    "                                    initializer='GlorotUniform',\n",
    "                                    trainable=True)\n",
    "    \n",
    "    \n",
    "    def call(self, input):\n",
    "        ### Steps 1-2\n",
    "        # Relocated\n",
    "        output_steps_1_2 = input + self.location\n",
    "        \n",
    "        ### Step 3\n",
    "        # Old\n",
    "#         thresholdin_3 = tf.math.multiply(tf.math.pow(self.scale,2),output_steps_1_2)\n",
    "#         thresholdin_3 = output_steps_1_2-self.threshold\n",
    "#         thresholdin_3 = bump_function(thresholdin_3)    \n",
    "        # NEW\n",
    "        exp_arg = - self.kernel_b * tf.math.square(output_steps_1_2 - self.kernel_c)\n",
    "        output_step_3 = self.kernel_a * tf.math.exp(exp_arg)\n",
    "\n",
    "        \n",
    "#         output_step_3 = tf.math.multiply(output_step_3,thresholdin_3)\n",
    "        \n",
    "        ### Step 4-9\n",
    "        x_out = tf.math.multiply(tf.math.abs(self.tangentweights),output_step_3) + self.tangentbiases\n",
    "        \n",
    "        # 7. Apply Matrix Exponential\n",
    "        x_out = tf.linalg.diag(x_out)\n",
    "        #------------------------------#\n",
    "        # Using an approximation of the matrix exponential (tf.linalg.expm(x_out)) is prefeable \n",
    "        # **Since:** TF uses Sylvester's method to for (fast) computation but this requires additional assumptions on the matrix which are typically not satified...\n",
    "        # **Instead:** Use a truncated power series representation (standard definition of expm) of order 4\n",
    "        x_out = tf.linalg.diag(tf.ones(d+D)) + x_out + tf.linalg.matmul(x_out,x_out)/2 + tf.linalg.matmul(x_out,tf.linalg.matmul(x_out,x_out))/6 +tf.linalg.matmul(x_out,tf.linalg.matmul(x_out,tf.linalg.matmul(x_out,x_out)))/24 #+tf.linalg.matmul(x_out,tf.linalg.matmul(x_out,tf.linalg.matmul(x_out,tf.linalg.matmul(x_out,x_out))))/120\n",
    "        #x_out = tf.linalg.expm(x_out)\n",
    "        \n",
    "        # 8. Muliply by output of (1)\n",
    "        x_out = tf.linalg.matvec(x_out,input)\n",
    "        \n",
    "        # 9. Recenter Transformed Data\n",
    "        x_out = x_out + self.location_b\n",
    "        \n",
    "        # Return Output\n",
    "        return x_out"
   ]
  },
  {
   "cell_type": "markdown",
   "metadata": {},
   "source": [
    "### Helper Function: Projection Layer (For Regression)\n",
    "Maps $\\mathbb{X}\\left((x,f(x))\\mid \\theta \\right) \\in \\mathbb{R}^{d\\times D}$ to an element of $\\mathbb{R}^D$ by post-composing with the second canonical projection\n",
    "$$\n",
    "(x_1,x_2)\\mapsto x_2\n",
    ",\n",
    "$$\n",
    "where $x_1 \\in \\mathbb{R}^d$ and $x_2 \\in \\mathbb{R}^D$.  "
   ]
  },
  {
   "cell_type": "code",
   "execution_count": 6,
   "metadata": {},
   "outputs": [],
   "source": [
    "projection_layer = tf.keras.layers.Lambda(lambda x: x[:, -D:])"
   ]
  },
  {
   "cell_type": "markdown",
   "metadata": {},
   "source": [
    "## Robust Loss Function\n",
    "This loss function prevents overfitting... it is especially userful for greedy approaches to training...like we use..."
   ]
  },
  {
   "cell_type": "code",
   "execution_count": 7,
   "metadata": {},
   "outputs": [],
   "source": [
    "def above_percentile(x, p): #assuming the input is flattened: (n,)\n",
    "\n",
    "    samples = Kb.cast(Kb.shape(x)[0], Kb.floatx()) #batch size\n",
    "    p =  (100. - p)/100.  #100% will return 0 elements, 0% will return all elements\n",
    "\n",
    "    #samples to get:\n",
    "    samples = Kb.cast(tf.math.floor(p * samples), 'int32')\n",
    "        #you can choose tf.math.ceil above, it depends on whether you want to\n",
    "        #include or exclude one element. Suppose you you want 33% top,\n",
    "        #but it's only possible to get exactly 30% or 40% top:\n",
    "        #floor will get 30% top and ceil will get 40% top.\n",
    "        #(exact matches included in both cases)\n",
    "\n",
    "    #selected samples\n",
    "    values, indices = tf.math.top_k(x, samples)\n",
    "\n",
    "    return values\n",
    "\n",
    "def Robust_MSE(p):\n",
    "    def loss(y_true, y_predicted):\n",
    "        ses = Kb.pow(y_true-y_predicted,2)\n",
    "        above = above_percentile(Kb.flatten(ses), p)\n",
    "        return Kb.mean(above)\n",
    "    return loss"
   ]
  },
  {
   "cell_type": "markdown",
   "metadata": {},
   "source": [
    "### Helper Functions: Compiling and Training NEU-OLS\n",
    "\n",
    "#### First Unit\n",
    "These are helper functions for training the reconfiguration map.\n",
    "\n",
    "Build and greedily-initialize the first reconfiguration unit."
   ]
  },
  {
   "cell_type": "code",
   "execution_count": 8,
   "metadata": {},
   "outputs": [],
   "source": [
    "# define and fit the base model\n",
    "def get_base_model(trainx, trainy, Pre_Epochs_in):\n",
    "    # Define Model\n",
    "    #----------------#\n",
    "    # Initialize\n",
    "    input_layer = tf.keras.Input(shape=[d+D])\n",
    "    # Apply Reconfiguration Unit\n",
    "    reconfigure  = Reconfiguration_unit_steps()\n",
    "    current_layer = reconfigure(input_layer)\n",
    "    # Output\n",
    "    output_layer = projection_layer(current_layer)\n",
    "    reconfiguration_basic = tf.keras.Model(inputs=[input_layer], outputs=[output_layer])\n",
    "    \n",
    "    # Compile Model\n",
    "    #----------------#\n",
    "    # Define Optimizer\n",
    "    optimizer_on = tf.keras.optimizers.SGD(learning_rate=10**(-2), momentum=0.01, nesterov=True)\n",
    "    # Compile\n",
    "    reconfiguration_basic.compile(loss = Robust_MSE(uncertainty_level),\n",
    "                    optimizer = optimizer_on,\n",
    "                    metrics = ['mse'])\n",
    "    \n",
    "    # Fit Model\n",
    "    #----------------#\n",
    "    reconfiguration_basic.fit(trainx, trainy, epochs=Pre_Epochs_in, verbose=0)\n",
    "        \n",
    "    # Return Output\n",
    "    return reconfiguration_basic"
   ]
  },
  {
   "cell_type": "markdown",
   "metadata": {},
   "source": [
    "#### Greedy Initialization of Subsequent Units\n",
    "Build reconfiguration and pre-train using greedy approach."
   ]
  },
  {
   "cell_type": "code",
   "execution_count": 9,
   "metadata": {},
   "outputs": [],
   "source": [
    "def add_reconfiguration_unit_greedily(model, trainx, trainy, Pre_Epochs_in):\n",
    "\n",
    "    # Dissasemble Network\n",
    "    layers = [l for l in model.layers]\n",
    "\n",
    "    # Define new reconfiguration unit to be added\n",
    "    new_reconfiguration_unit  = Reconfiguration_unit_steps()\n",
    "    current_layer_new = new_reconfiguration_unit(layers[len(layers)-2].output)\n",
    "\n",
    "    # Output Layer\n",
    "    output_layer_new = projection_layer(current_layer_new)\n",
    "\n",
    "    for i in range(len(layers)):\n",
    "        layers[i].trainable = False\n",
    "\n",
    "\n",
    "    # build model\n",
    "    new_model = tf.keras.Model(inputs=[layers[0].input], outputs=output_layer_new)\n",
    "    #new_model.summary()\n",
    "\n",
    "\n",
    "    # Compile new Model\n",
    "    #-------------------#\n",
    "    # Define Optimizer\n",
    "    optimizer_on = tf.keras.optimizers.SGD(learning_rate=10**(-2), momentum=0.01, nesterov=True)\n",
    "    # Compile Model\n",
    "    new_model.compile(loss = Robust_MSE(uncertainty_level),\n",
    "                    optimizer = optimizer_on,\n",
    "                    metrics = ['mse'])\n",
    "\n",
    "    # Fit Model\n",
    "    #----------------#\n",
    "    new_model.fit(trainx, trainy, epochs=Pre_Epochs_in, verbose=0)\n",
    "\n",
    "    # Return Output\n",
    "    return new_model"
   ]
  },
  {
   "cell_type": "markdown",
   "metadata": {},
   "source": [
    "#### Train and Compile (entire) reconfiguration using greedy-initializations past from previous helper functions.\n",
    "Train reconfiguration together (initialized by greedy) layer-wise initializations."
   ]
  },
  {
   "cell_type": "code",
   "execution_count": 10,
   "metadata": {},
   "outputs": [],
   "source": [
    "def build_reconfiguration(model_greedy_initialized, trainx, trainy, Full_Epochs_in):\n",
    "\n",
    "    # Dissasemble Network\n",
    "    layers = [l for l in model_greedy_initialized.layers]\n",
    "\n",
    "    # Define new reconfiguration unit to be added\n",
    "    new_reconfiguration_unit  = Reconfiguration_unit_steps()\n",
    "    current_layer_new = new_reconfiguration_unit(layers[len(layers)-2].output)\n",
    "\n",
    "    # Output Layer\n",
    "    output_layer_new = projection_layer(current_layer_new)\n",
    "\n",
    "    for i in range(len(layers)):\n",
    "        layers[i].trainable = True\n",
    "\n",
    "\n",
    "    # build model\n",
    "    reconfiguration = tf.keras.Model(inputs=[layers[0].input], outputs=output_layer_new)\n",
    "    #new_model.summary()\n",
    "\n",
    "\n",
    "\n",
    "    # Compile new Model\n",
    "    #-------------------#\n",
    "    # Define Optimizer\n",
    "    optimizer_on = tf.keras.optimizers.SGD(learning_rate=10**(-5), momentum=0.01, nesterov=True)\n",
    "    #optimizer_on = tf.keras.optimizers.Adagrad(learning_rate=10**(-5), initial_accumulator_value=0.1, epsilon=1e-07,name='Adagrad')\n",
    "\n",
    "    # Compile Model\n",
    "    reconfiguration.compile(loss = Robust_MSE(uncertainty_level),\n",
    "                    optimizer = optimizer_on,\n",
    "                    metrics = ['mse'])\n",
    "\n",
    "    # Fit Model\n",
    "    #----------------#\n",
    "    reconfiguration.fit(trainx, trainy, epochs=Full_Epochs_in, verbose=1)\n",
    "\n",
    "    # Return Output\n",
    "    return reconfiguration"
   ]
  },
  {
   "cell_type": "markdown",
   "metadata": {},
   "source": [
    "## Train NEU-OLS"
   ]
  },
  {
   "cell_type": "code",
   "execution_count": 11,
   "metadata": {},
   "outputs": [
    {
     "name": "stdout",
     "output_type": "stream",
     "text": [
      "1.0412620523264413\n",
      "0.1\n",
      "1.0436983130245174\n",
      "0.2\n",
      "1.0385210847943647\n",
      "0.3\n",
      "1.0417219386322183\n",
      "0.4\n",
      "1.0443811752820151\n",
      "0.5\n",
      "1.0293040434361085\n",
      "0.6\n",
      "1.0447075384360212\n",
      "0.7\n",
      "1.0456324101915122\n",
      "0.8\n",
      "1.0446224226635097\n",
      "0.9\n",
      "1.0437227850198756\n",
      "1.0\n"
     ]
    }
   ],
   "source": [
    "# Base Model\n",
    "model = get_base_model(data_NEU,NEU_targets,Pre_Epochs)\n",
    "\n",
    "# Greedy Initialization\n",
    "NEU_OLS_Greedy_init = get_base_model(data_NEU,NEU_targets,Pre_Epochs)\n",
    "for i in range(N_Reconfigurations):\n",
    "    # Update Model\n",
    "    NEU_OLS_Greedy_init_temp = add_reconfiguration_unit_greedily(NEU_OLS_Greedy_init,data_NEU,NEU_targets,Pre_Epochs)\n",
    "    \n",
    "    # Check for Blowup\n",
    "    if math.isnan(np.mean(NEU_OLS_Greedy_init.predict(data_NEU))):\n",
    "        NEU_OLS_Greedy_init = NEU_OLS_Greedy_init\n",
    "        break\n",
    "    else: #Update Model if not explosion\n",
    "        NEU_OLS_Greedy_init = NEU_OLS_Greedy_init_temp\n",
    "    \n",
    "    print(np.mean((NEU_OLS_Greedy_init.predict(data_NEU) - data_y)**2))\n",
    "    \n",
    "    # Update User on Status of Initialization\n",
    "    print(((i+1)/N_Reconfigurations))"
   ]
  },
  {
   "cell_type": "code",
   "execution_count": 12,
   "metadata": {},
   "outputs": [
    {
     "name": "stdout",
     "output_type": "stream",
     "text": [
      "Train on 1000 samples\n",
      "Epoch 1/50\n",
      "1000/1000 [==============================] - 6s 6ms/sample - loss: 4.0754 - mse: 3.9464\n",
      "Epoch 2/50\n",
      "1000/1000 [==============================] - 0s 191us/sample - loss: 2.6276 - mse: 2.5454\n",
      "Epoch 3/50\n",
      "1000/1000 [==============================] - 0s 191us/sample - loss: 1.6607 - mse: 1.6080\n",
      "Epoch 4/50\n",
      "1000/1000 [==============================] - 0s 198us/sample - loss: 1.1064 - mse: 1.0719\n",
      "Epoch 5/50\n",
      "1000/1000 [==============================] - 0s 199us/sample - loss: 0.8030 - mse: 0.7776\n",
      "Epoch 6/50\n",
      "1000/1000 [==============================] - 0s 198us/sample - loss: 0.6218 - mse: 0.6021\n",
      "Epoch 7/50\n",
      "1000/1000 [==============================] - 0s 198us/sample - loss: 0.5059 - mse: 0.4905\n",
      "Epoch 8/50\n",
      "1000/1000 [==============================] - 0s 204us/sample - loss: 0.4325 - mse: 0.4194\n",
      "Epoch 9/50\n",
      "1000/1000 [==============================] - 0s 200us/sample - loss: 0.3807 - mse: 0.3690\n",
      "Epoch 10/50\n",
      "1000/1000 [==============================] - 0s 196us/sample - loss: 0.3421 - mse: 0.3314\n",
      "Epoch 11/50\n",
      "1000/1000 [==============================] - 0s 208us/sample - loss: 0.3119 - mse: 0.3024\n",
      "Epoch 12/50\n",
      "1000/1000 [==============================] - 0s 216us/sample - loss: 0.2894 - mse: 0.2803\n",
      "Epoch 13/50\n",
      "1000/1000 [==============================] - 0s 217us/sample - loss: 0.2708 - mse: 0.2623\n",
      "Epoch 14/50\n",
      "1000/1000 [==============================] - 0s 215us/sample - loss: 0.2554 - mse: 0.2473\n",
      "Epoch 15/50\n",
      "1000/1000 [==============================] - 0s 208us/sample - loss: 0.2425 - mse: 0.2348\n",
      "Epoch 16/50\n",
      "1000/1000 [==============================] - 0s 213us/sample - loss: 0.2316 - mse: 0.2243\n",
      "Epoch 17/50\n",
      "1000/1000 [==============================] - 0s 211us/sample - loss: 0.2220 - mse: 0.2150\n",
      "Epoch 18/50\n",
      "1000/1000 [==============================] - 0s 226us/sample - loss: 0.2138 - mse: 0.2070\n",
      "Epoch 19/50\n",
      "1000/1000 [==============================] - 0s 241us/sample - loss: 0.2064 - mse: 0.1997\n",
      "Epoch 20/50\n",
      "1000/1000 [==============================] - 0s 212us/sample - loss: 0.1996 - mse: 0.1932\n",
      "Epoch 21/50\n",
      "1000/1000 [==============================] - 0s 228us/sample - loss: 0.1934 - mse: 0.1873\n",
      "Epoch 22/50\n",
      "1000/1000 [==============================] - 0s 222us/sample - loss: 0.1877 - mse: 0.1818\n",
      "Epoch 23/50\n",
      "1000/1000 [==============================] - 0s 211us/sample - loss: 0.1825 - mse: 0.1767\n",
      "Epoch 24/50\n",
      "1000/1000 [==============================] - 0s 212us/sample - loss: 0.1776 - mse: 0.1720\n",
      "Epoch 25/50\n",
      "1000/1000 [==============================] - 0s 207us/sample - loss: 0.1731 - mse: 0.1676\n",
      "Epoch 26/50\n",
      "1000/1000 [==============================] - 0s 227us/sample - loss: 0.1689 - mse: 0.1635\n",
      "Epoch 27/50\n",
      "1000/1000 [==============================] - 0s 219us/sample - loss: 0.1649 - mse: 0.1596\n",
      "Epoch 28/50\n",
      "1000/1000 [==============================] - 0s 213us/sample - loss: 0.1611 - mse: 0.1559\n",
      "Epoch 29/50\n",
      "1000/1000 [==============================] - 0s 204us/sample - loss: 0.1575 - mse: 0.1524\n",
      "Epoch 30/50\n",
      "1000/1000 [==============================] - 0s 218us/sample - loss: 0.1540 - mse: 0.1491\n",
      "Epoch 31/50\n",
      "1000/1000 [==============================] - 0s 217us/sample - loss: 0.1507 - mse: 0.1459\n",
      "Epoch 32/50\n",
      "1000/1000 [==============================] - 0s 217us/sample - loss: 0.1476 - mse: 0.1429\n",
      "Epoch 33/50\n",
      "1000/1000 [==============================] - 0s 200us/sample - loss: 0.1447 - mse: 0.1400\n",
      "Epoch 34/50\n",
      "1000/1000 [==============================] - 0s 203us/sample - loss: 0.1417 - mse: 0.1372\n",
      "Epoch 35/50\n",
      "1000/1000 [==============================] - 0s 209us/sample - loss: 0.1389 - mse: 0.1344\n",
      "Epoch 36/50\n",
      "1000/1000 [==============================] - 0s 213us/sample - loss: 0.1361 - mse: 0.1318\n",
      "Epoch 37/50\n",
      "1000/1000 [==============================] - 0s 219us/sample - loss: 0.1336 - mse: 0.1294\n",
      "Epoch 38/50\n",
      "1000/1000 [==============================] - 0s 213us/sample - loss: 0.1312 - mse: 0.1269\n",
      "Epoch 39/50\n",
      "1000/1000 [==============================] - 0s 207us/sample - loss: 0.1286 - mse: 0.1246\n",
      "Epoch 40/50\n",
      "1000/1000 [==============================] - 0s 227us/sample - loss: 0.1263 - mse: 0.1223\n",
      "Epoch 41/50\n",
      "1000/1000 [==============================] - 0s 229us/sample - loss: 0.1241 - mse: 0.1201\n",
      "Epoch 42/50\n",
      "1000/1000 [==============================] - 0s 225us/sample - loss: 0.1218 - mse: 0.1179\n",
      "Epoch 43/50\n",
      "1000/1000 [==============================] - 0s 202us/sample - loss: 0.1197 - mse: 0.1159\n",
      "Epoch 44/50\n",
      "1000/1000 [==============================] - 0s 202us/sample - loss: 0.1176 - mse: 0.1138\n",
      "Epoch 45/50\n",
      "1000/1000 [==============================] - 0s 211us/sample - loss: 0.1155 - mse: 0.1118\n",
      "Epoch 46/50\n",
      "1000/1000 [==============================] - 0s 239us/sample - loss: 0.1136 - mse: 0.1099\n",
      "Epoch 47/50\n",
      "1000/1000 [==============================] - 0s 230us/sample - loss: 0.1117 - mse: 0.1081\n",
      "Epoch 48/50\n",
      "1000/1000 [==============================] - 0s 198us/sample - loss: 0.1098 - mse: 0.1063\n",
      "Epoch 49/50\n",
      "1000/1000 [==============================] - 0s 209us/sample - loss: 0.1080 - mse: 0.1045\n",
      "Epoch 50/50\n",
      "1000/1000 [==============================] - 0s 225us/sample - loss: 0.1062 - mse: 0.1028\n"
     ]
    }
   ],
   "source": [
    "# # Train Full Model Using Initializatoins\n",
    "NEU_OLS = NEU_OLS_Greedy_init\n",
    "NEU_OLS = build_reconfiguration(NEU_OLS,data_NEU,NEU_targets,Full_Epochs)"
   ]
  },
  {
   "cell_type": "markdown",
   "metadata": {},
   "source": [
    "## Make Predictions"
   ]
  },
  {
   "cell_type": "code",
   "execution_count": 15,
   "metadata": {},
   "outputs": [],
   "source": [
    "# # Predictions (for comparison: TEMP)\n",
    "NEU_OLS_prediction = NEU_OLS(data_NEU)\n",
    "NEU_OLS_single_unit_prediction = model.predict(data_NEU)\n",
    "NEU_OLS_greedy_initializations = NEU_OLS_Greedy_init.predict(data_NEU)"
   ]
  },
  {
   "cell_type": "markdown",
   "metadata": {},
   "source": [
    "## Visualize Predictions"
   ]
  },
  {
   "cell_type": "code",
   "execution_count": 16,
   "metadata": {},
   "outputs": [
    {
     "data": {
      "text/plain": [
       "[<matplotlib.lines.Line2D at 0x7f8d32608590>]"
      ]
     },
     "execution_count": 16,
     "metadata": {},
     "output_type": "execute_result"
    },
    {
     "data": {
      "image/png": "[encoded data removed]",
      "text/plain": [
       "<Figure size 960x800 with 1 Axes>"
      ]
     },
     "metadata": {},
     "output_type": "display_data"
    }
   ],
   "source": [
    "# Adjust Figure Details\n",
    "plt.figure(num=None, figsize=(12, 10), dpi=80, facecolor='w', edgecolor='k')\n",
    "\n",
    "# Data Plot\n",
    "plt.plot(data_x,true_y,color='k',label='true',linestyle='--')\n",
    "\n",
    "# Plot Models\n",
    "plt.plot(data_x,model_pred_y,color='r',label='OLS')\n",
    "plt.plot(data_x,NEU_OLS_single_unit_prediction,color='b',label='NEU_Unit')\n",
    "plt.plot(data_x,NEU_OLS_greedy_initializations,color='g',label='NEU_Greedy_Init')\n",
    "plt.plot(data_x,NEU_OLS_prediction,color='Aqua',label='NEU-OLS')"
   ]
  },
  {
   "cell_type": "markdown",
   "metadata": {},
   "source": [
    "## Test-Set Predictions"
   ]
  },
  {
   "cell_type": "code",
   "execution_count": 3,
   "metadata": {},
   "outputs": [
    {
     "ename": "NameError",
     "evalue": "name 'data_x_test' is not defined",
     "output_type": "error",
     "traceback": [
      "\u001b[0;31m---------------------------------------------------------------------------\u001b[0m",
      "\u001b[0;31mNameError\u001b[0m                                 Traceback (most recent call last)",
      "\u001b[0;32m<ipython-input-3-4d62ff6a5456>\u001b[0m in \u001b[0;36m<module>\u001b[0;34m\u001b[0m\n\u001b[1;32m      2\u001b[0m \u001b[0;34m\u001b[0m\u001b[0m\n\u001b[1;32m      3\u001b[0m \u001b[0;31m# Reshape Data Into Compatible Shape\u001b[0m\u001b[0;34m\u001b[0m\u001b[0;34m\u001b[0m\u001b[0;34m\u001b[0m\u001b[0m\n\u001b[0;32m----> 4\u001b[0;31m \u001b[0mdata_x_testt\u001b[0m \u001b[0;34m=\u001b[0m \u001b[0mnp\u001b[0m\u001b[0;34m.\u001b[0m\u001b[0marray\u001b[0m\u001b[0;34m(\u001b[0m\u001b[0mdata_x_test\u001b[0m\u001b[0;34m)\u001b[0m\u001b[0;34m.\u001b[0m\u001b[0mreshape\u001b[0m\u001b[0;34m(\u001b[0m\u001b[0;34m-\u001b[0m\u001b[0;36m1\u001b[0m\u001b[0;34m,\u001b[0m\u001b[0md\u001b[0m\u001b[0;34m)\u001b[0m\u001b[0;34m\u001b[0m\u001b[0;34m\u001b[0m\u001b[0m\n\u001b[0m\u001b[1;32m      5\u001b[0m \u001b[0mtrue_y_testt\u001b[0m \u001b[0;34m=\u001b[0m \u001b[0mnp\u001b[0m\u001b[0;34m.\u001b[0m\u001b[0marray\u001b[0m\u001b[0;34m(\u001b[0m\u001b[0mtrue_y_test\u001b[0m\u001b[0;34m)\u001b[0m\u001b[0;34m\u001b[0m\u001b[0;34m\u001b[0m\u001b[0m\n\u001b[1;32m      6\u001b[0m \u001b[0;31m# Perform OLS Regression\u001b[0m\u001b[0;34m\u001b[0m\u001b[0;34m\u001b[0m\u001b[0;34m\u001b[0m\u001b[0m\n",
      "\u001b[0;31mNameError\u001b[0m: name 'data_x_test' is not defined"
     ]
    }
   ],
   "source": [
    "# Coerce Data\n",
    "\n",
    "# Reshape Data Into Compatible Shape\n",
    "data_x_testt = np.array(data_x_test).reshape(-1,d)\n",
    "true_y_testt = np.array(true_y_test)\n",
    "# Perform OLS Regression\n",
    "model_pred_y_testt = linear_model.predict(true_y_testt)\n",
    "# Map to Graph\n",
    "data_NEU_test = np.concatenate((data_x_testt,model_pred_y_testt.reshape(-1,D)),1)\n",
    "\n",
    "# Make Test-Set Prediction\n",
    "NEU_OLS_prediction_test = NEU_OLS(data_NEU_test)"
   ]
  }
 ],
 "metadata": {
  "kernelspec": {
   "display_name": "Python 3",
   "language": "python",
   "name": "python3"
  },
  "language_info": {
   "codemirror_mode": {
    "name": "ipython",
    "version": 3
   },
   "file_extension": ".py",
   "mimetype": "text/x-python",
   "name": "python",
   "nbconvert_exporter": "python",
   "pygments_lexer": "ipython3",
   "version": "3.7.6"
  }
 },
 "nbformat": 4,
 "nbformat_minor": 2
}
