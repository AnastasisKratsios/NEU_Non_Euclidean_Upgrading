{
 "cells": [
  {
   "cell_type": "markdown",
   "metadata": {},
   "source": [
    "# NEU (Reconfigurations Map and Related Functions)\n",
    "\n",
    "## Initializations:"
   ]
  },
  {
   "cell_type": "code",
   "execution_count": 1,
   "metadata": {},
   "outputs": [
    {
     "name": "stderr",
     "output_type": "stream",
     "text": [
      "Using TensorFlow backend.\n"
     ]
    },
    {
     "name": "stdout",
     "output_type": "stream",
     "text": [
      "TensorFlow: 2.1.0\n"
     ]
    }
   ],
   "source": [
    "# Deep Learning & ML\n",
    "import tensorflow as tf\n",
    "import tensorflow_probability as tfp\n",
    "import keras as K\n",
    "from keras import backend as Kback\n",
    "from keras.models import Sequential\n",
    "from keras import layers\n",
    "from keras import utils as np_utils\n",
    "from scipy import linalg as scila\n",
    "\n",
    "# Linear Regression\n",
    "from sklearn.linear_model import LinearRegression\n",
    "\n",
    "# General\n",
    "import numpy as np\n",
    "import time\n",
    "\n",
    "# Alerts\n",
    "# import tkinter\n",
    "# from tkinter import messagebox\n",
    "import os as beepsnd\n",
    "\n",
    "# General Outputs\n",
    "print('TensorFlow:', tf.__version__)"
   ]
  },
  {
   "cell_type": "code",
   "execution_count": 2,
   "metadata": {},
   "outputs": [
    {
     "data": {
      "text/plain": [
       "<Figure size 640x480 with 1 Axes>"
      ]
     },
     "metadata": {},
     "output_type": "display_data"
    }
   ],
   "source": [
    "#### TEMP\n",
    "\n",
    "N_Reconfigurations = 10**1\n",
    "d = 1 # Dimension of X\n",
    "D = 1 # Dimension of Y\n",
    "\n",
    "# Data Meta-Parameters\n",
    "noise_level = 0.1\n",
    "uncertainty_level= 0.9\n",
    "\n",
    "# Training meta-parameters\n",
    "Epochs = 10**2\n",
    "\n",
    "\n",
    "# Number of Datapoints\n",
    "N_data = 10**2\n",
    "# Unknown Function\n",
    "def unknown_f(x):\n",
    "    return np.sin(x)\n",
    "%run Data_Generator.ipynb"
   ]
  },
  {
   "cell_type": "code",
   "execution_count": 3,
   "metadata": {},
   "outputs": [],
   "source": [
    "## TEM{}\n",
    "# Reshape Data Into Compatible Shape\n",
    "data_x = np.array(data_x).reshape(-1,d)\n",
    "data_y = np.array(data_y)\n",
    "# Perform OLS Regression\n",
    "linear_model = LinearRegression()\n",
    "reg = linear_model.fit(data_x, data_y)\n",
    "model_pred_y = linear_model.predict(data_x)\n",
    "# Map to Graph\n",
    "data_NEU = np.concatenate((data_x,model_pred_y.reshape(-1,D)),1)\n",
    "NEU_targets  = data_y.reshape(-1,D)"
   ]
  },
  {
   "cell_type": "markdown",
   "metadata": {},
   "source": [
    "## Helper Functions:"
   ]
  },
  {
   "cell_type": "code",
   "execution_count": 11,
   "metadata": {},
   "outputs": [],
   "source": [
    "#----------------------------#\n",
    "# Helper Functions T/F Functions\n",
    "#----------------------------#\n",
    "def bump_True(x):\n",
    "    x_out = 1- tf.math.pow(tf.math.abs(x),2)\n",
    "    x_out = tf.math.exp(-tf.math.divide(1,x_out))\n",
    "    return x_out\n",
    "\n",
    "def bump_False(x):\n",
    "    x_out = 0\n",
    "    return x_out\n",
    "\n",
    "# Approximation to max(0,x) function by smooth function\n",
    "# https://math.stackexchange.com/questions/517482/approximating-a-maximum-function-by-a-differentiable-function\n",
    "def abs_helper(x):\n",
    "    return tf.math.sqrt(tf.math.pow(x,2)+(10**(-5)))\n",
    "\n",
    "def max_helper(x):\n",
    "    return tf.math.multiply(abs_helper(x) + x,.5)\n",
    "\n",
    "def soft_indicator(x):\n",
    "    return max_helper(tf.math.sign(x))"
   ]
  },
  {
   "cell_type": "markdown",
   "metadata": {},
   "source": [
    "## Build Reconfiguration Unit\n",
    "\n",
    "1. Shifts $x \\in \\mathbb{R}^d$ to $x- c$; c trainable.\n",
    "2. Rescales componentwise with $a * x$,  $a \\in \\mathbb{R}^d$ trainable.\n",
    "3. Applies the map $\\psi(x)\\triangleq e^{\\frac1{1-|x|}}I_{\\{|x|<1\\}}$ component-wise.  \n",
    "4. Applies transformation $x \\mapsto x +b$, $b \\in \\mathbb{R}^d$ trainable.\n",
    "5. Applies the diagonalization map to that output: $ \\left(x_1,\\dots,x_d\\right)\\mapsto\n",
    "                \\begin{pmatrix}\n",
    "                x_1 & & 0\\\\\n",
    "                &\\ddots &\\\\\n",
    "                0 & & x_d\\\\\n",
    "                \\end{pmatrix}.$\n",
    "6. Applies map $X \\mapsto XA$, $A$ is a trainable $d\\times d$ matrix.\n",
    "7. Applies matrix exponential.\n",
    "8. Multiplies output with result of (1).\n",
    "9. Re-centers output to $x +c$ where $c$ is as in (1)."
   ]
  },
  {
   "cell_type": "code",
   "execution_count": 96,
   "metadata": {},
   "outputs": [],
   "source": [
    "class Reconfiguration_unit_steps(tf.keras.layers.Layer):\n",
    "\n",
    "    def __init__(self, *args, **kwargs):\n",
    "        super(Reconfiguration_unit_steps, self).__init__(*args, **kwargs)\n",
    "\n",
    "    def build(self, input_shape):\n",
    "        self.location = self.add_weight(name='location',\n",
    "                                    shape=input_shape[1:],\n",
    "                                    initializer='GlorotUniform',\n",
    "                                    trainable=True)\n",
    "        self.scale = self.add_weight(name='location',\n",
    "                                    shape=input_shape[1:],\n",
    "                                    initializer='GlorotNormal',\n",
    "                                    trainable=True)\n",
    "        \n",
    "        # Step 3\n",
    "        self.threshold = self.add_weight(name='threshold',\n",
    "                            shape=input_shape[1:],\n",
    "                            initializer='GlorotUniform',\n",
    "                            trainable=True)\n",
    "        \n",
    "        ## Steps 4-9\n",
    "        self.tangentbiases = self.add_weight(name='tangentbiases',\n",
    "                                    shape=input_shape[1:],\n",
    "                                    initializer='GlorotUniform',\n",
    "                                    trainable=True)\n",
    "        self.tangentweights = self.add_weight(name='tangentweights',\n",
    "                                    shape=input_shape[1:],\n",
    "                                    initializer='GlorotUniform',\n",
    "                                    trainable=True)\n",
    "#         self.location_b = self.add_weight(name='location_b',\n",
    "#                                     shape=input_shape[1:],\n",
    "#                                     initializer='GlorotUniform',\n",
    "#                                     trainable=True)\n",
    " \n",
    "\n",
    "    def call(self, input):\n",
    "        ### Steps 1-2\n",
    "        # Relocated\n",
    "        input_relocated = input + self.location\n",
    "        # Rescaled\n",
    "        output_steps_1_2 = tf.math.multiply(tf.math.abs(self.scale),input_relocated)\n",
    "        \n",
    "        ### Step 3\n",
    "        # Bump Function (without indicator)\n",
    "        output_step_3 = tf.math.divide(self.threshold,\n",
    "                       sig-tf.math.pow(output_steps_1_2,\n",
    "                                       2)\n",
    "                      )\n",
    "        # Apply Soft Indicator\n",
    "        indicator_soft = soft_indicator(self.threshold - \n",
    "                                        tf.math.pow(output_steps_1_2,2)\n",
    "                                       )\n",
    "\n",
    "        # Bump function with indicator\n",
    "        output_step_3 = tf.math.multiply(output_step_3,indicator_soft)\n",
    "    \n",
    "    \n",
    "        \n",
    "        ### Step 4-9\n",
    "        x_out = tf.math.multiply(tf.math.abs(self.tangentweights),output_step_3) + self.tangentbiases\n",
    "        \n",
    "        # 7. Apply Matrix Exponential\n",
    "        x_out = tf.linalg.diag(x_out)\n",
    "        #x_out = tf.linalg.expm(x_out)\n",
    "        x_out = x_out + tf.linalg.matmul(x_out,x_out)/2 + tf.linalg.matmul(x_out,tf.linalg.matmul(x_out,x_out))/6 +tf.linalg.matmul(x_out,tf.linalg.matmul(x_out,tf.linalg.matmul(x_out,x_out)))/24 #+tf.linalg.matmul(x_out,tf.linalg.matmul(x_out,tf.linalg.matmul(x_out,tf.linalg.matmul(x_out,x_out))))/120\n",
    "        \n",
    "        # TEMP: # If things are crashing use this\n",
    "        #x_out = tf.math.exp(x_out)\n",
    "        \n",
    "        # 8. Muliply by output of (1)\n",
    "        x_out = tf.linalg.matvec(x_out,input)\n",
    "        \n",
    "        # 9. Recenter Transformed Data\n",
    "        output_steps_4_9 = x_out + self.location#_b\n",
    "        \n",
    "        # Return Output\n",
    "        return output_steps_4_9"
   ]
  },
  {
   "cell_type": "markdown",
   "metadata": {},
   "source": [
    "#### Projection Layer\n",
    "Maps $\\mathbb{X}\\left((x,f(x))\\mid \\theta \\right) \\in \\mathbb{R}^{d\\times D}$ to an element of $\\mathbb{R}^D$ by post-composing with the second canonical projection\n",
    "$$\n",
    "(x_1,x_2)\\mapsto x_2\n",
    ",\n",
    "$$\n",
    "where $x_1 \\in \\mathbb{R}^d$ and $x_2 \\in \\mathbb{R}^D$.  "
   ]
  },
  {
   "cell_type": "code",
   "execution_count": 97,
   "metadata": {},
   "outputs": [],
   "source": [
    "projection_layer = tf.keras.layers.Lambda(lambda x: x[:, -D:])"
   ]
  },
  {
   "cell_type": "markdown",
   "metadata": {},
   "source": [
    "## Define Reconfiguration\n",
    "\n",
    "This is an iterated composition of reconfiguration units"
   ]
  },
  {
   "cell_type": "code",
   "execution_count": 98,
   "metadata": {},
   "outputs": [],
   "source": [
    "# Initialize\n",
    "input_layer = tf.keras.Input(shape=[d+D])\n",
    "# Steps 1 and 2\n",
    "reconfigure  = Reconfiguration_unit_steps()\n",
    "current_layer = reconfigure(input_layer)\n",
    "\n",
    "# Apply Reconfigurations\n",
    "for i in range(N_Reconfigurations):\n",
    "    reconfigure  = Reconfiguration_unit_steps()\n",
    "    current_layer = reconfigure(current_layer)\n",
    "    \n",
    "# Map back to R^D\n",
    "output_layer = projection_layer(current_layer)\n",
    "NEU_OLS = tf.keras.Model(inputs=[input_layer], outputs=[output_layer])\n",
    "\n",
    "# Summarize Model\n",
    "#NEU_OLS.summary()"
   ]
  },
  {
   "cell_type": "code",
   "execution_count": 99,
   "metadata": {},
   "outputs": [],
   "source": [
    "optimizer_on = tf.keras.optimizers.SGD(learning_rate=10**(-2), momentum=0.01, nesterov=True)\n",
    "\n",
    "NEU_OLS.compile(loss = 'mse',\n",
    "                optimizer = optimizer_on,\n",
    "                metrics = ['mse'])"
   ]
  },
  {
   "cell_type": "markdown",
   "metadata": {},
   "source": [
    "### Basic Algorithm (NEU-OLS)\n",
    "\n",
    "1. Perform Basic Algorithm (in this case OLS)\n",
    "2. Map predictions to their graph; ie $x\\mapsto (x,\\hat{f}_{OLS}(x))$ where $\\hat{f}_{OLS}$ is the least-squares regression function."
   ]
  },
  {
   "cell_type": "code",
   "execution_count": 100,
   "metadata": {},
   "outputs": [
    {
     "name": "stdout",
     "output_type": "stream",
     "text": [
      "Train on 100 samples\n",
      "Epoch 1/100\n",
      "100/100 [==============================] - 14s 139ms/sample - loss: 1.4655 - mse: 1.4655\n",
      "Epoch 2/100\n",
      "100/100 [==============================] - 0s 575us/sample - loss: 0.6762 - mse: 0.6762\n",
      "Epoch 3/100\n",
      "100/100 [==============================] - 0s 782us/sample - loss: 0.5929 - mse: 0.5929\n",
      "Epoch 4/100\n",
      "100/100 [==============================] - 0s 758us/sample - loss: 0.5456 - mse: 0.5456\n",
      "Epoch 5/100\n",
      "100/100 [==============================] - 0s 564us/sample - loss: 0.5342 - mse: 0.5342\n",
      "Epoch 6/100\n",
      "100/100 [==============================] - 0s 468us/sample - loss: 0.5395 - mse: 0.5395\n",
      "Epoch 7/100\n",
      "100/100 [==============================] - 0s 486us/sample - loss: 0.5352 - mse: 0.5352\n",
      "Epoch 8/100\n",
      "100/100 [==============================] - 0s 656us/sample - loss: 0.5344 - mse: 0.5344\n",
      "Epoch 9/100\n",
      "100/100 [==============================] - 0s 555us/sample - loss: 0.5330 - mse: 0.5330\n",
      "Epoch 10/100\n",
      "100/100 [==============================] - 0s 535us/sample - loss: 0.5369 - mse: 0.5369\n",
      "Epoch 11/100\n",
      "100/100 [==============================] - 0s 554us/sample - loss: 0.5341 - mse: 0.5341\n",
      "Epoch 12/100\n",
      "100/100 [==============================] - 0s 505us/sample - loss: 0.5377 - mse: 0.5377\n",
      "Epoch 13/100\n",
      "100/100 [==============================] - 0s 495us/sample - loss: 0.5355 - mse: 0.5355\n",
      "Epoch 14/100\n",
      "100/100 [==============================] - 0s 607us/sample - loss: 0.5279 - mse: 0.5279\n",
      "Epoch 15/100\n",
      "100/100 [==============================] - 0s 695us/sample - loss: 0.5283 - mse: 0.5283\n",
      "Epoch 16/100\n",
      "100/100 [==============================] - 0s 591us/sample - loss: 0.5290 - mse: 0.5290\n",
      "Epoch 17/100\n",
      "100/100 [==============================] - 0s 580us/sample - loss: 0.5303 - mse: 0.5303\n",
      "Epoch 18/100\n",
      "100/100 [==============================] - 0s 671us/sample - loss: 0.5236 - mse: 0.5236\n",
      "Epoch 19/100\n",
      "100/100 [==============================] - 0s 609us/sample - loss: 0.5192 - mse: 0.5192\n",
      "Epoch 20/100\n",
      "100/100 [==============================] - 0s 623us/sample - loss: 0.5249 - mse: 0.5249\n",
      "Epoch 21/100\n",
      "100/100 [==============================] - 0s 634us/sample - loss: 0.5129 - mse: 0.5129\n",
      "Epoch 22/100\n",
      "100/100 [==============================] - 0s 530us/sample - loss: 0.5074 - mse: 0.5074\n",
      "Epoch 23/100\n",
      "100/100 [==============================] - 0s 537us/sample - loss: 0.5009 - mse: 0.5009\n",
      "Epoch 24/100\n",
      "100/100 [==============================] - 0s 603us/sample - loss: 0.4854 - mse: 0.4854\n",
      "Epoch 25/100\n",
      "100/100 [==============================] - 0s 601us/sample - loss: 0.4508 - mse: 0.4508\n",
      "Epoch 26/100\n",
      "100/100 [==============================] - 0s 627us/sample - loss: nan - mse: nan\n",
      "Epoch 27/100\n",
      "100/100 [==============================] - 0s 565us/sample - loss: nan - mse: nan\n",
      "Epoch 28/100\n",
      "100/100 [==============================] - 0s 642us/sample - loss: nan - mse: nan\n",
      "Epoch 29/100\n",
      "100/100 [==============================] - 0s 593us/sample - loss: nan - mse: nan\n",
      "Epoch 30/100\n",
      "100/100 [==============================] - 0s 567us/sample - loss: nan - mse: nan\n",
      "Epoch 31/100\n",
      "100/100 [==============================] - 0s 627us/sample - loss: nan - mse: nan\n",
      "Epoch 32/100\n",
      "100/100 [==============================] - 0s 534us/sample - loss: nan - mse: nan\n",
      "Epoch 33/100\n",
      "100/100 [==============================] - 0s 562us/sample - loss: nan - mse: nan\n",
      "Epoch 34/100\n",
      "100/100 [==============================] - 0s 587us/sample - loss: nan - mse: nan\n",
      "Epoch 35/100\n",
      "100/100 [==============================] - 0s 705us/sample - loss: nan - mse: nan\n",
      "Epoch 36/100\n",
      "100/100 [==============================] - 0s 484us/sample - loss: nan - mse: nan\n",
      "Epoch 37/100\n",
      "100/100 [==============================] - 0s 672us/sample - loss: nan - mse: nan\n",
      "Epoch 38/100\n",
      "100/100 [==============================] - 0s 637us/sample - loss: nan - mse: nan\n",
      "Epoch 39/100\n",
      "100/100 [==============================] - 0s 588us/sample - loss: nan - mse: nan\n",
      "Epoch 40/100\n",
      "100/100 [==============================] - 0s 618us/sample - loss: nan - mse: nan\n",
      "Epoch 41/100\n",
      "100/100 [==============================] - 0s 641us/sample - loss: nan - mse: nan\n",
      "Epoch 42/100\n",
      "100/100 [==============================] - 0s 555us/sample - loss: nan - mse: nan\n",
      "Epoch 43/100\n",
      "100/100 [==============================] - 0s 609us/sample - loss: nan - mse: nan\n",
      "Epoch 44/100\n",
      "100/100 [==============================] - 0s 551us/sample - loss: nan - mse: nan\n",
      "Epoch 45/100\n",
      "100/100 [==============================] - 0s 503us/sample - loss: nan - mse: nan\n",
      "Epoch 46/100\n",
      "100/100 [==============================] - 0s 598us/sample - loss: nan - mse: nan\n",
      "Epoch 47/100\n",
      "100/100 [==============================] - 0s 549us/sample - loss: nan - mse: nan\n",
      "Epoch 48/100\n",
      "100/100 [==============================] - 0s 655us/sample - loss: nan - mse: nan\n",
      "Epoch 49/100\n",
      "100/100 [==============================] - 0s 643us/sample - loss: nan - mse: nan\n",
      "Epoch 50/100\n",
      "100/100 [==============================] - 0s 633us/sample - loss: nan - mse: nan\n",
      "Epoch 51/100\n",
      "100/100 [==============================] - 0s 769us/sample - loss: nan - mse: nan\n",
      "Epoch 52/100\n",
      "100/100 [==============================] - 0s 704us/sample - loss: nan - mse: nan\n",
      "Epoch 53/100\n",
      "100/100 [==============================] - 0s 552us/sample - loss: nan - mse: nan\n",
      "Epoch 54/100\n",
      "100/100 [==============================] - 0s 625us/sample - loss: nan - mse: nan\n",
      "Epoch 55/100\n",
      "100/100 [==============================] - 0s 449us/sample - loss: nan - mse: nan\n",
      "Epoch 56/100\n",
      "100/100 [==============================] - 0s 478us/sample - loss: nan - mse: nan\n",
      "Epoch 57/100\n",
      "100/100 [==============================] - 0s 687us/sample - loss: nan - mse: nan\n",
      "Epoch 58/100\n",
      "100/100 [==============================] - 0s 687us/sample - loss: nan - mse: nan\n",
      "Epoch 59/100\n",
      "100/100 [==============================] - 0s 644us/sample - loss: nan - mse: nan\n",
      "Epoch 60/100\n",
      "100/100 [==============================] - 0s 641us/sample - loss: nan - mse: nan\n",
      "Epoch 61/100\n",
      "100/100 [==============================] - 0s 555us/sample - loss: nan - mse: nan\n",
      "Epoch 62/100\n",
      "100/100 [==============================] - 0s 832us/sample - loss: nan - mse: nan\n",
      "Epoch 63/100\n",
      "100/100 [==============================] - 0s 686us/sample - loss: nan - mse: nan\n",
      "Epoch 64/100\n",
      "100/100 [==============================] - 0s 677us/sample - loss: nan - mse: nan\n",
      "Epoch 65/100\n",
      "100/100 [==============================] - 0s 509us/sample - loss: nan - mse: nan\n",
      "Epoch 66/100\n",
      "100/100 [==============================] - 0s 521us/sample - loss: nan - mse: nan\n",
      "Epoch 67/100\n",
      "100/100 [==============================] - 0s 582us/sample - loss: nan - mse: nan\n",
      "Epoch 68/100\n",
      "100/100 [==============================] - 0s 923us/sample - loss: nan - mse: nan\n",
      "Epoch 69/100\n",
      "100/100 [==============================] - 0s 592us/sample - loss: nan - mse: nan\n",
      "Epoch 70/100\n",
      "100/100 [==============================] - 0s 617us/sample - loss: nan - mse: nan\n",
      "Epoch 71/100\n",
      "100/100 [==============================] - 0s 569us/sample - loss: nan - mse: nan\n",
      "Epoch 72/100\n",
      "100/100 [==============================] - 0s 514us/sample - loss: nan - mse: nan\n",
      "Epoch 73/100\n",
      "100/100 [==============================] - 0s 521us/sample - loss: nan - mse: nan\n",
      "Epoch 74/100\n",
      "100/100 [==============================] - 0s 613us/sample - loss: nan - mse: nan\n",
      "Epoch 75/100\n",
      "100/100 [==============================] - 0s 661us/sample - loss: nan - mse: nan\n",
      "Epoch 76/100\n",
      "100/100 [==============================] - 0s 795us/sample - loss: nan - mse: nan\n",
      "Epoch 77/100\n",
      "100/100 [==============================] - 0s 593us/sample - loss: nan - mse: nan\n",
      "Epoch 78/100\n",
      "100/100 [==============================] - 0s 647us/sample - loss: nan - mse: nan\n",
      "Epoch 79/100\n",
      "100/100 [==============================] - 0s 1ms/sample - loss: nan - mse: nan\n",
      "Epoch 80/100\n",
      "100/100 [==============================] - 0s 774us/sample - loss: nan - mse: nan\n",
      "Epoch 81/100\n",
      "100/100 [==============================] - 0s 607us/sample - loss: nan - mse: nan\n",
      "Epoch 82/100\n",
      "100/100 [==============================] - 0s 560us/sample - loss: nan - mse: nan\n",
      "Epoch 83/100\n",
      "100/100 [==============================] - 0s 542us/sample - loss: nan - mse: nan\n",
      "Epoch 84/100\n",
      "100/100 [==============================] - 0s 594us/sample - loss: nan - mse: nan\n",
      "Epoch 85/100\n"
     ]
    },
    {
     "name": "stdout",
     "output_type": "stream",
     "text": [
      "100/100 [==============================] - 0s 718us/sample - loss: nan - mse: nan\n",
      "Epoch 86/100\n",
      "100/100 [==============================] - 0s 559us/sample - loss: nan - mse: nan\n",
      "Epoch 87/100\n",
      "100/100 [==============================] - 0s 618us/sample - loss: nan - mse: nan\n",
      "Epoch 88/100\n",
      "100/100 [==============================] - 0s 671us/sample - loss: nan - mse: nan\n",
      "Epoch 89/100\n",
      "100/100 [==============================] - 0s 635us/sample - loss: nan - mse: nan\n",
      "Epoch 90/100\n",
      "100/100 [==============================] - 0s 584us/sample - loss: nan - mse: nan\n",
      "Epoch 91/100\n",
      "100/100 [==============================] - 0s 708us/sample - loss: nan - mse: nan\n",
      "Epoch 92/100\n",
      "100/100 [==============================] - 0s 711us/sample - loss: nan - mse: nan\n",
      "Epoch 93/100\n",
      "100/100 [==============================] - 0s 557us/sample - loss: nan - mse: nan\n",
      "Epoch 94/100\n",
      "100/100 [==============================] - 0s 550us/sample - loss: nan - mse: nan\n",
      "Epoch 95/100\n",
      "100/100 [==============================] - 0s 703us/sample - loss: nan - mse: nan\n",
      "Epoch 96/100\n",
      "100/100 [==============================] - 0s 674us/sample - loss: nan - mse: nan\n",
      "Epoch 97/100\n",
      "100/100 [==============================] - 0s 732us/sample - loss: nan - mse: nan\n",
      "Epoch 98/100\n",
      "100/100 [==============================] - 0s 542us/sample - loss: nan - mse: nan\n",
      "Epoch 99/100\n",
      "100/100 [==============================] - 0s 468us/sample - loss: nan - mse: nan\n",
      "Epoch 100/100\n",
      "100/100 [==============================] - 0s 556us/sample - loss: nan - mse: nan\n"
     ]
    }
   ],
   "source": [
    "history = NEU_OLS.fit(\n",
    "          data_NEU, NEU_targets,\n",
    "          epochs=Epochs)"
   ]
  },
  {
   "cell_type": "code",
   "execution_count": 101,
   "metadata": {},
   "outputs": [
    {
     "data": {
      "text/plain": [
       "(100, 1)"
      ]
     },
     "execution_count": 101,
     "metadata": {},
     "output_type": "execute_result"
    }
   ],
   "source": [
    "# Projection\n",
    "NEU_prediction = NEU_OLS.predict(data_NEU)\n",
    "np.shape(NEU_prediction)"
   ]
  },
  {
   "cell_type": "code",
   "execution_count": 102,
   "metadata": {},
   "outputs": [
    {
     "data": {
      "text/plain": [
       "[<matplotlib.lines.Line2D at 0x7f2a1b999210>]"
      ]
     },
     "execution_count": 102,
     "metadata": {},
     "output_type": "execute_result"
    },
    {
     "data": {
      "image/png": "[encoded data removed]",
      "text/plain": [
       "<Figure size 960x800 with 1 Axes>"
      ]
     },
     "metadata": {},
     "output_type": "display_data"
    }
   ],
   "source": [
    "# import matplotlib.pyplot as plt\n",
    "# Adjust Figure Details\n",
    "plt.figure(num=None, figsize=(12, 10), dpi=80, facecolor='w', edgecolor='k')\n",
    "\n",
    "# Plot Models\n",
    "plt.plot(data_x,true_y,color='k',label='true',linestyle='--')\n",
    "plt.plot(data_x,NEU_prediction,color='b',label='NEU-OLS')\n",
    "plt.plot(data_x,model_pred_y,color='r',label='NEU-OLS')"
   ]
  },
  {
   "cell_type": "markdown",
   "metadata": {},
   "source": []
  },
  {
   "cell_type": "code",
   "execution_count": null,
   "metadata": {},
   "outputs": [],
   "source": []
  }
 ],
 "metadata": {
  "kernelspec": {
   "display_name": "Python 3",
   "language": "python",
   "name": "python3"
  },
  "language_info": {
   "codemirror_mode": {
    "name": "ipython",
    "version": 3
   },
   "file_extension": ".py",
   "mimetype": "text/x-python",
   "name": "python",
   "nbconvert_exporter": "python",
   "pygments_lexer": "ipython3",
   "version": "3.7.6"
  }
 },
 "nbformat": 4,
 "nbformat_minor": 2
}
