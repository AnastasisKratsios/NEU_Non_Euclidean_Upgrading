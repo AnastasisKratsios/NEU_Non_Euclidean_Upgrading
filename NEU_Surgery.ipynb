{
 "cells": [
  {
   "cell_type": "markdown",
   "metadata": {},
   "source": [
    "# NEU (Reconfigurations Map and Related Functions)\n",
    "\n",
    "## Initializations:"
   ]
  },
  {
   "cell_type": "code",
   "execution_count": 1,
   "metadata": {},
   "outputs": [
    {
     "name": "stderr",
     "output_type": "stream",
     "text": [
      "Using TensorFlow backend.\n"
     ]
    },
    {
     "name": "stdout",
     "output_type": "stream",
     "text": [
      "TensorFlow: 2.1.0\n"
     ]
    }
   ],
   "source": [
    "# Deep Learning & ML\n",
    "import tensorflow as tf\n",
    "import tensorflow_probability as tfp\n",
    "import keras as K\n",
    "from keras import backend as Kback\n",
    "from keras.models import Sequential\n",
    "from keras import layers\n",
    "from keras import utils as np_utils\n",
    "from scipy import linalg as scila\n",
    "\n",
    "# Linear Regression\n",
    "from sklearn.linear_model import LinearRegression\n",
    "\n",
    "# General\n",
    "import numpy as np\n",
    "import time\n",
    "\n",
    "# Alerts\n",
    "# import tkinter\n",
    "# from tkinter import messagebox\n",
    "import os as beepsnd\n",
    "\n",
    "# General Outputs\n",
    "print('TensorFlow:', tf.__version__)"
   ]
  },
  {
   "cell_type": "code",
   "execution_count": 2,
   "metadata": {},
   "outputs": [
    {
     "data": {
      "text/plain": [
       "<Figure size 640x480 with 1 Axes>"
      ]
     },
     "metadata": {},
     "output_type": "display_data"
    }
   ],
   "source": [
    "#### TEMP\n",
    "\n",
    "N_Reconfigurations = 10**2\n",
    "d = 1 # Dimension of X\n",
    "D = 1 # Dimension of Y\n",
    "\n",
    "# Data Meta-Parameters\n",
    "noise_level = 0.1\n",
    "uncertainty_level= 0.9\n",
    "\n",
    "# Training meta-parameters\n",
    "Epochs = 10**2\n",
    "\n",
    "\n",
    "# Number of Datapoints\n",
    "N_data = 10**2\n",
    "# Unknown Function\n",
    "def unknown_f(x):\n",
    "    return np.sin(x) #+ (x % 2)\n",
    "%run Data_Generator.ipynb"
   ]
  },
  {
   "cell_type": "code",
   "execution_count": 3,
   "metadata": {},
   "outputs": [],
   "source": [
    "## TEM{}\n",
    "# Reshape Data Into Compatible Shape\n",
    "data_x = np.array(data_x).reshape(-1,d)\n",
    "data_y = np.array(data_y)\n",
    "# Perform OLS Regression\n",
    "linear_model = LinearRegression()\n",
    "reg = linear_model.fit(data_x, data_y)\n",
    "model_pred_y = linear_model.predict(data_x)\n",
    "# Map to Graph\n",
    "data_NEU = np.concatenate((data_x,model_pred_y.reshape(-1,D)),1)\n",
    "NEU_targets  = data_y.reshape(-1,D)"
   ]
  },
  {
   "cell_type": "markdown",
   "metadata": {},
   "source": [
    "## Helper Functions:"
   ]
  },
  {
   "cell_type": "code",
   "execution_count": 4,
   "metadata": {},
   "outputs": [],
   "source": [
    "#----------------------------#\n",
    "# Helper Functions T/F Functions\n",
    "#----------------------------#\n",
    "def bump_True(x):\n",
    "    x_out = 1- tf.math.pow(tf.math.abs(x),2)\n",
    "    x_out = tf.math.exp(-tf.math.divide(1,x_out))\n",
    "    return x_out\n",
    "\n",
    "def bump_False(x):\n",
    "    x_out = 0\n",
    "    return x_out\n",
    "\n",
    "# Approximation to max(0,x) function by smooth function\n",
    "# https://math.stackexchange.com/questions/517482/approximating-a-maximum-function-by-a-differentiable-function\n",
    "def abs_helper(x):\n",
    "    return tf.math.sqrt(tf.math.pow(x,2)+(10**(-5)))\n",
    "\n",
    "def max_helper(x):\n",
    "    return tf.math.multiply(abs_helper(x) + x,.5)\n",
    "\n",
    "def soft_indicator(x):\n",
    "    return max_helper(tf.math.sign(x))\n",
    "\n",
    "def bump_function(x):\n",
    "    # Gaussian rescaled to [-1,1]^d\n",
    "    bump_out = 1-tf.math.pow(x,2)        \n",
    "    bump_out = tf.math.divide(-1,bump_out)\n",
    "    bump_out = tf.math.exp(bump_out)\n",
    "    # Indicator\n",
    "    indicator = soft_indicator(1-x)\n",
    "    # 0 outside of [-1,1]^d\n",
    "    bump_out = tf.math.multiply(bump_out,indicator)\n",
    "    return bump_out"
   ]
  },
  {
   "cell_type": "markdown",
   "metadata": {},
   "source": [
    "## Build Reconfiguration Unit\n",
    "$$\n",
    "x \\mapsto \\exp\\left(\n",
    "\\psi(x-c;\\sigma) X\n",
    "\\right) (x-c) + c\n",
    "$$\n",
    "where:\n",
    "### Workflow\n",
    "1. Shifts $x \\in \\mathbb{R}^d$ to $x- c$; c trainable.\n",
    "2. Applies the map $\\psi(x;\\sigma)\\triangleq e^{\\frac{\\sigma}{\\sigma-|x|}}I_{\\{|x|<\\sigma\\}}$ component-wise.  \n",
    "3. Applies transformation $x \\mapsto x +b$, $b \\in \\mathbb{R}^d$ trainable.\n",
    "4. Applies the diagonalization map to that output: $ \\left(x_1,\\dots,x_d\\right)\\mapsto\n",
    "                \\begin{pmatrix}\n",
    "                x_1 & & 0\\\\\n",
    "                &\\ddots &\\\\\n",
    "                0 & & x_d\\\\\n",
    "                \\end{pmatrix}.$\n",
    "5. Applies map $X \\mapsto XA$, $A$ is a trainable $d\\times d$ matrix.\n",
    "6. Applies matrix exponential.\n",
    "7. Multiplies output with result of (1).\n",
    "8. Re-centers output to $x +c$ where $c$ is as in (1)."
   ]
  },
  {
   "cell_type": "code",
   "execution_count": 5,
   "metadata": {},
   "outputs": [],
   "source": [
    "class Reconfiguration_unit_steps(tf.keras.layers.Layer):\n",
    "\n",
    "    def __init__(self, *args, **kwargs):\n",
    "        super(Reconfiguration_unit_steps, self).__init__(*args, **kwargs)\n",
    "\n",
    "    def build(self, input_shape):\n",
    "        self.location = self.add_weight(name='location',\n",
    "                                     shape=input_shape[1:],\n",
    "                                     initializer='GlorotUniform',\n",
    "                                     trainable=True)\n",
    "#         self.scale = self.add_weight(name='location',\n",
    "#                                     shape=input_shape[1:],\n",
    "#                                     initializer='GlorotNormal',\n",
    "#                                     trainable=True)\n",
    "        \n",
    "        # Step 3\n",
    "#         self.threshold = self.add_weight(name='threshold',\n",
    "#                             shape=input_shape[1:],\n",
    "#                             initializer='GlorotUniform',\n",
    "#                             trainable=True)\n",
    "        \n",
    "        ## Steps 4-9\n",
    "        self.tangentbiases = self.add_weight(name='tangentbiases',\n",
    "                                    shape=input_shape[1:],\n",
    "                                    initializer='GlorotUniform',\n",
    "                                    trainable=True)\n",
    "        self.tangentweights = self.add_weight(name='tangentweights',\n",
    "                                    shape=input_shape[1:],\n",
    "                                    initializer='GlorotUniform',\n",
    "                                    trainable=True)\n",
    "#         self.location_b = self.add_weight(name='location_b',\n",
    "#                                     shape=input_shape[1:],\n",
    "#                                     initializer='GlorotUniform',\n",
    "#                                     trainable=True)\n",
    "\n",
    "        # STEP 3 - NEW\n",
    "        # INITIALIZE KERNELS\n",
    "        self.kernel_a = self.add_weight(name='kernel_a ',\n",
    "                                    shape=input_shape[1:],\n",
    "                                    initializer='GlorotUniform',\n",
    "                                    trainable=True)\n",
    "\n",
    "        #inverse width\n",
    "        self.kernel_b = self.add_weight(name='kernel_b',\n",
    "                                    shape=input_shape[1:],\n",
    "                                    initializer='GlorotUniform',\n",
    "                                    trainable=True)\n",
    "\n",
    "        #center\n",
    "        self.kernel_c = self.add_weight(name='kernel_c',\n",
    "                                    shape=input_shape[1:],\n",
    "                                    initializer='zeros',\n",
    "                                    trainable=True)\n",
    " \n",
    "\n",
    "    def call(self, input):\n",
    "        ### Steps 1-2\n",
    "        # Relocated\n",
    "        output_steps_1_2 = input + self.location\n",
    "        # Rescaled\n",
    "        #output_steps_1_2 = tf.math.multiply(tf.math.abs(self.scale),output_steps_1_2)\n",
    "        \n",
    "        ### Step 3\n",
    "        # Old\n",
    "        #output_step_3 = tf.math.multiply(output_steps_1_2,self.threshold)\n",
    "        #output_step_3 = bump_function(output_step_3)    \n",
    "        # NEW\n",
    "        exp_arg = - self.kernel_b * tf.math.square(output_steps_1_2 - self.kernel_c)\n",
    "        output_step_3 = self.kernel_a * tf.math.exp(exp_arg)\n",
    "        \n",
    "        ### Step 4-9\n",
    "        x_out = tf.math.multiply(tf.math.abs(self.tangentweights),output_step_3) + self.tangentbiases\n",
    "        \n",
    "        # 7. Apply Matrix Exponential\n",
    "        x_out = tf.linalg.diag(x_out)\n",
    "        #------------------------------#\n",
    "        # Using an approximation of the matrix exponential (tf.linalg.expm(x_out)) is prefeable \n",
    "        # **Since:** TF uses Sylvester's method to for (fast) computation but this requires additional assumptions on the matrix which are typically not satified...\n",
    "        # **Instead:** Use a truncated power series representation (standard definition of expm) of order 4\n",
    "        x_out = tf.linalg.diag(tf.ones(d+D)) + x_out + tf.linalg.matmul(x_out,x_out)/2 + tf.linalg.matmul(x_out,tf.linalg.matmul(x_out,x_out))/6 +tf.linalg.matmul(x_out,tf.linalg.matmul(x_out,tf.linalg.matmul(x_out,x_out)))/24 #+tf.linalg.matmul(x_out,tf.linalg.matmul(x_out,tf.linalg.matmul(x_out,tf.linalg.matmul(x_out,x_out))))/120\n",
    "        \n",
    "        \n",
    "        # 8. Muliply by output of (1)\n",
    "        x_out = tf.linalg.matvec(x_out,input)\n",
    "        \n",
    "        # 9. Recenter Transformed Data\n",
    "        output_steps_4_9 = x_out + self.location#_b\n",
    "        \n",
    "        # Return Output\n",
    "        return output_steps_4_9"
   ]
  },
  {
   "cell_type": "markdown",
   "metadata": {},
   "source": [
    "#### Projection Layer\n",
    "Maps $\\mathbb{X}\\left((x,f(x))\\mid \\theta \\right) \\in \\mathbb{R}^{d\\times D}$ to an element of $\\mathbb{R}^D$ by post-composing with the second canonical projection\n",
    "$$\n",
    "(x_1,x_2)\\mapsto x_2\n",
    ",\n",
    "$$\n",
    "where $x_1 \\in \\mathbb{R}^d$ and $x_2 \\in \\mathbb{R}^D$.  "
   ]
  },
  {
   "cell_type": "code",
   "execution_count": 6,
   "metadata": {},
   "outputs": [],
   "source": [
    "projection_layer = tf.keras.layers.Lambda(lambda x: x[:, -D:])"
   ]
  },
  {
   "cell_type": "markdown",
   "metadata": {},
   "source": [
    "### Basic Algorithm (NEU-OLS)\n",
    "\n",
    "1. Perform Basic Algorithm (in this case OLS)\n",
    "2. Map predictions to their graph; ie $x\\mapsto (x,\\hat{f}_{OLS}(x))$ where $\\hat{f}_{OLS}$ is the least-squares regression function."
   ]
  },
  {
   "cell_type": "markdown",
   "metadata": {},
   "source": [
    "## Fit and Compile First Reconfiguration Unit\n",
    "\n",
    "Define function helper function fitting and compiling the basic model:"
   ]
  },
  {
   "cell_type": "code",
   "execution_count": 7,
   "metadata": {},
   "outputs": [],
   "source": [
    "# define and fit the base model\n",
    "def get_base_model(trainx, trainy):\n",
    "    # Define Model\n",
    "    #----------------#\n",
    "    # Initialize\n",
    "    input_layer = tf.keras.Input(shape=[d+D])\n",
    "    # Apply Reconfiguration Unit\n",
    "    reconfigure  = Reconfiguration_unit_steps()\n",
    "    current_layer = reconfigure(input_layer)\n",
    "    # Output\n",
    "    output_layer = projection_layer(current_layer)\n",
    "    reconfiguration_basic = tf.keras.Model(inputs=[input_layer], outputs=[output_layer])\n",
    "    \n",
    "    # Compile Model\n",
    "    #----------------#\n",
    "    # Define Optimizer\n",
    "    optimizer_on = tf.keras.optimizers.SGD(learning_rate=10**(-2), momentum=0.01, nesterov=True)\n",
    "    # Compile\n",
    "    reconfiguration_basic.compile(loss = 'mse',\n",
    "                    optimizer = optimizer_on,\n",
    "                    metrics = ['mse'])\n",
    "    \n",
    "    # Fit Model\n",
    "    #----------------#\n",
    "    reconfiguration_basic.fit(trainx, trainy, epochs=100, verbose=0)\n",
    "        \n",
    "    # Return Output\n",
    "    return reconfiguration_basic"
   ]
  },
  {
   "cell_type": "markdown",
   "metadata": {},
   "source": [
    "Compile the basic reconfiguration unit (model)."
   ]
  },
  {
   "cell_type": "markdown",
   "metadata": {},
   "source": [
    "Add and greedily train reconfiguration unit."
   ]
  },
  {
   "cell_type": "code",
   "execution_count": 25,
   "metadata": {},
   "outputs": [],
   "source": [
    "def add_reconfiguration_unit_greedily(model, trainx, trainy):\n",
    "\n",
    "    # Remove the output (Lambda/projection) layer\n",
    "    model._layers.pop()\n",
    "\n",
    "    # mark all remaining layers as non-trainable\n",
    "    for layer in model._layers:\n",
    "        layer._trainable = False\n",
    "\n",
    "    # Apply Reconfiguration Unit\n",
    "    input_layer = tf.keras.Input(shape=[d+D])\n",
    "    # Apply Reconfiguration Unit\n",
    "    reconfigure  = Reconfiguration_unit_steps()\n",
    "    current_layer = reconfigure(input_layer)\n",
    "\n",
    "    # Output\n",
    "    model_new = model(current_layer)\n",
    "    output_layer = projection_layer(model_new)\n",
    "\n",
    "    # model.summary()\n",
    "    model_new = tf.keras.Model(inputs = [input_layer],outputs = output_layer)\n",
    "\n",
    "    \n",
    "    # Compile new Model\n",
    "    #-------------------#\n",
    "    # Define Optimizer\n",
    "    optimizer_on = tf.keras.optimizers.SGD(learning_rate=10**(-2), momentum=0.01, nesterov=True)\n",
    "    # Compile Model\n",
    "    model_new.compile(loss = 'mse',\n",
    "                    optimizer = optimizer_on,\n",
    "                    metrics = ['mse'])\n",
    "\n",
    "    # Fit Model\n",
    "    #----------------#\n",
    "    model_new.fit(trainx, trainy, epochs=100, verbose=0)\n",
    "    # model.summary()\n",
    "    \n",
    "    # Return Output\n",
    "    return model_new"
   ]
  },
  {
   "cell_type": "code",
   "execution_count": 26,
   "metadata": {},
   "outputs": [
    {
     "name": "stdout",
     "output_type": "stream",
     "text": [
      "Model: \"model_8\"\n",
      "_________________________________________________________________\n",
      "Layer (type)                 Output Shape              Param #   \n",
      "=================================================================\n",
      "input_9 (InputLayer)         [(None, 2)]               0         \n",
      "_________________________________________________________________\n",
      "reconfiguration_unit_steps_8 (None, 2)                 12        \n",
      "_________________________________________________________________\n",
      "lambda (Lambda)              (None, 1)                 0         \n",
      "=================================================================\n",
      "Total params: 12\n",
      "Trainable params: 12\n",
      "Non-trainable params: 0\n",
      "_________________________________________________________________\n"
     ]
    }
   ],
   "source": [
    "model = get_base_model(data_NEU,NEU_targets)\n",
    "model.summary()\n",
    "# Predict\n",
    "NEU_prediction = model.predict(data_NEU)"
   ]
  },
  {
   "cell_type": "code",
   "execution_count": 27,
   "metadata": {},
   "outputs": [
    {
     "name": "stdout",
     "output_type": "stream",
     "text": [
      "Model: \"model_9\"\n",
      "_________________________________________________________________\n",
      "Layer (type)                 Output Shape              Param #   \n",
      "=================================================================\n",
      "input_10 (InputLayer)        [(None, 2)]               0         \n",
      "_________________________________________________________________\n",
      "reconfiguration_unit_steps_9 (None, 2)                 12        \n",
      "_________________________________________________________________\n",
      "model_8 (Model)              (None, 1)                 12        \n",
      "_________________________________________________________________\n",
      "lambda (Lambda)              (None, 1)                 0         \n",
      "=================================================================\n",
      "Total params: 24\n",
      "Trainable params: 12\n",
      "Non-trainable params: 12\n",
      "_________________________________________________________________\n"
     ]
    }
   ],
   "source": [
    "model1 = add_reconfiguration_unit_greedily(model,data_NEU,NEU_targets)\n",
    "model1.summary()\n",
    "# Predict\n",
    "NEU_prediction1 = model1.predict(data_NEU)"
   ]
  },
  {
   "cell_type": "code",
   "execution_count": 28,
   "metadata": {},
   "outputs": [
    {
     "data": {
      "text/plain": [
       "[<matplotlib.lines.Line2D at 0x7f7f6c3b5e90>]"
      ]
     },
     "execution_count": 28,
     "metadata": {},
     "output_type": "execute_result"
    },
    {
     "data": {
      "image/png": "[encoded data removed]",
      "text/plain": [
       "<Figure size 960x800 with 1 Axes>"
      ]
     },
     "metadata": {},
     "output_type": "display_data"
    }
   ],
   "source": [
    "# import matplotlib.pyplot as plt\n",
    "# Adjust Figure Details\n",
    "plt.figure(num=None, figsize=(12, 10), dpi=80, facecolor='w', edgecolor='k')\n",
    "\n",
    "# Plot Models\n",
    "plt.plot(data_x,true_y,color='k',label='true',linestyle='--')\n",
    "plt.plot(data_x,NEU_prediction,color='b',label='NEU-OLS')\n",
    "plt.plot(data_x,NEU_prediction1,color='g',label='NEU-OLS')\n",
    "plt.plot(data_x,model_pred_y,color='r',label='NEU-OLS')"
   ]
  },
  {
   "cell_type": "code",
   "execution_count": null,
   "metadata": {},
   "outputs": [],
   "source": []
  }
 ],
 "metadata": {
  "kernelspec": {
   "display_name": "Python 3",
   "language": "python",
   "name": "python3"
  },
  "language_info": {
   "codemirror_mode": {
    "name": "ipython",
    "version": 3
   },
   "file_extension": ".py",
   "mimetype": "text/x-python",
   "name": "python",
   "nbconvert_exporter": "python",
   "pygments_lexer": "ipython3",
   "version": "3.7.6"
  }
 },
 "nbformat": 4,
 "nbformat_minor": 2
}
