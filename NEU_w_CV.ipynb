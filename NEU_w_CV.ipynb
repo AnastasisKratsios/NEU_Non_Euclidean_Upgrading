{
 "cells": [
  {
   "cell_type": "markdown",
   "metadata": {},
   "source": [
    "# (N)on-(E)uclidean (U)pgrading\n",
    "---\n",
    "#### Description of NEU:\n",
    "The NEU meta-algorithm learns a geometry for the input and (input $\\times$ output) spaces by deforming them with a universal class of homeomorphisms + robustifies the involved loss functions to improve generalizability of the new and very flexible model.  \n",
    "$$\n",
    "\\begin{aligned}\n",
    "f \\mapsto& \\, \\rho \\circ f \\circ \\phi\\\\\n",
    "\\mathbb{E}_{\\mathbb{P}}[\\ell(f(X))] \\mapsto & \\,\\max_{\\mathbb{Q}\\sim \\mathbb{P}}\\, \\mathbb{E}_{\\mathbb{Q}}[\\ell(\\rho(\\phi(X), f\\circ \\phi(X)))].\n",
    "\\end{aligned}\n",
    "$$\n",
    "$\\rho=\\pi\\circ \\tilde{\\rho}$, and $\\tilde{\\rho}$ and $\\phi$ are \"universal homeomorphisms\" on $\\operatorname{dom}(f)$ and on $\\operatorname{dom}(f)\\times \\operatorname{co-dom}(f)$, respectively.  \n",
    "\n",
    "---"
   ]
  },
  {
   "cell_type": "markdown",
   "metadata": {},
   "source": [
    "---\n",
    "\n",
    "#### Description of regression problem: \n",
    "In this notebook we implement the regression problem\n",
    "$$\n",
    "\\begin{aligned}\n",
    "y_i =&  \\,f(x_i)\\delta_i + \\epsilon_i, \\qquad i=1,\\dots,N\\\\\n",
    "\\epsilon_i \\sim &\\, \\mathcal{N}(0,\\sigma),\\\\\n",
    "\\delta_i\\sim &  \\,U(1-D,1+D),\n",
    "\\end{aligned}\n",
    "$$\n",
    "for some *variance* $\\sigma>0$ and *degree of model misspecification level* $0<D<1$.  \n",
    "The quantity $\\epsilon$ can be understood as, classical, additive noise while the quantity $\\delta$ represents multiplicative noise.\n",
    "\n",
    "---"
   ]
  },
  {
   "cell_type": "markdown",
   "metadata": {},
   "source": [
    "---\n",
    "\n",
    "### Functions from the paper:\n",
    " - 1) $\\min\\{\\exp(\\frac{-1}{(1+x)^2}),x+\\cos(x)\\}$. Reason: Evaluate performance for pasted functions and general badness.\n",
    " - 2) $\\cos(\\exp(-x))$.  Reason: Evaluate performance for non-periodic osculations.\n",
    " - 3) $I_{(-\\infty,\\frac1{2})}$.  Reason: Evaluation performance on a single jump.  \n",
    " \n",
    " ---"
   ]
  },
  {
   "cell_type": "markdown",
   "metadata": {},
   "source": [
    "## Initializations:\n",
    "- Load Dependancies,\n",
    "- Makes Paths if missing."
   ]
  },
  {
   "cell_type": "code",
   "execution_count": null,
   "metadata": {},
   "outputs": [],
   "source": [
    "# Load Dependances and makes path(s)\n",
    "exec(open('Initializations_Dump.py').read())\n",
    "# Load Hyper( and meta) parameter(s)\n",
    "exec(open('HyperParameter_Grid.py').read())\n",
    "# Load Hyper( and meta) parameter(s)\n",
    "# %run Helper_Functions.ipynb\n",
    "exec(open('Helper_Functions.py').read())"
   ]
  },
  {
   "cell_type": "markdown",
   "metadata": {},
   "source": [
    "## Initialize Internal Variables/(Hyper)parameter(s)"
   ]
  },
  {
   "cell_type": "markdown",
   "metadata": {},
   "source": [
    "## Check/Make Paths"
   ]
  },
  {
   "cell_type": "code",
   "execution_count": null,
   "metadata": {},
   "outputs": [],
   "source": [
    "Path('./outputs/models/').mkdir(parents=True, exist_ok=True)\n",
    "Path('./outputs/models/Benchmarks/').mkdir(parents=True, exist_ok=True)\n",
    "Path('./outputs/models/Benchmarks/Invertible_Networks/GLd_Net/').mkdir(parents=True, exist_ok=True)\n",
    "Path('./outputs/models/Benchmarks/Invertible_Networks/Ed_Net/').mkdir(parents=True, exist_ok=True)\n",
    "Path('./outputs/models/Benchmarks/Linear_Regression/').mkdir(parents=True, exist_ok=True)\n",
    "Path('./outputs/models/NEU/').mkdir(parents=True, exist_ok=True)\n",
    "Path('./outputs/models/NEU/Greedy_Initializations/').mkdir(parents=True, exist_ok=True)\n",
    "Path('./outputs/models/NEU/Greedy_Initializations/Base_Regressor/').mkdir(parents=True, exist_ok=True)\n",
    "Path('./outputs/tables/').mkdir(parents=True, exist_ok=True)\n",
    "Path('./outputs/results/').mkdir(parents=True, exist_ok=True)\n",
    "Path('./inputs/data/').mkdir(parents=True, exist_ok=True)"
   ]
  },
  {
   "cell_type": "markdown",
   "metadata": {},
   "source": [
    "# Generate Training Data"
   ]
  },
  {
   "cell_type": "code",
   "execution_count": null,
   "metadata": {},
   "outputs": [],
   "source": [
    "#------------------------#\n",
    "# Run External Notebooks #\n",
    "#------------------------#\n",
    "# Generate Data\n",
    "Option_Function = \"oscilatory\"\n",
    "%run Data_Generator.ipynb"
   ]
  },
  {
   "cell_type": "markdown",
   "metadata": {},
   "source": [
    "#### Prepare data for NEU"
   ]
  },
  {
   "cell_type": "markdown",
   "metadata": {},
   "source": [
    "## 1) Get Basic Regression Models\n",
    " 1. Get Base regression model (benchmark),\n",
    " 2. Get Base regression model for NEU."
   ]
  },
  {
   "cell_type": "markdown",
   "metadata": {},
   "source": [
    "## Get basic regression model - Benchmark"
   ]
  },
  {
   "cell_type": "code",
   "execution_count": null,
   "metadata": {},
   "outputs": [],
   "source": [
    "if False:#os.path.exists('./outputs/models/Benchmarks/Linear_Regression/saved_model.pb'):\n",
    "    #------------------#\n",
    "    # Load Readout Map #\n",
    "    #------------------#\n",
    "    print('Benchmark model - already exists: Loading...')\n",
    "    regression_Benchmark = tf.keras.models.load_model(\"./outputs/models/Benchmarks/Linear_Regression/\")\n",
    "    print('Benchmark model - already exists: Loaded.')\n",
    "else:\n",
    "    print('Pre-trained benchmark model does not exist: Training.')\n",
    "    tf.random.set_seed(2020)\n",
    "    ffNN_y_hat_train,ffNN_y_hat_test = build_ffNN(n_folds =CV_folds, \n",
    "                                                 n_jobs = n_jobs, \n",
    "                                                 n_iter = n_iter, \n",
    "                                                 param_grid_in = param_grid_Vanilla_Nets, \n",
    "                                                 X_train = data_x, \n",
    "                                                 y_train = data_y,\n",
    "                                                 X_test = data_x_test)"
   ]
  },
  {
   "cell_type": "markdown",
   "metadata": {},
   "source": [
    "# Train NEU-ffNN"
   ]
  },
  {
   "cell_type": "code",
   "execution_count": null,
   "metadata": {},
   "outputs": [],
   "source": [
    "tf.random.set_seed(2020)\n",
    "print('Pre-trained benchmark model does not exist: Training.')\n",
    "NEU_ffNN_y_hat_train, NEU_ffNN_y_hat_test = build_NEU_ffNN(n_folds = CV_folds, \n",
    "                                                           n_jobs = n_jobs, \n",
    "                                                           n_iter = n_iter, \n",
    "                                                           param_grid_in = param_grid_NEU_Nets, \n",
    "                                                           X_train = data_x, \n",
    "                                                           y_train = data_y,\n",
    "                                                           X_test = data_x_test)"
   ]
  },
  {
   "cell_type": "markdown",
   "metadata": {},
   "source": [
    "### Generate Plots - Visualization"
   ]
  },
  {
   "cell_type": "code",
   "execution_count": null,
   "metadata": {},
   "outputs": [],
   "source": [
    "# Initialize Plot #\n",
    "#-----------------#\n",
    "plt.figure(num=None, figsize=(12, 10), dpi=80, facecolor='w', edgecolor='k')\n",
    "\n",
    "# Generate Plots #\n",
    "#----------------#\n",
    "\n",
    "# Plot Signal\n",
    "plt.plot(np.array(data_x_test).reshape(-1,),data_y_test,color='gray',label='f(x)',linestyle='--')\n",
    "# Plot Data\n",
    "plt.scatter(np.array(data_x).reshape(-1,),data_y.reshape(-1,),color='gray',label='train', marker = '2')\n",
    "plt.scatter(np.array(data_x_test).reshape(-1,),data_y_test.reshape(-1,),color='black',label='test', marker = '.')\n",
    "\n",
    "\n",
    "# Plot Benchmark(s)\n",
    "plt.plot(np.array(data_x_test).reshape(-1,),ffNN_y_hat_test, color = 'red', label='DNN')\n",
    "# Plot NEU Regressors\n",
    "plt.plot(np.array(data_x_test).reshape(-1,),NEU_ffNN_y_hat_test, color = 'blue',label='DNN_NEU')\n",
    "\n",
    "# Format Plot #\n",
    "#-------------#\n",
    "plt.legend(loc=\"upper left\")\n",
    "plt.title(\"Training - Set Predictions\")\n",
    "plt.show()"
   ]
  },
  {
   "cell_type": "markdown",
   "metadata": {},
   "source": [
    "---\n",
    "---\n",
    "---"
   ]
  },
  {
   "cell_type": "markdown",
   "metadata": {},
   "source": [
    "# Benchmark Models"
   ]
  },
  {
   "cell_type": "markdown",
   "metadata": {},
   "source": [
    "Run univariate regression benchmarks file:"
   ]
  },
  {
   "cell_type": "code",
   "execution_count": null,
   "metadata": {},
   "outputs": [],
   "source": [
    "# Run Univariate Regression File #\n",
    "#--------------------------------#\n",
    "%run Univariate_Regression_Benchmark_Models.ipynb"
   ]
  },
  {
   "cell_type": "markdown",
   "metadata": {},
   "source": [
    "# Visualize Predictions"
   ]
  },
  {
   "cell_type": "code",
   "execution_count": null,
   "metadata": {},
   "outputs": [],
   "source": [
    "# Initialize Plot #\n",
    "#-----------------#\n",
    "plt.figure(num=None, figsize=(12, 12), dpi=80, facecolor='w', edgecolor='k')\n",
    "\n",
    "# Generate Plots #\n",
    "#----------------#\n",
    "\n",
    "# Plot Signal\n",
    "plt.plot(np.array(data_x_test).reshape(-1,),data_y_test,color='gray',label='f(x)',linestyle='--')\n",
    "# Plot Data\n",
    "plt.scatter(np.array(data_x).reshape(-1,),data_y,color='gray',label='train', marker = '2')\n",
    "plt.scatter(np.array(data_x_test).reshape(-1,),data_y_test,color='black',label='test', marker = '.')\n",
    "\n",
    "# Plot Benchmark(s)\n",
    "#------------------#\n",
    "# Plot Univariate Benchmark(s)\n",
    "plt.plot(np.array(data_x_test).reshape(-1,),f_hat_smoothing_splines_test,color='pink',label='Splines')\n",
    "plt.plot(np.array(data_x_test).reshape(-1,),LOESS_prediction_test,color='purple',label='LOESS')\n",
    "\n",
    "# Plot Benchmark(s)\n",
    "plt.plot(np.array(data_x_test).reshape(-1,),ffNN_y_hat_test, color = 'red', label='DNN')\n",
    "# Plot NEU Regressors\n",
    "plt.plot(np.array(data_x_test).reshape(-1,),NEU_ffNN_y_hat_test, color = 'blue',label='DNN_NEU')\n",
    "\n",
    "# Format Plot #\n",
    "#-------------#\n",
    "plt.legend(loc=\"upper left\")\n",
    "plt.title(\"Model Predictions\")\n",
    "plt.show()"
   ]
  },
  {
   "cell_type": "markdown",
   "metadata": {},
   "source": [
    " ---"
   ]
  },
  {
   "cell_type": "markdown",
   "metadata": {},
   "source": [
    "## Performance Report"
   ]
  },
  {
   "cell_type": "code",
   "execution_count": null,
   "metadata": {},
   "outputs": [],
   "source": [
    "#--------------------#\n",
    "# Classical Model(s) #\n",
    "#--------------------#\n",
    "\n",
    "# Splines Performance\n",
    "print(\"Splines-Performance:\")\n",
    "print(reporter(f_hat_smoothing_splines_train,f_hat_smoothing_splines_test,data_y,data_y_test))\n",
    "\n",
    "# Loess Performance\n",
    "print(\"LOESS Performance:\")\n",
    "print(reporter(LOESS_prediction_train,LOESS_prediction_test,data_y,data_y_test))"
   ]
  },
  {
   "cell_type": "code",
   "execution_count": null,
   "metadata": {
    "scrolled": true
   },
   "outputs": [],
   "source": [
    "#--------------#\n",
    "# DNN Model(s) #\n",
    "#--------------#\n",
    "# ffNN Performance\n",
    "print(\"ffNN-Performance:\")\n",
    "print(reporter(ffNN_y_hat_train,ffNN_y_hat_test,data_y,data_y_test))\n",
    "\n",
    "# NEU-ffNN Performance\n",
    "print(\"NEU-ffNN Performance:\")\n",
    "print(reporter(NEU_ffNN_y_hat_train,NEU_ffNN_y_hat_test,data_y,data_y_test))"
   ]
  },
  {
   "cell_type": "markdown",
   "metadata": {},
   "source": [
    "#### The END"
   ]
  },
  {
   "cell_type": "markdown",
   "metadata": {},
   "source": [
    "---"
   ]
  }
 ],
 "metadata": {
  "kernelspec": {
   "display_name": "Python 3",
   "language": "python",
   "name": "python3"
  },
  "language_info": {
   "codemirror_mode": {
    "name": "ipython",
    "version": 3
   },
   "file_extension": ".py",
   "mimetype": "text/x-python",
   "name": "python",
   "nbconvert_exporter": "python",
   "pygments_lexer": "ipython3",
   "version": "3.7.7"
  }
 },
 "nbformat": 4,
 "nbformat_minor": 2
}
