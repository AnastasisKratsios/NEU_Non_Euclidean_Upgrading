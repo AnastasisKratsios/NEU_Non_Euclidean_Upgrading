{
 "cells": [
  {
   "cell_type": "code",
   "execution_count": 1,
   "metadata": {},
   "outputs": [
    {
     "name": "stderr",
     "output_type": "stream",
     "text": [
      "Using TensorFlow backend.\n"
     ]
    },
    {
     "name": "stdout",
     "output_type": "stream",
     "text": [
      "TensorFlow: 2.1.0\n"
     ]
    }
   ],
   "source": [
    "# Deep Learning & ML\n",
    "import tensorflow as tf\n",
    "import tensorflow_probability as tfp\n",
    "import keras as K\n",
    "from keras import backend as Kback\n",
    "from keras.models import Sequential\n",
    "from keras import layers\n",
    "from keras import utils as np_utils\n",
    "from scipy import linalg as scila\n",
    "\n",
    "# Linear Regression\n",
    "from sklearn.linear_model import LinearRegression\n",
    "\n",
    "# General\n",
    "import numpy as np\n",
    "import time\n",
    "\n",
    "# Alerts\n",
    "# import tkinter\n",
    "# from tkinter import messagebox\n",
    "import os as beepsnd\n",
    "\n",
    "# General Outputs\n",
    "print('TensorFlow:', tf.__version__)"
   ]
  },
  {
   "cell_type": "code",
   "execution_count": 2,
   "metadata": {},
   "outputs": [
    {
     "data": {
      "text/plain": [
       "<Figure size 640x480 with 1 Axes>"
      ]
     },
     "metadata": {},
     "output_type": "display_data"
    }
   ],
   "source": [
    "N_Reconfigurations = 10**1\n",
    "d = 1 # Dimension of X\n",
    "D = 1 # Dimension of Y\n",
    "\n",
    "# Data Meta-Parameters\n",
    "noise_level = 0.1\n",
    "uncertainty_level= 0.9\n",
    "\n",
    "# Training meta-parameters\n",
    "Epochs = 10**2\n",
    "\n",
    "\n",
    "# Number of Datapoints\n",
    "N_data = 10**2\n",
    "# Unknown Function\n",
    "def unknown_f(x):\n",
    "    return np.sin(x)\n",
    "%run Data_Generator.ipynb"
   ]
  },
  {
   "cell_type": "code",
   "execution_count": 3,
   "metadata": {},
   "outputs": [],
   "source": [
    "# Reshape Data Into Compatible Shape\n",
    "data_x = np.array(data_x).reshape(-1,d)\n",
    "data_y = np.array(data_y)\n",
    "# Perform OLS Regression\n",
    "linear_model = LinearRegression()\n",
    "reg = linear_model.fit(data_x, data_y)\n",
    "model_pred_y = linear_model.predict(data_x)\n",
    "# Map to Graph\n",
    "data_NEU = np.concatenate((data_x,model_pred_y.reshape(-1,D)),1)\n",
    "NEU_targets  = data_y.reshape(-1,D)"
   ]
  },
  {
   "cell_type": "markdown",
   "metadata": {},
   "source": [
    "# Reconfiguration Full\n",
    "\n",
    "#### Helper Functions:"
   ]
  },
  {
   "cell_type": "code",
   "execution_count": 11,
   "metadata": {},
   "outputs": [],
   "source": [
    "#----------------------------#\n",
    "# Helper Functions T/F Functions\n",
    "#----------------------------#\n",
    "def bump_True(x):\n",
    "    x_out = 1- tf.math.pow(tf.math.abs(x),2)\n",
    "    x_out = tf.math.exp(-tf.math.divide(1,x_out))\n",
    "    return x_out\n",
    "\n",
    "def bump_False(x):\n",
    "    x_out = 0\n",
    "    return x_out\n",
    "\n",
    "# Approximation to max(0,x) function by smooth function\n",
    "# https://math.stackexchange.com/questions/517482/approximating-a-maximum-function-by-a-differentiable-function\n",
    "def abs_helper(x):\n",
    "    return tf.math.sqrt(tf.math.pow(x,2)+(10**(-5)))\n",
    "\n",
    "def max_helper(x):\n",
    "    return tf.math.multiply(abs_helper(x) + x,.5)\n",
    "\n",
    "def soft_indicator(x):\n",
    "    return max_helper(tf.math.sign(x))"
   ]
  },
  {
   "cell_type": "code",
   "execution_count": 38,
   "metadata": {},
   "outputs": [
    {
     "data": {
      "text/plain": [
       "<tf.Tensor: shape=(2,), dtype=float32, numpy=array([-1.3412416e-07, -5.7433141e-07], dtype=float32)>"
      ]
     },
     "execution_count": 38,
     "metadata": {},
     "output_type": "execute_result"
    }
   ],
   "source": [
    "sig = tf.random.uniform([2])\n",
    "output_steps_1_2 = tf.random.normal([2])\n",
    "\n"
   ]
  },
  {
   "cell_type": "code",
   "execution_count": 77,
   "metadata": {},
   "outputs": [],
   "source": [
    "class Reconfiguration_unit_steps(tf.keras.layers.Layer):\n",
    "\n",
    "    def __init__(self, *args, **kwargs):\n",
    "        super(Reconfiguration_unit_steps, self).__init__(*args, **kwargs)\n",
    "\n",
    "    def build(self, input_shape):\n",
    "        self.location = self.add_weight(name='location',\n",
    "                                    shape=input_shape[1:],\n",
    "                                    initializer='GlorotUniform',\n",
    "                                    trainable=True)\n",
    "        # Step 3\n",
    "        self.threshold = self.add_weight(name='threshold',\n",
    "                            shape=input_shape[1:],\n",
    "                            initializer='GlorotNormal',\n",
    "                            trainable=True)\n",
    "        \n",
    "        ## Steps 4-9\n",
    "        self.tangentbiases = self.add_weight(name='tangentbiases',\n",
    "                                    shape=input_shape[1:],\n",
    "                                    initializer='GlorotNormal',\n",
    "                                    trainable=True)\n",
    "        self.tangentweights = self.add_weight(name='tangentweights',\n",
    "                                    shape=input_shape[1:],\n",
    "                                    initializer='GlorotNormal',\n",
    "                                    trainable=True)\n",
    "        self.location_b = self.add_weight(name='location_b',\n",
    "                                    shape=input_shape[1:],\n",
    "                                    initializer='GlorotUniform',\n",
    "                                    trainable=True)\n",
    " \n",
    "\n",
    "    def call(self, input):\n",
    "        ### Steps 1-2\n",
    "        # Relocated\n",
    "        input_relocated = input + self.location\n",
    "        # Rescaled\n",
    "        output_steps_1_2 = input_relocated #tf.math.multiply(tf.math.abs(self.scale),input_relocated)\n",
    "        \n",
    "        ### Step 3\n",
    "        # Bump Function (without indicator)\n",
    "        output_step_3 = tf.math.divide(self.threshold,\n",
    "                       sig-tf.math.pow(output_steps_1_2,\n",
    "                                       2)\n",
    "                      )\n",
    "        # Apply Soft Indicator\n",
    "        indicator_soft = soft_indicator(self.threshold - \n",
    "                                        tf.math.pow(output_steps_1_2,2)\n",
    "                                       )\n",
    "\n",
    "        # Bump function with indicator\n",
    "        output_step_3 = tf.math.multiply(output_step_3,indicator_soft)\n",
    "    \n",
    "    \n",
    "        \n",
    "        ### Step 4-9\n",
    "        x_out = tf.math.multiply(tf.math.abs(self.tangentweights),output_step_3) + self.tangentbiases\n",
    "        \n",
    "        # 7. Apply Matrix Exponential\n",
    "        x_out = tf.linalg.diag(x_out)\n",
    "        x_out = tf.linalg.expm(x_out)\n",
    "        #x_out = x_out + tf.linalg.matmul(x_out,x_out)/2 + tf.linalg.matmul(x_out,tf.linalg.matmul(x_out,x_out))/6 +tf.linalg.matmul(x_out,tf.linalg.matmul(x_out,tf.linalg.matmul(x_out,x_out)))/24 #+tf.linalg.matmul(x_out,tf.linalg.matmul(x_out,tf.linalg.matmul(x_out,tf.linalg.matmul(x_out,x_out))))/120\n",
    "        \n",
    "        # TEMP: # If things are crashing use this\n",
    "        #x_out = tf.math.exp(x_out)\n",
    "        \n",
    "        # 8. Muliply by output of (1)\n",
    "        x_out = tf.linalg.matvec(x_out,input)\n",
    "        \n",
    "        # 9. Recenter Transformed Data\n",
    "        output_steps_4_9 = x_out + self.location_b\n",
    "        \n",
    "        # Return Output\n",
    "        return output_steps_4_9"
   ]
  },
  {
   "cell_type": "code",
   "execution_count": 78,
   "metadata": {},
   "outputs": [],
   "source": [
    "projection_layer = tf.keras.layers.Lambda(lambda x: x[:, -D:])"
   ]
  },
  {
   "cell_type": "code",
   "execution_count": 79,
   "metadata": {},
   "outputs": [],
   "source": [
    "# Initialize\n",
    "input_layer = tf.keras.Input(shape=[d+D])\n",
    "# Steps 1 and 2\n",
    "reconfigure  = Reconfiguration_unit_steps()\n",
    "current_layer = reconfigure(input_layer)\n",
    "\n",
    "# Apply Reconfigurations\n",
    "for i in range(N_Reconfigurations):\n",
    "    reconfigure  = Reconfiguration_unit_steps()\n",
    "    current_layer = reconfigure(current_layer)\n",
    "    \n",
    "# Map back to R^D\n",
    "output_layer = projection_layer(current_layer)\n",
    "NEU_OLS = tf.keras.Model(inputs=[input_layer], outputs=[output_layer])\n",
    "\n",
    "# Summarize Model\n",
    "#NEU_OLS.summary()"
   ]
  },
  {
   "cell_type": "code",
   "execution_count": 80,
   "metadata": {},
   "outputs": [],
   "source": [
    "#optimizer_on = tf.keras.optimizers.SGD(learning_rate=10**(-2), momentum=0.01, nesterov=True)\n",
    "NEU_OLS.compile(loss='mse',\n",
    "                optimizer='sgd',\n",
    "                metrics=['mse'])"
   ]
  },
  {
   "cell_type": "code",
   "execution_count": null,
   "metadata": {},
   "outputs": [
    {
     "name": "stdout",
     "output_type": "stream",
     "text": [
      "Train on 100 samples\n",
      "Epoch 1/100\n"
     ]
    }
   ],
   "source": [
    "history = NEU_OLS.fit(\n",
    "          data_NEU, NEU_targets,\n",
    "          epochs=Epochs)"
   ]
  },
  {
   "cell_type": "code",
   "execution_count": 71,
   "metadata": {},
   "outputs": [
    {
     "data": {
      "text/plain": [
       "(100, 1)"
      ]
     },
     "execution_count": 71,
     "metadata": {},
     "output_type": "execute_result"
    }
   ],
   "source": [
    "# Projection\n",
    "NEU_prediction = NEU_OLS.predict(data_NEU)\n",
    "np.shape(NEU_prediction)"
   ]
  },
  {
   "cell_type": "code",
   "execution_count": 72,
   "metadata": {},
   "outputs": [
    {
     "data": {
      "text/plain": [
       "[<matplotlib.lines.Line2D at 0x7f2a2066f4d0>]"
      ]
     },
     "execution_count": 72,
     "metadata": {},
     "output_type": "execute_result"
    },
    {
     "data": {
      "image/png": "[encoded data removed]",
      "text/plain": [
       "<Figure size 960x800 with 1 Axes>"
      ]
     },
     "metadata": {},
     "output_type": "display_data"
    }
   ],
   "source": [
    "# import matplotlib.pyplot as plt\n",
    "# Adjust Figure Details\n",
    "plt.figure(num=None, figsize=(12, 10), dpi=80, facecolor='w', edgecolor='k')\n",
    "\n",
    "# Plot Models\n",
    "plt.plot(data_x,true_y,color='k',label='true',linestyle='--')\n",
    "plt.plot(data_x,NEU_prediction,color='b',label='NEU-OLS')\n",
    "plt.plot(data_x,model_pred_y,color='r',label='NEU-OLS')"
   ]
  },
  {
   "cell_type": "markdown",
   "metadata": {},
   "source": []
  },
  {
   "cell_type": "code",
   "execution_count": null,
   "metadata": {},
   "outputs": [],
   "source": []
  }
 ],
 "metadata": {
  "kernelspec": {
   "display_name": "Python 3",
   "language": "python",
   "name": "python3"
  },
  "language_info": {
   "codemirror_mode": {
    "name": "ipython",
    "version": 3
   },
   "file_extension": ".py",
   "mimetype": "text/x-python",
   "name": "python",
   "nbconvert_exporter": "python",
   "pygments_lexer": "ipython3",
   "version": "3.7.6"
  }
 },
 "nbformat": 4,
 "nbformat_minor": 2
}
