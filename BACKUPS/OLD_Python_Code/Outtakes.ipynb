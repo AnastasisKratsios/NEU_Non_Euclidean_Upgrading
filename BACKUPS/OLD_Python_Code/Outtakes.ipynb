{
 "cells": [
  {
   "cell_type": "code",
   "execution_count": null,
   "metadata": {},
   "outputs": [],
   "source": [
    "# # Compile new Model\n",
    "# #-------------------#\n",
    "# # Set seed\n",
    "# np.random.seed(2020)\n",
    "# tf.random.set_seed(2020)\n",
    "\n",
    "# # Initializations \n",
    "# #----------------#\n",
    "# # Initialize grid of robustness hyperparameters\n",
    "# robustness_parameters = np.linspace(1, 100, num=5, endpoint=False)\n",
    "# # Initialize\n",
    "# MAEs = np.zeros(len(robustness_parameters)) + np.Infinity\n",
    "# MaxEs = np.zeros(len(robustness_parameters)) + np.Infinity\n",
    "# MAEs_train = np.zeros(len(robustness_parameters)) + np.Infinity\n",
    "# MaxEs_train = np.zeros(len(robustness_parameters)) + np.Infinity\n",
    "# # Initialize Optimizer\n",
    "# optimizer_on = tf.keras.optimizers.Adagrad(learning_rate=10**(-1))\n",
    "\n",
    "\n",
    "# # Grid-Search For Best Robustness Parameter\n",
    "# #------------------------------------------#\n",
    "# for i_robustness_param in range(len(robustness_parameters)):\n",
    "#     # Initialize model\n",
    "#     NEU_OLS_test = tf.keras.models.load_model(\"./outputs/models/NEU/\", custom_objects={'Robust_MSE': Robust_MSE})\n",
    "    \n",
    "#     # Redefine Robustness MAE using current robustness hyperparameter\n",
    "#     robustness_parameter_loop = max(10**(-6),robustness_parameters[i_robustness_param])\n",
    "#     @tf.function\n",
    "#     def Robust_MAE(y_true, y_pred):\n",
    "#         # Compute Exponential Utility\n",
    "#         loss_out = tf.math.abs((y_true - y_pred))\n",
    "#         loss_out = tf.math.exp(robustness_parameter_loop*loss_out)\n",
    "#         loss_out = tf.math.reduce_sum(loss_out)\n",
    "\n",
    "#         # Return Value\n",
    "#         return loss_out\n",
    "\n",
    "#     # Compile model using robustness parameter\n",
    "#     NEU_OLS_test.compile(loss = Robust_MAE,\n",
    "#                     optimizer = optimizer_on,\n",
    "#                     metrics = ['mse','mae'])\n",
    "#     # Fit Model\n",
    "#     NEU_OLS_test.fit(X_train_robust, Y_train_robust, epochs=20, verbose=1)\n",
    "#     MAEs[i_robustness_param] = np.mean(np.abs((NEU_OLS_test.predict(X_test_robust)-Y_test_robust)[:,1]))\n",
    "#     MaxEs[i_robustness_param] = np.max(np.abs((NEU_OLS_test.predict(X_test_robust)-Y_test_robust)[:,1]))\n",
    "#     MAEs_train[i_robustness_param] = np.mean(np.abs((NEU_OLS_test.predict(X_train_robust)-Y_train_robust)[:,1]))\n",
    "#     MaxEs_train[i_robustness_param] = np.max(np.abs((NEU_OLS_test.predict(X_train_robust)-Y_train_robust)[:,1]))\n",
    "    \n",
    "#     # Update User\n",
    "#     #------------#\n",
    "#     print(((i_robustness_param+1)/len(robustness_parameters)))\n",
    "\n",
    "# np.array([np.argmin(MAEs),np.argmin(MaxEs),np.argmin(MAEs_train),np.argmin(MaxEs_train)])\n",
    "# plt.plot(MAEs)\n",
    "# np.argmin(MAEs)"
   ]
  }
 ],
 "metadata": {
  "kernelspec": {
   "display_name": "Python 3",
   "language": "python",
   "name": "python3"
  },
  "language_info": {
   "codemirror_mode": {
    "name": "ipython",
    "version": 3
   },
   "file_extension": ".py",
   "mimetype": "text/x-python",
   "name": "python",
   "nbconvert_exporter": "python",
   "pygments_lexer": "ipython3",
   "version": "3.7.7"
  }
 },
 "nbformat": 4,
 "nbformat_minor": 2
}
