{
 "cells": [
  {
   "cell_type": "markdown",
   "metadata": {},
   "source": [
    "# NEU-Regression: Simulation Experiments\n",
    "---"
   ]
  },
  {
   "cell_type": "markdown",
   "metadata": {},
   "source": [
    "### Functions from the paper:\n",
    " - 1) $\\min\\{\\exp(\\frac{-1}{(1+x)^2}),x+\\cos(x)\\}$. Reason: Evaluate performance for pasted functions and general badness.\n",
    " - 2) $\\cos(\\exp(-x))$.  Reason: Evaluate performance for non-periodic osculations.\n",
    " - 3) $I_{(-\\infty,\\frac1{2})}$.  Reason: Evaluation performance on a single jump.  \n",
    " \n",
    " ---"
   ]
  },
  {
   "cell_type": "markdown",
   "metadata": {},
   "source": [
    "# Generate Training Data"
   ]
  },
  {
   "cell_type": "code",
   "execution_count": null,
   "metadata": {},
   "outputs": [],
   "source": [
    "# First Round Initializations (Global Level) #\n",
    "#============================================#\n",
    "# Load Dependances and makes path(s)\n",
    "exec(open('Initializations_Dump.py').read())\n",
    "# Load Hyper( and meta) parameter(s)\n",
    "exec(open('HyperParameter_Grid.py').read())\n",
    "# %run Helper_Functions.ipynb\n",
    "exec(open('Helper_Functions.py').read())\n",
    "# Load Models\n",
    "# %run Architecture_Builder.ipynb\n",
    "exec(open('Architecture_Builder.py').read())"
   ]
  },
  {
   "cell_type": "markdown",
   "metadata": {},
   "source": [
    "When generating data...you may use one of the following options:\n",
    "- For evaluating non-localy patterns: \"nonlocality\"\n",
    "- For evaluating model performance when faced with non-stationary osculatory behaviour: \"oscilatory\"\n",
    "- For evaluating jump-type performance when faced with a discontinuity: \"jumpdiscontinuity\"\n",
    "- For fun: \"the_nightmare\""
   ]
  },
  {
   "cell_type": "code",
   "execution_count": null,
   "metadata": {},
   "outputs": [],
   "source": [
    "#------------------------#\n",
    "# Run External Notebooks #\n",
    "#------------------------#\n",
    "# Generate Data\n",
    "Option_Function = \"nonlocality\"\n",
    "# %run Data_Generator.ipynb\n",
    "exec(open('Data_Generator.py').read())"
   ]
  },
  {
   "cell_type": "markdown",
   "metadata": {},
   "source": [
    "# Benchmark Models"
   ]
  },
  {
   "cell_type": "markdown",
   "metadata": {},
   "source": [
    "Run univariate regression benchmarks file:"
   ]
  },
  {
   "cell_type": "code",
   "execution_count": null,
   "metadata": {},
   "outputs": [],
   "source": [
    "# %run Univariate_Regression_Benchmark_Models.ipynb\n",
    "exec(open('Univariate_Regression_Benchmark_Models.py').read())"
   ]
  },
  {
   "cell_type": "markdown",
   "metadata": {},
   "source": [
    "## Initializations:\n",
    "- Load Dependancies,\n",
    "- Makes Paths if missing."
   ]
  },
  {
   "cell_type": "code",
   "execution_count": null,
   "metadata": {},
   "outputs": [],
   "source": [
    "# Second Round Re-Initializations (Global Level) #\n",
    "#================================================#\n",
    "# %run Helper_Functions.ipynb\n",
    "exec(open('Helper_Functions.py').read())\n",
    "# Load Models\n",
    "# %run Architecture_Builder.ipynb\n",
    "exec(open('Architecture_Builder.py').read())"
   ]
  },
  {
   "cell_type": "markdown",
   "metadata": {},
   "source": [
    "#### Boost input dimension if $d=1$, so that reconfigurations can be universal."
   ]
  },
  {
   "cell_type": "code",
   "execution_count": null,
   "metadata": {},
   "outputs": [],
   "source": [
    "if d<= 1:\n",
    "    # Backup data\n",
    "    data_x_raw = data_x\n",
    "    data_x_test_raw = data_x_test\n",
    "    # Bump Dimension so Reconfiguration network properties hold\n",
    "    data_x = np.concatenate([data_x,data_x**2],axis=1)\n",
    "    data_x_test = np.concatenate([data_x_test,data_x_test**2],axis=1)\n",
    "    d = d+1\n",
    "else:\n",
    "    # Backup data\n",
    "    data_x_raw = data_x\n",
    "    data_x_test_raw = data_x_test\n",
    "    print(\"Modified Input since Dimension is too low\")"
   ]
  },
  {
   "cell_type": "markdown",
   "metadata": {},
   "source": [
    "---\n",
    "# Train Feature Map for \"decoupled\" NEU-*Model(s)*\n",
    "---"
   ]
  },
  {
   "cell_type": "markdown",
   "metadata": {},
   "source": [
    "We train NEU's universal linearizing feature map."
   ]
  },
  {
   "cell_type": "code",
   "execution_count": null,
   "metadata": {},
   "outputs": [],
   "source": [
    "tf.random.set_seed(2020)\n",
    "# 1+2) Learn Linearizing Feature Map #\n",
    "#====================================#\n",
    "# Obtain NEU-OLS predictions and Model\n",
    "NEU_OLS_y_hat_train_pre, NEU_OLS_y_hat_test_pre, NEU_OLS = build_NEU_OLS(n_folds = CV_folds, \n",
    "                                                           n_jobs = n_jobs, \n",
    "                                                           n_iter = n_iter, \n",
    "                                                           param_grid_in = param_grid_NEU_Feature_Only_Nets, \n",
    "                                                           X_train = data_x, \n",
    "                                                           y_train = data_y,\n",
    "                                                           X_test = data_x_test)\n",
    "# Extract Linearizing Feature Map\n",
    "Linearizing_Feature_Map = extract_trained_feature_map(NEU_OLS.model)\n",
    "\n",
    "# Pre-process Linearized Data #\n",
    "#=============================#\n",
    "# Get Linearized Predictions #\n",
    "#----------------------------#\n",
    "data_x_featured_train = Linearizing_Feature_Map.predict(data_x)\n",
    "data_x_featured_test = Linearizing_Feature_Map.predict(data_x_test)\n",
    "# Coerce data into form ready for NEU-Structure Map\n",
    "data_x_NEU_train = np.concatenate([data_x_featured_train,NEU_OLS_y_hat_train_pre.reshape(data_x_featured_train.shape[0],D)],axis=1)\n",
    "data_x_NEU_test = np.concatenate([data_x_featured_test,NEU_OLS_y_hat_test_pre.reshape(data_x_featured_test.shape[0],D)],axis=1)\n",
    "\n",
    "# Extract Feature Data Only (for De-coupled Implementations of Step 2) #\n",
    "#----------------------------------------------------------------------#\n",
    "data_x_NEU_train_feature_only = data_x_NEU_train[:,:d]\n",
    "data_x_NEU_test_feature_only = data_x_NEU_test[:,:d]"
   ]
  },
  {
   "cell_type": "markdown",
   "metadata": {},
   "source": [
    "---\n",
    "# Linear Model(s)\n",
    "---"
   ]
  },
  {
   "cell_type": "markdown",
   "metadata": {},
   "source": [
    "### NEU-Linear *(decoupled implementation)*"
   ]
  },
  {
   "cell_type": "code",
   "execution_count": null,
   "metadata": {},
   "outputs": [],
   "source": [
    "# 2) Perform Linear Regression on Feature-Space #\n",
    "#===============================================#\n",
    "#====================================#\n",
    "# Ordinary Linear Regression Version #\n",
    "#====================================#\n",
    "# NEU_lin_reg = LinearRegression()\n",
    "# NEU_lin_reg.fit(data_x_featured_train,data_y)\n",
    "\n",
    "#=====================#\n",
    "# Elastic Net Version #\n",
    "#=====================#\n",
    "# Initialize Elastic Net Regularization Model\n",
    "NEU_lin_reg = ElasticNetCV(cv=5, random_state=0, alphas = np.linspace(0,(10**2),(10**2)),\n",
    "                           l1_ratio=np.linspace(0,1,(10**2)))\n",
    "# Fit Elastic Net Model\n",
    "NEU_lin_reg.fit(data_x_featured_train,data_y)"
   ]
  },
  {
   "cell_type": "code",
   "execution_count": null,
   "metadata": {
    "scrolled": false
   },
   "outputs": [],
   "source": [
    "# Pre-process Linearized Data #\n",
    "#=============================#\n",
    "# Get Linearized Predictions #\n",
    "#----------------------------#\n",
    "# Produce Prediction(s)\n",
    "NEU_OLS_y_hat_train = NEU_lin_reg.predict(data_x_featured_train)\n",
    "NEU_OLS_y_hat_test = NEU_lin_reg.predict(data_x_featured_test)\n",
    "# Coerce data into form ready for NEU-Structure Map\n",
    "data_x_NEU_train = np.concatenate([data_x_featured_train,\n",
    "                                   NEU_OLS_y_hat_train.reshape(data_x_featured_train.shape[0],D)],axis=1)\n",
    "data_x_NEU_test = np.concatenate([data_x_featured_test,\n",
    "                                  NEU_OLS_y_hat_test.reshape(data_x_featured_test.shape[0],D)],axis=1)\n",
    "# 3) Learn Structure Map #\n",
    "#========================#\n",
    "NEU_OLS_y_hat_train, NEU_OLS_y_hat_test = build_NEU_Structure(n_folds = CV_folds, \n",
    "                                                           n_jobs = n_jobs, \n",
    "                                                           n_iter = n_iter, \n",
    "                                                           param_grid_in = NEU_Structure_Dictionary, \n",
    "                                                           X_train = data_x_NEU_train, \n",
    "                                                           y_train = data_y,\n",
    "                                                           X_test = data_x_NEU_test)"
   ]
  },
  {
   "cell_type": "markdown",
   "metadata": {},
   "source": [
    "#### Visual Comaprison between the OLS and the NEU-OLS models:"
   ]
  },
  {
   "cell_type": "code",
   "execution_count": null,
   "metadata": {},
   "outputs": [],
   "source": [
    "# Initialize Plot #\n",
    "#-----------------#\n",
    "fig = plt.figure(num=None, figsize=(12, 12), dpi=80, facecolor='w', edgecolor='k')\n",
    "\n",
    "# Generate Plots #\n",
    "#----------------#\n",
    "\n",
    "# Plot Signal\n",
    "plt.plot(np.array(data_x_test_raw).reshape(-1,),data_y_test,color='gray',label='f(x)',linestyle='--')\n",
    "# Plot Data\n",
    "plt.scatter(np.array(data_x_raw).reshape(-1,),data_y,color='gray',label='train', marker = '2')\n",
    "plt.scatter(np.array(data_x_test_raw).reshape(-1,),data_y_test,color='black',label='test', marker = '.')\n",
    "\n",
    "#----------#\n",
    "# Model(s) #\n",
    "#----------#\n",
    "# Ordinary Linear Regression (OLS)\n",
    "plt.plot(np.array(data_x_test_raw).reshape(-1,),ENET_OLS_y_hat_test, color = 'dodgerblue',linestyle=\":\", label='Lin. Reg')\n",
    "#plt.plot(np.array(data_x_test_raw).reshape(-1,),OLS_y_hat_test, color = 'dodgerblue',linestyle=\":\", label='Lin. Reg')\n",
    "# Plot NEU-OLS\n",
    "plt.plot(np.array(data_x_test_raw).reshape(-1,),NEU_OLS_y_hat_test, color = 'c',label='NEU-Lin. Reg')\n",
    "\n",
    "# Format Plot #\n",
    "#-------------#\n",
    "plt.legend(loc=\"upper left\")\n",
    "plt.title(\"Model Predictions\")\n",
    "\n",
    "# Export #\n",
    "#--------#\n",
    "# SAVE Figure to .eps\n",
    "plt.savefig('./outputs/plotsANDfigures/OLS.eps', format='eps')\n",
    "plt.show()"
   ]
  },
  {
   "cell_type": "code",
   "execution_count": null,
   "metadata": {},
   "outputs": [],
   "source": [
    "get_Error_distribution_plots(data_y_test,ENET_OLS_y_hat_test,NEU_OLS_y_hat_test,\"OLS\")"
   ]
  },
  {
   "cell_type": "markdown",
   "metadata": {},
   "source": [
    "---\n",
    "# Non-Linear Models\n",
    "---"
   ]
  },
  {
   "cell_type": "markdown",
   "metadata": {},
   "source": [
    "### NEU-Kernel Ridge Regression *(decoupled implementation)*"
   ]
  },
  {
   "cell_type": "code",
   "execution_count": null,
   "metadata": {
    "scrolled": false
   },
   "outputs": [],
   "source": [
    "# 2) Perform Linear Regression on Feature-Space #\n",
    "#===============================================#\n",
    "NEU_KReg_y_hat_train,NEU_KReg_y_hat_test, GBRF_KReg_model = get_Kernel_Ridge_Regressor(data_x_in = data_x_featured_train,\n",
    "                                                                                       data_x_test_in = data_x_featured_test,\n",
    "                                                                                       data_y_in = data_y)\n",
    "\n",
    "# Pre-process Linearized Data #\n",
    "#=============================#\n",
    "# Get Linearized Predictions #\n",
    "#----------------------------#\n",
    "# Coerce data into form ready for NEU-Structure Map\n",
    "data_x_NEU_train_KReg = np.concatenate([data_x_featured_train,\n",
    "                                   NEU_KReg_y_hat_train.reshape(data_x_featured_train.shape[0],D)],axis=1)\n",
    "data_x_NEU_test_KReg = np.concatenate([data_x_featured_test,\n",
    "                                  NEU_KReg_y_hat_test.reshape(data_x_featured_test.shape[0],D)],axis=1)\n",
    "# 3) Learn Structure Map #\n",
    "#========================#\n",
    "NEU_KReg_y_hat_train, NEU_KReg_y_hat_test = build_NEU_Structure(n_folds = CV_folds, \n",
    "                                                                n_jobs = n_jobs, \n",
    "                                                                n_iter = n_iter, \n",
    "                                                                param_grid_in = NEU_Structure_Dictionary, \n",
    "                                                                X_train = data_x_NEU_train_KReg, \n",
    "                                                                y_train = data_y,\n",
    "                                                                X_test = data_x_NEU_test_KReg)"
   ]
  },
  {
   "cell_type": "markdown",
   "metadata": {},
   "source": [
    "#### Visual Comaprison between the GBRF and the NEU-GBRF models:"
   ]
  },
  {
   "cell_type": "code",
   "execution_count": null,
   "metadata": {},
   "outputs": [],
   "source": [
    "# Initialize Plot #\n",
    "#-----------------#\n",
    "fig = plt.figure(num=None, figsize=(12, 12), dpi=80, facecolor='w', edgecolor='k')\n",
    "\n",
    "# Generate Plots #\n",
    "#----------------#\n",
    "\n",
    "# Plot Signal\n",
    "plt.plot(np.array(data_x_test_raw).reshape(-1,),data_y_test,color='gray',label='f(x)',linestyle='--')\n",
    "# Plot Data\n",
    "plt.scatter(np.array(data_x_raw).reshape(-1,),data_y,color='gray',label='train', marker = '2')\n",
    "plt.scatter(np.array(data_x_test_raw).reshape(-1,),data_y_test,color='black',label='test', marker = '.')\n",
    "\n",
    "#----------#\n",
    "# Model(s) #\n",
    "#----------#\n",
    "# Kernel Ridge Regressor\n",
    "plt.plot(np.array(data_x_test_raw).reshape(-1,),f_hat_kernel_ridge_test,color='violet',linestyle=\"--\",label='Kernel Ridge')\n",
    "# NEU-Kernel Ridge Regressor\n",
    "plt.plot(np.array(data_x_test_raw).reshape(-1,),NEU_KReg_y_hat_test,color='darkviolet',label='NEU-Kernel Ridge')\n",
    "\n",
    "# Format Plot #\n",
    "#-------------#\n",
    "plt.legend(loc=\"upper left\")\n",
    "plt.title(\"Model Predictions\")\n",
    "\n",
    "# Export #\n",
    "#--------#\n",
    "# SAVE Figure to .eps\n",
    "plt.savefig('./outputs/plotsANDfigures/Kernel_Ridge.eps', format='eps')\n",
    "plt.show()"
   ]
  },
  {
   "cell_type": "code",
   "execution_count": null,
   "metadata": {},
   "outputs": [],
   "source": [
    "get_Error_distribution_plots(data_y_test,f_hat_kernel_ridge_test,NEU_KReg_y_hat_test,\"Kernel Ridge\")"
   ]
  },
  {
   "cell_type": "markdown",
   "metadata": {},
   "source": [
    "#### Numerical Comparison between the Kernel Ridge regressor and NEU-Kernel Ridge regressor models:"
   ]
  },
  {
   "cell_type": "code",
   "execution_count": null,
   "metadata": {},
   "outputs": [],
   "source": [
    "#-----------------------#\n",
    "# Kernel Ridge Model(s) #\n",
    "#-----------------------#\n",
    "# Kernel Ridge Performance\n",
    "print(\"Kernel Ridge-Performance:\")\n",
    "print(reporter(f_hat_kernel_ridge_train,f_hat_kernel_ridge_test,data_y,data_y_test))\n",
    "\n",
    "# NEU-Kernel Ridge Performance\n",
    "print(\"NEU-Kernel Ridge-Performance:\")\n",
    "print(reporter(NEU_KReg_y_hat_train,NEU_KReg_y_hat_test,data_y,data_y_test))"
   ]
  },
  {
   "cell_type": "markdown",
   "metadata": {},
   "source": [
    "## Tree Model(s):\n",
    "*Naturally, all of these have a decoupled implementation*."
   ]
  },
  {
   "cell_type": "code",
   "execution_count": null,
   "metadata": {},
   "outputs": [],
   "source": [
    "# 2) Perform Linear Regression on Feature-Space #\n",
    "#===============================================#\n",
    "NEU_GBRF_y_hat_train,NEU_GBRF_y_hat_test, GBRF_w_NEU_features = get_GBRF(X_train = data_x_featured_train,\n",
    "                                                                         X_test = data_x_featured_test,\n",
    "                                                                         y_train = data_y)\n",
    "\n",
    "# Pre-process Linearized Data #\n",
    "#=============================#\n",
    "# Get Linearized Predictions #\n",
    "#----------------------------#\n",
    "# Coerce data into form ready for NEU-Structure Map\n",
    "data_x_NEU_train_GBRF = np.concatenate([data_x_featured_train,\n",
    "                                   NEU_GBRF_y_hat_train.reshape(data_x_featured_train.shape[0],D)],axis=1)\n",
    "data_x_NEU_test_GBRF = np.concatenate([data_x_featured_test,\n",
    "                                  NEU_GBRF_y_hat_test.reshape(data_x_featured_test.shape[0],D)],axis=1)\n",
    "# 3) Learn Structure Map #\n",
    "#========================#\n",
    "NEU_GBRF_y_hat_train, NEU_GBRF_y_hat_test = build_NEU_Structure(n_folds = CV_folds, \n",
    "                                                                n_jobs = n_jobs, \n",
    "                                                                n_iter = n_iter, \n",
    "                                                                param_grid_in = NEU_Structure_Dictionary, \n",
    "                                                                X_train = data_x_NEU_train_GBRF, \n",
    "                                                                y_train = data_y,\n",
    "                                                                X_test = data_x_NEU_test_GBRF)"
   ]
  },
  {
   "cell_type": "markdown",
   "metadata": {},
   "source": [
    "#### Visual Comaprison between the GBRF and the NEU-GBRF models:"
   ]
  },
  {
   "cell_type": "code",
   "execution_count": null,
   "metadata": {},
   "outputs": [],
   "source": [
    "# Initialize Plot #\n",
    "#-----------------#\n",
    "plt.figure(num=None, figsize=(12, 12), dpi=80, facecolor='w', edgecolor='k')\n",
    "\n",
    "# Generate Plots #\n",
    "#----------------#\n",
    "\n",
    "# Plot Signal\n",
    "plt.plot(np.array(data_x_test_raw).reshape(-1,),data_y_test,color='gray',label='f(x)',linestyle='--')\n",
    "# Plot Data\n",
    "plt.scatter(np.array(data_x_raw).reshape(-1,),data_y,color='gray',label='train', marker = '2')\n",
    "plt.scatter(np.array(data_x_test_raw).reshape(-1,),data_y_test,color='black',label='test', marker = '.')\n",
    "\n",
    "#----------#\n",
    "# Model(s) #\n",
    "#----------#\n",
    "# Plot Gradient-Boosted Random Forest Regressor (GBRF):\n",
    "plt.plot(np.array(data_x_test_raw).reshape(-1,),GBRF_y_hat_test, linestyle=\"--\", color = 'forestgreen', label='GBRF')\n",
    "# Plot NEU-GBRF:\n",
    "plt.plot(np.array(data_x_test_raw).reshape(-1,),NEU_GBRF_y_hat_test, color = 'forestgreen',label='NEU-GBRF')\n",
    "\n",
    "\n",
    "# Format Plot #\n",
    "#-------------#\n",
    "plt.legend(loc=\"upper left\")\n",
    "plt.title(\"Model Predictions\")\n",
    "\n",
    "\n",
    "# Export #\n",
    "#--------#\n",
    "# SAVE Figure to .eps\n",
    "plt.savefig('./outputs/plotsANDfigures/GBRF.eps', format='eps')\n",
    "plt.show()"
   ]
  },
  {
   "cell_type": "code",
   "execution_count": null,
   "metadata": {},
   "outputs": [],
   "source": [
    "get_Error_distribution_plots(data_y_test,GBRF_y_hat_test,NEU_GBRF_y_hat_test,\"GBRF\")"
   ]
  },
  {
   "cell_type": "markdown",
   "metadata": {},
   "source": [
    "#### Numerical Comparison between the GBRF and NEU-GBRF models:"
   ]
  },
  {
   "cell_type": "code",
   "execution_count": null,
   "metadata": {},
   "outputs": [],
   "source": [
    "#---------------#\n",
    "# Tree Model(s) #\n",
    "#---------------#\n",
    "# GBRF Performance\n",
    "print(\"GBRF-Performance:\")\n",
    "print(reporter(GBRF_y_hat_train,GBRF_y_hat_test,data_y,data_y_test))\n",
    "\n",
    "# NEU-GBRF Performance\n",
    "print(\"NEU-GBRF-Performance:\")\n",
    "print(reporter(NEU_GBRF_y_hat_train,NEU_GBRF_y_hat_test,data_y,data_y_test))"
   ]
  },
  {
   "cell_type": "markdown",
   "metadata": {},
   "source": [
    "---\n",
    "## Neural Networks: \n",
    "---\n",
    "### NEU-ffNN"
   ]
  },
  {
   "cell_type": "markdown",
   "metadata": {},
   "source": [
    "#### Fully-Coupled Implementation"
   ]
  },
  {
   "cell_type": "markdown",
   "metadata": {},
   "source": [
    "#### A) $\\rho\\circ\\hat{f}\\circ \\phi$\n",
    "\n",
    "Here we only use reconfiguration networks to learn an appropriate readout map."
   ]
  },
  {
   "cell_type": "code",
   "execution_count": null,
   "metadata": {},
   "outputs": [],
   "source": [
    "tf.random.set_seed(2020)\n",
    "NEU_ffNN_y_hat_train, NEU_ffNN_y_hat_test = build_NEU_ffNN(n_folds = CV_folds, \n",
    "                                                           n_jobs = n_jobs, \n",
    "                                                           n_iter = n_iter, \n",
    "                                                           param_grid_in = param_grid_NEU_Nets, \n",
    "                                                           X_train = data_x, \n",
    "                                                           y_train = data_y,\n",
    "                                                           X_test = data_x_test)"
   ]
  },
  {
   "cell_type": "markdown",
   "metadata": {},
   "source": [
    "#### B) $\\pi\\circ \\rho(\\hat{f}\\circ \\phi(\\cdot),\\cdot)$\n",
    "Here we use reconfigurations to learn an appropriate structure map. "
   ]
  },
  {
   "cell_type": "code",
   "execution_count": null,
   "metadata": {},
   "outputs": [],
   "source": [
    "tf.random.set_seed(2020)\n",
    "NEU_ffNN_y_hat_train_w_proj, NEU_ffNN_y_hat_test_w_proj = build_NEU_ffNN_w_proj(n_folds = CV_folds, \n",
    "                                                           n_jobs = n_jobs, \n",
    "                                                           n_iter = n_iter, \n",
    "                                                           param_grid_in = param_grid_NEU_Nets, \n",
    "                                                           X_train = data_x, \n",
    "                                                           y_train = data_y,\n",
    "                                                           X_test = data_x_test)"
   ]
  },
  {
   "cell_type": "markdown",
   "metadata": {},
   "source": [
    "#### Decoupled Implementation"
   ]
  },
  {
   "cell_type": "code",
   "execution_count": null,
   "metadata": {},
   "outputs": [],
   "source": [
    "tf.random.set_seed(2020)\n",
    "# 1+2) Learn Linearizing Feature Map #\n",
    "#====================================#\n",
    "# Completed Above\n",
    "print(\"Phase 1 Complete: Feature Map Trained/Loaded\")\n",
    "\n",
    "# 2) Train ffNN #\n",
    "#===============#\n",
    "NEU_ffNN_y_hat_train_dcpld, NEU_ffNN_y_hat_test_dcpld = build_ffNN(n_folds = CV_folds, \n",
    "                                                                   n_jobs = n_jobs, \n",
    "                                                                   n_iter = n_iter, \n",
    "                                                                   param_grid_in = param_grid_Vanilla_Nets,  \n",
    "                                                                   X_train = data_x_NEU_train_feature_only, \n",
    "                                                                   y_train = data_y,\n",
    "                                                                   X_test = data_x_NEU_test_feature_only)\n",
    "# Pre-process Linearized Data #\n",
    "#=============================#\n",
    "# Get Linearized Predictions #\n",
    "#----------------------------#\n",
    "# Coerce data into form ready for NEU-Structure Map\n",
    "data_x_NEU_train = np.concatenate([data_x_featured_train,\n",
    "                                   NEU_ffNN_y_hat_train_dcpld.reshape(data_x_featured_train.shape[0],D)],axis=1)\n",
    "data_x_NEU_test = np.concatenate([data_x_featured_test,\n",
    "                                  NEU_ffNN_y_hat_test_dcpld.reshape(data_x_featured_test.shape[0],D)],axis=1)\n",
    "\n",
    "# Update User #\n",
    "#-------------#\n",
    "print(\"Phase 2 Complete: Trained Vanilla Model\")\n",
    "\n",
    "# 3) Learn Structure Map #\n",
    "#========================#\n",
    "NEU_ffNN_y_hat_train_Dcpld, NEU_ffNN_y_hat_test_Dcpld = build_NEU_Structure(n_folds = CV_folds, \n",
    "                                                           n_jobs = n_jobs, \n",
    "                                                           n_iter = n_iter, \n",
    "                                                           param_grid_in = NEU_Structure_Dictionary, \n",
    "                                                           X_train = data_x_NEU_train, \n",
    "                                                           y_train = data_y,\n",
    "                                                           X_test = data_x_NEU_test)\n",
    "\n",
    "# Update User #\n",
    "#-------------#\n",
    "print(\"Phase 3 Complete: Trained NEU-Structure Map\")\n",
    "print(\"NEU Statue: Trained\")"
   ]
  },
  {
   "cell_type": "markdown",
   "metadata": {},
   "source": [
    "## Visualization"
   ]
  },
  {
   "cell_type": "code",
   "execution_count": null,
   "metadata": {},
   "outputs": [],
   "source": [
    "# Initialize Plot #\n",
    "#-----------------#\n",
    "plt.figure(num=None, figsize=(12, 12), dpi=80, facecolor='w', edgecolor='k')\n",
    "\n",
    "# Generate Plots #\n",
    "#----------------#\n",
    "\n",
    "# Plot Signal\n",
    "plt.plot(np.array(data_x_test_raw).reshape(-1,),data_y_test,color='gray',label='f(x)',linestyle='--')\n",
    "# Plot Data\n",
    "plt.scatter(np.array(data_x_raw).reshape(-1,),data_y,color='gray',label='train', marker = '2')\n",
    "plt.scatter(np.array(data_x_test_raw).reshape(-1,),data_y_test,color='black',label='test', marker = '.')\n",
    "\n",
    "#--------------------#\n",
    "# Benchmark Model(s) #\n",
    "#--------------------#\n",
    "# Plot ffNN\n",
    "plt.plot(np.array(data_x_test_raw).reshape(-1,),ffNN_y_hat_test, color = 'lightblue',linestyle=\"--\",  label='DNN')\n",
    "\n",
    "\n",
    "#--------------#\n",
    "# NEU-Model(s) #\n",
    "#--------------#\n",
    "# Plot NEU-ffNN (Training Variants)\n",
    "plt.plot(np.array(data_x_test_raw).reshape(-1,),NEU_ffNN_y_hat_test, linestyle=\":\", color = 'b',label='DNN_NEU_coupled')\n",
    "plt.plot(np.array(data_x_test_raw).reshape(-1,),NEU_ffNN_y_hat_test_w_proj, color = 'mediumblue',linestyle='-.', label='DNN_NEU_coupled+UAEmbedding')\n",
    "plt.plot(np.array(data_x_test_raw).reshape(-1,),NEU_ffNN_y_hat_test_Dcpld, color = 'navy',label='DNN_NEU_decoupled')\n",
    "\n",
    "\n",
    "# Format Plot #\n",
    "#-------------#\n",
    "plt.legend(loc=\"upper left\")\n",
    "plt.title(\"Model Predictions\")\n",
    "\n",
    "# Export #\n",
    "#--------#\n",
    "# SAVE Figure to .eps\n",
    "plt.savefig('./outputs/plotsANDfigures/Neural_Network_Models.eps', format='eps')\n",
    "plt.show()"
   ]
  },
  {
   "cell_type": "code",
   "execution_count": null,
   "metadata": {},
   "outputs": [],
   "source": [
    "get_Error_distribution_plots(data_y_test,ffNN_y_hat_test,NEU_ffNN_y_hat_test_w_proj,\"ffNN\")"
   ]
  },
  {
   "cell_type": "markdown",
   "metadata": {},
   "source": [
    "---\n",
    "---\n",
    "---"
   ]
  },
  {
   "cell_type": "markdown",
   "metadata": {},
   "source": [
    "---\n",
    "# Result(s)\n",
    "---"
   ]
  },
  {
   "cell_type": "markdown",
   "metadata": {},
   "source": [
    "## Generate Results Table(s):"
   ]
  },
  {
   "cell_type": "code",
   "execution_count": null,
   "metadata": {},
   "outputs": [],
   "source": [
    "#==========#\n",
    "# Training #\n",
    "#==========#\n",
    "train_performance  = pd.DataFrame({\"Smoothin Splines\": reporter(f_hat_smoothing_splines_train,f_hat_smoothing_splines_test,data_y,data_y_test).iloc[:,0],\n",
    "                                   \"LOESS\": reporter(LOESS_prediction_train,LOESS_prediction_test,data_y,data_y_test).iloc[:,0],\n",
    "                                   \"OLS\": reporter(OLS_y_hat_train,OLS_y_hat_test,data_y,data_y_test).iloc[:,0],\n",
    "                                   \"NEU-OLS\": reporter(NEU_OLS_y_hat_train,NEU_OLS_y_hat_test,data_y,data_y_test).iloc[:,0],\n",
    "                                   \"Kernel\": reporter(f_hat_kernel_ridge_train,f_hat_kernel_ridge_test,data_y,data_y_test).iloc[:,0],\n",
    "                                   \"NEU-KerRidge\": reporter(NEU_KReg_y_hat_train,NEU_KReg_y_hat_test,data_y,data_y_test).iloc[:,0],\n",
    "                                   \"GBRF\": reporter(GBRF_y_hat_train,GBRF_y_hat_test,data_y,data_y_test).iloc[:,0],\n",
    "                                   \"NEU-GBRF\": reporter(NEU_GBRF_y_hat_train,NEU_GBRF_y_hat_test,data_y,data_y_test).iloc[:,0],\n",
    "                                   \"ffNN\": reporter(ffNN_y_hat_train,ffNN_y_hat_test,data_y,data_y_test).iloc[:,0],\n",
    "                                   \"NEU-ffNN (Readout-Form)\": reporter(NEU_ffNN_y_hat_train,NEU_ffNN_y_hat_test,data_y,data_y_test).iloc[:,0],\n",
    "                                   \"NEU-ffNN (Coupled)\": reporter(NEU_ffNN_y_hat_train_w_proj,NEU_ffNN_y_hat_test_w_proj,data_y,data_y_test).iloc[:,0],\n",
    "                                   \"NEU-ffNN (Decoupled)\": reporter(NEU_ffNN_y_hat_train_Dcpld,NEU_ffNN_y_hat_test_Dcpld,data_y,data_y_test).iloc[:,0]}).transpose()\n",
    "\n",
    "train_performance.to_latex(\"./outputs/tables/Train_performance.tex\")\n",
    "\n",
    "#=========#\n",
    "# Testing #\n",
    "#=========#\n",
    "test__performance  = pd.DataFrame({\"Smoothin Splines\": reporter(f_hat_smoothing_splines_train,f_hat_smoothing_splines_test,data_y,data_y_test).iloc[:,1],\n",
    "                                   \"LOESS\": reporter(LOESS_prediction_train,LOESS_prediction_test,data_y,data_y_test).iloc[:,1],\n",
    "                                   \"OLS\": reporter(OLS_y_hat_train,OLS_y_hat_test,data_y,data_y_test).iloc[:,1],\n",
    "                                   \"NEU-OLS\": reporter(NEU_OLS_y_hat_train,NEU_OLS_y_hat_test,data_y,data_y_test).iloc[:,1],\n",
    "                                   \"Kernel\": reporter(f_hat_kernel_ridge_train,f_hat_kernel_ridge_test,data_y,data_y_test).iloc[:,1],\n",
    "                                   \"NEU-KerRidge\": reporter(NEU_KReg_y_hat_train,NEU_KReg_y_hat_test,data_y,data_y_test).iloc[:,1],\n",
    "                                   \"GBRF\": reporter(GBRF_y_hat_train,GBRF_y_hat_test,data_y,data_y_test).iloc[:,1],\n",
    "                                   \"NEU-GBRF\": reporter(NEU_GBRF_y_hat_train,NEU_GBRF_y_hat_test,data_y,data_y_test).iloc[:,1],\n",
    "                                   \"ffNN\": reporter(ffNN_y_hat_train,ffNN_y_hat_test,data_y,data_y_test).iloc[:,1],\n",
    "                                   \"NEU-ffNN (Readout-Form)\": reporter(NEU_ffNN_y_hat_train,NEU_ffNN_y_hat_test,data_y,data_y_test).iloc[:,1],\n",
    "                                   \"NEU-ffNN (Coupled)\": reporter(NEU_ffNN_y_hat_train_w_proj,NEU_ffNN_y_hat_test_w_proj,data_y,data_y_test).iloc[:,1],\n",
    "                                   \"NEU-ffNN (Decoupled)\": reporter(NEU_ffNN_y_hat_train_Dcpld,NEU_ffNN_y_hat_test_Dcpld,data_y,data_y_test).iloc[:,1]}).transpose()\n",
    "\n",
    "test__performance.to_latex(\"./outputs/tables/Test_performance.tex\")"
   ]
  },
  {
   "cell_type": "markdown",
   "metadata": {},
   "source": [
    "# Visualize Predictions"
   ]
  },
  {
   "cell_type": "code",
   "execution_count": null,
   "metadata": {},
   "outputs": [],
   "source": [
    "# Initialize Plot #\n",
    "#-----------------#\n",
    "plt.figure(num=None, figsize=(12, 12), dpi=80, facecolor='w', edgecolor='k')\n",
    "\n",
    "# Generate Plots #\n",
    "#----------------#\n",
    "\n",
    "# Plot Signal\n",
    "plt.plot(np.array(data_x_test_raw).reshape(-1,),data_y_test,color='gray',label='f(x)',linestyle='--')\n",
    "# Plot Data\n",
    "plt.scatter(np.array(data_x_raw).reshape(-1,),data_y,color='gray',label='train', marker = '2')\n",
    "plt.scatter(np.array(data_x_test_raw).reshape(-1,),data_y_test,color='black',label='test', marker = '.')\n",
    "\n",
    "#--------------------#\n",
    "# Benchmark Model(s) #\n",
    "#--------------------#\n",
    "# Ordinary Linear Regression (OLS)\n",
    "plt.plot(np.array(data_x_test_raw).reshape(-1,),ENET_OLS_y_hat_test, color = 'dodgerblue',linestyle=\":\", label='Lin. Reg')\n",
    "# plt.plot(np.array(data_x_test_raw).reshape(-1,),OLS_y_hat_test, color = 'dodgerblue',linestyle=\":\", label='OLS')\n",
    "# Plot Gradient-Boosted Random Forest Regressor (GBRF):\n",
    "plt.plot(np.array(data_x_test_raw).reshape(-1,),GBRF_y_hat_test, color = 'forestgreen', label='GBRF')\n",
    "# Plot Non-Linar Benchmark(s): Classical\n",
    "plt.plot(np.array(data_x_test_raw).reshape(-1,),f_hat_smoothing_splines_test,color='grey',linestyle=\"--\",label='Splines')\n",
    "plt.plot(np.array(data_x_test_raw).reshape(-1,),LOESS_prediction_test,color='purple',linestyle=\"--\",label='LOESS')\n",
    "# Kernel Ridge Regressor\n",
    "plt.plot(np.array(data_x_test_raw).reshape(-1,),f_hat_kernel_ridge_test,color='violet',linestyle=\"--\",label='Kernel Ridge')\n",
    "# Plot ffNN\n",
    "plt.plot(np.array(data_x_test_raw).reshape(-1,),ffNN_y_hat_test, color = 'lightblue',linestyle=\"--\",  label='DNN')\n",
    "\n",
    "\n",
    "#--------------#\n",
    "# NEU-Model(s) #\n",
    "#--------------#\n",
    "# Plot NEU-OLS\n",
    "plt.plot(np.array(data_x_test_raw).reshape(-1,),NEU_OLS_y_hat_test, color = 'c',label='NEU_OLS')\n",
    "# Plot NEU-GBRF:\n",
    "plt.plot(np.array(data_x_test_raw).reshape(-1,),NEU_GBRF_y_hat_test, color = 'forestgreen',label='NEU-GBRF')\n",
    "# NEU-Kernel Ridge Regressor\n",
    "plt.plot(np.array(data_x_test_raw).reshape(-1,),NEU_KReg_y_hat_test,color='darkviolet',label='NEU-Kernel Ridge')\n",
    "# Plot NEU-ffNN (Training Variants)\n",
    "plt.plot(np.array(data_x_test_raw).reshape(-1,),NEU_ffNN_y_hat_test, linestyle=\":\", color = 'b',label='DNN_NEU_coupled')\n",
    "plt.plot(np.array(data_x_test_raw).reshape(-1,),NEU_ffNN_y_hat_test_w_proj, color = 'mediumblue',linestyle='-.', label='DNN_NEU_coupled+UAEmbedding')\n",
    "plt.plot(np.array(data_x_test_raw).reshape(-1,),NEU_ffNN_y_hat_test_Dcpld, color = 'navy',label='DNN_NEU_decoupled')\n",
    "\n",
    "\n",
    "# Format Plot #\n",
    "#-------------#\n",
    "plt.legend(loc=\"upper left\")\n",
    "plt.title(\"Model Predictions\")\n",
    "\n",
    "# Export #\n",
    "#--------#\n",
    "# SAVE Figure to .eps\n",
    "plt.savefig('./outputs/plotsANDfigures/Full_Picture.eps', format='eps')\n",
    "plt.show()"
   ]
  },
  {
   "cell_type": "markdown",
   "metadata": {},
   "source": [
    " ---"
   ]
  },
  {
   "cell_type": "markdown",
   "metadata": {},
   "source": [
    "## Performance Report\n",
    "- First, we print the comparison tables (so it can be viewed from the command-line if it is being run live on a grid/cluster/remotely).\n",
    "- Second, we display the training and testing performances in clean dataframes."
   ]
  },
  {
   "cell_type": "code",
   "execution_count": null,
   "metadata": {},
   "outputs": [],
   "source": [
    "#--------------------#\n",
    "# Classical Model(s) #\n",
    "#--------------------#\n",
    "# OLS Performance\n",
    "print(\"OLS-Performance:\")\n",
    "# print(reporter(OLS_y_hat_train,OLS_y_hat_test,data_y,data_y_test))\n",
    "\n",
    "# NEU-OLS Performance\n",
    "print(\"NEU-OLS-Performance:\")\n",
    "print(reporter(NEU_OLS_y_hat_train,NEU_OLS_y_hat_test,data_y,data_y_test))"
   ]
  },
  {
   "cell_type": "code",
   "execution_count": null,
   "metadata": {},
   "outputs": [],
   "source": [
    "#-----------------------#\n",
    "# Kernel Ridge Model(s) #\n",
    "#-----------------------#\n",
    "# Kernel Ridge Performance\n",
    "print(\"Kernel Ridge-Performance:\")\n",
    "print(reporter(f_hat_kernel_ridge_train,f_hat_kernel_ridge_test,data_y,data_y_test))\n",
    "\n",
    "# NEU-Kernel Ridge Performance\n",
    "print(\"NEU-Kernel Ridge-Performance:\")\n",
    "print(reporter(NEU_KReg_y_hat_train,NEU_KReg_y_hat_test,data_y,data_y_test))"
   ]
  },
  {
   "cell_type": "code",
   "execution_count": null,
   "metadata": {},
   "outputs": [],
   "source": [
    "#---------------#\n",
    "# Tree Model(s) #\n",
    "#---------------#\n",
    "# GBRF Performance\n",
    "print(\"GBRF-Performance:\")\n",
    "print(reporter(GBRF_y_hat_train,GBRF_y_hat_test,data_y,data_y_test))\n",
    "\n",
    "# NEU-GBRF Performance\n",
    "print(\"NEU-GBRF-Performance:\")\n",
    "print(reporter(NEU_GBRF_y_hat_train,NEU_GBRF_y_hat_test,data_y,data_y_test))"
   ]
  },
  {
   "cell_type": "code",
   "execution_count": null,
   "metadata": {},
   "outputs": [],
   "source": [
    "#-----------------------------------------------------#\n",
    "# Classical Non-Linear Univariate Regression Model(s) #\n",
    "#-----------------------------------------------------#\n",
    "# Splines Performance\n",
    "print(\"Splines-Performance:\")\n",
    "print(reporter(f_hat_smoothing_splines_train,f_hat_smoothing_splines_test,data_y,data_y_test))\n",
    "\n",
    "# Loess Performance\n",
    "print(\"LOESS Performance:\")\n",
    "print(reporter(LOESS_prediction_train,LOESS_prediction_test,data_y,data_y_test))"
   ]
  },
  {
   "cell_type": "code",
   "execution_count": null,
   "metadata": {
    "scrolled": true
   },
   "outputs": [],
   "source": [
    "#--------------#\n",
    "# DNN Model(s) #\n",
    "#--------------#\n",
    "# ffNN Performance\n",
    "print(\"ffNN-Performance:\")\n",
    "print(reporter(ffNN_y_hat_train,ffNN_y_hat_test,data_y,data_y_test))\n",
    "\n",
    "# NEU-ffNN Performance\n",
    "print(\"NEU-ffNN (Coupled) Performance:\")\n",
    "print(reporter(NEU_ffNN_y_hat_train,NEU_ffNN_y_hat_test,data_y,data_y_test))\n",
    "print(\"NEU-ffNN (Coupled+UAEmbedding) Performance:\")\n",
    "print(reporter(NEU_ffNN_y_hat_train_w_proj,NEU_ffNN_y_hat_test_w_proj,data_y,data_y_test))\n",
    "print(\"NEU-ffNN (Decoupled) Performance:\")\n",
    "print(reporter(NEU_ffNN_y_hat_train_Dcpld,NEU_ffNN_y_hat_test_Dcpld,data_y,data_y_test))"
   ]
  },
  {
   "cell_type": "markdown",
   "metadata": {},
   "source": [
    "# Report"
   ]
  },
  {
   "cell_type": "markdown",
   "metadata": {},
   "source": [
    "## Train-Set Performance"
   ]
  },
  {
   "cell_type": "code",
   "execution_count": null,
   "metadata": {},
   "outputs": [],
   "source": [
    "train_performance"
   ]
  },
  {
   "cell_type": "markdown",
   "metadata": {},
   "source": [
    "## Test-Set Performance"
   ]
  },
  {
   "cell_type": "code",
   "execution_count": null,
   "metadata": {},
   "outputs": [],
   "source": [
    "test__performance"
   ]
  },
  {
   "cell_type": "markdown",
   "metadata": {},
   "source": [
    "#### The END"
   ]
  },
  {
   "cell_type": "markdown",
   "metadata": {},
   "source": [
    "---"
   ]
  }
 ],
 "metadata": {
  "kernelspec": {
   "display_name": "Python 3",
   "language": "python",
   "name": "python3"
  },
  "language_info": {
   "codemirror_mode": {
    "name": "ipython",
    "version": 3
   },
   "file_extension": ".py",
   "mimetype": "text/x-python",
   "name": "python",
   "nbconvert_exporter": "python",
   "pygments_lexer": "ipython3",
   "version": "3.7.7"
  }
 },
 "nbformat": 4,
 "nbformat_minor": 2
}
