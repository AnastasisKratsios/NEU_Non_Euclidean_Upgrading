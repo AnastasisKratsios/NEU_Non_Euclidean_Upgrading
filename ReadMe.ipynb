{
 "cells": [
  {
   "cell_type": "markdown",
   "metadata": {},
   "source": [
    "# Read Me\n",
    "\n",
    "This is the code for the NEU meta-algorithm, of [this paper](https://arxiv.org/abs/1809.00082), applied to regression and dimension reduction problems.  \n",
    "\n",
    "This meta-procedure learns a Riemannian geometry on the space of input/output pairs which optimizes the performance of any algorithm.  In turn, this makes simple algorithms as competitive as complicated ones.  \n",
    "\n",
    "## Brief Overview of NEU\n",
    "\n",
    "1. Perform Classical Algorithm obtain: obtain input/output pairs\n",
    "2. Feed input/ouput pairs into reconfigurations\n",
    "3. Optimize Objective function (after projecting to output pair's corrdinate)\n",
    "\n",
    "BONUS:\n",
    "Plot Non-Euclidean Geometry on input-output space!"
   ]
  },
  {
   "cell_type": "markdown",
   "metadata": {},
   "source": [
    "## Using NEU-OLS and NEU-PCA\n",
    "- Run either of the Regression of PCA .ipynb files (depending on desired task)\n",
    "- Adjust Simulated data in Data_Generator.ipynb\n",
    "\n",
    "- For other tasks, simply modify input layer in the NEU_Backend.ipynb file.  This contains the bulk of the NEU code."
   ]
  },
  {
   "cell_type": "markdown",
   "metadata": {},
   "source": [
    "# Todo:\n",
    "1. Add initializations & details to trainable parameters in reconfiguration!\n",
    "2. Compute Curvature Tensors!"
   ]
  },
  {
   "cell_type": "code",
   "execution_count": null,
   "metadata": {},
   "outputs": [],
   "source": []
  }
 ],
 "metadata": {
  "kernelspec": {
   "display_name": "Python 3",
   "language": "python",
   "name": "python3"
  },
  "language_info": {
   "codemirror_mode": {
    "name": "ipython",
    "version": 3
   },
   "file_extension": ".py",
   "mimetype": "text/x-python",
   "name": "python",
   "nbconvert_exporter": "python",
   "pygments_lexer": "ipython3",
   "version": "3.7.6"
  }
 },
 "nbformat": 4,
 "nbformat_minor": 2
}
