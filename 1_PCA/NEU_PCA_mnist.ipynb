{
 "cells": [
  {
   "cell_type": "markdown",
   "metadata": {},
   "source": [
    "# NEU-PCA: MNIST\n",
    "- Designed and Coded by: [Anastasis Kratsios](https://people.math.ethz.ch/~kratsioa/).\n",
    "- Some Elements of the PCA analysis are forked from [this repo](https://github.com/radmerti/MVA2-PCA/blob/master/YieldCurvePCA.ipynb)."
   ]
  },
  {
   "cell_type": "markdown",
   "metadata": {},
   "source": [
    "# What is PCA?\n",
    "PCA is a two-part algorithm.  In phase 1, high-dimensional data $\\mathbb{R}^D$ is mapped into a low-dimensional space ($D\\gg d$) via the optimal linear (orthogonal) projection.  In phase 2, the best $d$-dimensional embedding of the features $\\mathbb{R}^d$ into $\\mathbb{R}^D$ is learned and used to reconstruct (as best as is possible) the high-dimensional data from this small set of features.  "
   ]
  },
  {
   "cell_type": "markdown",
   "metadata": {},
   "source": [
    "# How does NEU-PCA function?\n",
    "Since the purpous of the reconfiguration network is to learn (non-linear) topology embeddings of low-dimensional linear space then we can apply NEU to the reconstruction map phase of PCA.  Moreover, we will see that the embedding can be infered from a low-dimensional intermediate space $\\mathbb{R}^N$ with $d\\leq N\\ll D$.  Benefits:\n",
    "- Computationally cheap,\n",
    "- Just as effective as an Autoencoder,\n",
    "- Maintain interpretation of PCA features!"
   ]
  },
  {
   "cell_type": "markdown",
   "metadata": {},
   "source": [
    "$$\n",
    "\\mbox{Data}:\\mathbb{R}^D \\rightarrow \n",
    "\\mbox{Principal Features}: \\mathbb{R}^d \n",
    "\\rightarrow \n",
    "\\mbox{Reconstructing Feature Space}: \\mathbb{R}^N\n",
    "\\rightarrow \n",
    "\\mbox{Embedding - Reconstruction}: \\mathbb{R}^D\n",
    ".\n",
    "$$"
   ]
  },
  {
   "cell_type": "markdown",
   "metadata": {},
   "source": [
    "## Parameters"
   ]
  },
  {
   "cell_type": "code",
   "execution_count": 17,
   "metadata": {},
   "outputs": [],
   "source": [
    "PCA_Rank = 2"
   ]
  },
  {
   "cell_type": "markdown",
   "metadata": {},
   "source": [
    "## Imports"
   ]
  },
  {
   "cell_type": "code",
   "execution_count": 18,
   "metadata": {},
   "outputs": [
    {
     "name": "stdout",
     "output_type": "stream",
     "text": [
      "Parameter Grids Build and Loaded!\n",
      "Complete NEU-Structure Building Procedure!!!\n",
      "Complete NEU-Structure Building Procedure!!!\n",
      "Complete NEU-ffNN Training Procedure!!!\n",
      "Deep Feature Builder - Ready\n",
      "Complete NEU-ffNN Training Procedure!!!\n",
      "Complete NEU-ffNN Training Procedure!!!\n",
      "Complete NEU-ffNN (Fully Coupled) Training Procedure!!!\n",
      "Complete NEU-ffNN Training Procedure!!!\n",
      "Complete NEU-ffNN Training Procedure!!!\n"
     ]
    }
   ],
   "source": [
    "# First Round Initializations (Global Level) #\n",
    "#============================================#\n",
    "# Load Dependances and makes path(s)\n",
    "exec(open('Initializations_Dump.py').read())\n",
    "# Load Hyper( and meta) parameter(s)\n",
    "exec(open('HyperParameter_Grid.py').read())\n",
    "# %run Helper_Functions.ipynb\n",
    "exec(open('Helper_Functions.py').read())\n",
    "# Load Models\n",
    "# %run Architecture_Builder.ipynb\n",
    "exec(open('Architecture_Builder.py').read())\n",
    "# Initialize \"First Run Mode\"\n",
    "First_run = True"
   ]
  },
  {
   "cell_type": "code",
   "execution_count": 19,
   "metadata": {},
   "outputs": [],
   "source": [
    "import pylab as plt\n",
    "import numpy as np\n",
    "import seaborn as sns; sns.set()\n",
    "\n",
    "import sklearn\n",
    "from sklearn import datasets\n",
    "import numpy as np\n",
    "from sklearn.model_selection import train_test_split\n",
    "from sklearn.preprocessing import StandardScaler, MinMaxScaler\n",
    "from sklearn import decomposition\n",
    "import scipy\n",
    "\n",
    "from tensorflow.keras.models import Model, load_model\n",
    "from tensorflow.keras.layers import Input, Dense, Layer, InputSpec\n",
    "from tensorflow.keras.callbacks import ModelCheckpoint, TensorBoard\n",
    "from tensorflow.keras import regularizers, activations, initializers, constraints, Sequential\n",
    "from tensorflow.keras import backend as K\n",
    "from tensorflow.keras.constraints import UnitNorm, Constraint\n",
    "\n",
    "from numpy.random import seed\n",
    "\n",
    "# MUSTS\n",
    "import matplotlib.gridspec as gridspec"
   ]
  },
  {
   "cell_type": "markdown",
   "metadata": {},
   "source": [
    "### Fix Seeds for Reproducability"
   ]
  },
  {
   "cell_type": "code",
   "execution_count": 20,
   "metadata": {},
   "outputs": [],
   "source": [
    "# Numpy\n",
    "np.random.seed(2020)\n",
    "# Tensorflow\n",
    "tf.random.set_seed(2020)\n",
    "# Python's Seed\n",
    "random.seed(2020)"
   ]
  },
  {
   "cell_type": "markdown",
   "metadata": {},
   "source": [
    "## Load Data"
   ]
  },
  {
   "cell_type": "code",
   "execution_count": 21,
   "metadata": {},
   "outputs": [],
   "source": [
    "from tensorflow.keras.datasets import mnist\n",
    "\n",
    "(X_train, Y_train), (X_test, Y_test) = mnist.load_data()\n",
    "X_train = X_train.reshape(60000, 784) / 255\n",
    "X_test = X_test.reshape(10000, 784) / 255"
   ]
  },
  {
   "cell_type": "markdown",
   "metadata": {},
   "source": [
    "#### Pre-Process Data"
   ]
  },
  {
   "cell_type": "code",
   "execution_count": 22,
   "metadata": {},
   "outputs": [],
   "source": [
    "# Initialize Scaler\n",
    "scaler = MinMaxScaler()\n",
    "scaler.fit(X_train)\n",
    "\n",
    "# Train Scaler\n",
    "X_train_scaled = scaler.transform(X_train)\n",
    "# Map to Test Set\n",
    "X_test_scaled = scaler.transform(X_test)"
   ]
  },
  {
   "cell_type": "markdown",
   "metadata": {},
   "source": [
    "---"
   ]
  },
  {
   "cell_type": "markdown",
   "metadata": {},
   "source": [
    "# Benchmark(s)\n",
    "---"
   ]
  },
  {
   "cell_type": "markdown",
   "metadata": {},
   "source": [
    "## Get PCAs"
   ]
  },
  {
   "cell_type": "code",
   "execution_count": 23,
   "metadata": {},
   "outputs": [
    {
     "name": "stdout",
     "output_type": "stream",
     "text": [
      "PCA: Computing...\n",
      "PCA: Complete!\n"
     ]
    }
   ],
   "source": [
    "print('PCA: Computing...')\n",
    "# Reconstruct Training Data\n",
    "Zpca,Zpca_test,Rpca,Rpca_test = get_PCAs(X_train_scaled=X_train_scaled,\n",
    "                                         X_test_scaled=X_test_scaled,\n",
    "                                         PCA_Rank=PCA_Rank)\n",
    "print('PCA: Complete!')"
   ]
  },
  {
   "cell_type": "markdown",
   "metadata": {},
   "source": [
    "#### Get Reconstruction Result(s)"
   ]
  },
  {
   "cell_type": "code",
   "execution_count": null,
   "metadata": {},
   "outputs": [],
   "source": [
    "# Get Results #\n",
    "#-------------#\n",
    "## Compute\n",
    "PCA_Reconstruction_results = reporter_array(Rpca,Rpca_test,X_train,X_test)\n",
    "## Organize\n",
    "### Train\n",
    "Performance_Results_train = pd.DataFrame(PCA_Reconstruction_results['Train'],index=PCA_Reconstruction_results.index)\n",
    "Performance_Results_train.columns=['PCA']\n",
    "### Test\n",
    "Performance_Results_test = pd.DataFrame(PCA_Reconstruction_results['Test'],index=PCA_Reconstruction_results.index)\n",
    "Performance_Results_test.columns=['PCA']\n",
    "\n",
    "# Update Total Results #\n",
    "#----------------------#\n",
    "# N/A\n",
    "\n",
    "# Save Results #\n",
    "#--------------#\n",
    "Performance_Results_train.to_latex('outputs/tables/MNIST_Performance_train.txt')\n",
    "Performance_Results_test.to_latex('outputs/tables/MNIST_Performance_test.txt')"
   ]
  },
  {
   "cell_type": "markdown",
   "metadata": {},
   "source": [
    "## Get (ReLU) Auto-Encoder"
   ]
  },
  {
   "cell_type": "code",
   "execution_count": 9,
   "metadata": {},
   "outputs": [
    {
     "name": "stdout",
     "output_type": "stream",
     "text": [
      "Auto-encoder: Computing...\n",
      "Begin autoencoder Training\n",
      "Fitting 2 folds for each of 1 candidates, totalling 2 fits\n"
     ]
    },
    {
     "name": "stderr",
     "output_type": "stream",
     "text": [
      "[Parallel(n_jobs=3)]: Using backend LokyBackend with 3 concurrent workers.\n",
      "[Parallel(n_jobs=3)]: Done   2 out of   2 | elapsed:   34.5s remaining:    0.0s\n",
      "[Parallel(n_jobs=3)]: Done   2 out of   2 | elapsed:   34.5s finished\n"
     ]
    },
    {
     "name": "stdout",
     "output_type": "stream",
     "text": [
      "We use a DNN of depth: 13\n",
      "Epoch 1/4\n",
      "938/938 [==============================] - 8s 9ms/step - loss: 0.0679 - accuracy: 0.0116\n",
      "Epoch 2/4\n",
      "938/938 [==============================] - 8s 8ms/step - loss: 0.0674 - accuracy: 0.0121\n",
      "Epoch 3/4\n",
      "938/938 [==============================] - 8s 8ms/step - loss: 0.0674 - accuracy: 0.0126\n",
      "Epoch 4/4\n",
      "938/938 [==============================] - 8s 8ms/step - loss: 0.0674 - accuracy: 0.0123\n",
      "938/938 [==============================] - 3s 3ms/step\n",
      "157/157 [==============================] - 1s 4ms/step\n",
      "Autoencoder: Trained!\n",
      "Autoencoder: Saving\n",
      "Autoencoder: Saved\n",
      "Complete Autoencoder Training Procedure!!!\n",
      "Auto-encoder: Complete!\n"
     ]
    }
   ],
   "source": [
    "print('Auto-encoder: Computing...')\n",
    "AE_Reconstructed_train, AE_Reconstructed_test, AE_Factors_train, AE_Factors_test = build_autoencoder(CV_folds,\n",
    "                                                                                                     n_jobs,\n",
    "                                                                                                     n_iter,\n",
    "                                                                                                     X_train_scaled,\n",
    "                                                                                                     X_train,\n",
    "                                                                                                     X_test_scaled,\n",
    "                                                                                                     PCA_Rank)\n",
    "\n",
    "print('Auto-encoder: Complete!')"
   ]
  },
  {
   "cell_type": "markdown",
   "metadata": {},
   "source": [
    "#### Get Reconstruction Result(s)"
   ]
  },
  {
   "cell_type": "code",
   "execution_count": null,
   "metadata": {},
   "outputs": [],
   "source": [
    "# Get Results #\n",
    "#-------------#\n",
    "## Compute\n",
    "AE_Reconstruction_results = reporter_array(AE_Reconstructed_train,AE_Reconstructed_test,X_train,X_test)\n",
    "## Organize\n",
    "### Train\n",
    "AE_Performance_Results_train = pd.DataFrame(AE_Reconstruction_results['Train'],index=AE_Reconstruction_results.index)\n",
    "AE_Performance_Results_train.columns=['AE']\n",
    "### Test\n",
    "AE_Performance_Results_test = pd.DataFrame(AE_Reconstruction_results['Test'],index=AE_Reconstruction_results.index)\n",
    "AE_Performance_Results_test.columns=['AE']\n",
    "\n",
    "# Update Total Results #\n",
    "#----------------------#\n",
    "Performance_Results_train = pd.concat([Performance_Results_train,AE_Performance_Results_train],axis=1)\n",
    "Performance_Results_test = pd.concat([Performance_Results_test,AE_Performance_Results_test],axis=1)\n",
    "\n",
    "# Save Results #\n",
    "#--------------#\n",
    "Performance_Results_train.to_latex('outputs/tables/MNIST_Performance_train.txt')\n",
    "Performance_Results_test.to_latex('outputs/tables/MNIST_Performance_test.txt')"
   ]
  },
  {
   "cell_type": "markdown",
   "metadata": {},
   "source": [
    "# NEU - PCA"
   ]
  },
  {
   "cell_type": "code",
   "execution_count": null,
   "metadata": {},
   "outputs": [],
   "source": [
    "print('NEU-PCA: Computing...')\n",
    "NEU_PCA_Reconstruction_train, NEU_PCA_Reconstruction_test, NEU_PCA_Factors_train, NEU_PCA_Factors_test =  build_NEU_PCA(CV_folds, \n",
    "                                                                                                                        n_jobs, \n",
    "                                                                                                                        n_iter, \n",
    "                                                                                                                        param_grid_in, \n",
    "                                                                                                                        X_train_scaled,\n",
    "                                                                                                                        X_test_scaled, \n",
    "                                                                                                                        X_train,\n",
    "                                                                                                                        PCA_Rank)\n",
    "\n",
    "print('NEU-PCA: Complete!')"
   ]
  },
  {
   "cell_type": "markdown",
   "metadata": {},
   "source": [
    "#### Get Reconstruction Result(s)"
   ]
  },
  {
   "cell_type": "code",
   "execution_count": null,
   "metadata": {},
   "outputs": [],
   "source": [
    "# Get Results #\n",
    "#-------------#\n",
    "## Compute\n",
    "NEU_Reconstruction_Results = reporter_array(NEU_PCA_Reconstruction_train,NEU_PCA_Reconstruction_test,X_train,X_test)\n",
    "## Organize\n",
    "### Train\n",
    "NEU_Reconstruction_Results_train = pd.DataFrame(NEU_Reconstruction_Results['Train'],index=NEU_Reconstruction_Results.index)\n",
    "NEU_Reconstruction_Results_train.columns=['NEU-PCA']\n",
    "### Test\n",
    "NEU_Reconstruction_Results_test = pd.DataFrame(NEU_Reconstruction_Results['Test'],index=NEU_Reconstruction_Results.index)\n",
    "NEU_Reconstruction_Results_test.columns=['NEU-PCA']\n",
    "\n",
    "# Update Total Results #\n",
    "#----------------------#\n",
    "Performance_Results_train = pd.concat([Performance_Results_train,NEU_Reconstruction_Results_train],axis=1)\n",
    "Performance_Results_test = pd.concat([Performance_Results_test,NEU_Reconstruction_Results_test],axis=1)\n",
    "\n",
    "# Save Results #\n",
    "#--------------#\n",
    "Performance_Results_train.to_latex('outputs/tables/MNIST_Performance_train.txt')\n",
    "Performance_Results_test.to_latex('outputs/tables/MNIST_Performance_test.txt')"
   ]
  },
  {
   "cell_type": "markdown",
   "metadata": {},
   "source": [
    "# NEU Autoencoder"
   ]
  },
  {
   "cell_type": "code",
   "execution_count": null,
   "metadata": {},
   "outputs": [],
   "source": [
    "print('NEU-AE: Computing...')\n",
    "NEU_PCA_Reconstruction_train, NEU_PCA_Reconstruction_test, NEU_PCA_Factors_train, NEU_PCA_Factors_test =  build_NEU_Autoencoder(CV_folds, \n",
    "                                                                                                                                n_jobs, \n",
    "                                                                                                                                n_iter, \n",
    "                                                                                                                                param_grid_in, \n",
    "                                                                                                                                X_train_scaled,\n",
    "                                                                                                                                X_test_scaled, \n",
    "                                                                                                                                X_train,\n",
    "                                                                                                                                PCA_Rank)\n",
    "print('NEU-AE: Complete!')"
   ]
  },
  {
   "cell_type": "markdown",
   "metadata": {},
   "source": [
    "#### Get Reconstruction Result(s)"
   ]
  },
  {
   "cell_type": "code",
   "execution_count": null,
   "metadata": {},
   "outputs": [],
   "source": [
    "# Get Results #\n",
    "#-------------#\n",
    "## Compute\n",
    "NEU_Reconstruction_Results = reporter_array(NEU_PCA_Reconstruction_train,NEU_PCA_Reconstruction_test,X_train,X_test)\n",
    "## Organize\n",
    "### Train\n",
    "NEU_Reconstruction_Results_train = pd.DataFrame(NEU_Reconstruction_Results['Train'],index=NEU_Reconstruction_Results.index)\n",
    "NEU_Reconstruction_Results_train.columns=['NEU-PCA']\n",
    "### Test\n",
    "NEU_Reconstruction_Results_test = pd.DataFrame(NEU_Reconstruction_Results['Test'],index=NEU_Reconstruction_Results.index)\n",
    "NEU_Reconstruction_Results_test.columns=['NEU-PCA']\n",
    "\n",
    "# Update Total Results #\n",
    "#----------------------#\n",
    "Performance_Results_train = pd.concat([Performance_Results_train,NEU_Reconstruction_Results_train],axis=1)\n",
    "Performance_Results_test = pd.concat([Performance_Results_test,NEU_Reconstruction_Results_test],axis=1)\n",
    "\n",
    "# Save Results #\n",
    "#--------------#\n",
    "Performance_Results_train.to_latex('outputs/tables/MNIST_Performance_train.txt')\n",
    "Performance_Results_test.to_latex('outputs/tables/MNIST_Performance_test.txt')"
   ]
  },
  {
   "cell_type": "markdown",
   "metadata": {},
   "source": [
    "# Visualize Results"
   ]
  },
  {
   "cell_type": "markdown",
   "metadata": {},
   "source": [
    "### Feature Space(s)"
   ]
  },
  {
   "cell_type": "code",
   "execution_count": null,
   "metadata": {},
   "outputs": [],
   "source": [
    "fig2 = plt.figure(constrained_layout=True, figsize=(16,16))\n",
    "spec2 = gridspec.GridSpec(ncols=2, nrows=2, figure=fig2)\n",
    "\n",
    "fig2_ax0 = fig2.add_subplot(spec2[0, 0])\n",
    "fig2_ax0.set_title('PCA')\n",
    "# plt.title('PCA')\n",
    "fig2_ax0.scatter(Zpca[:5000,0], Zpca[:5000,1], c=Y_train[:5000], s=8, cmap='tab10')\n",
    "fig2_ax0.get_xaxis().set_ticklabels([])\n",
    "fig2_ax0.get_yaxis().set_ticklabels([])\n",
    "\n",
    "# plt.subplot(122)\n",
    "fig2_ax1 = fig2.add_subplot(spec2[0, 1])\n",
    "# plt.title('Autoencoder')\n",
    "fig2_ax1.set_title('Autoencoder')\n",
    "fig2_ax1.scatter(AE_Factors_train[:5000,0], AE_Factors_train[:5000,1], c=Y_train[:5000], s=8, cmap='tab10')\n",
    "fig2_ax1.get_xaxis().set_ticklabels([])\n",
    "fig2_ax1.get_yaxis().set_ticklabels([])\n",
    "\n",
    "# plt.subplot(223)\n",
    "fig2_ax2 = fig2.add_subplot(spec2[1, 0])\n",
    "# plt.title('NEU-PCA')\n",
    "fig2_ax2.set_title('NEU-PCA')\n",
    "fig2_ax2.scatter(NEU_PCA_Factors_train[:5000,0], NEU_PCA_Factors_train[:5000,1], c=Y_train[:5000], s=8, cmap='tab10')\n",
    "fig2_ax2.get_xaxis().set_ticklabels([])\n",
    "fig2_ax2.get_yaxis().set_ticklabels([])\n",
    "\n",
    "\n",
    "plt.tight_layout()\n",
    "\n",
    "# Save Results\n",
    "fig2.savefig('outputs/plotsANDfigures/Results_Visualization_MNIST.pdf')"
   ]
  },
  {
   "cell_type": "markdown",
   "metadata": {},
   "source": [
    "## Reconstruction(s)"
   ]
  },
  {
   "cell_type": "markdown",
   "metadata": {},
   "source": [
    "#### Testing"
   ]
  },
  {
   "cell_type": "code",
   "execution_count": null,
   "metadata": {},
   "outputs": [],
   "source": [
    "plt.figure(figsize=(9,4))\n",
    "toPlot = (X_test, Rpca_test, AE_Reconstructed_test, NEU_PCA_Reconstruction_test)\n",
    "for i in range(10):\n",
    "    for j in range(4):\n",
    "        ax = plt.subplot(4, 10, 10*j+i+1)\n",
    "        plt.imshow(toPlot[j][i,:].reshape(28,28), interpolation=\"nearest\", \n",
    "                   vmin=0, vmax=1)\n",
    "        plt.gray()\n",
    "        ax.get_xaxis().set_visible(False)\n",
    "        ax.get_yaxis().set_visible(False)\n",
    "\n",
    "plt.tight_layout()\n",
    "\n",
    "# Save Results\n",
    "plt.savefig('outputs/plotsANDfigures/Results_Visualization_MNIST_Reconstruction_test.pdf')"
   ]
  },
  {
   "cell_type": "markdown",
   "metadata": {},
   "source": [
    "#### Training"
   ]
  },
  {
   "cell_type": "code",
   "execution_count": null,
   "metadata": {},
   "outputs": [],
   "source": [
    "plt.figure(figsize=(9,4))\n",
    "toPlot = (X_train, Rpca, AE_Reconstructed_train, NEU_PCA_Reconstruction_train)\n",
    "for i in range(10):\n",
    "    for j in range(4):\n",
    "        ax = plt.subplot(4, 10, 10*j+i+1)\n",
    "        plt.imshow(toPlot[j][i,:].reshape(28,28), interpolation=\"nearest\", \n",
    "                   vmin=0, vmax=1)\n",
    "        plt.gray()\n",
    "        ax.get_xaxis().set_visible(False)\n",
    "        ax.get_yaxis().set_visible(False)\n",
    "\n",
    "plt.tight_layout()\n",
    "\n",
    "# Save Results\n",
    "plt.savefig('outputs/plotsANDfigures/Results_Visualization_MNIST_Reconstruction_train.pdf')"
   ]
  },
  {
   "cell_type": "markdown",
   "metadata": {},
   "source": [
    "---"
   ]
  },
  {
   "cell_type": "markdown",
   "metadata": {},
   "source": [
    "## Numerical Summary"
   ]
  },
  {
   "cell_type": "markdown",
   "metadata": {},
   "source": [
    "#### Testing Results"
   ]
  },
  {
   "cell_type": "code",
   "execution_count": null,
   "metadata": {},
   "outputs": [],
   "source": [
    "print(np.round(Performance_Results_test,4))\n",
    "Performance_Results_test"
   ]
  },
  {
   "cell_type": "markdown",
   "metadata": {},
   "source": [
    "#### Training Results"
   ]
  },
  {
   "cell_type": "code",
   "execution_count": null,
   "metadata": {},
   "outputs": [],
   "source": [
    "print(np.round(Performance_Results_train,4))\n",
    "Performance_Results_train"
   ]
  },
  {
   "cell_type": "markdown",
   "metadata": {},
   "source": [
    "--- ---\n",
    "# Fin\n",
    "--- ---"
   ]
  }
 ],
 "metadata": {
  "kernelspec": {
   "display_name": "Python 3",
   "language": "python",
   "name": "python3"
  },
  "language_info": {
   "codemirror_mode": {
    "name": "ipython",
    "version": 3
   },
   "file_extension": ".py",
   "mimetype": "text/x-python",
   "name": "python",
   "nbconvert_exporter": "python",
   "pygments_lexer": "ipython3",
   "version": "3.7.7"
  }
 },
 "nbformat": 4,
 "nbformat_minor": 2
}
