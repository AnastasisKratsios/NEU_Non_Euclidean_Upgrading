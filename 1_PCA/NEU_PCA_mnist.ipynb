{
 "cells": [
  {
   "cell_type": "markdown",
   "metadata": {},
   "source": [
    "# NEU-PCA: MNIST\n",
    "- Designed and Coded by: [Anastasis Kratsios](https://people.math.ethz.ch/~kratsioa/).\n",
    "- Some Elements of the PCA analysis are forked from [this repo](https://github.com/radmerti/MVA2-PCA/blob/master/YieldCurvePCA.ipynb)."
   ]
  },
  {
   "cell_type": "markdown",
   "metadata": {},
   "source": [
    "## Parameters"
   ]
  },
  {
   "cell_type": "code",
   "execution_count": 1,
   "metadata": {},
   "outputs": [],
   "source": [
    "PCA_Rank = 2"
   ]
  },
  {
   "cell_type": "markdown",
   "metadata": {},
   "source": [
    "## Imports"
   ]
  },
  {
   "cell_type": "code",
   "execution_count": 2,
   "metadata": {},
   "outputs": [
    {
     "name": "stderr",
     "output_type": "stream",
     "text": [
      "Using TensorFlow backend.\n"
     ]
    },
    {
     "name": "stdout",
     "output_type": "stream",
     "text": [
      "Parameter Grids Build and Loaded!\n",
      "Complete NEU-Structure Building Procedure!!!\n",
      "Complete NEU-Structure Building Procedure!!!\n",
      "Complete NEU-ffNN Training Procedure!!!\n",
      "Deep Feature Builder - Ready\n",
      "Complete NEU-ffNN Training Procedure!!!\n",
      "Complete NEU-ffNN Training Procedure!!!\n",
      "Complete NEU-ffNN (Fully Coupled) Training Procedure!!!\n",
      "Complete NEU-ffNN Training Procedure!!!\n",
      "Complete NEU-ffNN Training Procedure!!!\n",
      "Complete NEU-PCA Training Procedure!!!\n"
     ]
    }
   ],
   "source": [
    "# First Round Initializations (Global Level) #\n",
    "#============================================#\n",
    "# Load Dependances and makes path(s)\n",
    "exec(open('Initializations_Dump.py').read())\n",
    "# Load Hyper( and meta) parameter(s)\n",
    "exec(open('HyperParameter_Grid.py').read())\n",
    "# %run Helper_Functions.ipynb\n",
    "exec(open('Helper_Functions.py').read())\n",
    "# Load Models\n",
    "# %run Architecture_Builder.ipynb\n",
    "exec(open('Architecture_Builder.py').read())\n",
    "# Initialize \"First Run Mode\"\n",
    "First_run = True"
   ]
  },
  {
   "cell_type": "code",
   "execution_count": 3,
   "metadata": {},
   "outputs": [],
   "source": [
    "import pylab as plt\n",
    "import numpy as np\n",
    "import seaborn as sns; sns.set()\n",
    "\n",
    "import sklearn\n",
    "from sklearn import datasets\n",
    "import numpy as np\n",
    "from sklearn.model_selection import train_test_split\n",
    "from sklearn.preprocessing import StandardScaler, MinMaxScaler\n",
    "from sklearn import decomposition\n",
    "import scipy\n",
    "\n",
    "from tensorflow.keras.models import Model, load_model\n",
    "from tensorflow.keras.layers import Input, Dense, Layer, InputSpec\n",
    "from tensorflow.keras.callbacks import ModelCheckpoint, TensorBoard\n",
    "from tensorflow.keras import regularizers, activations, initializers, constraints, Sequential\n",
    "from tensorflow.keras import backend as K\n",
    "from tensorflow.keras.constraints import UnitNorm, Constraint\n",
    "\n",
    "from numpy.random import seed"
   ]
  },
  {
   "cell_type": "markdown",
   "metadata": {},
   "source": [
    "### Fix Seeds for Reproducability"
   ]
  },
  {
   "cell_type": "code",
   "execution_count": 4,
   "metadata": {},
   "outputs": [],
   "source": [
    "# Numpy\n",
    "np.random.seed(2020)\n",
    "# Tensorflow\n",
    "tf.random.set_seed(2020)\n",
    "# Python's Seed\n",
    "random.seed(2020)"
   ]
  },
  {
   "cell_type": "markdown",
   "metadata": {},
   "source": [
    "## Load Data"
   ]
  },
  {
   "cell_type": "code",
   "execution_count": 5,
   "metadata": {},
   "outputs": [],
   "source": [
    "from tensorflow.keras.datasets import mnist\n",
    "\n",
    "(X_train, Y_train), (X_test, Y_test) = mnist.load_data()\n",
    "X_train = X_train.reshape(60000, 784) / 255\n",
    "X_test = X_test.reshape(10000, 784) / 255"
   ]
  },
  {
   "cell_type": "markdown",
   "metadata": {},
   "source": [
    "#### Pre-Process Data"
   ]
  },
  {
   "cell_type": "code",
   "execution_count": 6,
   "metadata": {},
   "outputs": [],
   "source": [
    "# Initialize Scaler\n",
    "scaler = MinMaxScaler()\n",
    "scaler.fit(X_train)\n",
    "\n",
    "# Train Scaler\n",
    "X_train_scaled = scaler.transform(X_train)\n",
    "# Map to Test Set\n",
    "X_test_scaled = scaler.transform(X_test)"
   ]
  },
  {
   "cell_type": "code",
   "execution_count": 7,
   "metadata": {},
   "outputs": [],
   "source": [
    "# # ## TEMPS!!\n",
    "is_visuallty_verbose = True\n",
    "# First_run = False"
   ]
  },
  {
   "cell_type": "markdown",
   "metadata": {},
   "source": [
    "---"
   ]
  },
  {
   "cell_type": "markdown",
   "metadata": {},
   "source": [
    "# Benchark(s)\n",
    "---"
   ]
  },
  {
   "cell_type": "markdown",
   "metadata": {},
   "source": [
    "## Get PCAs"
   ]
  },
  {
   "cell_type": "code",
   "execution_count": 8,
   "metadata": {},
   "outputs": [],
   "source": [
    "# Reconstruct Training Data\n",
    "Zpca,Zpca_test,Rpca,Rpca_test = get_PCAs(X_train_scaled=X_train_scaled,\n",
    "                                         X_test_scaled=X_test_scaled,\n",
    "                                         PCA_Rank=PCA_Rank)"
   ]
  },
  {
   "cell_type": "markdown",
   "metadata": {},
   "source": [
    "#### Get Reconstruction Result(s)"
   ]
  },
  {
   "cell_type": "code",
   "execution_count": 9,
   "metadata": {},
   "outputs": [],
   "source": [
    "# Get Results #\n",
    "#-------------#\n",
    "## Compute\n",
    "PCA_Reconstruction_results = reporter_array(Rpca,Rpca_test,X_train,X_test)\n",
    "## Organize\n",
    "### Train\n",
    "Performance_Results_train = pd.DataFrame(PCA_Reconstruction_results['Train'],index=PCA_Reconstruction_results.index)\n",
    "Performance_Results_train.columns=['PCA']\n",
    "### Test\n",
    "Performance_Results_test = pd.DataFrame(PCA_Reconstruction_results['Test'],index=PCA_Reconstruction_results.index)\n",
    "Performance_Results_test.columns=['PCA']\n",
    "\n",
    "# Update Total Results #\n",
    "#----------------------#\n",
    "# NA\n",
    "\n",
    "# Save Results #\n",
    "#--------------#\n",
    "Performance_Results_train.to_latex('outputs/tables/MNIST_Performance_train.txt')\n",
    "Performance_Results_test.to_latex('outputs/tables/MNIST_Performance_test.txt')"
   ]
  },
  {
   "cell_type": "markdown",
   "metadata": {},
   "source": [
    "## Get (ReLU) Auto-Encoder"
   ]
  },
  {
   "cell_type": "code",
   "execution_count": null,
   "metadata": {},
   "outputs": [
    {
     "name": "stdout",
     "output_type": "stream",
     "text": [
      "Begin autoencoder Training\n",
      "Fitting 2 folds for each of 1 candidates, totalling 2 fits\n"
     ]
    },
    {
     "name": "stderr",
     "output_type": "stream",
     "text": [
      "[Parallel(n_jobs=3)]: Using backend LokyBackend with 3 concurrent workers.\n",
      "[Parallel(n_jobs=3)]: Done   2 out of   2 | elapsed:  1.4min remaining:    0.0s\n",
      "[Parallel(n_jobs=3)]: Done   2 out of   2 | elapsed:  1.4min finished\n"
     ]
    },
    {
     "name": "stdout",
     "output_type": "stream",
     "text": [
      "We use a DNN of depth: 6\n",
      "Epoch 1/4\n",
      " 212/3750 [>.............................] - ETA: 17s - loss: 0.0837 - accuracy: 0.0088"
     ]
    }
   ],
   "source": [
    "AE_Reconstructed_train, AE_Reconstructed_test, AE_Factors_train = build_autoencoder(CV_folds,\n",
    "                                                                                    n_jobs,\n",
    "                                                                                    n_iter,\n",
    "                                                                                    X_train_scaled,\n",
    "                                                                                    X_train,\n",
    "                                                                                    X_test_scaled,\n",
    "                                                                                    PCA_Rank)"
   ]
  },
  {
   "cell_type": "markdown",
   "metadata": {},
   "source": [
    "#### Get Reconstruction Result(s)"
   ]
  },
  {
   "cell_type": "code",
   "execution_count": null,
   "metadata": {},
   "outputs": [],
   "source": [
    "# Get Results #\n",
    "#-------------#\n",
    "## Compute\n",
    "AE_Reconstruction_results = reporter_array(AE_Reconstructed_train,AE_Reconstructed_test,X_train,X_test)\n",
    "## Organize\n",
    "### Train\n",
    "AE_Performance_Results_train = pd.DataFrame(AE_Reconstruction_results['Train'],index=AE_Reconstruction_results.index)\n",
    "AE_Performance_Results_train.columns=['AE']\n",
    "### Test\n",
    "AE_Performance_Results_test = pd.DataFrame(AE_Reconstruction_results['Test'],index=AE_Reconstruction_results.index)\n",
    "AE_Performance_Results_test.columns=['AE']\n",
    "\n",
    "# Update Total Results #\n",
    "#----------------------#\n",
    "Performance_Results_train = pd.concat([Performance_Results_train,AE_Performance_Results_train],axis=1)\n",
    "Performance_Results_test = pd.concat([Performance_Results_test,AE_Performance_Results_test],axis=1)\n",
    "\n",
    "# Save Results #\n",
    "#--------------#\n",
    "Performance_Results_train.to_latex('outputs/tables/MNIST_Performance_train.txt')\n",
    "Performance_Results_test.to_latex('outputs/tables/MNIST_Performance_test.txt')"
   ]
  },
  {
   "cell_type": "markdown",
   "metadata": {},
   "source": [
    "# Visualize Results"
   ]
  },
  {
   "cell_type": "markdown",
   "metadata": {},
   "source": [
    "### Feature Space(s)"
   ]
  },
  {
   "cell_type": "code",
   "execution_count": null,
   "metadata": {},
   "outputs": [],
   "source": [
    "plt.figure(figsize=(16,16))\n",
    "plt.subplot(121)\n",
    "plt.title('PCA')\n",
    "plt.scatter(Zpca[:5000,0], Zpca[:5000,1], c=Y_train[:5000], s=8, cmap='tab10')\n",
    "plt.gca().get_xaxis().set_ticklabels([])\n",
    "plt.gca().get_yaxis().set_ticklabels([])\n",
    "\n",
    "plt.subplot(122)\n",
    "plt.title('Autoencoder')\n",
    "plt.scatter(AE_Factors_train[:5000,0], AE_Factors_train[:5000,1], c=Y_train[:5000], s=8, cmap='tab10')\n",
    "plt.gca().get_xaxis().set_ticklabels([])\n",
    "plt.gca().get_yaxis().set_ticklabels([])\n",
    "\n",
    "plt.tight_layout()\n",
    "\n",
    "# Save Results\n",
    "plt.savefig('outputs/plotsANDfigures/Results_Visualization_MNIST.pdf')"
   ]
  },
  {
   "cell_type": "markdown",
   "metadata": {},
   "source": [
    "## Reconstruction(s)"
   ]
  },
  {
   "cell_type": "code",
   "execution_count": null,
   "metadata": {},
   "outputs": [],
   "source": [
    "plt.figure(figsize=(9,3))\n",
    "toPlot = (X_train, Rpca, AE_Reconstructed_train)\n",
    "for i in range(10):\n",
    "    for j in range(3):\n",
    "        ax = plt.subplot(3, 10, 10*j+i+1)\n",
    "        plt.imshow(toPlot[j][i,:].reshape(28,28), interpolation=\"nearest\", \n",
    "                   vmin=0, vmax=1)\n",
    "        plt.gray()\n",
    "        ax.get_xaxis().set_visible(False)\n",
    "        ax.get_yaxis().set_visible(False)\n",
    "\n",
    "plt.tight_layout()"
   ]
  },
  {
   "cell_type": "markdown",
   "metadata": {},
   "source": [
    "---"
   ]
  },
  {
   "cell_type": "markdown",
   "metadata": {},
   "source": [
    "## Numerical Summary"
   ]
  },
  {
   "cell_type": "markdown",
   "metadata": {},
   "source": [
    "#### Testing Results"
   ]
  },
  {
   "cell_type": "code",
   "execution_count": null,
   "metadata": {},
   "outputs": [],
   "source": [
    "print(np.round(Performance_Results_test,4))\n",
    "Performance_Results_test"
   ]
  },
  {
   "cell_type": "markdown",
   "metadata": {},
   "source": [
    "#### Training Results"
   ]
  },
  {
   "cell_type": "code",
   "execution_count": null,
   "metadata": {},
   "outputs": [],
   "source": [
    "print(np.round(Performance_Results_train,4))\n",
    "Performance_Results_train"
   ]
  },
  {
   "cell_type": "markdown",
   "metadata": {},
   "source": [
    "---\n",
    "# Fin\n",
    "---"
   ]
  }
 ],
 "metadata": {
  "kernelspec": {
   "display_name": "Python 3",
   "language": "python",
   "name": "python3"
  },
  "language_info": {
   "codemirror_mode": {
    "name": "ipython",
    "version": 3
   },
   "file_extension": ".py",
   "mimetype": "text/x-python",
   "name": "python",
   "nbconvert_exporter": "python",
   "pygments_lexer": "ipython3",
   "version": "3.7.7"
  }
 },
 "nbformat": 4,
 "nbformat_minor": 2
}
