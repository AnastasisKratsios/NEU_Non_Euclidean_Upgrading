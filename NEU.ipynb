{
 "cells": [
  {
   "cell_type": "markdown",
   "metadata": {},
   "source": [
    "#### Notes on current version:\n",
    "**Done**:\n",
    "\n",
    "- $\\checkmark$ Cayley parameterization](https://planetmath.org/cayleysparameterizationoforthogonalmatrices) of $SU_d$ (since this is really all we need)...*will it be more stable than Lie's parameterization?* Note: it is a homeomorphism so this is great for UAP!\n",
    "\n",
    "**To do:**\n",
    "  \n",
    "- Implement Regression\n",
    "\n",
    "- Implement Feature Map"
   ]
  },
  {
   "cell_type": "markdown",
   "metadata": {},
   "source": [
    "# NEU (Reconfigurations Map and Related Functions)"
   ]
  },
  {
   "cell_type": "markdown",
   "metadata": {},
   "source": [
    "### Basic Algorithm (NEU-OLS)\n",
    "\n",
    "1. Perform Basic Algorithm (in this case OLS)\n",
    "2. Map predictions to their graph; ie $x\\mapsto (x,\\hat{f}_{OLS}(x))$ where $\\hat{f}_{OLS}$ is the least-squares regression function."
   ]
  },
  {
   "cell_type": "markdown",
   "metadata": {},
   "source": [
    "## Initializations:"
   ]
  },
  {
   "cell_type": "code",
   "execution_count": 31,
   "metadata": {},
   "outputs": [],
   "source": [
    "# Data Structuring\n",
    "import numpy as np\n",
    "import pandas as pd\n",
    "\n",
    "\n",
    "# Pre-Processing\n",
    "from sklearn.model_selection import train_test_split\n",
    "from sklearn.compose import ColumnTransformer\n",
    "from sklearn.preprocessing import MinMaxScaler\n",
    "from sklearn.preprocessing import StandardScaler\n",
    "from sklearn import preprocessing\n",
    "from scipy.special import expit\n",
    "\n",
    "# Regression\n",
    "from sklearn.linear_model import LinearRegression\n",
    "from scipy import linalg as scila\n",
    "\n",
    "# Tensorflow\n",
    "import tensorflow as tf\n",
    "import keras as K\n",
    "import keras.backend as Kb\n",
    "from keras.layers import *\n",
    "from keras.models import Model\n",
    "from keras.models import Sequential\n",
    "from keras import layers\n",
    "from keras import utils as np_utils\n",
    "from tensorflow.keras.initializers import RandomUniform\n",
    "from tensorflow.keras.constraints import NonNeg\n",
    "\n",
    "# Operating-System Related\n",
    "import os\n",
    "from pathlib import Path\n",
    "\n",
    "# Visualization\n",
    "from matplotlib.pyplot import figure\n",
    "\n",
    "# z_Misc\n",
    "import time\n",
    "import math"
   ]
  },
  {
   "cell_type": "markdown",
   "metadata": {},
   "source": [
    "## Check/Make Paths"
   ]
  },
  {
   "cell_type": "code",
   "execution_count": 38,
   "metadata": {},
   "outputs": [],
   "source": [
    "Path('./outputs/models/').mkdir(parents=True, exist_ok=True)\n",
    "Path('./outputs/models/Benchmarks/').mkdir(parents=True, exist_ok=True)\n",
    "Path('./outputs/models/Benchmarks/Invertible_Networks/GLd_Net/').mkdir(parents=True, exist_ok=True)\n",
    "Path('./outputs/models/Benchmarks/Invertible_Networks/Ed_Net/').mkdir(parents=True, exist_ok=True)\n",
    "Path('./outputs/models/Benchmarks/Invertible_Networks/Linear_Regression/').mkdir(parents=True, exist_ok=True)\n",
    "Path('./outputs/models/NEU/').mkdir(parents=True, exist_ok=True)\n",
    "Path('./outputs/models/NEU/Greedy_Initializations/').mkdir(parents=True, exist_ok=True)\n",
    "Path('./outputs/tables/').mkdir(parents=True, exist_ok=True)\n",
    "Path('./outputs/results/').mkdir(parents=True, exist_ok=True)\n",
    "Path('./inputs/data/').mkdir(parents=True, exist_ok=True)"
   ]
  },
  {
   "cell_type": "markdown",
   "metadata": {},
   "source": [
    "## Initialize Internal Variables/(Hyper)parameter(s)"
   ]
  },
  {
   "cell_type": "code",
   "execution_count": 39,
   "metadata": {},
   "outputs": [],
   "source": [
    "# Robustness Parameter\n",
    "robustness_parameter = .1\n",
    "\n",
    "# Reconfiguration Parameters\n",
    "N_Reconfigurations = 10\n",
    "d = 1 # Dimension of X\n",
    "D = 1 # Dimension of Y\n",
    "\n",
    "\n",
    "# Data Meta-Parameters\n",
    "noise_level = 0.3\n",
    "\n",
    "# Training meta-parameters\n",
    "Pre_Epochs = 10\n",
    "Full_Epochs = 50\n",
    "\n",
    "# Depth & Height of first Reconfiguration\n",
    "Initial_Depth = 20\n",
    "Initial_Height = 50\n",
    "\n",
    "# Depth & Height Per Reconfiguration\n",
    "Depth_per_reconfig = 20\n",
    "Height_per_reconfig = 5\n",
    "\n",
    "# Number of Datapoints\n",
    "N_data = 10**3\n",
    "\n",
    "# Unknown Function\n",
    "def unknown_f(x):\n",
    "    return .1*x + .1*(x**2) + np.exp(-np.abs(x)) + np.sin(4*x + x% 2) + x % 1"
   ]
  },
  {
   "cell_type": "markdown",
   "metadata": {},
   "source": [
    "### Run External/Auxiliary Notebooks"
   ]
  },
  {
   "cell_type": "code",
   "execution_count": 40,
   "metadata": {},
   "outputs": [
    {
     "data": {
      "image/png": "[encoded data removed]",
      "text/plain": [
       "<Figure size 432x288 with 1 Axes>"
      ]
     },
     "metadata": {
      "needs_background": "light"
     },
     "output_type": "display_data"
    }
   ],
   "source": [
    "#------------------------#\n",
    "# Run External Notebooks #\n",
    "#------------------------#\n",
    "# Generate Data\n",
    "%run Data_Generator.ipynb\n",
    "# Import Custom Layer(s)\n",
    "%run Special_Layers_Homeomorphic.ipynb\n",
    "# Import Utility for NEU\n",
    "%run NEU_Util.ipynb\n",
    "# Import Benchmarks\n",
    "%run Benchmarks_Util.ipynb"
   ]
  },
  {
   "cell_type": "markdown",
   "metadata": {},
   "source": [
    "#### Prepare data for NEU"
   ]
  },
  {
   "cell_type": "code",
   "execution_count": 41,
   "metadata": {},
   "outputs": [],
   "source": [
    "# Reshape Data Into Compatible Shape\n",
    "data_x = np.array(data_x).reshape(-1,d)\n",
    "data_y = np.array(data_y)\n",
    "# Perform OLS Regression\n",
    "linear_model = LinearRegression()\n",
    "reg = linear_model.fit(data_x, data_y)\n",
    "model_pred_y = linear_model.predict(data_x)\n",
    "# Map to Graph\n",
    "data_NEU = np.concatenate((data_x,model_pred_y.reshape(-1,D)),1)\n",
    "NEU_targets_full  = np.concatenate((data_x,data_y.reshape(-1,D)),1)\n",
    "NEU_targets  = data_y.reshape(-1,D)\n",
    "\n",
    "data_NEU_test = np.concatenate((data_x_test,true_y_test.reshape(-1,D)),1)"
   ]
  },
  {
   "cell_type": "markdown",
   "metadata": {},
   "source": [
    "# Train NEU-OLS\n",
    " 1. Get Base Model,\n",
    " 2. Greedy Layer-Wise Initialization,\n",
    " 3. Robust SGD on entire structure.\n",
    " \n",
    "We train NEU-OLS, by unfreezing the greedily initialized layers, as per [this paper](https://papers.nips.cc/paper/3048-greedy-layer-wise-training-of-deep-networks.pdf), and using \"robust\"-SGD on the whole structure."
   ]
  },
  {
   "cell_type": "code",
   "execution_count": null,
   "metadata": {},
   "outputs": [],
   "source": [
    "#----------------------------------#\n",
    "# Greedy Layer-Wise Initialization #\n",
    "#----------------------------------#\n",
    "if os.path.exists(\"./outputs/models/NEU/Greedy_Initializations/saved_model.pb\"):\n",
    "    #------------------#\n",
    "    # Load Readout Map #\n",
    "    #------------------#\n",
    "    print('Pre-trained readout-map already exists: Loading.')\n",
    "    NEU_OLS_Greedy_init = tf.keras.models.load_model(\"./outputs/models/NEU/Greedy_Initializations/\")\n",
    "    print('Saved pre-trained readout-map: Loaded.')\n",
    "    #-----------------#\n",
    "    # Load Full-Model #\n",
    "    #-----------------#\n",
    "    print('Full-model already exists: Loading.')\n",
    "    NEU_OLS = tf.keras.models.load_model(\"./outputs/models/NEU/\", custom_objects={'Robust_MSE': Robust_MSE})\n",
    "    print('Full-Model: Loaded')\n",
    "else:\n",
    "    \n",
    "    #------------------------------------------------------------------------------------------------------#\n",
    "    #------------------------------------------------------------------------------------------------------#\n",
    "    #------------------------------------------------------------------------------------------------------#\n",
    "    #                                          Pre-Trained Model                                           #\n",
    "    #------------------------------------------------------------------------------------------------------#\n",
    "    #------------------------------------------------------------------------------------------------------#\n",
    "    #------------------------------------------------------------------------------------------------------#\n",
    "    \n",
    "    print('Pre-trained model does not exist: Training.')\n",
    "    # Greedy Initialization\n",
    "    model = get_base_model_Regression(data_x,NEU_targets,10,Initial_Depth,Initial_Height)\n",
    "    NEU_OLS_Greedy_init = model\n",
    "    for i in range(N_Reconfigurations):\n",
    "        # Update Model\n",
    "        NEU_OLS_Greedy_init_temp = add_reconfiguration_unit_greedily(NEU_OLS_Greedy_init,\n",
    "                                                                     data_x,\n",
    "                                                                     NEU_targets_full,\n",
    "                                                                     Pre_Epochs,\n",
    "                                                                     Depth_per_reconfig,\n",
    "                                                                     Height_per_reconfig)\n",
    "\n",
    "        # Check for Blowup\n",
    "        if math.isnan(np.mean(NEU_OLS_Greedy_init.predict(data_x))):\n",
    "            NEU_OLS_Greedy_init = NEU_OLS_Greedy_init\n",
    "            break\n",
    "        else: #Update Model if not explosion\n",
    "            NEU_OLS_Greedy_init = NEU_OLS_Greedy_init_temp\n",
    "\n",
    "        #-------------#\n",
    "        # Update User #\n",
    "        #-------------#\n",
    "        print(np.mean(np.abs((NEU_OLS_Greedy_init.predict(data_x) - NEU_targets_full)**2)))\n",
    "        # Update User on Status of Initialization\n",
    "        print(((i+1)/N_Reconfigurations))\n",
    "        \n",
    "    # Update User of Pre-Training Completion\n",
    "    print('Complete: Pre-Training Readout Map on Input x Output Space!')\n",
    "    \n",
    "    #------------------------------------#\n",
    "    # Save Greedily Initialized Layer(s) #\n",
    "    #------------------------------------#\n",
    "    print('Saving Pre-Trained Readout on Input x Output Space!')\n",
    "    NEU_OLS_Greedy_init.save(\"./outputs/models/NEU/Greedy_Initializations/\")\n",
    "    \n",
    "    \n",
    "    #------------------------------------------------------------------------------------------------------#\n",
    "    #------------------------------------------------------------------------------------------------------#\n",
    "    #------------------------------------------------------------------------------------------------------#\n",
    "    #                                             Full Model                                               #\n",
    "    #------------------------------------------------------------------------------------------------------#\n",
    "    #------------------------------------------------------------------------------------------------------#\n",
    "    #------------------------------------------------------------------------------------------------------#\n",
    "    \n",
    "    print('(Full-)Model does not exist: Training.')\n",
    "    NEU_OLS = build_reconfiguration(model_greedy_initialized=NEU_OLS_Greedy_init, \n",
    "                                    trainx = data_x, \n",
    "                                    trainy = NEU_targets_full, \n",
    "                                    Full_Epochs_in = Full_Epochs, \n",
    "                                    height = Height_per_reconfig)\n",
    "    #-----------------#\n",
    "    # Save Full-Model #\n",
    "    #-----------------#\n",
    "    print('Full-Model: Saving')\n",
    "    NEU_OLS.save(\"./outputs/models/NEU/\")\n",
    "    print('Full-Model: Saved')\n",
    "    \n",
    "    \n",
    "# Update User #\n",
    "#-------------#\n",
    "print('NEU: Ready!')"
   ]
  },
  {
   "cell_type": "markdown",
   "metadata": {},
   "source": [
    "---"
   ]
  },
  {
   "cell_type": "markdown",
   "metadata": {},
   "source": [
    "# Train Benchmark Models"
   ]
  },
  {
   "cell_type": "code",
   "execution_count": null,
   "metadata": {},
   "outputs": [],
   "source": [
    "#---------------------#\n",
    "#  Train Linear-Model #\n",
    "#---------------------#\n",
    "if os.path.exists(\"./outputs/models/Benchmarks/Linear_Regression/saved_model.pb\"):\n",
    "    print('Linear regression trained model already exists: Loading.')\n",
    "    LinearModel = tf.keras.models.load_model(\"./outputs/models/Benchmarks/Linear_Regression/\")\n",
    "    print('Linear regression trained model: Loaded.')\n",
    "else:\n",
    "    print('Linear regression model does not exist: Training.')\n",
    "    LinearModel = get_OLS(data_x,data_y,Full_Epochs_in = Full_Epochs)\n",
    "    \n",
    "    #--------------------#\n",
    "    # Save GLd-Net-Model #\n",
    "    #--------------------#\n",
    "    print('Linear regression model: Saving')\n",
    "    LinearModel.save(\"./outputs/models/Benchmarks/Linear_Regression/\")\n",
    "    print('Linear regression model: Saved')\n",
    "    \n",
    "# Update User #\n",
    "#-------------#\n",
    "print('Benchmark Model - Linear Regression: Ready!')"
   ]
  },
  {
   "cell_type": "code",
   "execution_count": null,
   "metadata": {},
   "outputs": [],
   "source": [
    "#------------------#\n",
    "# Train GLd-Model  #\n",
    "#------------------#\n",
    "if os.path.exists(\"./outputs/models/Benchmarks/Invertible_Networks/GLd_Net/saved_model.pb\"):\n",
    "    print('GLd-Nets Trained model already exists: Loading.')\n",
    "    Deep_GLd = tf.keras.models.load_model(\"./outputs/models/Benchmarks/Invertible_Networks/GLd_Net/\")\n",
    "    print('GLd-Nets trained model: Loaded.')\n",
    "else:\n",
    "    print('GLd-Nets Model does not exist: Training.')\n",
    "    Deep_GLd = get_base_model_deep_GLd(data_x,\n",
    "                                   NEU_targets,\n",
    "                                   Full_Epochs_in = Full_Epochs, \n",
    "                                   depth = (N_Reconfigurations*Initial_Depth))\n",
    "    \n",
    "    #--------------------#\n",
    "    # Save GLd-Net-Model #\n",
    "    #--------------------#\n",
    "    print('GLd-Nets Model: Saving')\n",
    "    Deep_GLd.save(\"./outputs/models/Benchmarks/Invertible_Networks/GLd_Net/\")\n",
    "    print('GLd-Nets Model: Saved')\n",
    "    \n",
    "# Update User #\n",
    "#-------------#\n",
    "print('Benchmark Model - GLd-Nets: Ready!')"
   ]
  },
  {
   "cell_type": "code",
   "execution_count": null,
   "metadata": {},
   "outputs": [],
   "source": [
    "#-----------------#\n",
    "# Train Ed-Model  #\n",
    "#-----------------#\n",
    "if os.path.exists(\"./outputs/models/Benchmarks/Invertible_Networks/Ed_Net/saved_model.pb\"):\n",
    "    print('Ed-Nets Trained model already exists: Loading.')\n",
    "    Deep_Ed = tf.keras.models.load_model(\"./outputs/models/Benchmarks/Invertible_Networks/Ed_Net/\")\n",
    "    print('Ed-Nets trained model: Loaded.')\n",
    "else:\n",
    "    print('Ed-Nets Model does not exist: Training.')\n",
    "    Deep_Ed=get_base_model_deep_Euclidean_Networks(data_x,\n",
    "                                               NEU_targets,\n",
    "                                               Full_Epochs_in = Full_Epochs, \n",
    "                                               depth = (N_Reconfigurations*Initial_Depth))\n",
    "    \n",
    "    #--------------------#\n",
    "    # Save GLd-Net-Model #\n",
    "    #--------------------#\n",
    "    print('Ed-Nets Model: Saving')\n",
    "    Deep_Ed.save(\"./outputs/models/Benchmarks/Invertible_Networks/Ed_Net/\")\n",
    "    print('Ed-Nets Model: Saved')\n",
    "    \n",
    "# Update User #\n",
    "#-------------#\n",
    "print('Benchmark Model - Ed-Nets: Ready!')"
   ]
  },
  {
   "cell_type": "markdown",
   "metadata": {},
   "source": [
    "## Make Predictions"
   ]
  },
  {
   "cell_type": "code",
   "execution_count": null,
   "metadata": {},
   "outputs": [],
   "source": [
    "# # Predictions Train\n",
    "NEU_OLS_greedy_initializations = NEU_OLS_Greedy_init.predict(data_x)\n",
    "OLS_prediction = LinearModel.predict(data_x)\n",
    "NEU_OLS_prediction = NEU_OLS.predict(data_x)\n",
    "Deep_GLd_prediction = Deep_GLd.predict(data_x)\n",
    "Deep_Ed_prediction = Deep_Ed.predict(data_x)\n",
    "\n",
    "# # Predictions Test\n",
    "NEU_OLS_greedy_initializations_test = NEU_OLS_Greedy_init.predict(data_x_test)\n",
    "OLS_prediction_test = LinearModel.predict(data_x_test)\n",
    "NEU_OLS_prediction_test = NEU_OLS.predict(data_x_test)\n",
    "Deep_GLd_prediction_test = Deep_GLd.predict(data_x_test)\n",
    "Deep_Ed_prediction_test = Deep_Ed.predict(data_x_test)"
   ]
  },
  {
   "cell_type": "markdown",
   "metadata": {},
   "source": [
    "#### Record Error(s)/Prediction Quality"
   ]
  },
  {
   "cell_type": "code",
   "execution_count": null,
   "metadata": {},
   "outputs": [],
   "source": [
    "# Train Results #\n",
    "#---------------#\n",
    "\n",
    "# Quantile Losses \n",
    "#-----------------#\n",
    "Results_MAE = np.array([np.mean(np.abs(NEU_OLS_prediction[:,1]  - true_y)),\n",
    "                        np.mean(np.abs(OLS_prediction  - true_y)),\n",
    "np.mean(np.abs(Deep_GLd_prediction[:,1]  - true_y)),\n",
    "np.mean(np.abs(Deep_Ed_prediction[:,1] - true_y))])\n",
    "\n",
    "Results_MinE = np.array([np.min(np.abs(NEU_OLS_prediction[:,1]  - true_y)),\n",
    "                         np.min(np.abs(OLS_prediction  - true_y)),\n",
    "np.min(np.abs(Deep_GLd_prediction[:,1]  - true_y)),\n",
    "np.min(np.abs(Deep_Ed_prediction[:,1] - true_y))])\n",
    "\n",
    "Results_MaxE = np.array([np.max(np.abs(NEU_OLS_prediction[:,1]  - true_y)),\n",
    "                         np.max(np.abs(OLS_prediction  - true_y)),\n",
    "np.max(np.abs(Deep_GLd_prediction[:,1]  - true_y)),\n",
    "np.max(np.abs(Deep_Ed_prediction[:,1] - true_y))])\n",
    "\n",
    "# Variance Losses\n",
    "#----------------#\n",
    "Results_MSE = np.array([np.mean(np.power(NEU_OLS_prediction[:,1]  - true_y,2)),\n",
    "                        np.mean(np.power(OLS_prediction  - true_y,2)),\n",
    "np.mean(np.power(Deep_GLd_prediction[:,1]  - true_y,2)),\n",
    "np.mean(np.power(Deep_Ed_prediction[:,1] - true_y,2))])\n",
    "\n",
    "# Robust Loss\n",
    "#-------------#\n",
    "# Robust MAE\n",
    "Results_rMAE = np.array([Robust_MSE_numpy(NEU_OLS_prediction[:,1],true_y),\n",
    "                         Robust_MSE_numpy(OLS_prediction,true_y),\n",
    "                         Robust_MSE_numpy(Deep_GLd_prediction[:,1],true_y),\n",
    "                         Robust_MSE_numpy(Deep_Ed_prediction[:,1],true_y)])\n",
    "\n",
    "# Write to DataFrame\n",
    "Results = pd.DataFrame({'MAE': Results_MAE,\n",
    "                        'MinE': Results_MinE, \n",
    "                        'MaxE': Results_MaxE,\n",
    "                        'Robust MAE':Results_rMAE,\n",
    "                        'MSE':Results_MSE},\n",
    "                        index={'NEU-OLS','OLS','Deep GLd','Deep ED'})\n",
    "\n",
    "\n",
    "# Test Results #\n",
    "#--------------#\n",
    "\n",
    "# Quantile Losses \n",
    "#-----------------#\n",
    "Results_MAE_test = np.array([np.mean(np.abs(NEU_OLS_prediction_test[:,1]  - true_y_test)),\n",
    "                             np.mean(np.abs(OLS_prediction_test  - true_y_test)),\n",
    "np.mean(np.abs(Deep_GLd_prediction_test[:,1]  - true_y_test)),\n",
    "np.mean(np.abs(Deep_Ed_prediction_test[:,1] - true_y_test))])\n",
    "\n",
    "Results_MinE_test = np.array([np.min(np.abs(NEU_OLS_prediction_test[:,1]  - true_y_test)),\n",
    "                              np.min(np.abs(OLS_prediction_test  - true_y_test)),\n",
    "np.min(np.abs(Deep_GLd_prediction_test[:,1]  - true_y_test)),\n",
    "np.min(np.abs(Deep_Ed_prediction_test[:,1] - true_y_test))])\n",
    "\n",
    "Results_MaxE_test = np.array([np.max(np.abs(NEU_OLS_prediction_test[:,1]  - true_y_test)),\n",
    "                              np.max(np.abs(OLS_prediction_test  - true_y_test)),\n",
    "np.max(np.abs(Deep_GLd_prediction_test[:,1]  - true_y_test)),\n",
    "np.max(np.abs(Deep_Ed_prediction_test[:,1] - true_y_test))])\n",
    "\n",
    "# Variance Losses\n",
    "#----------------#\n",
    "Results_MSE_test = np.array([np.mean(np.power(NEU_OLS_prediction[:,1]  - true_y,2)),\n",
    "                             np.mean(np.power(OLS_prediction  - true_y,2)),\n",
    "np.mean(np.power(Deep_GLd_prediction[:,1]  - true_y,2)),\n",
    "np.mean(np.power(Deep_Ed_prediction[:,1] - true_y,2))])\n",
    "\n",
    "# Robust Loss\n",
    "#-------------#\n",
    "# Robust MAE\n",
    "Results_rMAE_test = np.array([Robust_MSE_numpy(NEU_OLS_prediction_test[:,1],true_y_test),\n",
    "                              Robust_MSE_numpy(OLS_prediction_test,true_y_test),\n",
    "                         Robust_MSE_numpy(Deep_GLd_prediction_test[:,1],true_y_test),\n",
    "                         Robust_MSE_numpy(Deep_Ed_prediction_test[:,1],true_y_test)])\n",
    "\n",
    "# Write to DataFrame\n",
    "Results_test = pd.DataFrame({'MAE': Results_MAE_test,\n",
    "                        'MinE': Results_MinE_test, \n",
    "                        'MaxE': Results_MaxE_test,\n",
    "                        'Robust MAE':Results_rMAE_test,\n",
    "                        'MSE':Results_MSE_test},\n",
    "                        index={'NEU-OLS','OLS','Deep GLd','Deep ED'})"
   ]
  },
  {
   "cell_type": "markdown",
   "metadata": {},
   "source": [
    "# Visualize Predictions"
   ]
  },
  {
   "cell_type": "code",
   "execution_count": null,
   "metadata": {},
   "outputs": [],
   "source": [
    "# #---------------------------#\n",
    "# # Generate Transformed Data #\n",
    "# #---------------------------#\n",
    "# # Initialization of Grid\n",
    "# visualization_grid = np.random.uniform(-10,10,[10**3,2])\n",
    "# # Transform Data\n",
    "# NEU_OLS_prediction_visualization_Greedy = NEU_OLS_Greedy_init.predict(visualization_grid)\n",
    "# NEU_OLS_prediction_visualization = NEU_OLS.predict(visualization_grid)\n",
    "# Deep_GLd_prediction_visualization = Deep_GLd.predict(visualization_grid)\n",
    "# Deep_Ed_prediction_visualization = Deep_Ed.predict(visualization_grid)\n",
    "\n",
    "\n",
    "# #----------------#\n",
    "# # Generate Plots #\n",
    "# #----------------#\n",
    "# plt.subplot(1, 2, 1)\n",
    "# plt.scatter(visualization_grid[:,0],visualization_grid[:,1],color='red',marker = '.')\n",
    "# plt.subplot(1, 2, 2)\n",
    "# plt.scatter(NEU_OLS_prediction_visualization[:,0],NEU_OLS_prediction_visualization[:,1],color='purple',label='NEU',marker = '.')\n",
    "\n",
    "# # Initialization\n",
    "# figure(num=None, figsize=(12, 12), dpi=80, facecolor='w', edgecolor='k')\n",
    "\n",
    "# # Plot Data\n",
    "# plt.scatter(visualization_grid[:,0],visualization_grid[:,1],color='red',marker = '.')\n",
    "\n",
    "# # Plot Transformed Data\n",
    "# plt.scatter(NEU_OLS_prediction_visualization_Greedy[:,0],NEU_OLS_prediction_visualization_Greedy[:,1],color='g',label='NEU_Greedy',marker = '.')\n",
    "# plt.scatter(NEU_OLS_prediction_visualization[:,0],NEU_OLS_prediction_visualization[:,1],color='purple',label='NEU',marker = '.')\n",
    "# plt.scatter(Deep_GLd_prediction_visualization[:,0],Deep_GLd_prediction_visualization[:,1],color='black',label='Deep_GLd',marker = '.')\n",
    "# plt.scatter(Deep_Ed_prediction_visualization[:,0],Deep_Ed_prediction_visualization[:,1],color='orange',label='Deep_Ed',marker = '.')"
   ]
  },
  {
   "cell_type": "code",
   "execution_count": null,
   "metadata": {},
   "outputs": [],
   "source": [
    "# Adjust Figure Details\n",
    "plt.figure(num=None, figsize=(12, 10), dpi=80, facecolor='w', edgecolor='k')\n",
    "\n",
    "# Data Plot\n",
    "plt.plot(data_x,data_y,color='k',label='true',linestyle='--')\n",
    "\n",
    "# Plot Models\n",
    "plt.plot(data_x,model_pred_y,color='red',label='OLS')\n",
    "plt.plot(data_x,OLS_prediction,color='pink',label='OLS')\n",
    "plt.plot(data_x,NEU_OLS_prediction[:,1],color='green',label='NEU-OLS')\n",
    "plt.plot(data_x,NEU_OLS_greedy_initializations[:,1],color='lightgreen',label='NEU_Greedy_Init')\n",
    "plt.plot(data_x,Deep_Ed_prediction[:,1],color='orange',label='Deep_Ed')\n",
    "plt.plot(data_x,Deep_GLd_prediction[:,1],color='purple',label='Deep_GLd')"
   ]
  },
  {
   "cell_type": "markdown",
   "metadata": {},
   "source": [
    "Succinct graph (results only)"
   ]
  },
  {
   "cell_type": "code",
   "execution_count": null,
   "metadata": {},
   "outputs": [],
   "source": [
    "# Adjust Figure Details\n",
    "plt.figure(num=None, figsize=(12, 10), dpi=80, facecolor='w', edgecolor='k')\n",
    "\n",
    "# Data Plot\n",
    "plt.plot(data_x,true_y,label='true',color='grey',linestyle='--')\n",
    "\n",
    "# Plot Models\n",
    "plt.plot(data_x,model_pred_y,color='r',label='OLS')\n",
    "plt.plot(data_x,NEU_OLS_prediction[:,1],color='green',label='NEU-OLS')\n",
    "plt.plot(data_x,Deep_GLd_prediction[:,1],color='purple',label='Deep_GLd')\n",
    "plt.plot(data_x,Deep_Ed_prediction[:,1],color='orange',label='Deep_Ed')"
   ]
  },
  {
   "cell_type": "markdown",
   "metadata": {},
   "source": [
    " ---"
   ]
  },
  {
   "cell_type": "markdown",
   "metadata": {},
   "source": [
    "# Report Results"
   ]
  },
  {
   "cell_type": "code",
   "execution_count": null,
   "metadata": {},
   "outputs": [],
   "source": [
    "print('Train Results:')\n",
    "Results"
   ]
  },
  {
   "cell_type": "code",
   "execution_count": null,
   "metadata": {},
   "outputs": [],
   "source": [
    "print('Test Results:')\n",
    "Results_test"
   ]
  },
  {
   "cell_type": "markdown",
   "metadata": {},
   "source": [
    "#### The END"
   ]
  }
 ],
 "metadata": {
  "kernelspec": {
   "display_name": "Python 3",
   "language": "python",
   "name": "python3"
  },
  "language_info": {
   "codemirror_mode": {
    "name": "ipython",
    "version": 3
   },
   "file_extension": ".py",
   "mimetype": "text/x-python",
   "name": "python",
   "nbconvert_exporter": "python",
   "pygments_lexer": "ipython3",
   "version": "3.7.7"
  }
 },
 "nbformat": 4,
 "nbformat_minor": 2
}
