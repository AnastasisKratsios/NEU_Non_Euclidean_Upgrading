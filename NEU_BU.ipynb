{
 "cells": [
  {
   "cell_type": "markdown",
   "metadata": {},
   "source": [
    "#### Notes on current version:\n",
    "**To Try**:\n",
    "- Cayley parameterization](https://planetmath.org/cayleysparameterizationoforthogonalmatrices) of $SU_d$ (since this is really all we need)...*will it be more stable than Lie's parameterization?* Note: it is a homeomorphism so this is great for UAP!\n",
    "- SVD approach to pre-trainining \n",
    "  - (here for procrustes problem)[https://en.wikipedia.org/wiki/Orthogonal_Procrustes_problem]\n",
    "  - [here for complexity](https://mathoverflow.net/questions/161252/what-is-the-time-complexity-of-truncated-svd)\n",
    "  \n",
    "- Get the base version working:\n",
    "\n",
    "- Add the tall version..."
   ]
  },
  {
   "cell_type": "markdown",
   "metadata": {},
   "source": [
    "# NEU (Reconfigurations Map and Related Functions)"
   ]
  },
  {
   "cell_type": "markdown",
   "metadata": {},
   "source": [
    "### Basic Algorithm (NEU-OLS)\n",
    "\n",
    "1. Perform Basic Algorithm (in this case OLS)\n",
    "2. Map predictions to their graph; ie $x\\mapsto (x,\\hat{f}_{OLS}(x))$ where $\\hat{f}_{OLS}$ is the least-squares regression function."
   ]
  },
  {
   "cell_type": "markdown",
   "metadata": {},
   "source": [
    "## Initializations:"
   ]
  },
  {
   "cell_type": "code",
   "execution_count": 32,
   "metadata": {},
   "outputs": [
    {
     "name": "stdout",
     "output_type": "stream",
     "text": [
      "TensorFlow: 2.1.0\n"
     ]
    }
   ],
   "source": [
    "# Deep Learning & ML\n",
    "import tensorflow as tf\n",
    "import tensorflow_probability as tfp\n",
    "import keras as K\n",
    "import keras.backend as Kb\n",
    "from keras.layers import *\n",
    "\n",
    "from keras.models import Model\n",
    "from keras.models import Sequential\n",
    "from keras import layers\n",
    "from keras import utils as np_utils\n",
    "from scipy import linalg as scila\n",
    "\n",
    "from tensorflow.keras.initializers import RandomUniform\n",
    "from tensorflow.keras.constraints import NonNeg\n",
    "\n",
    "\n",
    "\n",
    "# Linear Regression\n",
    "from sklearn.linear_model import LinearRegression\n",
    "\n",
    "# General\n",
    "import numpy as np\n",
    "import time\n",
    "\n",
    "import pandas as pd\n",
    "\n",
    "# Alerts\n",
    "import os as beepsnd\n",
    "\n",
    "# Others\n",
    "import math\n",
    "\n",
    "# Visualization\n",
    "from matplotlib.pyplot import figure\n",
    "\n",
    "# General Outputs\n",
    "print('TensorFlow:', tf.__version__)"
   ]
  },
  {
   "cell_type": "code",
   "execution_count": 37,
   "metadata": {},
   "outputs": [
    {
     "data": {
      "image/png": "[encoded data removed]",
      "text/plain": [
       "<Figure size 432x288 with 1 Axes>"
      ]
     },
     "metadata": {
      "needs_background": "light"
     },
     "output_type": "display_data"
    }
   ],
   "source": [
    "N_Reconfigurations = 20\n",
    "d = 1 # Dimension of X\n",
    "D = 1 # Dimension of Y\n",
    "\n",
    "\n",
    "# Data Meta-Parameters\n",
    "noise_level = 0.1\n",
    "uncertainty_level= 0.5\n",
    "\n",
    "# Training meta-parameters\n",
    "Pre_Epochs = 10\n",
    "Full_Epochs = 100\n",
    "\n",
    "# Depth & Height of first Reconfiguration\n",
    "Initial_Depth = 20\n",
    "Initial_Height = 20\n",
    "\n",
    "# Depth & Height Per Reconfiguration\n",
    "Depth_per_reconfig = 5\n",
    "Height_per_reconfig = 20\n",
    "\n",
    "# Number of Datapoints\n",
    "N_data = 10**3\n",
    "\n",
    "# Unknown Function\n",
    "def unknown_f(x):\n",
    "    return .1*x + np.exp(-np.abs(x)) + np.sin(2*x)\n",
    "\n",
    "# Generate Data\n",
    "%run Data_Generator.ipynb\n",
    "\n",
    "# Import Custom Layer(s)\n",
    "%run Special_Layers_Homeomorphic.ipynb\n",
    "\n",
    "# Import Utility for NEU\n",
    "%run NEU_Util.ipynb\n",
    "\n",
    "# Import Benchmarks\n",
    "%run Benchmarks_Util.ipynb"
   ]
  },
  {
   "cell_type": "markdown",
   "metadata": {},
   "source": [
    "#### Prepare data for NEU"
   ]
  },
  {
   "cell_type": "code",
   "execution_count": 38,
   "metadata": {},
   "outputs": [],
   "source": [
    "# Reshape Data Into Compatible Shape\n",
    "data_x = np.array(data_x).reshape(-1,d)\n",
    "data_y = np.array(data_y)\n",
    "# Perform OLS Regression\n",
    "linear_model = LinearRegression()\n",
    "reg = linear_model.fit(data_x, data_y)\n",
    "model_pred_y = linear_model.predict(data_x)\n",
    "# Map to Graph\n",
    "data_NEU = np.concatenate((data_x,model_pred_y.reshape(-1,D)),1)\n",
    "NEU_targets_full  = np.concatenate((data_x,data_y.reshape(-1,D)),1)\n",
    "NEU_targets  = data_y.reshape(-1,D)"
   ]
  },
  {
   "cell_type": "markdown",
   "metadata": {},
   "source": [
    "# Train NEU-OLS\n",
    "- Get Base Model,\n",
    "- Greedy Layer-Wise Initialization,\n",
    "- SGD on entire structure."
   ]
  },
  {
   "cell_type": "code",
   "execution_count": 4,
   "metadata": {},
   "outputs": [],
   "source": [
    "# Base Model\n",
    "model = get_base_model(data_NEU,NEU_targets,10,Initial_Depth,Initial_Height)"
   ]
  },
  {
   "cell_type": "code",
   "execution_count": 5,
   "metadata": {},
   "outputs": [
    {
     "name": "stdout",
     "output_type": "stream",
     "text": [
      "0.1\n",
      "0.6755986027330135\n",
      "0.2\n",
      "2.827419230323732\n",
      "0.3\n",
      "0.659883787332847\n",
      "0.4\n",
      "2.7676448841649934\n",
      "0.5\n",
      "1.8895871169499063\n",
      "0.6\n",
      "1.6339065097139562\n",
      "0.7\n",
      "1.6133324207495432\n",
      "0.8\n",
      "0.8145715638400871\n",
      "0.9\n",
      "3.005353607770534\n",
      "1.0\n",
      "1.1291432599433333\n"
     ]
    }
   ],
   "source": [
    "# Greedy Initialization\n",
    "NEU_OLS_Greedy_init = model\n",
    "for i in range(N_Reconfigurations):\n",
    "    # Update User on Status of Initialization\n",
    "    print(((i+1)/N_Reconfigurations))\n",
    "    \n",
    "    # Update Model\n",
    "    NEU_OLS_Greedy_init_temp = add_reconfiguration_unit_greedily(NEU_OLS_Greedy_init,\n",
    "                                                                 data_NEU,\n",
    "                                                                 NEU_targets_full,\n",
    "                                                                 Pre_Epochs,\n",
    "                                                                 Depth_per_reconfig,\n",
    "                                                                 Height_per_reconfig)\n",
    "    \n",
    "    # Check for Blowup\n",
    "    if math.isnan(np.mean(NEU_OLS_Greedy_init.predict(data_NEU))):\n",
    "        NEU_OLS_Greedy_init = NEU_OLS_Greedy_init\n",
    "        break\n",
    "    else: #Update Model if not explosion\n",
    "        NEU_OLS_Greedy_init = NEU_OLS_Greedy_init_temp\n",
    "    \n",
    "    #-------------#\n",
    "    # Update User #\n",
    "    #-------------#\n",
    "    print(np.mean(np.abs((NEU_OLS_Greedy_init.predict(data_NEU) - NEU_targets_full)**2)))\n",
    "\n",
    "#----------------------------------------#\n",
    "# Update User of Pre-Training Completion #\n",
    "#----------------------------------------#\n"
   ]
  },
  {
   "cell_type": "markdown",
   "metadata": {},
   "source": [
    "Next we train NEU-OLS, by unfreezing the greedily initialized layers and using SGD on the whole structure."
   ]
  },
  {
   "cell_type": "code",
   "execution_count": null,
   "metadata": {},
   "outputs": [
    {
     "name": "stdout",
     "output_type": "stream",
     "text": [
      "Train on 3334 samples\n",
      "Epoch 1/100\n",
      "3334/3334 [==============================] - 18s 5ms/sample - loss: 1319584.1069 - mse: 1.2302 - mae: 0.9078\n",
      "Epoch 2/100\n",
      "3334/3334 [==============================] - 2s 517us/sample - loss: 421049.0027 - mse: 1.1310 - mae: 0.8723\n",
      "Epoch 3/100\n",
      "3334/3334 [==============================] - 2s 468us/sample - loss: 269538.4850 - mse: 1.0878 - mae: 0.8558\n",
      "Epoch 4/100\n",
      "3334/3334 [==============================] - 2s 467us/sample - loss: 208455.9887 - mse: 1.0604 - mae: 0.8449\n",
      "Epoch 5/100\n",
      "3334/3334 [==============================] - 2s 467us/sample - loss: 171938.1770 - mse: 1.0385 - mae: 0.8361\n",
      "Epoch 6/100\n",
      "1568/3334 [=============>................] - ETA: 0s - loss: 142274.6264 - mse: 1.0207 - mae: 0.8280"
     ]
    }
   ],
   "source": [
    "NEU_OLS = build_reconfiguration(model_greedy_initialized=NEU_OLS_Greedy_init, \n",
    "                                trainx = data_NEU, \n",
    "                                trainy = NEU_targets, \n",
    "                                Full_Epochs_in = Full_Epochs, \n",
    "                                height = Height_per_reconfig)"
   ]
  },
  {
   "cell_type": "code",
   "execution_count": 12,
   "metadata": {},
   "outputs": [
    {
     "name": "stdout",
     "output_type": "stream",
     "text": [
      "Train on 3334 samples\n",
      "Epoch 1/100\n",
      "Epoch 2/100\n",
      "Epoch 3/100\n",
      "Epoch 4/100\n",
      "Epoch 5/100\n",
      "Epoch 6/100\n",
      "Epoch 7/100\n",
      "Epoch 8/100\n",
      "Epoch 9/100\n",
      "Epoch 10/100\n",
      "Epoch 11/100\n",
      "Epoch 12/100\n",
      "Epoch 13/100\n",
      "Epoch 14/100\n",
      "Epoch 15/100\n",
      "Epoch 16/100\n",
      "Epoch 17/100\n",
      "Epoch 18/100\n",
      "Epoch 19/100\n",
      "Epoch 20/100\n",
      "Epoch 21/100\n",
      "Epoch 22/100\n",
      "Epoch 23/100\n",
      "Epoch 24/100\n",
      "Epoch 25/100\n",
      "Epoch 26/100\n",
      "Epoch 27/100\n",
      "Epoch 28/100\n",
      "Epoch 29/100\n",
      "Epoch 30/100\n",
      "Epoch 31/100\n",
      "Epoch 32/100\n",
      "Epoch 33/100\n",
      "Epoch 34/100\n",
      "Epoch 35/100\n",
      "Epoch 36/100\n",
      "Epoch 37/100\n",
      "Epoch 38/100\n",
      "Epoch 39/100\n",
      "Epoch 40/100\n",
      "Epoch 41/100\n",
      "Epoch 42/100\n",
      "Epoch 43/100\n",
      "Epoch 44/100\n",
      "Epoch 45/100\n",
      "Epoch 46/100\n",
      "Epoch 47/100\n",
      "Epoch 48/100\n",
      "Epoch 49/100\n",
      "Epoch 50/100\n",
      "Epoch 51/100\n",
      "Epoch 52/100\n",
      "Epoch 53/100\n",
      "Epoch 54/100\n",
      "Epoch 55/100\n",
      "Epoch 56/100\n",
      "Epoch 57/100\n",
      "Epoch 58/100\n",
      "Epoch 59/100\n",
      "Epoch 60/100\n",
      "Epoch 61/100\n",
      "Epoch 62/100\n",
      "Epoch 63/100\n",
      "Epoch 64/100\n",
      "Epoch 65/100\n",
      "Epoch 66/100\n",
      "Epoch 67/100\n",
      "Epoch 68/100\n",
      "Epoch 69/100\n",
      "Epoch 70/100\n",
      "Epoch 71/100\n",
      "Epoch 72/100\n",
      "Epoch 73/100\n",
      "Epoch 74/100\n",
      "Epoch 75/100\n",
      "Epoch 76/100\n",
      "Epoch 77/100\n",
      "Epoch 78/100\n",
      "Epoch 79/100\n",
      "Epoch 80/100\n",
      "Epoch 81/100\n",
      "Epoch 82/100\n",
      "Epoch 83/100\n",
      "Epoch 84/100\n",
      "Epoch 85/100\n",
      "Epoch 86/100\n",
      "Epoch 87/100\n",
      "Epoch 88/100\n",
      "Epoch 89/100\n",
      "Epoch 90/100\n",
      "Epoch 91/100\n",
      "Epoch 92/100\n",
      "Epoch 93/100\n",
      "Epoch 94/100\n",
      "Epoch 95/100\n",
      "Epoch 96/100\n",
      "Epoch 97/100\n",
      "Epoch 98/100\n",
      "Epoch 99/100\n",
      "Epoch 100/100\n"
     ]
    }
   ],
   "source": [
    "Deep_GLd = get_base_model_deep_GLd(data_NEU,\n",
    "                                   NEU_targets,\n",
    "                                   Full_Epochs_in = Full_Epochs, \n",
    "                                   depth = (N_Reconfigurations*Initial_Depth))"
   ]
  },
  {
   "cell_type": "code",
   "execution_count": 13,
   "metadata": {},
   "outputs": [
    {
     "name": "stdout",
     "output_type": "stream",
     "text": [
      "Train on 3334 samples\n",
      "Epoch 1/100\n",
      "Epoch 2/100\n",
      "Epoch 3/100\n",
      "Epoch 4/100\n",
      "Epoch 5/100\n",
      "Epoch 6/100\n",
      "Epoch 7/100\n",
      "Epoch 8/100\n",
      "Epoch 9/100\n",
      "Epoch 10/100\n",
      "Epoch 11/100\n",
      "Epoch 12/100\n",
      "Epoch 13/100\n",
      "Epoch 14/100\n",
      "Epoch 15/100\n",
      "Epoch 16/100\n",
      "Epoch 17/100\n",
      "Epoch 18/100\n",
      "Epoch 19/100\n",
      "Epoch 20/100\n",
      "Epoch 21/100\n",
      "Epoch 22/100\n",
      "Epoch 23/100\n",
      "Epoch 24/100\n",
      "Epoch 25/100\n",
      "Epoch 26/100\n",
      "Epoch 27/100\n",
      "Epoch 28/100\n",
      "Epoch 29/100\n",
      "Epoch 30/100\n",
      "Epoch 31/100\n",
      "Epoch 32/100\n",
      "Epoch 33/100\n",
      "Epoch 34/100\n",
      "Epoch 35/100\n",
      "Epoch 36/100\n",
      "Epoch 37/100\n",
      "Epoch 38/100\n",
      "Epoch 39/100\n",
      "Epoch 40/100\n",
      "Epoch 41/100\n",
      "Epoch 42/100\n",
      "Epoch 43/100\n",
      "Epoch 44/100\n",
      "Epoch 45/100\n",
      "Epoch 46/100\n",
      "Epoch 47/100\n",
      "Epoch 48/100\n",
      "Epoch 49/100\n",
      "Epoch 50/100\n",
      "Epoch 51/100\n",
      "Epoch 52/100\n",
      "Epoch 53/100\n",
      "Epoch 54/100\n",
      "Epoch 55/100\n",
      "Epoch 56/100\n",
      "Epoch 57/100\n",
      "Epoch 58/100\n",
      "Epoch 59/100\n",
      "Epoch 60/100\n",
      "Epoch 61/100\n",
      "Epoch 62/100\n",
      "Epoch 63/100\n",
      "Epoch 64/100\n",
      "Epoch 65/100\n",
      "Epoch 66/100\n",
      "Epoch 67/100\n",
      "Epoch 68/100\n",
      "Epoch 69/100\n",
      "Epoch 70/100\n",
      "Epoch 71/100\n",
      "Epoch 72/100\n",
      "Epoch 73/100\n",
      "Epoch 74/100\n",
      "Epoch 75/100\n",
      "Epoch 76/100\n",
      "Epoch 77/100\n",
      "Epoch 78/100\n",
      "Epoch 79/100\n",
      "Epoch 80/100\n",
      "Epoch 81/100\n",
      "Epoch 82/100\n",
      "Epoch 83/100\n",
      "Epoch 84/100\n",
      "Epoch 85/100\n",
      "Epoch 86/100\n",
      "Epoch 87/100\n",
      "Epoch 88/100\n",
      "Epoch 89/100\n",
      "Epoch 90/100\n",
      "Epoch 91/100\n",
      "Epoch 92/100\n",
      "Epoch 93/100\n",
      "Epoch 94/100\n",
      "Epoch 95/100\n",
      "Epoch 96/100\n",
      "Epoch 97/100\n",
      "Epoch 98/100\n",
      "Epoch 99/100\n",
      "Epoch 100/100\n"
     ]
    }
   ],
   "source": [
    "Deep_Ed=get_base_model_deep_Euclidean_Networks(data_NEU,\n",
    "                                               NEU_targets,\n",
    "                                               Full_Epochs_in = Full_Epochs, \n",
    "                                               depth = (N_Reconfigurations*Initial_Depth))"
   ]
  },
  {
   "cell_type": "markdown",
   "metadata": {},
   "source": [
    "## Make Predictions"
   ]
  },
  {
   "cell_type": "code",
   "execution_count": null,
   "metadata": {},
   "outputs": [],
   "source": [
    "# # Predictions (for comparison: TEMP)\n",
    "NEU_OLS_single_unit_prediction = model.predict(data_NEU)\n",
    "NEU_OLS_greedy_initializations = NEU_OLS_Greedy_init.predict(data_NEU)\n",
    "NEU_OLS_prediction = NEU_OLS.predict(data_NEU)\n",
    "Deep_GLd_prediction = Deep_GLd.predict(data_NEU)\n",
    "Deep_Ed_prediction = Deep_Ed.predict(data_NEU)"
   ]
  },
  {
   "cell_type": "markdown",
   "metadata": {},
   "source": [
    "#### Record Error(s)/Prediction Quality"
   ]
  },
  {
   "cell_type": "code",
   "execution_count": null,
   "metadata": {},
   "outputs": [],
   "source": [
    "Results_MAE = np.array([np.mean(np.abs(NEU_OLS_prediction  - true_y)),\n",
    "np.mean(np.abs(Deep_GLd_prediction  - true_y)),\n",
    "np.mean(np.abs(Deep_Ed_prediction - true_y))])\n",
    "\n",
    "\n",
    "Results_MinE = np.array([np.min(np.abs(NEU_OLS_prediction  - true_y)),\n",
    "np.min(np.abs(Deep_GLd_prediction  - true_y)),\n",
    "np.min(np.abs(Deep_Ed_prediction - true_y))])\n",
    "\n",
    "Results_MaxE = np.array([np.max(np.abs(NEU_OLS_prediction  - true_y)),\n",
    "np.max(np.abs(Deep_GLd_prediction  - true_y)),\n",
    "np.max(np.abs(Deep_Ed_prediction - true_y))])\n",
    "\n",
    "# Write to DataFrame\n",
    "Results = pd.DataFrame({'MAE': Results_MAE,\n",
    "                        'MinE': Results_MinE, \n",
    "                        'MaxE': Results_MaxE},\n",
    "                        index={'NEU-OLS','Deep GLd','Deep ED'})"
   ]
  },
  {
   "cell_type": "markdown",
   "metadata": {},
   "source": [
    "# Visualize Predictions"
   ]
  },
  {
   "cell_type": "code",
   "execution_count": null,
   "metadata": {},
   "outputs": [],
   "source": [
    "#---------------------------#\n",
    "# Generate Transformed Data #\n",
    "#---------------------------#\n",
    "# Initialization of Grid\n",
    "visualization_grid = np.random.uniform(-10,10,[10**3,2])\n",
    "# Transform Data\n",
    "NEU_OLS_prediction_visualization_init = model.predict(visualization_grid)\n",
    "NEU_OLS_prediction_visualization_Greedy = NEU_OLS_Greedy_init.predict(visualization_grid)\n",
    "NEU_OLS_prediction_visualization = NEU_OLS.predict(visualization_grid)\n",
    "Deep_GLd_prediction_visualization = Deep_GLd.predict(visualization_grid)\n",
    "Deep_Ed_prediction_visualization = Deep_Ed.predict(visualization_grid)\n",
    "\n",
    "\n",
    "#----------------#\n",
    "# Generate Plots #\n",
    "#----------------#\n",
    "plt.subplot(1, 2, 1)\n",
    "plt.scatter(visualization_grid[:,0],visualization_grid[:,1],color='red',marker = '.')\n",
    "plt.subplot(1, 2, 2)\n",
    "plt.scatter(NEU_OLS_prediction_visualization[:,0],NEU_OLS_prediction_visualization[:,1],color='purple',label='NEU',marker = '.')\n",
    "\n",
    "# Initialization\n",
    "figure(num=None, figsize=(12, 12), dpi=80, facecolor='w', edgecolor='k')\n",
    "\n",
    "# Plot Data\n",
    "plt.scatter(visualization_grid[:,0],visualization_grid[:,1],color='red',marker = '.')\n",
    "\n",
    "# Plot Transformed Data\n",
    "plt.scatter(NEU_OLS_prediction_visualization_init[:,0],NEU_OLS_prediction_visualization_init[:,1],color='b',label='Init',marker = '.')\n",
    "plt.scatter(NEU_OLS_prediction_visualization_Greedy[:,0],NEU_OLS_prediction_visualization_Greedy[:,1],color='g',label='NEU_Greedy',marker = '.')\n",
    "plt.scatter(NEU_OLS_prediction_visualization[:,0],NEU_OLS_prediction_visualization[:,1],color='purple',label='NEU',marker = '.')\n",
    "plt.scatter(Deep_GLd_prediction_visualization[:,0],Deep_GLd_prediction_visualization[:,1],color='black',label='Deep_GLd',marker = '.')\n",
    "plt.scatter(Deep_Ed_prediction_visualization[:,0],Deep_Ed_prediction_visualization[:,1],color='orange',label='Deep_Ed',marker = '.')"
   ]
  },
  {
   "cell_type": "markdown",
   "metadata": {},
   "source": [
    "Detailed Visualization... evolution of NEU through training"
   ]
  },
  {
   "cell_type": "code",
   "execution_count": null,
   "metadata": {},
   "outputs": [],
   "source": [
    "# Adjust Figure Details\n",
    "plt.figure(num=None, figsize=(12, 10), dpi=80, facecolor='w', edgecolor='k')\n",
    "\n",
    "# Data Plot\n",
    "plt.plot(data_x,data_y,color='k',label='true',linestyle='--')\n",
    "\n",
    "# Plot Models\n",
    "plt.plot(data_x,model_pred_y,color='red',label='OLS')\n",
    "plt.plot(data_x,NEU_OLS_single_unit_prediction[:,1],color='blue',label='NEU_Unit')\n",
    "plt.plot(data_x,NEU_OLS_greedy_initializations[:,1],color='green',label='NEU_Greedy_Init')\n",
    "plt.plot(data_x,NEU_OLS_prediction[:,1],color='purple',label='NEU-OLS')\n",
    "plt.plot(data_x,Deep_GLd_prediction[:,1],color='black',label='Deep_GLd')\n",
    "plt.plot(data_x,Deep_Ed_prediction[:,1],color='orange',label='Deep_Ed')"
   ]
  },
  {
   "cell_type": "markdown",
   "metadata": {},
   "source": [
    "Succinct graph (results only)"
   ]
  },
  {
   "cell_type": "code",
   "execution_count": null,
   "metadata": {},
   "outputs": [],
   "source": [
    "# Adjust Figure Details\n",
    "plt.figure(num=None, figsize=(12, 10), dpi=80, facecolor='w', edgecolor='k')\n",
    "\n",
    "# Data Plot\n",
    "plt.plot(data_x,true_y,color='k',label='true',linestyle='--')\n",
    "\n",
    "# Plot Models\n",
    "plt.plot(data_x,model_pred_y,color='r',label='OLS')\n",
    "plt.plot(data_x,NEU_OLS_prediction[:,1],color='purple',label='NEU-OLS')\n",
    "plt.plot(data_x,Deep_GLd_prediction[:,1],color='black',label='Deep_GLd')\n",
    "plt.plot(data_x,Deep_Ed_prediction[:,1],color='orange',label='Deep_Ed')"
   ]
  },
  {
   "cell_type": "markdown",
   "metadata": {},
   "source": [
    " ---"
   ]
  },
  {
   "cell_type": "markdown",
   "metadata": {},
   "source": [
    "# Report Results"
   ]
  },
  {
   "cell_type": "code",
   "execution_count": null,
   "metadata": {},
   "outputs": [],
   "source": [
    "Results"
   ]
  },
  {
   "cell_type": "markdown",
   "metadata": {},
   "source": [
    "#### The END"
   ]
  }
 ],
 "metadata": {
  "kernelspec": {
   "display_name": "Python 3",
   "language": "python",
   "name": "python3"
  },
  "language_info": {
   "codemirror_mode": {
    "name": "ipython",
    "version": 3
   },
   "file_extension": ".py",
   "mimetype": "text/x-python",
   "name": "python",
   "nbconvert_exporter": "python",
   "pygments_lexer": "ipython3",
   "version": "3.7.7"
  }
 },
 "nbformat": 4,
 "nbformat_minor": 2
}
