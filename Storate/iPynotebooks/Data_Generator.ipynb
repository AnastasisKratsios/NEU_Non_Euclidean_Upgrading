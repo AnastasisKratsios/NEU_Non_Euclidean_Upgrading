{
 "cells": [
  {
   "cell_type": "markdown",
   "metadata": {},
   "source": [
    "# Data Generator (Backend)"
   ]
  },
  {
   "cell_type": "markdown",
   "metadata": {},
   "source": [
    "#### Imports"
   ]
  },
  {
   "cell_type": "code",
   "execution_count": 1,
   "metadata": {},
   "outputs": [],
   "source": [
    "import numpy as np\n",
    "import pandas as pd\n",
    "# For Plotting\n",
    "import matplotlib.pyplot as plt\n",
    "# For quick standardization\n",
    "from sklearn.preprocessing import StandardScaler\n",
    "from sklearn.model_selection import train_test_split\n",
    "# For FBM Generation\n",
    "from fbm import FBM"
   ]
  },
  {
   "cell_type": "markdown",
   "metadata": {},
   "source": [
    "## Generate Data"
   ]
  },
  {
   "cell_type": "markdown",
   "metadata": {},
   "source": [
    "### The Unknown Function\n",
    "---\n",
    " - 1) $\\min\\{\\exp(\\frac{-1}{(1+x)^2}),x+\\cos(x)\\}$. Reason: Evaluate performance for pasted functions and general badness.\n",
    " - 2) $\\cos(\\exp(-x))$.  Reason: Evaluate performance for non-periodic osculations.\n",
    " - 3) $I_{(-\\infty,\\frac1{2})}$.  Reason: Evaluation performance on a single jump.  \n",
    " - 4) Fractional-Bronwian-Motion path.\n",
    " \n",
    " ---"
   ]
  },
  {
   "cell_type": "markdown",
   "metadata": {},
   "source": [
    "#### Debugging Parameters:"
   ]
  },
  {
   "cell_type": "code",
   "execution_count": 2,
   "metadata": {},
   "outputs": [],
   "source": [
    "# Option_Function = \"rough\"\n",
    "# N_data = 100\n",
    "# Train_step_proportion = .75\n",
    "# D=1\n",
    "# is_visuallty_verbose = True\n",
    "# Distortion = 0.5\n",
    "# noise_level = 0.01\n",
    "# Extrapolation_size = 0.001"
   ]
  },
  {
   "cell_type": "markdown",
   "metadata": {},
   "source": [
    "#### Get Testing set proportion"
   ]
  },
  {
   "cell_type": "code",
   "execution_count": 3,
   "metadata": {},
   "outputs": [],
   "source": [
    "Test_set_proportion = np.abs(1-Train_step_proportion)"
   ]
  },
  {
   "cell_type": "markdown",
   "metadata": {},
   "source": [
    "#### Load \"Unknown\" Function to Learn"
   ]
  },
  {
   "cell_type": "code",
   "execution_count": 4,
   "metadata": {},
   "outputs": [],
   "source": [
    "if Option_Function == \"nonlocality\":\n",
    "    # Option 1\n",
    "    def unknown_f(x):\n",
    "        unknown_out = np.minimum(np.exp(-1/(1+x)**2),x+np.cos(x))\n",
    "        return unknown_out\n",
    "\n",
    "if Option_Function == \"oscilatory\":\n",
    "    # Option 2\n",
    "    def unknown_f(x):\n",
    "        unknown_out = np.cos(np.exp(2+x))\n",
    "        return unknown_out\n",
    "\n",
    "\n",
    "if Option_Function == \"jumpdiscontinuity\":\n",
    "    # Option 3\n",
    "    def unknown_f(x):\n",
    "        unknown_out = np.maximum(0,np.sign(x))\n",
    "        return unknown_out\n",
    "    \n",
    "\n",
    "if Option_Function == \"the_nightmare\":\n",
    "    # For fun: The Nightmare\n",
    "    def unknown_f(x):\n",
    "        unknown_out = np.minimum(np.exp(-1/(1+x)**2),x+np.cos(x)) + np.cos(np.exp(2+x)) * np.maximum(0,np.sign(x)) + x**2\n",
    "        unknown_out += -np.maximum(0,np.sign(-x))*((x**2)-.5)*(.25+.5*np.sin(x))\n",
    "        unknown_out += -2*np.maximum(0,np.sign((x-.5)))\n",
    "        return unknown_out"
   ]
  },
  {
   "cell_type": "markdown",
   "metadata": {},
   "source": [
    "### Generate Data\n",
    "#### Generate Testing Dataset"
   ]
  },
  {
   "cell_type": "code",
   "execution_count": 5,
   "metadata": {},
   "outputs": [],
   "source": [
    "# Set Seed\n",
    "np.random.seed(2020)\n",
    " \n",
    "# Generate Data!\n",
    "if Option_Function != \"rough\":\n",
    "    # Get Proportions\n",
    "    N_train = int(round((N_data*Test_set_proportion),0))\n",
    "    N_test = int(round((N_data*Train_step_proportion),0))\n",
    "    # Generate Unaltered Test Data\n",
    "    data_x_test = np.sort(np.random.uniform(low=-(1+Extrapolation_size),high=(1+Extrapolation_size),size=N_test))\n",
    "                   \n",
    "    data_y_test = unknown_f(data_x_test)\n",
    "    \n",
    "    # Generate Unaltered Training Data\n",
    "    data_x = np.sort(np.random.uniform(low=-1,high=1,size=N_train))\n",
    "    data_y = unknown_f(data_x)\n",
    "else:\n",
    "    # Generate Fractional Data\n",
    "    FBM_Generator = FBM(n=N_data, hurst=0.75, length=1, method='daviesharte')\n",
    "    data_y_outputs_full = FBM_Generator.fbm()\n",
    "    data_x_outputs_full = FBM_Generator.times()\n",
    "    # Partition Data\n",
    "    data_x, data_x_test, data_y, data_y_test = train_test_split(data_x_outputs_full, \n",
    "                                                                data_y_outputs_full, \n",
    "                                                                test_size=Test_set_proportion, \n",
    "                                                                random_state=2020,\n",
    "                                                                shuffle=True)\n",
    "    \n",
    "    # Reorder Train Set\n",
    "    indices_train = np.argsort(data_x)\n",
    "    data_x = data_x[indices_train]\n",
    "    data_y = data_y[indices_train]\n",
    "    \n",
    "    # Reorder Test Set\n",
    "    indices_test = np.argsort(data_x_test)\n",
    "    data_x_test = data_x_test[indices_test]\n",
    "    data_y_test = data_y_test[indices_test]"
   ]
  },
  {
   "cell_type": "markdown",
   "metadata": {},
   "source": [
    "#### Distort Training Dataset"
   ]
  },
  {
   "cell_type": "code",
   "execution_count": 6,
   "metadata": {},
   "outputs": [],
   "source": [
    "# Multiplicative Noise (Distoriton/Model Uncertainty)\n",
    "Mult_noise = np.random.uniform(low=(1-Distortion),high=(1+Distortion),size = data_y.shape[0])\n",
    "Add_noise = np.random.normal(loc=0,scale = noise_level,size = data_y.shape[0])\n",
    "\n",
    "# Generate Training Targets\n",
    "data_y = (data_y*Mult_noise) + Add_noise"
   ]
  },
  {
   "cell_type": "markdown",
   "metadata": {},
   "source": [
    "#### Create Training and Testing Subsets"
   ]
  },
  {
   "cell_type": "markdown",
   "metadata": {},
   "source": [
    "### Preprocess\n",
    "\n",
    "Coerce Data into proper shape."
   ]
  },
  {
   "cell_type": "code",
   "execution_count": 7,
   "metadata": {},
   "outputs": [],
   "source": [
    "data_x = pd.DataFrame(data_x)\n",
    "data_x_test = pd.DataFrame(data_x_test)"
   ]
  },
  {
   "cell_type": "markdown",
   "metadata": {},
   "source": [
    "Rescale Data"
   ]
  },
  {
   "cell_type": "code",
   "execution_count": 8,
   "metadata": {},
   "outputs": [],
   "source": [
    "# Initialize Scaler\n",
    "sc = StandardScaler()\n",
    "\n",
    "# Preprocess Training Data\n",
    "data_x = sc.fit_transform(data_x)\n",
    "\n",
    "# Preprocess Test Data\n",
    "data_x_test = sc.transform(data_x_test)"
   ]
  },
  {
   "cell_type": "markdown",
   "metadata": {},
   "source": [
    "*NEU Format - InDeV*"
   ]
  },
  {
   "cell_type": "code",
   "execution_count": 9,
   "metadata": {},
   "outputs": [],
   "source": [
    "data_NEU = np.concatenate((data_x,data_y.reshape(-1,D)),axis = 1)"
   ]
  },
  {
   "cell_type": "markdown",
   "metadata": {},
   "source": [
    "## Get Backup of \"Raw\" data for easy calling later"
   ]
  },
  {
   "cell_type": "code",
   "execution_count": 10,
   "metadata": {},
   "outputs": [],
   "source": [
    "data_x_raw = data_x\n",
    "data_x_test_raw = data_x_test"
   ]
  },
  {
   "cell_type": "markdown",
   "metadata": {},
   "source": [
    "## Plot Data vs. True Function"
   ]
  },
  {
   "cell_type": "code",
   "execution_count": 11,
   "metadata": {},
   "outputs": [
    {
     "data": {
      "image/png": "[encoded data removed]",
      "text/plain": [
       "<Figure size 960x960 with 1 Axes>"
      ]
     },
     "metadata": {},
     "output_type": "display_data"
    }
   ],
   "source": [
    "# Initialize Plot #\n",
    "#-----------------#\n",
    "plt.figure(num=None, figsize=(12, 12), dpi=80, facecolor='w', edgecolor='k')\n",
    "\n",
    "# Generate Plots #\n",
    "#----------------#\n",
    "\n",
    "# Plot Signal\n",
    "plt.plot(np.array(data_x_test).reshape(-1,),data_y_test,color='gray',label='f(x)',linestyle='--')\n",
    "\n",
    "# Plot Data\n",
    "plt.scatter(np.array(data_x).reshape(-1,),data_y,color='gray',label='train', marker = '2')\n",
    "plt.scatter(np.array(data_x_test).reshape(-1,),data_y_test,color='black',label='test', marker = '.')\n",
    "\n",
    "# Format Plot #\n",
    "#-------------#\n",
    "plt.legend(loc=\"upper left\")\n",
    "plt.title(\"Model Predictions\")\n",
    "# Show Plot\n",
    "if is_visuallty_verbose == True:\n",
    "    plt.show(block=False)"
   ]
  },
  {
   "cell_type": "markdown",
   "metadata": {},
   "source": [
    "## Report Simulation Configuration to User:"
   ]
  },
  {
   "cell_type": "code",
   "execution_count": 12,
   "metadata": {},
   "outputs": [],
   "source": [
    "the_facts = \"We're plotting the function: \" +str(Option_Function)+\" with \"+str(noise_level)+\" additive noise, a distortion/model uncertainty level of \"+      str(Distortion)+\", and an out-of sample window on either side of the input space of: \"+str(Extrapolation_size)+\".  We train using \"+      str(N_data)+\" datapoints and have a test set conisting of \"+str(Train_step_proportion)+\"% percent of the total generated data.\""
   ]
  },
  {
   "cell_type": "code",
   "execution_count": 13,
   "metadata": {},
   "outputs": [
    {
     "name": "stdout",
     "output_type": "stream",
     "text": [
      "Simulation Confiugration Information:\n",
      " \n",
      "=========================================================================================================================================================\n",
      "We're plotting the function: rough with 0.01 additive noise, a distortion/model uncertainty level of 0.5, and an out-of sample window on either side of the input space of: 0.001.  We train using 100 datapoints and have a test set conisting of 0.75% percent of the total generated data.\n",
      "=========================================================================================================================================================\n",
      " \n"
     ]
    }
   ],
   "source": [
    "print(\"Simulation Confiugration Information:\")\n",
    "print(\" \")\n",
    "print(\"=========================================================================================================================================================\")\n",
    "print(the_facts)\n",
    "print(\"=========================================================================================================================================================\")\n",
    "print(\" \")"
   ]
  },
  {
   "cell_type": "markdown",
   "metadata": {},
   "source": [
    "---"
   ]
  },
  {
   "cell_type": "code",
   "execution_count": 14,
   "metadata": {},
   "outputs": [
    {
     "name": "stdout",
     "output_type": "stream",
     "text": [
      "(75, 1)\n",
      "(75, 1)\n",
      "(75,)\n",
      " \n",
      "(26, 1)\n",
      "(26, 1)\n",
      "(26,)\n"
     ]
    }
   ],
   "source": [
    "print(data_x.shape)\n",
    "print(data_x_raw.shape)\n",
    "print(data_y.shape)\n",
    "print(' ')\n",
    "print(data_x_test.shape)\n",
    "print(data_x_test_raw.shape)\n",
    "print(data_y_test.shape)"
   ]
  },
  {
   "cell_type": "code",
   "execution_count": null,
   "metadata": {},
   "outputs": [],
   "source": [
    "#------------------------#\n",
    "# Run External Notebooks #\n",
    "#------------------------#\n",
    "if Option_Function == \"SnP\":\n",
    "    #--------------#\n",
    "    # Get S&P Data #\n",
    "    #--------------#\n",
    "    # Load Data\n",
    "    snp_data = pd.read_csv('inputs/data/snp500_data/snp500-adjusted-close.csv')\n",
    "    # Format Data\n",
    "    ## Index by Time\n",
    "    snp_data['date'] = pd.to_datetime(snp_data['date'],infer_datetime_format=True)\n",
    "    snp_data.set_index('date', drop=True, inplace=True)\n",
    "    snp_data.index.names = [None]\n",
    "    ## Get Rid of NAs and Expired Trends\n",
    "    snp_data = (snp_data.tail(600)).dropna(axis=1).fillna(0)\n",
    "    # Get Return(s)\n",
    "    snp_data_log_returns = snp_data.diff().iloc[1:]\n",
    "    \n",
    "    #-------------#\n",
    "    # Subset Data #\n",
    "    #-------------#\n",
    "    # Get indices\n",
    "    N_train_step = int(round(yield_data.shape[0]*Train_step_proportion,0))\n",
    "    N_test_set = int(yield_data.shape[0] - round(yield_data.shape[0]*Train_step_proportion,0))\n",
    "    # # Get Datasets\n",
    "    X_train = yield_data[:N_train_step]\n",
    "    X_test = yield_data[-N_test_set:]\n",
    "    # Transpose\n",
    "    X_train_T = X_train.T\n",
    "    X_test_T = X_test.T\n",
    "\n",
    "\n",
    "    # # Update User\n",
    "    print('#================================================#')\n",
    "    print(' Training Datasize: '+str(X_train.shape[0])+' and test datasize: ' + str(X_test.shape[0]) + '.  ')\n",
    "    print('#================================================#')\n",
    "\n",
    "    # # Set First Run to Off\n",
    "    First_run = False\n",
    "\n",
    "    #-----------#\n",
    "    # Plot Data #\n",
    "    #-----------#\n",
    "    fig = snp_data_log_returns.plot(figsize=(16, 16))\n",
    "    fig.get_legend().remove()\n",
    "    plt.title(\"S&P Data Returns\")\n",
    "\n",
    "    # SAVE Figure to .eps\n",
    "    plt.savefig('./outputs/plotsANDfigures/SNP_Data.pdf', format='pdf')"
   ]
  },
  {
   "cell_type": "markdown",
   "metadata": {},
   "source": [
    "**Fin**"
   ]
  }
 ],
 "metadata": {
  "kernelspec": {
   "display_name": "Python 3",
   "language": "python",
   "name": "python3"
  },
  "language_info": {
   "codemirror_mode": {
    "name": "ipython",
    "version": 3
   },
   "file_extension": ".py",
   "mimetype": "text/x-python",
   "name": "python",
   "nbconvert_exporter": "python",
   "pygments_lexer": "ipython3",
   "version": "3.7.7"
  }
 },
 "nbformat": 4,
 "nbformat_minor": 2
}
